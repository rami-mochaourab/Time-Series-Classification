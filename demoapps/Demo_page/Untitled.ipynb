{
 "cells": [
  {
   "cell_type": "code",
   "execution_count": 12,
   "id": "d690ad88-daf9-4679-9e20-b439355ea049",
   "metadata": {},
   "outputs": [],
   "source": [
    "import numpy as np\n",
    "import pandas as pd\n",
    "#import random\n",
    "import time\n",
    "import matplotlib.pyplot as plt\n",
    "plt.style.reload_library()\n",
    "\n",
    "from sktime.classification.interval_based import RandomIntervalSpectralEnsemble\n",
    "from sktime.classification.dictionary_based import ContractableBOSS, BOSSEnsemble \n",
    "from sktime.datatypes._panel._convert import from_2d_array_to_nested\n",
    "\n",
    "\n",
    "from sklearn.model_selection import train_test_split\n",
    "from sklearn.ensemble import ExtraTreesClassifier\n",
    "from sklearn.preprocessing import StandardScaler, normalize\n",
    "from sklearn.neighbors import KNeighborsClassifier\n",
    "from sklearn.pipeline import make_pipeline\n",
    "from sklearn.linear_model import RidgeClassifierCV\n",
    "\n",
    "from wildboar.datasets import list_datasets, load_dataset\n",
    "from wildboar.ensemble import ShapeletForestClassifier\n",
    "\n",
    "import pywt\n",
    "from pywt import wavedec, waverec\n",
    "\n",
    "from tqdm.notebook import tqdm\n",
    "\n",
    "import pickle\n",
    "\n",
    "# UCR time series datasets: https://www.cs.ucr.edu/%7Eeamonn/time_series_data_2018/\n",
    "\n",
    "# UCR time series datasets: https://www.cs.ucr.edu/%7Eeamonn/time_series_data_2018/"
   ]
  },
  {
   "cell_type": "code",
   "execution_count": 6,
   "id": "c205aff3-e140-4806-b966-d2f011aaf406",
   "metadata": {},
   "outputs": [],
   "source": [
    "UCR_datasets = list_datasets(repository='wildboar/ucr')"
   ]
  },
  {
   "cell_type": "code",
   "execution_count": 7,
   "id": "d60f0190-aee1-4d88-b28a-1d193a9d17c0",
   "metadata": {},
   "outputs": [
    {
     "data": {
      "application/vnd.jupyter.widget-view+json": {
       "model_id": "be59975eab124b89b55a8fc0b424fcad",
       "version_major": 2,
       "version_minor": 0
      },
      "text/plain": [
       "  0%|          | 0/128 [00:00<?, ?it/s]"
      ]
     },
     "metadata": {},
     "output_type": "display_data"
    }
   ],
   "source": [
    "dataset_info = pd.DataFrame(columns=['size', 'classes', 'length'], index = UCR_datasets, dtype=float)\n",
    "\n",
    "for dataset in tqdm(UCR_datasets):\n",
    "    x_all, y_all = load_dataset(dataset, repository='wildboar/ucr')\n",
    "    \n",
    "    # remove rows wirandomth missing values\n",
    "    x = x_all[~np.isnan(x_all).any(axis=1)]\n",
    "    y = y_all[~np.isnan(x_all).any(axis=1)]\n",
    "    \n",
    "    classes = np.unique(y) # all class labels\n",
    "    total_examples, ts_length = x.shape\n",
    "    \n",
    "    dataset_info.loc[dataset] = [total_examples, len(classes), ts_length]\n",
    "\n",
    "## Drop rows that have a value of zero in a column\n",
    "dataset_info = dataset_info.loc[~(dataset_info==0).any(axis=1)]\n",
    "dataset_info = dataset_info.loc[~(dataset_info==1).any(axis=1)]\n",
    "\n",
    "dataset_info.to_pickle('data/datasets_information.pkl')"
   ]
  },
  {
   "cell_type": "code",
   "execution_count": 17,
   "id": "f56e79ae-f3f0-4535-8f7d-b9716be9d851",
   "metadata": {},
   "outputs": [],
   "source": [
    "dataset_info = pd.read_pickle('data/datasets_information.pkl')"
   ]
  },
  {
   "cell_type": "code",
   "execution_count": 18,
   "id": "761b266e-e579-4bfc-b96d-5d58e1cbf1ee",
   "metadata": {},
   "outputs": [
    {
     "data": {
      "text/html": [
       "<div>\n",
       "<style scoped>\n",
       "    .dataframe tbody tr th:only-of-type {\n",
       "        vertical-align: middle;\n",
       "    }\n",
       "\n",
       "    .dataframe tbody tr th {\n",
       "        vertical-align: top;\n",
       "    }\n",
       "\n",
       "    .dataframe thead th {\n",
       "        text-align: right;\n",
       "    }\n",
       "</style>\n",
       "<table border=\"1\" class=\"dataframe\">\n",
       "  <thead>\n",
       "    <tr style=\"text-align: right;\">\n",
       "      <th></th>\n",
       "      <th>size</th>\n",
       "      <th>classes</th>\n",
       "      <th>length</th>\n",
       "    </tr>\n",
       "  </thead>\n",
       "  <tbody>\n",
       "    <tr>\n",
       "      <th>ACSF1</th>\n",
       "      <td>200.0</td>\n",
       "      <td>10.0</td>\n",
       "      <td>1460.0</td>\n",
       "    </tr>\n",
       "    <tr>\n",
       "      <th>Adiac</th>\n",
       "      <td>781.0</td>\n",
       "      <td>37.0</td>\n",
       "      <td>176.0</td>\n",
       "    </tr>\n",
       "    <tr>\n",
       "      <th>ArrowHead</th>\n",
       "      <td>211.0</td>\n",
       "      <td>3.0</td>\n",
       "      <td>251.0</td>\n",
       "    </tr>\n",
       "    <tr>\n",
       "      <th>BME</th>\n",
       "      <td>180.0</td>\n",
       "      <td>3.0</td>\n",
       "      <td>128.0</td>\n",
       "    </tr>\n",
       "    <tr>\n",
       "      <th>Beef</th>\n",
       "      <td>60.0</td>\n",
       "      <td>5.0</td>\n",
       "      <td>470.0</td>\n",
       "    </tr>\n",
       "    <tr>\n",
       "      <th>...</th>\n",
       "      <td>...</td>\n",
       "      <td>...</td>\n",
       "      <td>...</td>\n",
       "    </tr>\n",
       "    <tr>\n",
       "      <th>Wine</th>\n",
       "      <td>111.0</td>\n",
       "      <td>2.0</td>\n",
       "      <td>234.0</td>\n",
       "    </tr>\n",
       "    <tr>\n",
       "      <th>WordSynonyms</th>\n",
       "      <td>905.0</td>\n",
       "      <td>25.0</td>\n",
       "      <td>270.0</td>\n",
       "    </tr>\n",
       "    <tr>\n",
       "      <th>Worms</th>\n",
       "      <td>258.0</td>\n",
       "      <td>5.0</td>\n",
       "      <td>900.0</td>\n",
       "    </tr>\n",
       "    <tr>\n",
       "      <th>WormsTwoClass</th>\n",
       "      <td>258.0</td>\n",
       "      <td>2.0</td>\n",
       "      <td>900.0</td>\n",
       "    </tr>\n",
       "    <tr>\n",
       "      <th>Yoga</th>\n",
       "      <td>3300.0</td>\n",
       "      <td>2.0</td>\n",
       "      <td>426.0</td>\n",
       "    </tr>\n",
       "  </tbody>\n",
       "</table>\n",
       "<p>117 rows × 3 columns</p>\n",
       "</div>"
      ],
      "text/plain": [
       "                 size  classes  length\n",
       "ACSF1           200.0     10.0  1460.0\n",
       "Adiac           781.0     37.0   176.0\n",
       "ArrowHead       211.0      3.0   251.0\n",
       "BME             180.0      3.0   128.0\n",
       "Beef             60.0      5.0   470.0\n",
       "...               ...      ...     ...\n",
       "Wine            111.0      2.0   234.0\n",
       "WordSynonyms    905.0     25.0   270.0\n",
       "Worms           258.0      5.0   900.0\n",
       "WormsTwoClass   258.0      2.0   900.0\n",
       "Yoga           3300.0      2.0   426.0\n",
       "\n",
       "[117 rows x 3 columns]"
      ]
     },
     "execution_count": 18,
     "metadata": {},
     "output_type": "execute_result"
    }
   ],
   "source": [
    "dataset_info"
   ]
  },
  {
   "cell_type": "code",
   "execution_count": 19,
   "id": "773142d3-9107-4832-81d1-a7a9a2169fb9",
   "metadata": {},
   "outputs": [
    {
     "data": {
      "text/html": [
       "<div>\n",
       "<style scoped>\n",
       "    .dataframe tbody tr th:only-of-type {\n",
       "        vertical-align: middle;\n",
       "    }\n",
       "\n",
       "    .dataframe tbody tr th {\n",
       "        vertical-align: top;\n",
       "    }\n",
       "\n",
       "    .dataframe thead th {\n",
       "        text-align: right;\n",
       "    }\n",
       "</style>\n",
       "<table border=\"1\" class=\"dataframe\">\n",
       "  <thead>\n",
       "    <tr style=\"text-align: right;\">\n",
       "      <th></th>\n",
       "      <th>size</th>\n",
       "      <th>classes</th>\n",
       "      <th>length</th>\n",
       "    </tr>\n",
       "  </thead>\n",
       "  <tbody>\n",
       "    <tr>\n",
       "      <th>count</th>\n",
       "      <td>117.000000</td>\n",
       "      <td>117.000000</td>\n",
       "      <td>117.000000</td>\n",
       "    </tr>\n",
       "    <tr>\n",
       "      <th>mean</th>\n",
       "      <td>1581.572650</td>\n",
       "      <td>8.264957</td>\n",
       "      <td>537.102564</td>\n",
       "    </tr>\n",
       "    <tr>\n",
       "      <th>std</th>\n",
       "      <td>2996.395773</td>\n",
       "      <td>12.256872</td>\n",
       "      <td>583.137433</td>\n",
       "    </tr>\n",
       "    <tr>\n",
       "      <th>min</th>\n",
       "      <td>40.000000</td>\n",
       "      <td>2.000000</td>\n",
       "      <td>15.000000</td>\n",
       "    </tr>\n",
       "    <tr>\n",
       "      <th>25%</th>\n",
       "      <td>258.000000</td>\n",
       "      <td>2.000000</td>\n",
       "      <td>136.000000</td>\n",
       "    </tr>\n",
       "    <tr>\n",
       "      <th>50%</th>\n",
       "      <td>724.000000</td>\n",
       "      <td>3.000000</td>\n",
       "      <td>301.000000</td>\n",
       "    </tr>\n",
       "    <tr>\n",
       "      <th>75%</th>\n",
       "      <td>1272.000000</td>\n",
       "      <td>7.000000</td>\n",
       "      <td>720.000000</td>\n",
       "    </tr>\n",
       "    <tr>\n",
       "      <th>max</th>\n",
       "      <td>24000.000000</td>\n",
       "      <td>60.000000</td>\n",
       "      <td>2844.000000</td>\n",
       "    </tr>\n",
       "  </tbody>\n",
       "</table>\n",
       "</div>"
      ],
      "text/plain": [
       "               size     classes       length\n",
       "count    117.000000  117.000000   117.000000\n",
       "mean    1581.572650    8.264957   537.102564\n",
       "std     2996.395773   12.256872   583.137433\n",
       "min       40.000000    2.000000    15.000000\n",
       "25%      258.000000    2.000000   136.000000\n",
       "50%      724.000000    3.000000   301.000000\n",
       "75%     1272.000000    7.000000   720.000000\n",
       "max    24000.000000   60.000000  2844.000000"
      ]
     },
     "execution_count": 19,
     "metadata": {},
     "output_type": "execute_result"
    }
   ],
   "source": [
    "dataset_info.describe()"
   ]
  },
  {
   "cell_type": "code",
   "execution_count": 20,
   "id": "f35fac45-2114-433a-bd70-a5733e87ecfa",
   "metadata": {},
   "outputs": [
    {
     "data": {
      "text/plain": [
       "size       1035.2\n",
       "classes       6.2\n",
       "length      571.4\n",
       "Name: 0.7, dtype: float64"
      ]
     },
     "execution_count": 20,
     "metadata": {},
     "output_type": "execute_result"
    }
   ],
   "source": [
    "dataset_info.quantile(.70)"
   ]
  },
  {
   "cell_type": "code",
   "execution_count": 8,
   "id": "47f9d9c7-11e4-443e-8cd3-ff89aa0764f9",
   "metadata": {},
   "outputs": [],
   "source": [
    "# select subset of all datasets\n",
    "lb_size = 1\n",
    "up_size = 200\n",
    "lb_length = 10\n",
    "up_length = 1000\n",
    "lb_class = 2\n",
    "up_class = 8\n",
    "\n",
    "dataset_info = pd.read_pickle('data/datasets_information.pkl')\n",
    "\n",
    "selected = dataset_info.loc[(dataset_info['size'] >= lb_size) & \\\n",
    "                       (dataset_info['size'] <= up_size) & \\\n",
    "                        (dataset_info['classes'] >= lb_class) & \\\n",
    "                        (dataset_info['classes'] <= up_class) & \\\n",
    "                       (dataset_info['length'] >= lb_length) & \\\n",
    "                       (dataset_info['length'] <= up_length)]\n",
    "\n",
    "\n",
    "\n",
    "# condition = (dataset_info['classes'] <= classes_ub) & (dataset_info['classes'] >= classes_lb) \n",
    "# selected = dataset_info.loc[condition]\n"
   ]
  },
  {
   "cell_type": "code",
   "execution_count": 9,
   "id": "f817978b-5fb6-46a8-a462-c1eda50168b3",
   "metadata": {},
   "outputs": [],
   "source": [
    "from wildboar.explain.counterfactual import counterfactuals"
   ]
  },
  {
   "cell_type": "code",
   "execution_count": 10,
   "id": "23cb157b-40cd-4157-a63d-e89b93011034",
   "metadata": {},
   "outputs": [],
   "source": [
    "import plotly.express as px\n",
    "df = px.data.stocks()\n"
   ]
  },
  {
   "cell_type": "code",
   "execution_count": 13,
   "id": "ba774ccb-f415-4cf6-aac5-88084a7d7299",
   "metadata": {},
   "outputs": [],
   "source": [
    "selected_datasets = selected.index.to_list()\n",
    "\n",
    "index_dataset = 0\n",
    "\n",
    "dataset = selected_datasets[index_dataset]\n",
    "\n",
    "x_all, y_all = load_dataset(dataset, repository='wildboar/ucr')\n",
    "\n",
    "# remove rows wirandomth missing values\n",
    "x = x_all[~np.isnan(x_all).any(axis=1)]\n",
    "y = y_all[~np.isnan(x_all).any(axis=1)]\n",
    "\n",
    "classes = np.unique(y) # all class labels\n",
    "total_examples, ts_length = x.shape\n",
    "\n",
    "x_ind = np.arange(total_examples)\n",
    "\n",
    "x_train_ind, x_test_ind, y_train, y_test = train_test_split(x_ind, y, test_size=.30, random_state=0, shuffle=True, stratify=None)\n",
    "\n",
    "x_train = x[x_train_ind,:]\n",
    "x_test = x[x_test_ind,:]\n",
    "\n",
    "y_train[y_train != 1.0] = -1.0\n",
    "y_test[y_test != 1.0] = -1.0\n",
    "\n",
    "clf_kNN = KNeighborsClassifier(metric=\"euclidean\")\n",
    "clf_kNN.fit(x_train, y_train)\n",
    "\n",
    "#clf_RSF = ShapeletForestClassifier(n_estimators=50, metric='scaled_euclidean')\n",
    "clf_RSF = ShapeletForestClassifier(\n",
    "        n_estimators=20, \n",
    "        metric='euclidean', \n",
    "        max_depth=5, \n",
    "        max_shapelet_size=.4, # INTERACTION: Make this as input from user\n",
    "        random_state=1,\n",
    "    )\n",
    "clf_RSF.n_features_in_ = x_train.shape[-1]\n",
    "clf_RSF.fit(x_train, y_train)\n",
    "\n",
    "\n",
    "x_counterfactual_RSF, x_valid_RSF, x_score_RSF = counterfactuals(\n",
    "    clf_RSF, \n",
    "    x_test, \n",
    "    -y_test, # invert the classes, i.e., transform 1 -> -1 and -1 -> 1\n",
    "    scoring=\"euclidean\",\n",
    "    valid_scoring=False,\n",
    "    random_state=2,\n",
    "    epsilon=1,\n",
    "  )\n",
    "x_counterfactual_kNN, x_valid_kNN, x_score_kNN = counterfactuals(\n",
    "    clf_kNN, \n",
    "    x_test, \n",
    "    -y_test, # invert the classes, i.e., transform 1 -> -1 and -1 -> 1\n",
    "    scoring=\"euclidean\",\n",
    "    valid_scoring=False,\n",
    "  )\n"
   ]
  },
  {
   "cell_type": "code",
   "execution_count": 74,
   "id": "eb2f1549-5d46-43b5-8acb-214bd7154ca9",
   "metadata": {},
   "outputs": [],
   "source": [
    "df = pd.DataFrame(dict(\n",
    "    length = np.arange(y1.shape[0]),\n",
    "    x_counter_RSF = y1,\n",
    "    x_counter_kNN = y2,\n",
    "    x_test = y3\n",
    "))"
   ]
  },
  {
   "cell_type": "code",
   "execution_count": 76,
   "id": "bcfce990-d0ac-4397-a2bd-2892388f28b1",
   "metadata": {},
   "outputs": [
    {
     "data": {
      "text/html": [
       "<div>\n",
       "<style scoped>\n",
       "    .dataframe tbody tr th:only-of-type {\n",
       "        vertical-align: middle;\n",
       "    }\n",
       "\n",
       "    .dataframe tbody tr th {\n",
       "        vertical-align: top;\n",
       "    }\n",
       "\n",
       "    .dataframe thead th {\n",
       "        text-align: right;\n",
       "    }\n",
       "</style>\n",
       "<table border=\"1\" class=\"dataframe\">\n",
       "  <thead>\n",
       "    <tr style=\"text-align: right;\">\n",
       "      <th></th>\n",
       "      <th>length</th>\n",
       "      <th>x_counter_RSF</th>\n",
       "      <th>x_counter_kNN</th>\n",
       "      <th>x_test</th>\n",
       "    </tr>\n",
       "  </thead>\n",
       "  <tbody>\n",
       "    <tr>\n",
       "      <th>0</th>\n",
       "      <td>0</td>\n",
       "      <td>0.023094</td>\n",
       "      <td>0.021178</td>\n",
       "      <td>0.023094</td>\n",
       "    </tr>\n",
       "    <tr>\n",
       "      <th>1</th>\n",
       "      <td>1</td>\n",
       "      <td>0.039898</td>\n",
       "      <td>0.023945</td>\n",
       "      <td>0.039898</td>\n",
       "    </tr>\n",
       "    <tr>\n",
       "      <th>2</th>\n",
       "      <td>2</td>\n",
       "      <td>0.011821</td>\n",
       "      <td>0.032206</td>\n",
       "      <td>0.011821</td>\n",
       "    </tr>\n",
       "    <tr>\n",
       "      <th>3</th>\n",
       "      <td>3</td>\n",
       "      <td>0.002965</td>\n",
       "      <td>0.020446</td>\n",
       "      <td>0.002965</td>\n",
       "    </tr>\n",
       "    <tr>\n",
       "      <th>4</th>\n",
       "      <td>4</td>\n",
       "      <td>-0.000747</td>\n",
       "      <td>0.031415</td>\n",
       "      <td>-0.000747</td>\n",
       "    </tr>\n",
       "    <tr>\n",
       "      <th>...</th>\n",
       "      <td>...</td>\n",
       "      <td>...</td>\n",
       "      <td>...</td>\n",
       "      <td>...</td>\n",
       "    </tr>\n",
       "    <tr>\n",
       "      <th>123</th>\n",
       "      <td>123</td>\n",
       "      <td>0.384471</td>\n",
       "      <td>0.036203</td>\n",
       "      <td>0.032108</td>\n",
       "    </tr>\n",
       "    <tr>\n",
       "      <th>124</th>\n",
       "      <td>124</td>\n",
       "      <td>0.389368</td>\n",
       "      <td>0.017755</td>\n",
       "      <td>0.036226</td>\n",
       "    </tr>\n",
       "    <tr>\n",
       "      <th>125</th>\n",
       "      <td>125</td>\n",
       "      <td>0.386318</td>\n",
       "      <td>0.025897</td>\n",
       "      <td>0.030195</td>\n",
       "    </tr>\n",
       "    <tr>\n",
       "      <th>126</th>\n",
       "      <td>126</td>\n",
       "      <td>0.377019</td>\n",
       "      <td>0.028528</td>\n",
       "      <td>0.017082</td>\n",
       "    </tr>\n",
       "    <tr>\n",
       "      <th>127</th>\n",
       "      <td>127</td>\n",
       "      <td>0.374531</td>\n",
       "      <td>0.016795</td>\n",
       "      <td>0.014414</td>\n",
       "    </tr>\n",
       "  </tbody>\n",
       "</table>\n",
       "<p>128 rows × 4 columns</p>\n",
       "</div>"
      ],
      "text/plain": [
       "     length  x_counter_RSF  x_counter_kNN    x_test\n",
       "0         0       0.023094       0.021178  0.023094\n",
       "1         1       0.039898       0.023945  0.039898\n",
       "2         2       0.011821       0.032206  0.011821\n",
       "3         3       0.002965       0.020446  0.002965\n",
       "4         4      -0.000747       0.031415 -0.000747\n",
       "..      ...            ...            ...       ...\n",
       "123     123       0.384471       0.036203  0.032108\n",
       "124     124       0.389368       0.017755  0.036226\n",
       "125     125       0.386318       0.025897  0.030195\n",
       "126     126       0.377019       0.028528  0.017082\n",
       "127     127       0.374531       0.016795  0.014414\n",
       "\n",
       "[128 rows x 4 columns]"
      ]
     },
     "metadata": {},
     "output_type": "display_data"
    },
    {
     "data": {
      "application/vnd.plotly.v1+json": {
       "config": {
        "plotlyServerURL": "https://plot.ly"
       },
       "data": [
        {
         "hovertemplate": "variable=x_counter_RSF<br>length=%{x}<br>value=%{y}<extra></extra>",
         "legendgroup": "x_counter_RSF",
         "line": {
          "color": "#636efa",
          "dash": "solid"
         },
         "mode": "lines",
         "name": "x_counter_RSF",
         "orientation": "v",
         "showlegend": true,
         "type": "scatter",
         "x": [
          0,
          1,
          2,
          3,
          4,
          5,
          6,
          7,
          8,
          9,
          10,
          11,
          12,
          13,
          14,
          15,
          16,
          17,
          18,
          19,
          20,
          21,
          22,
          23,
          24,
          25,
          26,
          27,
          28,
          29,
          30,
          31,
          32,
          33,
          34,
          35,
          36,
          37,
          38,
          39,
          40,
          41,
          42,
          43,
          44,
          45,
          46,
          47,
          48,
          49,
          50,
          51,
          52,
          53,
          54,
          55,
          56,
          57,
          58,
          59,
          60,
          61,
          62,
          63,
          64,
          65,
          66,
          67,
          68,
          69,
          70,
          71,
          72,
          73,
          74,
          75,
          76,
          77,
          78,
          79,
          80,
          81,
          82,
          83,
          84,
          85,
          86,
          87,
          88,
          89,
          90,
          91,
          92,
          93,
          94,
          95,
          96,
          97,
          98,
          99,
          100,
          101,
          102,
          103,
          104,
          105,
          106,
          107,
          108,
          109,
          110,
          111,
          112,
          113,
          114,
          115,
          116,
          117,
          118,
          119,
          120,
          121,
          122,
          123,
          124,
          125,
          126,
          127
         ],
         "xaxis": "x",
         "y": [
          0.023093659430742264,
          0.03989811986684799,
          0.01182102132588625,
          0.002964944113045931,
          -0.0007469661068171263,
          0.023447591811418533,
          0.009272610768675804,
          0.12300000339746475,
          0.45500001311302185,
          0.7919999957084656,
          0.9810000061988831,
          1.0700000524520874,
          1.1089999675750732,
          1.1269999742507935,
          1.0080000162124634,
          0.6740000247955322,
          0.33500000834465027,
          0.1469999998807907,
          0.06199999898672104,
          0.07367971539497375,
          0.03485501930117607,
          0.04193883016705513,
          0.0015920051373541355,
          0.023987889289855957,
          0.006554984953254461,
          -0.0024014918599277735,
          0.02684539370238781,
          0.004737056791782379,
          0.0056610507890582085,
          -0.00711578456684947,
          0.009231503121554852,
          -0.0020162167493253946,
          0.010804626159369946,
          0.03952237591147423,
          0.028528086841106415,
          0.023975122720003128,
          0.006632714997977018,
          0.04770134016871452,
          -0.11800000071525574,
          -0.4399999976158142,
          -0.7620000243186951,
          -0.9430000185966492,
          -1.0290000438690186,
          -1.0640000104904175,
          -1.0770000219345093,
          -1.0809999704360962,
          -1.0850000381469727,
          -1.0859999656677246,
          -1.0839999914169312,
          -1.0829999446868896,
          -1.0789999961853027,
          -1.0759999752044678,
          -1.0789999961853027,
          -1.0829999446868896,
          -1.0859999656677246,
          -1.0880000591278076,
          -1.0889999866485596,
          -1.0880000591278076,
          -1.0859999656677246,
          -1.0870000123977661,
          -1.0889999866485596,
          -1.0880000591278076,
          -1.0850000381469727,
          -1.0820000171661377,
          -1.0770000219345093,
          -1.0750000476837158,
          -1.0770000219345093,
          -1.0820000171661377,
          -1.0870000123977661,
          -1.090000033378601,
          -1.0889999866485596,
          -1.0880000591278076,
          -1.0859999656677246,
          -1.0820000171661377,
          -1.0779999494552612,
          -1.0779999494552612,
          -1.0779999494552612,
          -1.0750000476837158,
          -1.0740000009536743,
          -1.0770000219345093,
          -1.0820000171661377,
          -1.0859999656677246,
          -1.0889999866485596,
          -1.0889999866485596,
          -1.0880000591278076,
          -1.0820000171661377,
          -1.0789999961853027,
          -1.0809999704360962,
          -1.0809999704360962,
          -1.0809999704360962,
          -1.0820000171661377,
          -1.0839999914169312,
          -1.0880000591278076,
          -1.0889999866485596,
          -0.9679999947547913,
          -0.6449999809265137,
          -0.22320690541173965,
          -0.0996569130470097,
          -0.043936996410682695,
          0.003255455950079063,
          0.00048788654744171683,
          0.01713473901144863,
          0.018224229747954408,
          0.008463456290400285,
          0.021591313289792725,
          0.02895828834750354,
          0.01791980650441355,
          0.026423093891724227,
          0.01490525544774425,
          0.02831037325511964,
          0.03853094091913094,
          0.06221358549741489,
          0.17355072359375234,
          0.2835169255365877,
          0.3236872323090675,
          0.377577704987335,
          0.3677704528879071,
          0.37118299821386747,
          0.3764137651551662,
          0.37303780583400803,
          0.36417422745484984,
          0.3692134311531641,
          0.3789460978717324,
          0.38447120613592245,
          0.38936772538750064,
          0.38631797179438077,
          0.3770189690189548,
          0.3745313322948033
         ],
         "yaxis": "y"
        },
        {
         "hovertemplate": "variable=x_counter_kNN<br>length=%{x}<br>value=%{y}<extra></extra>",
         "legendgroup": "x_counter_kNN",
         "line": {
          "color": "#EF553B",
          "dash": "solid"
         },
         "mode": "lines",
         "name": "x_counter_kNN",
         "orientation": "v",
         "showlegend": true,
         "type": "scatter",
         "x": [
          0,
          1,
          2,
          3,
          4,
          5,
          6,
          7,
          8,
          9,
          10,
          11,
          12,
          13,
          14,
          15,
          16,
          17,
          18,
          19,
          20,
          21,
          22,
          23,
          24,
          25,
          26,
          27,
          28,
          29,
          30,
          31,
          32,
          33,
          34,
          35,
          36,
          37,
          38,
          39,
          40,
          41,
          42,
          43,
          44,
          45,
          46,
          47,
          48,
          49,
          50,
          51,
          52,
          53,
          54,
          55,
          56,
          57,
          58,
          59,
          60,
          61,
          62,
          63,
          64,
          65,
          66,
          67,
          68,
          69,
          70,
          71,
          72,
          73,
          74,
          75,
          76,
          77,
          78,
          79,
          80,
          81,
          82,
          83,
          84,
          85,
          86,
          87,
          88,
          89,
          90,
          91,
          92,
          93,
          94,
          95,
          96,
          97,
          98,
          99,
          100,
          101,
          102,
          103,
          104,
          105,
          106,
          107,
          108,
          109,
          110,
          111,
          112,
          113,
          114,
          115,
          116,
          117,
          118,
          119,
          120,
          121,
          122,
          123,
          124,
          125,
          126,
          127
         ],
         "xaxis": "x",
         "y": [
          0.021178386406973004,
          0.023945185559568927,
          0.03220551402773708,
          0.02044555521570146,
          0.03141471138224006,
          0.012058442865964025,
          0.031515442533418536,
          0.016359949833713472,
          0.013733317260630429,
          0.032101453049108386,
          0.02495202806312591,
          0.030979222152382135,
          0.032084816601127386,
          0.02514648879878223,
          0.02280134498141706,
          0.02175834123772802,
          0.025651566218584776,
          0.02460449351929128,
          0.01976003753952682,
          0.037737452890723944,
          0.033876274013891816,
          0.04171457281336188,
          0.030709385871887207,
          0.03314285073429346,
          0.023565575771499425,
          0.03753576101735234,
          0.02516713971272111,
          0.027583966962993145,
          0.03194532170891762,
          0.04252621531486511,
          0.03154167300090194,
          0.03121537622064352,
          0.01956865443571587,
          0.030558915343135595,
          0.03229506849311292,
          0.03603845462203026,
          0.024613600966404192,
          0.031503469217568636,
          0.01809755663271062,
          -0.005689880403224379,
          -0.16083057038486004,
          -0.4462499879300594,
          -0.742749996483326,
          -0.9419999867677689,
          -1.0415000021457672,
          -1.0867500007152557,
          -1.1074999868869781,
          -1.1144999861717224,
          -1.1144999861717224,
          -1.1132499873638153,
          -1.1164999902248383,
          -1.120749980211258,
          -1.1219999492168427,
          -1.12049999833107,
          -1.1187500357627869,
          -1.1182499825954437,
          -1.117499977350235,
          -1.1162499785423279,
          -1.1169999837875366,
          -1.1182500123977661,
          -1.118749976158142,
          -1.1189999878406525,
          -1.1197499930858612,
          -1.1197499930858612,
          -1.1164999902248383,
          -1.1145000159740448,
          -1.113999992609024,
          -1.1147499978542328,
          -1.1159999668598175,
          -1.117499977350235,
          -1.1180000007152557,
          -1.118749976158142,
          -1.1199999749660492,
          -1.1194999814033508,
          -1.1177499890327454,
          -1.1175000071525574,
          -1.118499994277954,
          -1.1200000047683716,
          -1.1207500100135803,
          -1.1192499697208405,
          -1.1159999668598175,
          -1.1155000030994415,
          -1.1164999902248383,
          -1.1177500188350677,
          -1.1180000007152557,
          -1.117000013589859,
          -1.1149999797344208,
          -1.113500028848648,
          -1.114249974489212,
          -1.1167500019073486,
          -1.1182499825954437,
          -1.117000013589859,
          -1.113999992609024,
          -1.112999975681305,
          -1.113999992609024,
          -0.9917500168085097,
          -0.6620000004768372,
          -0.3320000022649765,
          -0.1484999991953373,
          -0.060500000603497035,
          0.004713879199698567,
          0.02056099520996213,
          0.009440242836717516,
          0.016454103286378086,
          0.022550216148374602,
          0.02066979359369725,
          0.022854527574963868,
          0.03410989907570183,
          0.06392193341162056,
          0.23408744018524885,
          0.39712275145575404,
          0.5136682586744428,
          0.6283345608972013,
          0.7490000054240227,
          0.8747499883174896,
          0.9054999947547913,
          0.7562499791383743,
          0.5107499957084656,
          0.28449999541044235,
          0.13274999801069498,
          0.07790583651512861,
          0.05632891971617937,
          0.036121279932558537,
          0.03620309056714177,
          0.017754914006218314,
          0.025897421641275287,
          0.028528014896437526,
          0.01679457852151245
         ],
         "yaxis": "y"
        },
        {
         "hovertemplate": "variable=x_test<br>length=%{x}<br>value=%{y}<extra></extra>",
         "legendgroup": "x_test",
         "line": {
          "color": "#00cc96",
          "dash": "solid"
         },
         "mode": "lines",
         "name": "x_test",
         "orientation": "v",
         "showlegend": true,
         "type": "scatter",
         "x": [
          0,
          1,
          2,
          3,
          4,
          5,
          6,
          7,
          8,
          9,
          10,
          11,
          12,
          13,
          14,
          15,
          16,
          17,
          18,
          19,
          20,
          21,
          22,
          23,
          24,
          25,
          26,
          27,
          28,
          29,
          30,
          31,
          32,
          33,
          34,
          35,
          36,
          37,
          38,
          39,
          40,
          41,
          42,
          43,
          44,
          45,
          46,
          47,
          48,
          49,
          50,
          51,
          52,
          53,
          54,
          55,
          56,
          57,
          58,
          59,
          60,
          61,
          62,
          63,
          64,
          65,
          66,
          67,
          68,
          69,
          70,
          71,
          72,
          73,
          74,
          75,
          76,
          77,
          78,
          79,
          80,
          81,
          82,
          83,
          84,
          85,
          86,
          87,
          88,
          89,
          90,
          91,
          92,
          93,
          94,
          95,
          96,
          97,
          98,
          99,
          100,
          101,
          102,
          103,
          104,
          105,
          106,
          107,
          108,
          109,
          110,
          111,
          112,
          113,
          114,
          115,
          116,
          117,
          118,
          119,
          120,
          121,
          122,
          123,
          124,
          125,
          126,
          127
         ],
         "xaxis": "x",
         "y": [
          0.023093659430742264,
          0.03989811986684799,
          0.01182102132588625,
          0.002964944113045931,
          -0.0007469661068171263,
          0.023447591811418533,
          0.009272610768675804,
          0.12300000339746475,
          0.45500001311302185,
          0.7919999957084656,
          0.9810000061988831,
          1.0700000524520874,
          1.1089999675750732,
          1.1269999742507935,
          1.0080000162124634,
          0.6740000247955322,
          0.33500000834465027,
          0.1469999998807907,
          0.06199999898672104,
          0.07367971539497375,
          0.03485501930117607,
          0.04193883016705513,
          0.0015920051373541355,
          0.023987889289855957,
          0.006554984953254461,
          -0.0024014918599277735,
          0.02684539370238781,
          0.004737056791782379,
          0.0056610507890582085,
          -0.00711578456684947,
          0.009231503121554852,
          -0.0020162167493253946,
          0.010804626159369946,
          0.03952237591147423,
          0.028528086841106415,
          0.023975122720003128,
          0.006632714997977018,
          0.04770134016871452,
          -0.11800000071525574,
          -0.4399999976158142,
          -0.7620000243186951,
          -0.9430000185966492,
          -1.0290000438690186,
          -1.0640000104904175,
          -1.0770000219345093,
          -1.0809999704360962,
          -1.0850000381469727,
          -1.0859999656677246,
          -1.0839999914169312,
          -1.0829999446868896,
          -1.0789999961853027,
          -1.0759999752044678,
          -1.0789999961853027,
          -1.0829999446868896,
          -1.0859999656677246,
          -1.0880000591278076,
          -1.0889999866485596,
          -1.0880000591278076,
          -1.0859999656677246,
          -1.0870000123977661,
          -1.0889999866485596,
          -1.0880000591278076,
          -1.0850000381469727,
          -1.0820000171661377,
          -1.0770000219345093,
          -1.0750000476837158,
          -1.0770000219345093,
          -1.0820000171661377,
          -1.0870000123977661,
          -1.090000033378601,
          -1.0889999866485596,
          -1.0880000591278076,
          -1.0859999656677246,
          -1.0820000171661377,
          -1.0779999494552612,
          -1.0779999494552612,
          -1.0779999494552612,
          -1.0750000476837158,
          -1.0740000009536743,
          -1.0770000219345093,
          -1.0820000171661377,
          -1.0859999656677246,
          -1.0889999866485596,
          -1.0889999866485596,
          -1.0880000591278076,
          -1.0820000171661377,
          -1.0789999961853027,
          -1.0809999704360962,
          -1.0809999704360962,
          -1.0809999704360962,
          -1.0820000171661377,
          -1.0839999914169312,
          -1.0880000591278076,
          -1.0889999866485596,
          -0.9679999947547913,
          -0.6449999809265137,
          -0.32199999690055847,
          -0.14399999380111694,
          -0.06199999898672104,
          0.001359179732389748,
          -0.01170371938496828,
          0.005350734107196331,
          0.02040299028158188,
          -0.0027000668924301863,
          0.020622294396162033,
          0.03170677646994591,
          0.02262892574071884,
          0.025454498827457428,
          0.005649102386087179,
          0.0318385548889637,
          0.04221777617931366,
          0.03266767039895058,
          0.039331190288066864,
          0.04226454347372055,
          0.014360387809574604,
          0.047843120992183685,
          0.017369739711284637,
          0.017602255567908287,
          0.02328876592218876,
          0.017181415110826492,
          0.003924596589058638,
          0.010829880833625793,
          0.025277622044086456,
          0.0321081317961216,
          0.03622567281126976,
          0.030194995924830437,
          0.01708216965198517,
          0.014413945376873016
         ],
         "yaxis": "y"
        }
       ],
       "layout": {
        "legend": {
         "title": {
          "text": "variable"
         },
         "tracegroupgap": 0
        },
        "margin": {
         "t": 60
        },
        "template": {
         "data": {
          "bar": [
           {
            "error_x": {
             "color": "#f2f5fa"
            },
            "error_y": {
             "color": "#f2f5fa"
            },
            "marker": {
             "line": {
              "color": "rgb(17,17,17)",
              "width": 0.5
             }
            },
            "type": "bar"
           }
          ],
          "barpolar": [
           {
            "marker": {
             "line": {
              "color": "rgb(17,17,17)",
              "width": 0.5
             }
            },
            "type": "barpolar"
           }
          ],
          "carpet": [
           {
            "aaxis": {
             "endlinecolor": "#A2B1C6",
             "gridcolor": "#506784",
             "linecolor": "#506784",
             "minorgridcolor": "#506784",
             "startlinecolor": "#A2B1C6"
            },
            "baxis": {
             "endlinecolor": "#A2B1C6",
             "gridcolor": "#506784",
             "linecolor": "#506784",
             "minorgridcolor": "#506784",
             "startlinecolor": "#A2B1C6"
            },
            "type": "carpet"
           }
          ],
          "choropleth": [
           {
            "colorbar": {
             "outlinewidth": 0,
             "ticks": ""
            },
            "type": "choropleth"
           }
          ],
          "contour": [
           {
            "colorbar": {
             "outlinewidth": 0,
             "ticks": ""
            },
            "colorscale": [
             [
              0,
              "#0d0887"
             ],
             [
              0.1111111111111111,
              "#46039f"
             ],
             [
              0.2222222222222222,
              "#7201a8"
             ],
             [
              0.3333333333333333,
              "#9c179e"
             ],
             [
              0.4444444444444444,
              "#bd3786"
             ],
             [
              0.5555555555555556,
              "#d8576b"
             ],
             [
              0.6666666666666666,
              "#ed7953"
             ],
             [
              0.7777777777777778,
              "#fb9f3a"
             ],
             [
              0.8888888888888888,
              "#fdca26"
             ],
             [
              1,
              "#f0f921"
             ]
            ],
            "type": "contour"
           }
          ],
          "contourcarpet": [
           {
            "colorbar": {
             "outlinewidth": 0,
             "ticks": ""
            },
            "type": "contourcarpet"
           }
          ],
          "heatmap": [
           {
            "colorbar": {
             "outlinewidth": 0,
             "ticks": ""
            },
            "colorscale": [
             [
              0,
              "#0d0887"
             ],
             [
              0.1111111111111111,
              "#46039f"
             ],
             [
              0.2222222222222222,
              "#7201a8"
             ],
             [
              0.3333333333333333,
              "#9c179e"
             ],
             [
              0.4444444444444444,
              "#bd3786"
             ],
             [
              0.5555555555555556,
              "#d8576b"
             ],
             [
              0.6666666666666666,
              "#ed7953"
             ],
             [
              0.7777777777777778,
              "#fb9f3a"
             ],
             [
              0.8888888888888888,
              "#fdca26"
             ],
             [
              1,
              "#f0f921"
             ]
            ],
            "type": "heatmap"
           }
          ],
          "heatmapgl": [
           {
            "colorbar": {
             "outlinewidth": 0,
             "ticks": ""
            },
            "colorscale": [
             [
              0,
              "#0d0887"
             ],
             [
              0.1111111111111111,
              "#46039f"
             ],
             [
              0.2222222222222222,
              "#7201a8"
             ],
             [
              0.3333333333333333,
              "#9c179e"
             ],
             [
              0.4444444444444444,
              "#bd3786"
             ],
             [
              0.5555555555555556,
              "#d8576b"
             ],
             [
              0.6666666666666666,
              "#ed7953"
             ],
             [
              0.7777777777777778,
              "#fb9f3a"
             ],
             [
              0.8888888888888888,
              "#fdca26"
             ],
             [
              1,
              "#f0f921"
             ]
            ],
            "type": "heatmapgl"
           }
          ],
          "histogram": [
           {
            "marker": {
             "colorbar": {
              "outlinewidth": 0,
              "ticks": ""
             }
            },
            "type": "histogram"
           }
          ],
          "histogram2d": [
           {
            "colorbar": {
             "outlinewidth": 0,
             "ticks": ""
            },
            "colorscale": [
             [
              0,
              "#0d0887"
             ],
             [
              0.1111111111111111,
              "#46039f"
             ],
             [
              0.2222222222222222,
              "#7201a8"
             ],
             [
              0.3333333333333333,
              "#9c179e"
             ],
             [
              0.4444444444444444,
              "#bd3786"
             ],
             [
              0.5555555555555556,
              "#d8576b"
             ],
             [
              0.6666666666666666,
              "#ed7953"
             ],
             [
              0.7777777777777778,
              "#fb9f3a"
             ],
             [
              0.8888888888888888,
              "#fdca26"
             ],
             [
              1,
              "#f0f921"
             ]
            ],
            "type": "histogram2d"
           }
          ],
          "histogram2dcontour": [
           {
            "colorbar": {
             "outlinewidth": 0,
             "ticks": ""
            },
            "colorscale": [
             [
              0,
              "#0d0887"
             ],
             [
              0.1111111111111111,
              "#46039f"
             ],
             [
              0.2222222222222222,
              "#7201a8"
             ],
             [
              0.3333333333333333,
              "#9c179e"
             ],
             [
              0.4444444444444444,
              "#bd3786"
             ],
             [
              0.5555555555555556,
              "#d8576b"
             ],
             [
              0.6666666666666666,
              "#ed7953"
             ],
             [
              0.7777777777777778,
              "#fb9f3a"
             ],
             [
              0.8888888888888888,
              "#fdca26"
             ],
             [
              1,
              "#f0f921"
             ]
            ],
            "type": "histogram2dcontour"
           }
          ],
          "mesh3d": [
           {
            "colorbar": {
             "outlinewidth": 0,
             "ticks": ""
            },
            "type": "mesh3d"
           }
          ],
          "parcoords": [
           {
            "line": {
             "colorbar": {
              "outlinewidth": 0,
              "ticks": ""
             }
            },
            "type": "parcoords"
           }
          ],
          "pie": [
           {
            "automargin": true,
            "type": "pie"
           }
          ],
          "scatter": [
           {
            "marker": {
             "line": {
              "color": "#283442"
             }
            },
            "type": "scatter"
           }
          ],
          "scatter3d": [
           {
            "line": {
             "colorbar": {
              "outlinewidth": 0,
              "ticks": ""
             }
            },
            "marker": {
             "colorbar": {
              "outlinewidth": 0,
              "ticks": ""
             }
            },
            "type": "scatter3d"
           }
          ],
          "scattercarpet": [
           {
            "marker": {
             "colorbar": {
              "outlinewidth": 0,
              "ticks": ""
             }
            },
            "type": "scattercarpet"
           }
          ],
          "scattergeo": [
           {
            "marker": {
             "colorbar": {
              "outlinewidth": 0,
              "ticks": ""
             }
            },
            "type": "scattergeo"
           }
          ],
          "scattergl": [
           {
            "marker": {
             "line": {
              "color": "#283442"
             }
            },
            "type": "scattergl"
           }
          ],
          "scattermapbox": [
           {
            "marker": {
             "colorbar": {
              "outlinewidth": 0,
              "ticks": ""
             }
            },
            "type": "scattermapbox"
           }
          ],
          "scatterpolar": [
           {
            "marker": {
             "colorbar": {
              "outlinewidth": 0,
              "ticks": ""
             }
            },
            "type": "scatterpolar"
           }
          ],
          "scatterpolargl": [
           {
            "marker": {
             "colorbar": {
              "outlinewidth": 0,
              "ticks": ""
             }
            },
            "type": "scatterpolargl"
           }
          ],
          "scatterternary": [
           {
            "marker": {
             "colorbar": {
              "outlinewidth": 0,
              "ticks": ""
             }
            },
            "type": "scatterternary"
           }
          ],
          "surface": [
           {
            "colorbar": {
             "outlinewidth": 0,
             "ticks": ""
            },
            "colorscale": [
             [
              0,
              "#0d0887"
             ],
             [
              0.1111111111111111,
              "#46039f"
             ],
             [
              0.2222222222222222,
              "#7201a8"
             ],
             [
              0.3333333333333333,
              "#9c179e"
             ],
             [
              0.4444444444444444,
              "#bd3786"
             ],
             [
              0.5555555555555556,
              "#d8576b"
             ],
             [
              0.6666666666666666,
              "#ed7953"
             ],
             [
              0.7777777777777778,
              "#fb9f3a"
             ],
             [
              0.8888888888888888,
              "#fdca26"
             ],
             [
              1,
              "#f0f921"
             ]
            ],
            "type": "surface"
           }
          ],
          "table": [
           {
            "cells": {
             "fill": {
              "color": "#506784"
             },
             "line": {
              "color": "rgb(17,17,17)"
             }
            },
            "header": {
             "fill": {
              "color": "#2a3f5f"
             },
             "line": {
              "color": "rgb(17,17,17)"
             }
            },
            "type": "table"
           }
          ]
         },
         "layout": {
          "annotationdefaults": {
           "arrowcolor": "#f2f5fa",
           "arrowhead": 0,
           "arrowwidth": 1
          },
          "autotypenumbers": "strict",
          "coloraxis": {
           "colorbar": {
            "outlinewidth": 0,
            "ticks": ""
           }
          },
          "colorscale": {
           "diverging": [
            [
             0,
             "#8e0152"
            ],
            [
             0.1,
             "#c51b7d"
            ],
            [
             0.2,
             "#de77ae"
            ],
            [
             0.3,
             "#f1b6da"
            ],
            [
             0.4,
             "#fde0ef"
            ],
            [
             0.5,
             "#f7f7f7"
            ],
            [
             0.6,
             "#e6f5d0"
            ],
            [
             0.7,
             "#b8e186"
            ],
            [
             0.8,
             "#7fbc41"
            ],
            [
             0.9,
             "#4d9221"
            ],
            [
             1,
             "#276419"
            ]
           ],
           "sequential": [
            [
             0,
             "#0d0887"
            ],
            [
             0.1111111111111111,
             "#46039f"
            ],
            [
             0.2222222222222222,
             "#7201a8"
            ],
            [
             0.3333333333333333,
             "#9c179e"
            ],
            [
             0.4444444444444444,
             "#bd3786"
            ],
            [
             0.5555555555555556,
             "#d8576b"
            ],
            [
             0.6666666666666666,
             "#ed7953"
            ],
            [
             0.7777777777777778,
             "#fb9f3a"
            ],
            [
             0.8888888888888888,
             "#fdca26"
            ],
            [
             1,
             "#f0f921"
            ]
           ],
           "sequentialminus": [
            [
             0,
             "#0d0887"
            ],
            [
             0.1111111111111111,
             "#46039f"
            ],
            [
             0.2222222222222222,
             "#7201a8"
            ],
            [
             0.3333333333333333,
             "#9c179e"
            ],
            [
             0.4444444444444444,
             "#bd3786"
            ],
            [
             0.5555555555555556,
             "#d8576b"
            ],
            [
             0.6666666666666666,
             "#ed7953"
            ],
            [
             0.7777777777777778,
             "#fb9f3a"
            ],
            [
             0.8888888888888888,
             "#fdca26"
            ],
            [
             1,
             "#f0f921"
            ]
           ]
          },
          "colorway": [
           "#636efa",
           "#EF553B",
           "#00cc96",
           "#ab63fa",
           "#FFA15A",
           "#19d3f3",
           "#FF6692",
           "#B6E880",
           "#FF97FF",
           "#FECB52"
          ],
          "font": {
           "color": "#f2f5fa"
          },
          "geo": {
           "bgcolor": "rgb(17,17,17)",
           "lakecolor": "rgb(17,17,17)",
           "landcolor": "rgb(17,17,17)",
           "showlakes": true,
           "showland": true,
           "subunitcolor": "#506784"
          },
          "hoverlabel": {
           "align": "left"
          },
          "hovermode": "closest",
          "mapbox": {
           "style": "dark"
          },
          "paper_bgcolor": "rgb(17,17,17)",
          "plot_bgcolor": "rgb(17,17,17)",
          "polar": {
           "angularaxis": {
            "gridcolor": "#506784",
            "linecolor": "#506784",
            "ticks": ""
           },
           "bgcolor": "rgb(17,17,17)",
           "radialaxis": {
            "gridcolor": "#506784",
            "linecolor": "#506784",
            "ticks": ""
           }
          },
          "scene": {
           "xaxis": {
            "backgroundcolor": "rgb(17,17,17)",
            "gridcolor": "#506784",
            "gridwidth": 2,
            "linecolor": "#506784",
            "showbackground": true,
            "ticks": "",
            "zerolinecolor": "#C8D4E3"
           },
           "yaxis": {
            "backgroundcolor": "rgb(17,17,17)",
            "gridcolor": "#506784",
            "gridwidth": 2,
            "linecolor": "#506784",
            "showbackground": true,
            "ticks": "",
            "zerolinecolor": "#C8D4E3"
           },
           "zaxis": {
            "backgroundcolor": "rgb(17,17,17)",
            "gridcolor": "#506784",
            "gridwidth": 2,
            "linecolor": "#506784",
            "showbackground": true,
            "ticks": "",
            "zerolinecolor": "#C8D4E3"
           }
          },
          "shapedefaults": {
           "line": {
            "color": "#f2f5fa"
           }
          },
          "sliderdefaults": {
           "bgcolor": "#C8D4E3",
           "bordercolor": "rgb(17,17,17)",
           "borderwidth": 1,
           "tickwidth": 0
          },
          "ternary": {
           "aaxis": {
            "gridcolor": "#506784",
            "linecolor": "#506784",
            "ticks": ""
           },
           "baxis": {
            "gridcolor": "#506784",
            "linecolor": "#506784",
            "ticks": ""
           },
           "bgcolor": "rgb(17,17,17)",
           "caxis": {
            "gridcolor": "#506784",
            "linecolor": "#506784",
            "ticks": ""
           }
          },
          "title": {
           "x": 0.05
          },
          "updatemenudefaults": {
           "bgcolor": "#506784",
           "borderwidth": 0
          },
          "xaxis": {
           "automargin": true,
           "gridcolor": "#283442",
           "linecolor": "#506784",
           "ticks": "",
           "title": {
            "standoff": 15
           },
           "zerolinecolor": "#283442",
           "zerolinewidth": 2
          },
          "yaxis": {
           "automargin": true,
           "gridcolor": "#283442",
           "linecolor": "#506784",
           "ticks": "",
           "title": {
            "standoff": 15
           },
           "zerolinecolor": "#283442",
           "zerolinewidth": 2
          }
         }
        },
        "xaxis": {
         "anchor": "y",
         "domain": [
          0,
          1
         ],
         "title": {
          "text": "length"
         }
        },
        "yaxis": {
         "anchor": "x",
         "domain": [
          0,
          1
         ],
         "title": {
          "text": "value"
         }
        }
       }
      },
      "text/html": [
       "<div>                            <div id=\"4a7f86d0-5e88-4982-8d65-3a59b9caeb33\" class=\"plotly-graph-div\" style=\"height:525px; width:100%;\"></div>            <script type=\"text/javascript\">                require([\"plotly\"], function(Plotly) {                    window.PLOTLYENV=window.PLOTLYENV || {};                                    if (document.getElementById(\"4a7f86d0-5e88-4982-8d65-3a59b9caeb33\")) {                    Plotly.newPlot(                        \"4a7f86d0-5e88-4982-8d65-3a59b9caeb33\",                        [{\"hovertemplate\": \"variable=x_counter_RSF<br>length=%{x}<br>value=%{y}<extra></extra>\", \"legendgroup\": \"x_counter_RSF\", \"line\": {\"color\": \"#636efa\", \"dash\": \"solid\"}, \"mode\": \"lines\", \"name\": \"x_counter_RSF\", \"orientation\": \"v\", \"showlegend\": true, \"type\": \"scatter\", \"x\": [0, 1, 2, 3, 4, 5, 6, 7, 8, 9, 10, 11, 12, 13, 14, 15, 16, 17, 18, 19, 20, 21, 22, 23, 24, 25, 26, 27, 28, 29, 30, 31, 32, 33, 34, 35, 36, 37, 38, 39, 40, 41, 42, 43, 44, 45, 46, 47, 48, 49, 50, 51, 52, 53, 54, 55, 56, 57, 58, 59, 60, 61, 62, 63, 64, 65, 66, 67, 68, 69, 70, 71, 72, 73, 74, 75, 76, 77, 78, 79, 80, 81, 82, 83, 84, 85, 86, 87, 88, 89, 90, 91, 92, 93, 94, 95, 96, 97, 98, 99, 100, 101, 102, 103, 104, 105, 106, 107, 108, 109, 110, 111, 112, 113, 114, 115, 116, 117, 118, 119, 120, 121, 122, 123, 124, 125, 126, 127], \"xaxis\": \"x\", \"y\": [0.023093659430742264, 0.03989811986684799, 0.01182102132588625, 0.002964944113045931, -0.0007469661068171263, 0.023447591811418533, 0.009272610768675804, 0.12300000339746475, 0.45500001311302185, 0.7919999957084656, 0.9810000061988831, 1.0700000524520874, 1.1089999675750732, 1.1269999742507935, 1.0080000162124634, 0.6740000247955322, 0.33500000834465027, 0.1469999998807907, 0.06199999898672104, 0.07367971539497375, 0.03485501930117607, 0.04193883016705513, 0.0015920051373541355, 0.023987889289855957, 0.006554984953254461, -0.0024014918599277735, 0.02684539370238781, 0.004737056791782379, 0.0056610507890582085, -0.00711578456684947, 0.009231503121554852, -0.0020162167493253946, 0.010804626159369946, 0.03952237591147423, 0.028528086841106415, 0.023975122720003128, 0.006632714997977018, 0.04770134016871452, -0.11800000071525574, -0.4399999976158142, -0.7620000243186951, -0.9430000185966492, -1.0290000438690186, -1.0640000104904175, -1.0770000219345093, -1.0809999704360962, -1.0850000381469727, -1.0859999656677246, -1.0839999914169312, -1.0829999446868896, -1.0789999961853027, -1.0759999752044678, -1.0789999961853027, -1.0829999446868896, -1.0859999656677246, -1.0880000591278076, -1.0889999866485596, -1.0880000591278076, -1.0859999656677246, -1.0870000123977661, -1.0889999866485596, -1.0880000591278076, -1.0850000381469727, -1.0820000171661377, -1.0770000219345093, -1.0750000476837158, -1.0770000219345093, -1.0820000171661377, -1.0870000123977661, -1.090000033378601, -1.0889999866485596, -1.0880000591278076, -1.0859999656677246, -1.0820000171661377, -1.0779999494552612, -1.0779999494552612, -1.0779999494552612, -1.0750000476837158, -1.0740000009536743, -1.0770000219345093, -1.0820000171661377, -1.0859999656677246, -1.0889999866485596, -1.0889999866485596, -1.0880000591278076, -1.0820000171661377, -1.0789999961853027, -1.0809999704360962, -1.0809999704360962, -1.0809999704360962, -1.0820000171661377, -1.0839999914169312, -1.0880000591278076, -1.0889999866485596, -0.9679999947547913, -0.6449999809265137, -0.22320690541173965, -0.0996569130470097, -0.043936996410682695, 0.003255455950079063, 0.00048788654744171683, 0.01713473901144863, 0.018224229747954408, 0.008463456290400285, 0.021591313289792725, 0.02895828834750354, 0.01791980650441355, 0.026423093891724227, 0.01490525544774425, 0.02831037325511964, 0.03853094091913094, 0.06221358549741489, 0.17355072359375234, 0.2835169255365877, 0.3236872323090675, 0.377577704987335, 0.3677704528879071, 0.37118299821386747, 0.3764137651551662, 0.37303780583400803, 0.36417422745484984, 0.3692134311531641, 0.3789460978717324, 0.38447120613592245, 0.38936772538750064, 0.38631797179438077, 0.3770189690189548, 0.3745313322948033], \"yaxis\": \"y\"}, {\"hovertemplate\": \"variable=x_counter_kNN<br>length=%{x}<br>value=%{y}<extra></extra>\", \"legendgroup\": \"x_counter_kNN\", \"line\": {\"color\": \"#EF553B\", \"dash\": \"solid\"}, \"mode\": \"lines\", \"name\": \"x_counter_kNN\", \"orientation\": \"v\", \"showlegend\": true, \"type\": \"scatter\", \"x\": [0, 1, 2, 3, 4, 5, 6, 7, 8, 9, 10, 11, 12, 13, 14, 15, 16, 17, 18, 19, 20, 21, 22, 23, 24, 25, 26, 27, 28, 29, 30, 31, 32, 33, 34, 35, 36, 37, 38, 39, 40, 41, 42, 43, 44, 45, 46, 47, 48, 49, 50, 51, 52, 53, 54, 55, 56, 57, 58, 59, 60, 61, 62, 63, 64, 65, 66, 67, 68, 69, 70, 71, 72, 73, 74, 75, 76, 77, 78, 79, 80, 81, 82, 83, 84, 85, 86, 87, 88, 89, 90, 91, 92, 93, 94, 95, 96, 97, 98, 99, 100, 101, 102, 103, 104, 105, 106, 107, 108, 109, 110, 111, 112, 113, 114, 115, 116, 117, 118, 119, 120, 121, 122, 123, 124, 125, 126, 127], \"xaxis\": \"x\", \"y\": [0.021178386406973004, 0.023945185559568927, 0.03220551402773708, 0.02044555521570146, 0.03141471138224006, 0.012058442865964025, 0.031515442533418536, 0.016359949833713472, 0.013733317260630429, 0.032101453049108386, 0.02495202806312591, 0.030979222152382135, 0.032084816601127386, 0.02514648879878223, 0.02280134498141706, 0.02175834123772802, 0.025651566218584776, 0.02460449351929128, 0.01976003753952682, 0.037737452890723944, 0.033876274013891816, 0.04171457281336188, 0.030709385871887207, 0.03314285073429346, 0.023565575771499425, 0.03753576101735234, 0.02516713971272111, 0.027583966962993145, 0.03194532170891762, 0.04252621531486511, 0.03154167300090194, 0.03121537622064352, 0.01956865443571587, 0.030558915343135595, 0.03229506849311292, 0.03603845462203026, 0.024613600966404192, 0.031503469217568636, 0.01809755663271062, -0.005689880403224379, -0.16083057038486004, -0.4462499879300594, -0.742749996483326, -0.9419999867677689, -1.0415000021457672, -1.0867500007152557, -1.1074999868869781, -1.1144999861717224, -1.1144999861717224, -1.1132499873638153, -1.1164999902248383, -1.120749980211258, -1.1219999492168427, -1.12049999833107, -1.1187500357627869, -1.1182499825954437, -1.117499977350235, -1.1162499785423279, -1.1169999837875366, -1.1182500123977661, -1.118749976158142, -1.1189999878406525, -1.1197499930858612, -1.1197499930858612, -1.1164999902248383, -1.1145000159740448, -1.113999992609024, -1.1147499978542328, -1.1159999668598175, -1.117499977350235, -1.1180000007152557, -1.118749976158142, -1.1199999749660492, -1.1194999814033508, -1.1177499890327454, -1.1175000071525574, -1.118499994277954, -1.1200000047683716, -1.1207500100135803, -1.1192499697208405, -1.1159999668598175, -1.1155000030994415, -1.1164999902248383, -1.1177500188350677, -1.1180000007152557, -1.117000013589859, -1.1149999797344208, -1.113500028848648, -1.114249974489212, -1.1167500019073486, -1.1182499825954437, -1.117000013589859, -1.113999992609024, -1.112999975681305, -1.113999992609024, -0.9917500168085097, -0.6620000004768372, -0.3320000022649765, -0.1484999991953373, -0.060500000603497035, 0.004713879199698567, 0.02056099520996213, 0.009440242836717516, 0.016454103286378086, 0.022550216148374602, 0.02066979359369725, 0.022854527574963868, 0.03410989907570183, 0.06392193341162056, 0.23408744018524885, 0.39712275145575404, 0.5136682586744428, 0.6283345608972013, 0.7490000054240227, 0.8747499883174896, 0.9054999947547913, 0.7562499791383743, 0.5107499957084656, 0.28449999541044235, 0.13274999801069498, 0.07790583651512861, 0.05632891971617937, 0.036121279932558537, 0.03620309056714177, 0.017754914006218314, 0.025897421641275287, 0.028528014896437526, 0.01679457852151245], \"yaxis\": \"y\"}, {\"hovertemplate\": \"variable=x_test<br>length=%{x}<br>value=%{y}<extra></extra>\", \"legendgroup\": \"x_test\", \"line\": {\"color\": \"#00cc96\", \"dash\": \"solid\"}, \"mode\": \"lines\", \"name\": \"x_test\", \"orientation\": \"v\", \"showlegend\": true, \"type\": \"scatter\", \"x\": [0, 1, 2, 3, 4, 5, 6, 7, 8, 9, 10, 11, 12, 13, 14, 15, 16, 17, 18, 19, 20, 21, 22, 23, 24, 25, 26, 27, 28, 29, 30, 31, 32, 33, 34, 35, 36, 37, 38, 39, 40, 41, 42, 43, 44, 45, 46, 47, 48, 49, 50, 51, 52, 53, 54, 55, 56, 57, 58, 59, 60, 61, 62, 63, 64, 65, 66, 67, 68, 69, 70, 71, 72, 73, 74, 75, 76, 77, 78, 79, 80, 81, 82, 83, 84, 85, 86, 87, 88, 89, 90, 91, 92, 93, 94, 95, 96, 97, 98, 99, 100, 101, 102, 103, 104, 105, 106, 107, 108, 109, 110, 111, 112, 113, 114, 115, 116, 117, 118, 119, 120, 121, 122, 123, 124, 125, 126, 127], \"xaxis\": \"x\", \"y\": [0.023093659430742264, 0.03989811986684799, 0.01182102132588625, 0.002964944113045931, -0.0007469661068171263, 0.023447591811418533, 0.009272610768675804, 0.12300000339746475, 0.45500001311302185, 0.7919999957084656, 0.9810000061988831, 1.0700000524520874, 1.1089999675750732, 1.1269999742507935, 1.0080000162124634, 0.6740000247955322, 0.33500000834465027, 0.1469999998807907, 0.06199999898672104, 0.07367971539497375, 0.03485501930117607, 0.04193883016705513, 0.0015920051373541355, 0.023987889289855957, 0.006554984953254461, -0.0024014918599277735, 0.02684539370238781, 0.004737056791782379, 0.0056610507890582085, -0.00711578456684947, 0.009231503121554852, -0.0020162167493253946, 0.010804626159369946, 0.03952237591147423, 0.028528086841106415, 0.023975122720003128, 0.006632714997977018, 0.04770134016871452, -0.11800000071525574, -0.4399999976158142, -0.7620000243186951, -0.9430000185966492, -1.0290000438690186, -1.0640000104904175, -1.0770000219345093, -1.0809999704360962, -1.0850000381469727, -1.0859999656677246, -1.0839999914169312, -1.0829999446868896, -1.0789999961853027, -1.0759999752044678, -1.0789999961853027, -1.0829999446868896, -1.0859999656677246, -1.0880000591278076, -1.0889999866485596, -1.0880000591278076, -1.0859999656677246, -1.0870000123977661, -1.0889999866485596, -1.0880000591278076, -1.0850000381469727, -1.0820000171661377, -1.0770000219345093, -1.0750000476837158, -1.0770000219345093, -1.0820000171661377, -1.0870000123977661, -1.090000033378601, -1.0889999866485596, -1.0880000591278076, -1.0859999656677246, -1.0820000171661377, -1.0779999494552612, -1.0779999494552612, -1.0779999494552612, -1.0750000476837158, -1.0740000009536743, -1.0770000219345093, -1.0820000171661377, -1.0859999656677246, -1.0889999866485596, -1.0889999866485596, -1.0880000591278076, -1.0820000171661377, -1.0789999961853027, -1.0809999704360962, -1.0809999704360962, -1.0809999704360962, -1.0820000171661377, -1.0839999914169312, -1.0880000591278076, -1.0889999866485596, -0.9679999947547913, -0.6449999809265137, -0.32199999690055847, -0.14399999380111694, -0.06199999898672104, 0.001359179732389748, -0.01170371938496828, 0.005350734107196331, 0.02040299028158188, -0.0027000668924301863, 0.020622294396162033, 0.03170677646994591, 0.02262892574071884, 0.025454498827457428, 0.005649102386087179, 0.0318385548889637, 0.04221777617931366, 0.03266767039895058, 0.039331190288066864, 0.04226454347372055, 0.014360387809574604, 0.047843120992183685, 0.017369739711284637, 0.017602255567908287, 0.02328876592218876, 0.017181415110826492, 0.003924596589058638, 0.010829880833625793, 0.025277622044086456, 0.0321081317961216, 0.03622567281126976, 0.030194995924830437, 0.01708216965198517, 0.014413945376873016], \"yaxis\": \"y\"}],                        {\"legend\": {\"title\": {\"text\": \"variable\"}, \"tracegroupgap\": 0}, \"margin\": {\"t\": 60}, \"template\": {\"data\": {\"bar\": [{\"error_x\": {\"color\": \"#f2f5fa\"}, \"error_y\": {\"color\": \"#f2f5fa\"}, \"marker\": {\"line\": {\"color\": \"rgb(17,17,17)\", \"width\": 0.5}}, \"type\": \"bar\"}], \"barpolar\": [{\"marker\": {\"line\": {\"color\": \"rgb(17,17,17)\", \"width\": 0.5}}, \"type\": \"barpolar\"}], \"carpet\": [{\"aaxis\": {\"endlinecolor\": \"#A2B1C6\", \"gridcolor\": \"#506784\", \"linecolor\": \"#506784\", \"minorgridcolor\": \"#506784\", \"startlinecolor\": \"#A2B1C6\"}, \"baxis\": {\"endlinecolor\": \"#A2B1C6\", \"gridcolor\": \"#506784\", \"linecolor\": \"#506784\", \"minorgridcolor\": \"#506784\", \"startlinecolor\": \"#A2B1C6\"}, \"type\": \"carpet\"}], \"choropleth\": [{\"colorbar\": {\"outlinewidth\": 0, \"ticks\": \"\"}, \"type\": \"choropleth\"}], \"contour\": [{\"colorbar\": {\"outlinewidth\": 0, \"ticks\": \"\"}, \"colorscale\": [[0.0, \"#0d0887\"], [0.1111111111111111, \"#46039f\"], [0.2222222222222222, \"#7201a8\"], [0.3333333333333333, \"#9c179e\"], [0.4444444444444444, \"#bd3786\"], [0.5555555555555556, \"#d8576b\"], [0.6666666666666666, \"#ed7953\"], [0.7777777777777778, \"#fb9f3a\"], [0.8888888888888888, \"#fdca26\"], [1.0, \"#f0f921\"]], \"type\": \"contour\"}], \"contourcarpet\": [{\"colorbar\": {\"outlinewidth\": 0, \"ticks\": \"\"}, \"type\": \"contourcarpet\"}], \"heatmap\": [{\"colorbar\": {\"outlinewidth\": 0, \"ticks\": \"\"}, \"colorscale\": [[0.0, \"#0d0887\"], [0.1111111111111111, \"#46039f\"], [0.2222222222222222, \"#7201a8\"], [0.3333333333333333, \"#9c179e\"], [0.4444444444444444, \"#bd3786\"], [0.5555555555555556, \"#d8576b\"], [0.6666666666666666, \"#ed7953\"], [0.7777777777777778, \"#fb9f3a\"], [0.8888888888888888, \"#fdca26\"], [1.0, \"#f0f921\"]], \"type\": \"heatmap\"}], \"heatmapgl\": [{\"colorbar\": {\"outlinewidth\": 0, \"ticks\": \"\"}, \"colorscale\": [[0.0, \"#0d0887\"], [0.1111111111111111, \"#46039f\"], [0.2222222222222222, \"#7201a8\"], [0.3333333333333333, \"#9c179e\"], [0.4444444444444444, \"#bd3786\"], [0.5555555555555556, \"#d8576b\"], [0.6666666666666666, \"#ed7953\"], [0.7777777777777778, \"#fb9f3a\"], [0.8888888888888888, \"#fdca26\"], [1.0, \"#f0f921\"]], \"type\": \"heatmapgl\"}], \"histogram\": [{\"marker\": {\"colorbar\": {\"outlinewidth\": 0, \"ticks\": \"\"}}, \"type\": \"histogram\"}], \"histogram2d\": [{\"colorbar\": {\"outlinewidth\": 0, \"ticks\": \"\"}, \"colorscale\": [[0.0, \"#0d0887\"], [0.1111111111111111, \"#46039f\"], [0.2222222222222222, \"#7201a8\"], [0.3333333333333333, \"#9c179e\"], [0.4444444444444444, \"#bd3786\"], [0.5555555555555556, \"#d8576b\"], [0.6666666666666666, \"#ed7953\"], [0.7777777777777778, \"#fb9f3a\"], [0.8888888888888888, \"#fdca26\"], [1.0, \"#f0f921\"]], \"type\": \"histogram2d\"}], \"histogram2dcontour\": [{\"colorbar\": {\"outlinewidth\": 0, \"ticks\": \"\"}, \"colorscale\": [[0.0, \"#0d0887\"], [0.1111111111111111, \"#46039f\"], [0.2222222222222222, \"#7201a8\"], [0.3333333333333333, \"#9c179e\"], [0.4444444444444444, \"#bd3786\"], [0.5555555555555556, \"#d8576b\"], [0.6666666666666666, \"#ed7953\"], [0.7777777777777778, \"#fb9f3a\"], [0.8888888888888888, \"#fdca26\"], [1.0, \"#f0f921\"]], \"type\": \"histogram2dcontour\"}], \"mesh3d\": [{\"colorbar\": {\"outlinewidth\": 0, \"ticks\": \"\"}, \"type\": \"mesh3d\"}], \"parcoords\": [{\"line\": {\"colorbar\": {\"outlinewidth\": 0, \"ticks\": \"\"}}, \"type\": \"parcoords\"}], \"pie\": [{\"automargin\": true, \"type\": \"pie\"}], \"scatter\": [{\"marker\": {\"line\": {\"color\": \"#283442\"}}, \"type\": \"scatter\"}], \"scatter3d\": [{\"line\": {\"colorbar\": {\"outlinewidth\": 0, \"ticks\": \"\"}}, \"marker\": {\"colorbar\": {\"outlinewidth\": 0, \"ticks\": \"\"}}, \"type\": \"scatter3d\"}], \"scattercarpet\": [{\"marker\": {\"colorbar\": {\"outlinewidth\": 0, \"ticks\": \"\"}}, \"type\": \"scattercarpet\"}], \"scattergeo\": [{\"marker\": {\"colorbar\": {\"outlinewidth\": 0, \"ticks\": \"\"}}, \"type\": \"scattergeo\"}], \"scattergl\": [{\"marker\": {\"line\": {\"color\": \"#283442\"}}, \"type\": \"scattergl\"}], \"scattermapbox\": [{\"marker\": {\"colorbar\": {\"outlinewidth\": 0, \"ticks\": \"\"}}, \"type\": \"scattermapbox\"}], \"scatterpolar\": [{\"marker\": {\"colorbar\": {\"outlinewidth\": 0, \"ticks\": \"\"}}, \"type\": \"scatterpolar\"}], \"scatterpolargl\": [{\"marker\": {\"colorbar\": {\"outlinewidth\": 0, \"ticks\": \"\"}}, \"type\": \"scatterpolargl\"}], \"scatterternary\": [{\"marker\": {\"colorbar\": {\"outlinewidth\": 0, \"ticks\": \"\"}}, \"type\": \"scatterternary\"}], \"surface\": [{\"colorbar\": {\"outlinewidth\": 0, \"ticks\": \"\"}, \"colorscale\": [[0.0, \"#0d0887\"], [0.1111111111111111, \"#46039f\"], [0.2222222222222222, \"#7201a8\"], [0.3333333333333333, \"#9c179e\"], [0.4444444444444444, \"#bd3786\"], [0.5555555555555556, \"#d8576b\"], [0.6666666666666666, \"#ed7953\"], [0.7777777777777778, \"#fb9f3a\"], [0.8888888888888888, \"#fdca26\"], [1.0, \"#f0f921\"]], \"type\": \"surface\"}], \"table\": [{\"cells\": {\"fill\": {\"color\": \"#506784\"}, \"line\": {\"color\": \"rgb(17,17,17)\"}}, \"header\": {\"fill\": {\"color\": \"#2a3f5f\"}, \"line\": {\"color\": \"rgb(17,17,17)\"}}, \"type\": \"table\"}]}, \"layout\": {\"annotationdefaults\": {\"arrowcolor\": \"#f2f5fa\", \"arrowhead\": 0, \"arrowwidth\": 1}, \"autotypenumbers\": \"strict\", \"coloraxis\": {\"colorbar\": {\"outlinewidth\": 0, \"ticks\": \"\"}}, \"colorscale\": {\"diverging\": [[0, \"#8e0152\"], [0.1, \"#c51b7d\"], [0.2, \"#de77ae\"], [0.3, \"#f1b6da\"], [0.4, \"#fde0ef\"], [0.5, \"#f7f7f7\"], [0.6, \"#e6f5d0\"], [0.7, \"#b8e186\"], [0.8, \"#7fbc41\"], [0.9, \"#4d9221\"], [1, \"#276419\"]], \"sequential\": [[0.0, \"#0d0887\"], [0.1111111111111111, \"#46039f\"], [0.2222222222222222, \"#7201a8\"], [0.3333333333333333, \"#9c179e\"], [0.4444444444444444, \"#bd3786\"], [0.5555555555555556, \"#d8576b\"], [0.6666666666666666, \"#ed7953\"], [0.7777777777777778, \"#fb9f3a\"], [0.8888888888888888, \"#fdca26\"], [1.0, \"#f0f921\"]], \"sequentialminus\": [[0.0, \"#0d0887\"], [0.1111111111111111, \"#46039f\"], [0.2222222222222222, \"#7201a8\"], [0.3333333333333333, \"#9c179e\"], [0.4444444444444444, \"#bd3786\"], [0.5555555555555556, \"#d8576b\"], [0.6666666666666666, \"#ed7953\"], [0.7777777777777778, \"#fb9f3a\"], [0.8888888888888888, \"#fdca26\"], [1.0, \"#f0f921\"]]}, \"colorway\": [\"#636efa\", \"#EF553B\", \"#00cc96\", \"#ab63fa\", \"#FFA15A\", \"#19d3f3\", \"#FF6692\", \"#B6E880\", \"#FF97FF\", \"#FECB52\"], \"font\": {\"color\": \"#f2f5fa\"}, \"geo\": {\"bgcolor\": \"rgb(17,17,17)\", \"lakecolor\": \"rgb(17,17,17)\", \"landcolor\": \"rgb(17,17,17)\", \"showlakes\": true, \"showland\": true, \"subunitcolor\": \"#506784\"}, \"hoverlabel\": {\"align\": \"left\"}, \"hovermode\": \"closest\", \"mapbox\": {\"style\": \"dark\"}, \"paper_bgcolor\": \"rgb(17,17,17)\", \"plot_bgcolor\": \"rgb(17,17,17)\", \"polar\": {\"angularaxis\": {\"gridcolor\": \"#506784\", \"linecolor\": \"#506784\", \"ticks\": \"\"}, \"bgcolor\": \"rgb(17,17,17)\", \"radialaxis\": {\"gridcolor\": \"#506784\", \"linecolor\": \"#506784\", \"ticks\": \"\"}}, \"scene\": {\"xaxis\": {\"backgroundcolor\": \"rgb(17,17,17)\", \"gridcolor\": \"#506784\", \"gridwidth\": 2, \"linecolor\": \"#506784\", \"showbackground\": true, \"ticks\": \"\", \"zerolinecolor\": \"#C8D4E3\"}, \"yaxis\": {\"backgroundcolor\": \"rgb(17,17,17)\", \"gridcolor\": \"#506784\", \"gridwidth\": 2, \"linecolor\": \"#506784\", \"showbackground\": true, \"ticks\": \"\", \"zerolinecolor\": \"#C8D4E3\"}, \"zaxis\": {\"backgroundcolor\": \"rgb(17,17,17)\", \"gridcolor\": \"#506784\", \"gridwidth\": 2, \"linecolor\": \"#506784\", \"showbackground\": true, \"ticks\": \"\", \"zerolinecolor\": \"#C8D4E3\"}}, \"shapedefaults\": {\"line\": {\"color\": \"#f2f5fa\"}}, \"sliderdefaults\": {\"bgcolor\": \"#C8D4E3\", \"bordercolor\": \"rgb(17,17,17)\", \"borderwidth\": 1, \"tickwidth\": 0}, \"ternary\": {\"aaxis\": {\"gridcolor\": \"#506784\", \"linecolor\": \"#506784\", \"ticks\": \"\"}, \"baxis\": {\"gridcolor\": \"#506784\", \"linecolor\": \"#506784\", \"ticks\": \"\"}, \"bgcolor\": \"rgb(17,17,17)\", \"caxis\": {\"gridcolor\": \"#506784\", \"linecolor\": \"#506784\", \"ticks\": \"\"}}, \"title\": {\"x\": 0.05}, \"updatemenudefaults\": {\"bgcolor\": \"#506784\", \"borderwidth\": 0}, \"xaxis\": {\"automargin\": true, \"gridcolor\": \"#283442\", \"linecolor\": \"#506784\", \"ticks\": \"\", \"title\": {\"standoff\": 15}, \"zerolinecolor\": \"#283442\", \"zerolinewidth\": 2}, \"yaxis\": {\"automargin\": true, \"gridcolor\": \"#283442\", \"linecolor\": \"#506784\", \"ticks\": \"\", \"title\": {\"standoff\": 15}, \"zerolinecolor\": \"#283442\", \"zerolinewidth\": 2}}}, \"xaxis\": {\"anchor\": \"y\", \"domain\": [0.0, 1.0], \"title\": {\"text\": \"length\"}}, \"yaxis\": {\"anchor\": \"x\", \"domain\": [0.0, 1.0], \"title\": {\"text\": \"value\"}}},                        {\"responsive\": true}                    ).then(function(){\n",
       "                            \n",
       "var gd = document.getElementById('4a7f86d0-5e88-4982-8d65-3a59b9caeb33');\n",
       "var x = new MutationObserver(function (mutations, observer) {{\n",
       "        var display = window.getComputedStyle(gd).display;\n",
       "        if (!display || display === 'none') {{\n",
       "            console.log([gd, 'removed!']);\n",
       "            Plotly.purge(gd);\n",
       "            observer.disconnect();\n",
       "        }}\n",
       "}});\n",
       "\n",
       "// Listen for the removal of the full notebook cells\n",
       "var notebookContainer = gd.closest('#notebook-container');\n",
       "if (notebookContainer) {{\n",
       "    x.observe(notebookContainer, {childList: true});\n",
       "}}\n",
       "\n",
       "// Listen for the clearing of the current output cell\n",
       "var outputEl = gd.closest('.output');\n",
       "if (outputEl) {{\n",
       "    x.observe(outputEl, {childList: true});\n",
       "}}\n",
       "\n",
       "                        })                };                });            </script>        </div>"
      ]
     },
     "metadata": {},
     "output_type": "display_data"
    }
   ],
   "source": [
    "display(df)\n",
    "fig = px.line(df, x=df[\"length\"], y = df.columns)\n",
    "fig.update_layout(template=\"plotly_dark\")\n",
    "fig.show()"
   ]
  },
  {
   "cell_type": "code",
   "execution_count": 69,
   "id": "97c4d5ca-80e1-419e-b768-4d3b173ec3b9",
   "metadata": {},
   "outputs": [
    {
     "data": {
      "text/html": [
       "<div>\n",
       "<style scoped>\n",
       "    .dataframe tbody tr th:only-of-type {\n",
       "        vertical-align: middle;\n",
       "    }\n",
       "\n",
       "    .dataframe tbody tr th {\n",
       "        vertical-align: top;\n",
       "    }\n",
       "\n",
       "    .dataframe thead th {\n",
       "        text-align: right;\n",
       "    }\n",
       "</style>\n",
       "<table border=\"1\" class=\"dataframe\">\n",
       "  <thead>\n",
       "    <tr style=\"text-align: right;\">\n",
       "      <th></th>\n",
       "      <th>0</th>\n",
       "      <th>1</th>\n",
       "      <th>2</th>\n",
       "      <th>3</th>\n",
       "      <th>4</th>\n",
       "      <th>5</th>\n",
       "      <th>6</th>\n",
       "      <th>7</th>\n",
       "      <th>8</th>\n",
       "      <th>9</th>\n",
       "      <th>...</th>\n",
       "      <th>118</th>\n",
       "      <th>119</th>\n",
       "      <th>120</th>\n",
       "      <th>121</th>\n",
       "      <th>122</th>\n",
       "      <th>123</th>\n",
       "      <th>124</th>\n",
       "      <th>125</th>\n",
       "      <th>126</th>\n",
       "      <th>127</th>\n",
       "    </tr>\n",
       "  </thead>\n",
       "  <tbody>\n",
       "    <tr>\n",
       "      <th>x_counter_RSF</th>\n",
       "      <td>0.023094</td>\n",
       "      <td>0.039898</td>\n",
       "      <td>0.011821</td>\n",
       "      <td>0.002965</td>\n",
       "      <td>-0.000747</td>\n",
       "      <td>0.023448</td>\n",
       "      <td>0.009273</td>\n",
       "      <td>0.12300</td>\n",
       "      <td>0.455000</td>\n",
       "      <td>0.792000</td>\n",
       "      <td>...</td>\n",
       "      <td>0.376414</td>\n",
       "      <td>0.373038</td>\n",
       "      <td>0.364174</td>\n",
       "      <td>0.369213</td>\n",
       "      <td>0.378946</td>\n",
       "      <td>0.384471</td>\n",
       "      <td>0.389368</td>\n",
       "      <td>0.386318</td>\n",
       "      <td>0.377019</td>\n",
       "      <td>0.374531</td>\n",
       "    </tr>\n",
       "    <tr>\n",
       "      <th>x_counter_kNN</th>\n",
       "      <td>0.021178</td>\n",
       "      <td>0.023945</td>\n",
       "      <td>0.032206</td>\n",
       "      <td>0.020446</td>\n",
       "      <td>0.031415</td>\n",
       "      <td>0.012058</td>\n",
       "      <td>0.031515</td>\n",
       "      <td>0.01636</td>\n",
       "      <td>0.013733</td>\n",
       "      <td>0.032101</td>\n",
       "      <td>...</td>\n",
       "      <td>0.284500</td>\n",
       "      <td>0.132750</td>\n",
       "      <td>0.077906</td>\n",
       "      <td>0.056329</td>\n",
       "      <td>0.036121</td>\n",
       "      <td>0.036203</td>\n",
       "      <td>0.017755</td>\n",
       "      <td>0.025897</td>\n",
       "      <td>0.028528</td>\n",
       "      <td>0.016795</td>\n",
       "    </tr>\n",
       "    <tr>\n",
       "      <th>x_test</th>\n",
       "      <td>0.023094</td>\n",
       "      <td>0.039898</td>\n",
       "      <td>0.011821</td>\n",
       "      <td>0.002965</td>\n",
       "      <td>-0.000747</td>\n",
       "      <td>0.023448</td>\n",
       "      <td>0.009273</td>\n",
       "      <td>0.12300</td>\n",
       "      <td>0.455000</td>\n",
       "      <td>0.792000</td>\n",
       "      <td>...</td>\n",
       "      <td>0.023289</td>\n",
       "      <td>0.017181</td>\n",
       "      <td>0.003925</td>\n",
       "      <td>0.010830</td>\n",
       "      <td>0.025278</td>\n",
       "      <td>0.032108</td>\n",
       "      <td>0.036226</td>\n",
       "      <td>0.030195</td>\n",
       "      <td>0.017082</td>\n",
       "      <td>0.014414</td>\n",
       "    </tr>\n",
       "  </tbody>\n",
       "</table>\n",
       "<p>3 rows × 128 columns</p>\n",
       "</div>"
      ],
      "text/plain": [
       "                    0         1         2         3         4         5    \\\n",
       "x_counter_RSF  0.023094  0.039898  0.011821  0.002965 -0.000747  0.023448   \n",
       "x_counter_kNN  0.021178  0.023945  0.032206  0.020446  0.031415  0.012058   \n",
       "x_test         0.023094  0.039898  0.011821  0.002965 -0.000747  0.023448   \n",
       "\n",
       "                    6        7         8         9    ...       118       119  \\\n",
       "x_counter_RSF  0.009273  0.12300  0.455000  0.792000  ...  0.376414  0.373038   \n",
       "x_counter_kNN  0.031515  0.01636  0.013733  0.032101  ...  0.284500  0.132750   \n",
       "x_test         0.009273  0.12300  0.455000  0.792000  ...  0.023289  0.017181   \n",
       "\n",
       "                    120       121       122       123       124       125  \\\n",
       "x_counter_RSF  0.364174  0.369213  0.378946  0.384471  0.389368  0.386318   \n",
       "x_counter_kNN  0.077906  0.056329  0.036121  0.036203  0.017755  0.025897   \n",
       "x_test         0.003925  0.010830  0.025278  0.032108  0.036226  0.030195   \n",
       "\n",
       "                    126       127  \n",
       "x_counter_RSF  0.377019  0.374531  \n",
       "x_counter_kNN  0.028528  0.016795  \n",
       "x_test         0.017082  0.014414  \n",
       "\n",
       "[3 rows x 128 columns]"
      ]
     },
     "metadata": {},
     "output_type": "display_data"
    },
    {
     "name": "stderr",
     "output_type": "stream",
     "text": [
      "/home/ubuntu/.demo_internship_arvin/lib/python3.7/site-packages/plotly/express/_core.py:1198: PerformanceWarning:\n",
      "\n",
      "DataFrame is highly fragmented.  This is usually the result of calling `frame.insert` many times, which has poor performance.  Consider joining all columns at once using pd.concat(axis=1) instead.  To get a de-fragmented frame, use `newframe = frame.copy()`\n",
      "\n"
     ]
    },
    {
     "data": {
      "application/vnd.plotly.v1+json": {
       "config": {
        "plotlyServerURL": "https://plot.ly"
       },
       "data": [
        {
         "hovertemplate": "variable=0<br>index=%{x}<br>value=%{y}<extra></extra>",
         "legendgroup": "0",
         "line": {
          "color": "#636efa",
          "dash": "solid"
         },
         "mode": "lines",
         "name": "0",
         "orientation": "v",
         "showlegend": true,
         "type": "scatter",
         "x": [
          "x_counter_RSF",
          "x_counter_kNN",
          "x_test"
         ],
         "xaxis": "x",
         "y": [
          0.023093659430742264,
          0.021178386406973004,
          0.023093659430742264
         ],
         "yaxis": "y"
        },
        {
         "hovertemplate": "variable=1<br>index=%{x}<br>value=%{y}<extra></extra>",
         "legendgroup": "1",
         "line": {
          "color": "#EF553B",
          "dash": "solid"
         },
         "mode": "lines",
         "name": "1",
         "orientation": "v",
         "showlegend": true,
         "type": "scatter",
         "x": [
          "x_counter_RSF",
          "x_counter_kNN",
          "x_test"
         ],
         "xaxis": "x",
         "y": [
          0.03989811986684799,
          0.023945185559568927,
          0.03989811986684799
         ],
         "yaxis": "y"
        },
        {
         "hovertemplate": "variable=2<br>index=%{x}<br>value=%{y}<extra></extra>",
         "legendgroup": "2",
         "line": {
          "color": "#00cc96",
          "dash": "solid"
         },
         "mode": "lines",
         "name": "2",
         "orientation": "v",
         "showlegend": true,
         "type": "scatter",
         "x": [
          "x_counter_RSF",
          "x_counter_kNN",
          "x_test"
         ],
         "xaxis": "x",
         "y": [
          0.01182102132588625,
          0.03220551402773708,
          0.01182102132588625
         ],
         "yaxis": "y"
        },
        {
         "hovertemplate": "variable=3<br>index=%{x}<br>value=%{y}<extra></extra>",
         "legendgroup": "3",
         "line": {
          "color": "#ab63fa",
          "dash": "solid"
         },
         "mode": "lines",
         "name": "3",
         "orientation": "v",
         "showlegend": true,
         "type": "scatter",
         "x": [
          "x_counter_RSF",
          "x_counter_kNN",
          "x_test"
         ],
         "xaxis": "x",
         "y": [
          0.002964944113045931,
          0.02044555521570146,
          0.002964944113045931
         ],
         "yaxis": "y"
        },
        {
         "hovertemplate": "variable=4<br>index=%{x}<br>value=%{y}<extra></extra>",
         "legendgroup": "4",
         "line": {
          "color": "#FFA15A",
          "dash": "solid"
         },
         "mode": "lines",
         "name": "4",
         "orientation": "v",
         "showlegend": true,
         "type": "scatter",
         "x": [
          "x_counter_RSF",
          "x_counter_kNN",
          "x_test"
         ],
         "xaxis": "x",
         "y": [
          -0.0007469661068171263,
          0.03141471138224006,
          -0.0007469661068171263
         ],
         "yaxis": "y"
        },
        {
         "hovertemplate": "variable=5<br>index=%{x}<br>value=%{y}<extra></extra>",
         "legendgroup": "5",
         "line": {
          "color": "#19d3f3",
          "dash": "solid"
         },
         "mode": "lines",
         "name": "5",
         "orientation": "v",
         "showlegend": true,
         "type": "scatter",
         "x": [
          "x_counter_RSF",
          "x_counter_kNN",
          "x_test"
         ],
         "xaxis": "x",
         "y": [
          0.023447591811418533,
          0.012058442865964025,
          0.023447591811418533
         ],
         "yaxis": "y"
        },
        {
         "hovertemplate": "variable=6<br>index=%{x}<br>value=%{y}<extra></extra>",
         "legendgroup": "6",
         "line": {
          "color": "#FF6692",
          "dash": "solid"
         },
         "mode": "lines",
         "name": "6",
         "orientation": "v",
         "showlegend": true,
         "type": "scatter",
         "x": [
          "x_counter_RSF",
          "x_counter_kNN",
          "x_test"
         ],
         "xaxis": "x",
         "y": [
          0.009272610768675804,
          0.031515442533418536,
          0.009272610768675804
         ],
         "yaxis": "y"
        },
        {
         "hovertemplate": "variable=7<br>index=%{x}<br>value=%{y}<extra></extra>",
         "legendgroup": "7",
         "line": {
          "color": "#B6E880",
          "dash": "solid"
         },
         "mode": "lines",
         "name": "7",
         "orientation": "v",
         "showlegend": true,
         "type": "scatter",
         "x": [
          "x_counter_RSF",
          "x_counter_kNN",
          "x_test"
         ],
         "xaxis": "x",
         "y": [
          0.12300000339746475,
          0.016359949833713472,
          0.12300000339746475
         ],
         "yaxis": "y"
        },
        {
         "hovertemplate": "variable=8<br>index=%{x}<br>value=%{y}<extra></extra>",
         "legendgroup": "8",
         "line": {
          "color": "#FF97FF",
          "dash": "solid"
         },
         "mode": "lines",
         "name": "8",
         "orientation": "v",
         "showlegend": true,
         "type": "scatter",
         "x": [
          "x_counter_RSF",
          "x_counter_kNN",
          "x_test"
         ],
         "xaxis": "x",
         "y": [
          0.45500001311302185,
          0.013733317260630429,
          0.45500001311302185
         ],
         "yaxis": "y"
        },
        {
         "hovertemplate": "variable=9<br>index=%{x}<br>value=%{y}<extra></extra>",
         "legendgroup": "9",
         "line": {
          "color": "#FECB52",
          "dash": "solid"
         },
         "mode": "lines",
         "name": "9",
         "orientation": "v",
         "showlegend": true,
         "type": "scatter",
         "x": [
          "x_counter_RSF",
          "x_counter_kNN",
          "x_test"
         ],
         "xaxis": "x",
         "y": [
          0.7919999957084656,
          0.032101453049108386,
          0.7919999957084656
         ],
         "yaxis": "y"
        },
        {
         "hovertemplate": "variable=10<br>index=%{x}<br>value=%{y}<extra></extra>",
         "legendgroup": "10",
         "line": {
          "color": "#636efa",
          "dash": "solid"
         },
         "mode": "lines",
         "name": "10",
         "orientation": "v",
         "showlegend": true,
         "type": "scatter",
         "x": [
          "x_counter_RSF",
          "x_counter_kNN",
          "x_test"
         ],
         "xaxis": "x",
         "y": [
          0.9810000061988831,
          0.02495202806312591,
          0.9810000061988831
         ],
         "yaxis": "y"
        },
        {
         "hovertemplate": "variable=11<br>index=%{x}<br>value=%{y}<extra></extra>",
         "legendgroup": "11",
         "line": {
          "color": "#EF553B",
          "dash": "solid"
         },
         "mode": "lines",
         "name": "11",
         "orientation": "v",
         "showlegend": true,
         "type": "scatter",
         "x": [
          "x_counter_RSF",
          "x_counter_kNN",
          "x_test"
         ],
         "xaxis": "x",
         "y": [
          1.0700000524520874,
          0.030979222152382135,
          1.0700000524520874
         ],
         "yaxis": "y"
        },
        {
         "hovertemplate": "variable=12<br>index=%{x}<br>value=%{y}<extra></extra>",
         "legendgroup": "12",
         "line": {
          "color": "#00cc96",
          "dash": "solid"
         },
         "mode": "lines",
         "name": "12",
         "orientation": "v",
         "showlegend": true,
         "type": "scatter",
         "x": [
          "x_counter_RSF",
          "x_counter_kNN",
          "x_test"
         ],
         "xaxis": "x",
         "y": [
          1.1089999675750732,
          0.032084816601127386,
          1.1089999675750732
         ],
         "yaxis": "y"
        },
        {
         "hovertemplate": "variable=13<br>index=%{x}<br>value=%{y}<extra></extra>",
         "legendgroup": "13",
         "line": {
          "color": "#ab63fa",
          "dash": "solid"
         },
         "mode": "lines",
         "name": "13",
         "orientation": "v",
         "showlegend": true,
         "type": "scatter",
         "x": [
          "x_counter_RSF",
          "x_counter_kNN",
          "x_test"
         ],
         "xaxis": "x",
         "y": [
          1.1269999742507935,
          0.02514648879878223,
          1.1269999742507935
         ],
         "yaxis": "y"
        },
        {
         "hovertemplate": "variable=14<br>index=%{x}<br>value=%{y}<extra></extra>",
         "legendgroup": "14",
         "line": {
          "color": "#FFA15A",
          "dash": "solid"
         },
         "mode": "lines",
         "name": "14",
         "orientation": "v",
         "showlegend": true,
         "type": "scatter",
         "x": [
          "x_counter_RSF",
          "x_counter_kNN",
          "x_test"
         ],
         "xaxis": "x",
         "y": [
          1.0080000162124634,
          0.02280134498141706,
          1.0080000162124634
         ],
         "yaxis": "y"
        },
        {
         "hovertemplate": "variable=15<br>index=%{x}<br>value=%{y}<extra></extra>",
         "legendgroup": "15",
         "line": {
          "color": "#19d3f3",
          "dash": "solid"
         },
         "mode": "lines",
         "name": "15",
         "orientation": "v",
         "showlegend": true,
         "type": "scatter",
         "x": [
          "x_counter_RSF",
          "x_counter_kNN",
          "x_test"
         ],
         "xaxis": "x",
         "y": [
          0.6740000247955322,
          0.02175834123772802,
          0.6740000247955322
         ],
         "yaxis": "y"
        },
        {
         "hovertemplate": "variable=16<br>index=%{x}<br>value=%{y}<extra></extra>",
         "legendgroup": "16",
         "line": {
          "color": "#FF6692",
          "dash": "solid"
         },
         "mode": "lines",
         "name": "16",
         "orientation": "v",
         "showlegend": true,
         "type": "scatter",
         "x": [
          "x_counter_RSF",
          "x_counter_kNN",
          "x_test"
         ],
         "xaxis": "x",
         "y": [
          0.33500000834465027,
          0.025651566218584776,
          0.33500000834465027
         ],
         "yaxis": "y"
        },
        {
         "hovertemplate": "variable=17<br>index=%{x}<br>value=%{y}<extra></extra>",
         "legendgroup": "17",
         "line": {
          "color": "#B6E880",
          "dash": "solid"
         },
         "mode": "lines",
         "name": "17",
         "orientation": "v",
         "showlegend": true,
         "type": "scatter",
         "x": [
          "x_counter_RSF",
          "x_counter_kNN",
          "x_test"
         ],
         "xaxis": "x",
         "y": [
          0.1469999998807907,
          0.02460449351929128,
          0.1469999998807907
         ],
         "yaxis": "y"
        },
        {
         "hovertemplate": "variable=18<br>index=%{x}<br>value=%{y}<extra></extra>",
         "legendgroup": "18",
         "line": {
          "color": "#FF97FF",
          "dash": "solid"
         },
         "mode": "lines",
         "name": "18",
         "orientation": "v",
         "showlegend": true,
         "type": "scatter",
         "x": [
          "x_counter_RSF",
          "x_counter_kNN",
          "x_test"
         ],
         "xaxis": "x",
         "y": [
          0.06199999898672104,
          0.01976003753952682,
          0.06199999898672104
         ],
         "yaxis": "y"
        },
        {
         "hovertemplate": "variable=19<br>index=%{x}<br>value=%{y}<extra></extra>",
         "legendgroup": "19",
         "line": {
          "color": "#FECB52",
          "dash": "solid"
         },
         "mode": "lines",
         "name": "19",
         "orientation": "v",
         "showlegend": true,
         "type": "scatter",
         "x": [
          "x_counter_RSF",
          "x_counter_kNN",
          "x_test"
         ],
         "xaxis": "x",
         "y": [
          0.07367971539497375,
          0.037737452890723944,
          0.07367971539497375
         ],
         "yaxis": "y"
        },
        {
         "hovertemplate": "variable=20<br>index=%{x}<br>value=%{y}<extra></extra>",
         "legendgroup": "20",
         "line": {
          "color": "#636efa",
          "dash": "solid"
         },
         "mode": "lines",
         "name": "20",
         "orientation": "v",
         "showlegend": true,
         "type": "scatter",
         "x": [
          "x_counter_RSF",
          "x_counter_kNN",
          "x_test"
         ],
         "xaxis": "x",
         "y": [
          0.03485501930117607,
          0.033876274013891816,
          0.03485501930117607
         ],
         "yaxis": "y"
        },
        {
         "hovertemplate": "variable=21<br>index=%{x}<br>value=%{y}<extra></extra>",
         "legendgroup": "21",
         "line": {
          "color": "#EF553B",
          "dash": "solid"
         },
         "mode": "lines",
         "name": "21",
         "orientation": "v",
         "showlegend": true,
         "type": "scatter",
         "x": [
          "x_counter_RSF",
          "x_counter_kNN",
          "x_test"
         ],
         "xaxis": "x",
         "y": [
          0.04193883016705513,
          0.04171457281336188,
          0.04193883016705513
         ],
         "yaxis": "y"
        },
        {
         "hovertemplate": "variable=22<br>index=%{x}<br>value=%{y}<extra></extra>",
         "legendgroup": "22",
         "line": {
          "color": "#00cc96",
          "dash": "solid"
         },
         "mode": "lines",
         "name": "22",
         "orientation": "v",
         "showlegend": true,
         "type": "scatter",
         "x": [
          "x_counter_RSF",
          "x_counter_kNN",
          "x_test"
         ],
         "xaxis": "x",
         "y": [
          0.0015920051373541355,
          0.030709385871887207,
          0.0015920051373541355
         ],
         "yaxis": "y"
        },
        {
         "hovertemplate": "variable=23<br>index=%{x}<br>value=%{y}<extra></extra>",
         "legendgroup": "23",
         "line": {
          "color": "#ab63fa",
          "dash": "solid"
         },
         "mode": "lines",
         "name": "23",
         "orientation": "v",
         "showlegend": true,
         "type": "scatter",
         "x": [
          "x_counter_RSF",
          "x_counter_kNN",
          "x_test"
         ],
         "xaxis": "x",
         "y": [
          0.023987889289855957,
          0.03314285073429346,
          0.023987889289855957
         ],
         "yaxis": "y"
        },
        {
         "hovertemplate": "variable=24<br>index=%{x}<br>value=%{y}<extra></extra>",
         "legendgroup": "24",
         "line": {
          "color": "#FFA15A",
          "dash": "solid"
         },
         "mode": "lines",
         "name": "24",
         "orientation": "v",
         "showlegend": true,
         "type": "scatter",
         "x": [
          "x_counter_RSF",
          "x_counter_kNN",
          "x_test"
         ],
         "xaxis": "x",
         "y": [
          0.006554984953254461,
          0.023565575771499425,
          0.006554984953254461
         ],
         "yaxis": "y"
        },
        {
         "hovertemplate": "variable=25<br>index=%{x}<br>value=%{y}<extra></extra>",
         "legendgroup": "25",
         "line": {
          "color": "#19d3f3",
          "dash": "solid"
         },
         "mode": "lines",
         "name": "25",
         "orientation": "v",
         "showlegend": true,
         "type": "scatter",
         "x": [
          "x_counter_RSF",
          "x_counter_kNN",
          "x_test"
         ],
         "xaxis": "x",
         "y": [
          -0.0024014918599277735,
          0.03753576101735234,
          -0.0024014918599277735
         ],
         "yaxis": "y"
        },
        {
         "hovertemplate": "variable=26<br>index=%{x}<br>value=%{y}<extra></extra>",
         "legendgroup": "26",
         "line": {
          "color": "#FF6692",
          "dash": "solid"
         },
         "mode": "lines",
         "name": "26",
         "orientation": "v",
         "showlegend": true,
         "type": "scatter",
         "x": [
          "x_counter_RSF",
          "x_counter_kNN",
          "x_test"
         ],
         "xaxis": "x",
         "y": [
          0.02684539370238781,
          0.02516713971272111,
          0.02684539370238781
         ],
         "yaxis": "y"
        },
        {
         "hovertemplate": "variable=27<br>index=%{x}<br>value=%{y}<extra></extra>",
         "legendgroup": "27",
         "line": {
          "color": "#B6E880",
          "dash": "solid"
         },
         "mode": "lines",
         "name": "27",
         "orientation": "v",
         "showlegend": true,
         "type": "scatter",
         "x": [
          "x_counter_RSF",
          "x_counter_kNN",
          "x_test"
         ],
         "xaxis": "x",
         "y": [
          0.004737056791782379,
          0.027583966962993145,
          0.004737056791782379
         ],
         "yaxis": "y"
        },
        {
         "hovertemplate": "variable=28<br>index=%{x}<br>value=%{y}<extra></extra>",
         "legendgroup": "28",
         "line": {
          "color": "#FF97FF",
          "dash": "solid"
         },
         "mode": "lines",
         "name": "28",
         "orientation": "v",
         "showlegend": true,
         "type": "scatter",
         "x": [
          "x_counter_RSF",
          "x_counter_kNN",
          "x_test"
         ],
         "xaxis": "x",
         "y": [
          0.0056610507890582085,
          0.03194532170891762,
          0.0056610507890582085
         ],
         "yaxis": "y"
        },
        {
         "hovertemplate": "variable=29<br>index=%{x}<br>value=%{y}<extra></extra>",
         "legendgroup": "29",
         "line": {
          "color": "#FECB52",
          "dash": "solid"
         },
         "mode": "lines",
         "name": "29",
         "orientation": "v",
         "showlegend": true,
         "type": "scatter",
         "x": [
          "x_counter_RSF",
          "x_counter_kNN",
          "x_test"
         ],
         "xaxis": "x",
         "y": [
          -0.00711578456684947,
          0.04252621531486511,
          -0.00711578456684947
         ],
         "yaxis": "y"
        },
        {
         "hovertemplate": "variable=30<br>index=%{x}<br>value=%{y}<extra></extra>",
         "legendgroup": "30",
         "line": {
          "color": "#636efa",
          "dash": "solid"
         },
         "mode": "lines",
         "name": "30",
         "orientation": "v",
         "showlegend": true,
         "type": "scatter",
         "x": [
          "x_counter_RSF",
          "x_counter_kNN",
          "x_test"
         ],
         "xaxis": "x",
         "y": [
          0.009231503121554852,
          0.03154167300090194,
          0.009231503121554852
         ],
         "yaxis": "y"
        },
        {
         "hovertemplate": "variable=31<br>index=%{x}<br>value=%{y}<extra></extra>",
         "legendgroup": "31",
         "line": {
          "color": "#EF553B",
          "dash": "solid"
         },
         "mode": "lines",
         "name": "31",
         "orientation": "v",
         "showlegend": true,
         "type": "scatter",
         "x": [
          "x_counter_RSF",
          "x_counter_kNN",
          "x_test"
         ],
         "xaxis": "x",
         "y": [
          -0.0020162167493253946,
          0.03121537622064352,
          -0.0020162167493253946
         ],
         "yaxis": "y"
        },
        {
         "hovertemplate": "variable=32<br>index=%{x}<br>value=%{y}<extra></extra>",
         "legendgroup": "32",
         "line": {
          "color": "#00cc96",
          "dash": "solid"
         },
         "mode": "lines",
         "name": "32",
         "orientation": "v",
         "showlegend": true,
         "type": "scatter",
         "x": [
          "x_counter_RSF",
          "x_counter_kNN",
          "x_test"
         ],
         "xaxis": "x",
         "y": [
          0.010804626159369946,
          0.01956865443571587,
          0.010804626159369946
         ],
         "yaxis": "y"
        },
        {
         "hovertemplate": "variable=33<br>index=%{x}<br>value=%{y}<extra></extra>",
         "legendgroup": "33",
         "line": {
          "color": "#ab63fa",
          "dash": "solid"
         },
         "mode": "lines",
         "name": "33",
         "orientation": "v",
         "showlegend": true,
         "type": "scatter",
         "x": [
          "x_counter_RSF",
          "x_counter_kNN",
          "x_test"
         ],
         "xaxis": "x",
         "y": [
          0.03952237591147423,
          0.030558915343135595,
          0.03952237591147423
         ],
         "yaxis": "y"
        },
        {
         "hovertemplate": "variable=34<br>index=%{x}<br>value=%{y}<extra></extra>",
         "legendgroup": "34",
         "line": {
          "color": "#FFA15A",
          "dash": "solid"
         },
         "mode": "lines",
         "name": "34",
         "orientation": "v",
         "showlegend": true,
         "type": "scatter",
         "x": [
          "x_counter_RSF",
          "x_counter_kNN",
          "x_test"
         ],
         "xaxis": "x",
         "y": [
          0.028528086841106415,
          0.03229506849311292,
          0.028528086841106415
         ],
         "yaxis": "y"
        },
        {
         "hovertemplate": "variable=35<br>index=%{x}<br>value=%{y}<extra></extra>",
         "legendgroup": "35",
         "line": {
          "color": "#19d3f3",
          "dash": "solid"
         },
         "mode": "lines",
         "name": "35",
         "orientation": "v",
         "showlegend": true,
         "type": "scatter",
         "x": [
          "x_counter_RSF",
          "x_counter_kNN",
          "x_test"
         ],
         "xaxis": "x",
         "y": [
          0.023975122720003128,
          0.03603845462203026,
          0.023975122720003128
         ],
         "yaxis": "y"
        },
        {
         "hovertemplate": "variable=36<br>index=%{x}<br>value=%{y}<extra></extra>",
         "legendgroup": "36",
         "line": {
          "color": "#FF6692",
          "dash": "solid"
         },
         "mode": "lines",
         "name": "36",
         "orientation": "v",
         "showlegend": true,
         "type": "scatter",
         "x": [
          "x_counter_RSF",
          "x_counter_kNN",
          "x_test"
         ],
         "xaxis": "x",
         "y": [
          0.006632714997977018,
          0.024613600966404192,
          0.006632714997977018
         ],
         "yaxis": "y"
        },
        {
         "hovertemplate": "variable=37<br>index=%{x}<br>value=%{y}<extra></extra>",
         "legendgroup": "37",
         "line": {
          "color": "#B6E880",
          "dash": "solid"
         },
         "mode": "lines",
         "name": "37",
         "orientation": "v",
         "showlegend": true,
         "type": "scatter",
         "x": [
          "x_counter_RSF",
          "x_counter_kNN",
          "x_test"
         ],
         "xaxis": "x",
         "y": [
          0.04770134016871452,
          0.031503469217568636,
          0.04770134016871452
         ],
         "yaxis": "y"
        },
        {
         "hovertemplate": "variable=38<br>index=%{x}<br>value=%{y}<extra></extra>",
         "legendgroup": "38",
         "line": {
          "color": "#FF97FF",
          "dash": "solid"
         },
         "mode": "lines",
         "name": "38",
         "orientation": "v",
         "showlegend": true,
         "type": "scatter",
         "x": [
          "x_counter_RSF",
          "x_counter_kNN",
          "x_test"
         ],
         "xaxis": "x",
         "y": [
          -0.11800000071525574,
          0.01809755663271062,
          -0.11800000071525574
         ],
         "yaxis": "y"
        },
        {
         "hovertemplate": "variable=39<br>index=%{x}<br>value=%{y}<extra></extra>",
         "legendgroup": "39",
         "line": {
          "color": "#FECB52",
          "dash": "solid"
         },
         "mode": "lines",
         "name": "39",
         "orientation": "v",
         "showlegend": true,
         "type": "scatter",
         "x": [
          "x_counter_RSF",
          "x_counter_kNN",
          "x_test"
         ],
         "xaxis": "x",
         "y": [
          -0.4399999976158142,
          -0.005689880403224379,
          -0.4399999976158142
         ],
         "yaxis": "y"
        },
        {
         "hovertemplate": "variable=40<br>index=%{x}<br>value=%{y}<extra></extra>",
         "legendgroup": "40",
         "line": {
          "color": "#636efa",
          "dash": "solid"
         },
         "mode": "lines",
         "name": "40",
         "orientation": "v",
         "showlegend": true,
         "type": "scatter",
         "x": [
          "x_counter_RSF",
          "x_counter_kNN",
          "x_test"
         ],
         "xaxis": "x",
         "y": [
          -0.7620000243186951,
          -0.16083057038486004,
          -0.7620000243186951
         ],
         "yaxis": "y"
        },
        {
         "hovertemplate": "variable=41<br>index=%{x}<br>value=%{y}<extra></extra>",
         "legendgroup": "41",
         "line": {
          "color": "#EF553B",
          "dash": "solid"
         },
         "mode": "lines",
         "name": "41",
         "orientation": "v",
         "showlegend": true,
         "type": "scatter",
         "x": [
          "x_counter_RSF",
          "x_counter_kNN",
          "x_test"
         ],
         "xaxis": "x",
         "y": [
          -0.9430000185966492,
          -0.4462499879300594,
          -0.9430000185966492
         ],
         "yaxis": "y"
        },
        {
         "hovertemplate": "variable=42<br>index=%{x}<br>value=%{y}<extra></extra>",
         "legendgroup": "42",
         "line": {
          "color": "#00cc96",
          "dash": "solid"
         },
         "mode": "lines",
         "name": "42",
         "orientation": "v",
         "showlegend": true,
         "type": "scatter",
         "x": [
          "x_counter_RSF",
          "x_counter_kNN",
          "x_test"
         ],
         "xaxis": "x",
         "y": [
          -1.0290000438690186,
          -0.742749996483326,
          -1.0290000438690186
         ],
         "yaxis": "y"
        },
        {
         "hovertemplate": "variable=43<br>index=%{x}<br>value=%{y}<extra></extra>",
         "legendgroup": "43",
         "line": {
          "color": "#ab63fa",
          "dash": "solid"
         },
         "mode": "lines",
         "name": "43",
         "orientation": "v",
         "showlegend": true,
         "type": "scatter",
         "x": [
          "x_counter_RSF",
          "x_counter_kNN",
          "x_test"
         ],
         "xaxis": "x",
         "y": [
          -1.0640000104904175,
          -0.9419999867677689,
          -1.0640000104904175
         ],
         "yaxis": "y"
        },
        {
         "hovertemplate": "variable=44<br>index=%{x}<br>value=%{y}<extra></extra>",
         "legendgroup": "44",
         "line": {
          "color": "#FFA15A",
          "dash": "solid"
         },
         "mode": "lines",
         "name": "44",
         "orientation": "v",
         "showlegend": true,
         "type": "scatter",
         "x": [
          "x_counter_RSF",
          "x_counter_kNN",
          "x_test"
         ],
         "xaxis": "x",
         "y": [
          -1.0770000219345093,
          -1.0415000021457672,
          -1.0770000219345093
         ],
         "yaxis": "y"
        },
        {
         "hovertemplate": "variable=45<br>index=%{x}<br>value=%{y}<extra></extra>",
         "legendgroup": "45",
         "line": {
          "color": "#19d3f3",
          "dash": "solid"
         },
         "mode": "lines",
         "name": "45",
         "orientation": "v",
         "showlegend": true,
         "type": "scatter",
         "x": [
          "x_counter_RSF",
          "x_counter_kNN",
          "x_test"
         ],
         "xaxis": "x",
         "y": [
          -1.0809999704360962,
          -1.0867500007152557,
          -1.0809999704360962
         ],
         "yaxis": "y"
        },
        {
         "hovertemplate": "variable=46<br>index=%{x}<br>value=%{y}<extra></extra>",
         "legendgroup": "46",
         "line": {
          "color": "#FF6692",
          "dash": "solid"
         },
         "mode": "lines",
         "name": "46",
         "orientation": "v",
         "showlegend": true,
         "type": "scatter",
         "x": [
          "x_counter_RSF",
          "x_counter_kNN",
          "x_test"
         ],
         "xaxis": "x",
         "y": [
          -1.0850000381469727,
          -1.1074999868869781,
          -1.0850000381469727
         ],
         "yaxis": "y"
        },
        {
         "hovertemplate": "variable=47<br>index=%{x}<br>value=%{y}<extra></extra>",
         "legendgroup": "47",
         "line": {
          "color": "#B6E880",
          "dash": "solid"
         },
         "mode": "lines",
         "name": "47",
         "orientation": "v",
         "showlegend": true,
         "type": "scatter",
         "x": [
          "x_counter_RSF",
          "x_counter_kNN",
          "x_test"
         ],
         "xaxis": "x",
         "y": [
          -1.0859999656677246,
          -1.1144999861717224,
          -1.0859999656677246
         ],
         "yaxis": "y"
        },
        {
         "hovertemplate": "variable=48<br>index=%{x}<br>value=%{y}<extra></extra>",
         "legendgroup": "48",
         "line": {
          "color": "#FF97FF",
          "dash": "solid"
         },
         "mode": "lines",
         "name": "48",
         "orientation": "v",
         "showlegend": true,
         "type": "scatter",
         "x": [
          "x_counter_RSF",
          "x_counter_kNN",
          "x_test"
         ],
         "xaxis": "x",
         "y": [
          -1.0839999914169312,
          -1.1144999861717224,
          -1.0839999914169312
         ],
         "yaxis": "y"
        },
        {
         "hovertemplate": "variable=49<br>index=%{x}<br>value=%{y}<extra></extra>",
         "legendgroup": "49",
         "line": {
          "color": "#FECB52",
          "dash": "solid"
         },
         "mode": "lines",
         "name": "49",
         "orientation": "v",
         "showlegend": true,
         "type": "scatter",
         "x": [
          "x_counter_RSF",
          "x_counter_kNN",
          "x_test"
         ],
         "xaxis": "x",
         "y": [
          -1.0829999446868896,
          -1.1132499873638153,
          -1.0829999446868896
         ],
         "yaxis": "y"
        },
        {
         "hovertemplate": "variable=50<br>index=%{x}<br>value=%{y}<extra></extra>",
         "legendgroup": "50",
         "line": {
          "color": "#636efa",
          "dash": "solid"
         },
         "mode": "lines",
         "name": "50",
         "orientation": "v",
         "showlegend": true,
         "type": "scatter",
         "x": [
          "x_counter_RSF",
          "x_counter_kNN",
          "x_test"
         ],
         "xaxis": "x",
         "y": [
          -1.0789999961853027,
          -1.1164999902248383,
          -1.0789999961853027
         ],
         "yaxis": "y"
        },
        {
         "hovertemplate": "variable=51<br>index=%{x}<br>value=%{y}<extra></extra>",
         "legendgroup": "51",
         "line": {
          "color": "#EF553B",
          "dash": "solid"
         },
         "mode": "lines",
         "name": "51",
         "orientation": "v",
         "showlegend": true,
         "type": "scatter",
         "x": [
          "x_counter_RSF",
          "x_counter_kNN",
          "x_test"
         ],
         "xaxis": "x",
         "y": [
          -1.0759999752044678,
          -1.120749980211258,
          -1.0759999752044678
         ],
         "yaxis": "y"
        },
        {
         "hovertemplate": "variable=52<br>index=%{x}<br>value=%{y}<extra></extra>",
         "legendgroup": "52",
         "line": {
          "color": "#00cc96",
          "dash": "solid"
         },
         "mode": "lines",
         "name": "52",
         "orientation": "v",
         "showlegend": true,
         "type": "scatter",
         "x": [
          "x_counter_RSF",
          "x_counter_kNN",
          "x_test"
         ],
         "xaxis": "x",
         "y": [
          -1.0789999961853027,
          -1.1219999492168427,
          -1.0789999961853027
         ],
         "yaxis": "y"
        },
        {
         "hovertemplate": "variable=53<br>index=%{x}<br>value=%{y}<extra></extra>",
         "legendgroup": "53",
         "line": {
          "color": "#ab63fa",
          "dash": "solid"
         },
         "mode": "lines",
         "name": "53",
         "orientation": "v",
         "showlegend": true,
         "type": "scatter",
         "x": [
          "x_counter_RSF",
          "x_counter_kNN",
          "x_test"
         ],
         "xaxis": "x",
         "y": [
          -1.0829999446868896,
          -1.12049999833107,
          -1.0829999446868896
         ],
         "yaxis": "y"
        },
        {
         "hovertemplate": "variable=54<br>index=%{x}<br>value=%{y}<extra></extra>",
         "legendgroup": "54",
         "line": {
          "color": "#FFA15A",
          "dash": "solid"
         },
         "mode": "lines",
         "name": "54",
         "orientation": "v",
         "showlegend": true,
         "type": "scatter",
         "x": [
          "x_counter_RSF",
          "x_counter_kNN",
          "x_test"
         ],
         "xaxis": "x",
         "y": [
          -1.0859999656677246,
          -1.1187500357627869,
          -1.0859999656677246
         ],
         "yaxis": "y"
        },
        {
         "hovertemplate": "variable=55<br>index=%{x}<br>value=%{y}<extra></extra>",
         "legendgroup": "55",
         "line": {
          "color": "#19d3f3",
          "dash": "solid"
         },
         "mode": "lines",
         "name": "55",
         "orientation": "v",
         "showlegend": true,
         "type": "scatter",
         "x": [
          "x_counter_RSF",
          "x_counter_kNN",
          "x_test"
         ],
         "xaxis": "x",
         "y": [
          -1.0880000591278076,
          -1.1182499825954437,
          -1.0880000591278076
         ],
         "yaxis": "y"
        },
        {
         "hovertemplate": "variable=56<br>index=%{x}<br>value=%{y}<extra></extra>",
         "legendgroup": "56",
         "line": {
          "color": "#FF6692",
          "dash": "solid"
         },
         "mode": "lines",
         "name": "56",
         "orientation": "v",
         "showlegend": true,
         "type": "scatter",
         "x": [
          "x_counter_RSF",
          "x_counter_kNN",
          "x_test"
         ],
         "xaxis": "x",
         "y": [
          -1.0889999866485596,
          -1.117499977350235,
          -1.0889999866485596
         ],
         "yaxis": "y"
        },
        {
         "hovertemplate": "variable=57<br>index=%{x}<br>value=%{y}<extra></extra>",
         "legendgroup": "57",
         "line": {
          "color": "#B6E880",
          "dash": "solid"
         },
         "mode": "lines",
         "name": "57",
         "orientation": "v",
         "showlegend": true,
         "type": "scatter",
         "x": [
          "x_counter_RSF",
          "x_counter_kNN",
          "x_test"
         ],
         "xaxis": "x",
         "y": [
          -1.0880000591278076,
          -1.1162499785423279,
          -1.0880000591278076
         ],
         "yaxis": "y"
        },
        {
         "hovertemplate": "variable=58<br>index=%{x}<br>value=%{y}<extra></extra>",
         "legendgroup": "58",
         "line": {
          "color": "#FF97FF",
          "dash": "solid"
         },
         "mode": "lines",
         "name": "58",
         "orientation": "v",
         "showlegend": true,
         "type": "scatter",
         "x": [
          "x_counter_RSF",
          "x_counter_kNN",
          "x_test"
         ],
         "xaxis": "x",
         "y": [
          -1.0859999656677246,
          -1.1169999837875366,
          -1.0859999656677246
         ],
         "yaxis": "y"
        },
        {
         "hovertemplate": "variable=59<br>index=%{x}<br>value=%{y}<extra></extra>",
         "legendgroup": "59",
         "line": {
          "color": "#FECB52",
          "dash": "solid"
         },
         "mode": "lines",
         "name": "59",
         "orientation": "v",
         "showlegend": true,
         "type": "scatter",
         "x": [
          "x_counter_RSF",
          "x_counter_kNN",
          "x_test"
         ],
         "xaxis": "x",
         "y": [
          -1.0870000123977661,
          -1.1182500123977661,
          -1.0870000123977661
         ],
         "yaxis": "y"
        },
        {
         "hovertemplate": "variable=60<br>index=%{x}<br>value=%{y}<extra></extra>",
         "legendgroup": "60",
         "line": {
          "color": "#636efa",
          "dash": "solid"
         },
         "mode": "lines",
         "name": "60",
         "orientation": "v",
         "showlegend": true,
         "type": "scatter",
         "x": [
          "x_counter_RSF",
          "x_counter_kNN",
          "x_test"
         ],
         "xaxis": "x",
         "y": [
          -1.0889999866485596,
          -1.118749976158142,
          -1.0889999866485596
         ],
         "yaxis": "y"
        },
        {
         "hovertemplate": "variable=61<br>index=%{x}<br>value=%{y}<extra></extra>",
         "legendgroup": "61",
         "line": {
          "color": "#EF553B",
          "dash": "solid"
         },
         "mode": "lines",
         "name": "61",
         "orientation": "v",
         "showlegend": true,
         "type": "scatter",
         "x": [
          "x_counter_RSF",
          "x_counter_kNN",
          "x_test"
         ],
         "xaxis": "x",
         "y": [
          -1.0880000591278076,
          -1.1189999878406525,
          -1.0880000591278076
         ],
         "yaxis": "y"
        },
        {
         "hovertemplate": "variable=62<br>index=%{x}<br>value=%{y}<extra></extra>",
         "legendgroup": "62",
         "line": {
          "color": "#00cc96",
          "dash": "solid"
         },
         "mode": "lines",
         "name": "62",
         "orientation": "v",
         "showlegend": true,
         "type": "scatter",
         "x": [
          "x_counter_RSF",
          "x_counter_kNN",
          "x_test"
         ],
         "xaxis": "x",
         "y": [
          -1.0850000381469727,
          -1.1197499930858612,
          -1.0850000381469727
         ],
         "yaxis": "y"
        },
        {
         "hovertemplate": "variable=63<br>index=%{x}<br>value=%{y}<extra></extra>",
         "legendgroup": "63",
         "line": {
          "color": "#ab63fa",
          "dash": "solid"
         },
         "mode": "lines",
         "name": "63",
         "orientation": "v",
         "showlegend": true,
         "type": "scatter",
         "x": [
          "x_counter_RSF",
          "x_counter_kNN",
          "x_test"
         ],
         "xaxis": "x",
         "y": [
          -1.0820000171661377,
          -1.1197499930858612,
          -1.0820000171661377
         ],
         "yaxis": "y"
        },
        {
         "hovertemplate": "variable=64<br>index=%{x}<br>value=%{y}<extra></extra>",
         "legendgroup": "64",
         "line": {
          "color": "#FFA15A",
          "dash": "solid"
         },
         "mode": "lines",
         "name": "64",
         "orientation": "v",
         "showlegend": true,
         "type": "scatter",
         "x": [
          "x_counter_RSF",
          "x_counter_kNN",
          "x_test"
         ],
         "xaxis": "x",
         "y": [
          -1.0770000219345093,
          -1.1164999902248383,
          -1.0770000219345093
         ],
         "yaxis": "y"
        },
        {
         "hovertemplate": "variable=65<br>index=%{x}<br>value=%{y}<extra></extra>",
         "legendgroup": "65",
         "line": {
          "color": "#19d3f3",
          "dash": "solid"
         },
         "mode": "lines",
         "name": "65",
         "orientation": "v",
         "showlegend": true,
         "type": "scatter",
         "x": [
          "x_counter_RSF",
          "x_counter_kNN",
          "x_test"
         ],
         "xaxis": "x",
         "y": [
          -1.0750000476837158,
          -1.1145000159740448,
          -1.0750000476837158
         ],
         "yaxis": "y"
        },
        {
         "hovertemplate": "variable=66<br>index=%{x}<br>value=%{y}<extra></extra>",
         "legendgroup": "66",
         "line": {
          "color": "#FF6692",
          "dash": "solid"
         },
         "mode": "lines",
         "name": "66",
         "orientation": "v",
         "showlegend": true,
         "type": "scatter",
         "x": [
          "x_counter_RSF",
          "x_counter_kNN",
          "x_test"
         ],
         "xaxis": "x",
         "y": [
          -1.0770000219345093,
          -1.113999992609024,
          -1.0770000219345093
         ],
         "yaxis": "y"
        },
        {
         "hovertemplate": "variable=67<br>index=%{x}<br>value=%{y}<extra></extra>",
         "legendgroup": "67",
         "line": {
          "color": "#B6E880",
          "dash": "solid"
         },
         "mode": "lines",
         "name": "67",
         "orientation": "v",
         "showlegend": true,
         "type": "scatter",
         "x": [
          "x_counter_RSF",
          "x_counter_kNN",
          "x_test"
         ],
         "xaxis": "x",
         "y": [
          -1.0820000171661377,
          -1.1147499978542328,
          -1.0820000171661377
         ],
         "yaxis": "y"
        },
        {
         "hovertemplate": "variable=68<br>index=%{x}<br>value=%{y}<extra></extra>",
         "legendgroup": "68",
         "line": {
          "color": "#FF97FF",
          "dash": "solid"
         },
         "mode": "lines",
         "name": "68",
         "orientation": "v",
         "showlegend": true,
         "type": "scatter",
         "x": [
          "x_counter_RSF",
          "x_counter_kNN",
          "x_test"
         ],
         "xaxis": "x",
         "y": [
          -1.0870000123977661,
          -1.1159999668598175,
          -1.0870000123977661
         ],
         "yaxis": "y"
        },
        {
         "hovertemplate": "variable=69<br>index=%{x}<br>value=%{y}<extra></extra>",
         "legendgroup": "69",
         "line": {
          "color": "#FECB52",
          "dash": "solid"
         },
         "mode": "lines",
         "name": "69",
         "orientation": "v",
         "showlegend": true,
         "type": "scatter",
         "x": [
          "x_counter_RSF",
          "x_counter_kNN",
          "x_test"
         ],
         "xaxis": "x",
         "y": [
          -1.090000033378601,
          -1.117499977350235,
          -1.090000033378601
         ],
         "yaxis": "y"
        },
        {
         "hovertemplate": "variable=70<br>index=%{x}<br>value=%{y}<extra></extra>",
         "legendgroup": "70",
         "line": {
          "color": "#636efa",
          "dash": "solid"
         },
         "mode": "lines",
         "name": "70",
         "orientation": "v",
         "showlegend": true,
         "type": "scatter",
         "x": [
          "x_counter_RSF",
          "x_counter_kNN",
          "x_test"
         ],
         "xaxis": "x",
         "y": [
          -1.0889999866485596,
          -1.1180000007152557,
          -1.0889999866485596
         ],
         "yaxis": "y"
        },
        {
         "hovertemplate": "variable=71<br>index=%{x}<br>value=%{y}<extra></extra>",
         "legendgroup": "71",
         "line": {
          "color": "#EF553B",
          "dash": "solid"
         },
         "mode": "lines",
         "name": "71",
         "orientation": "v",
         "showlegend": true,
         "type": "scatter",
         "x": [
          "x_counter_RSF",
          "x_counter_kNN",
          "x_test"
         ],
         "xaxis": "x",
         "y": [
          -1.0880000591278076,
          -1.118749976158142,
          -1.0880000591278076
         ],
         "yaxis": "y"
        },
        {
         "hovertemplate": "variable=72<br>index=%{x}<br>value=%{y}<extra></extra>",
         "legendgroup": "72",
         "line": {
          "color": "#00cc96",
          "dash": "solid"
         },
         "mode": "lines",
         "name": "72",
         "orientation": "v",
         "showlegend": true,
         "type": "scatter",
         "x": [
          "x_counter_RSF",
          "x_counter_kNN",
          "x_test"
         ],
         "xaxis": "x",
         "y": [
          -1.0859999656677246,
          -1.1199999749660492,
          -1.0859999656677246
         ],
         "yaxis": "y"
        },
        {
         "hovertemplate": "variable=73<br>index=%{x}<br>value=%{y}<extra></extra>",
         "legendgroup": "73",
         "line": {
          "color": "#ab63fa",
          "dash": "solid"
         },
         "mode": "lines",
         "name": "73",
         "orientation": "v",
         "showlegend": true,
         "type": "scatter",
         "x": [
          "x_counter_RSF",
          "x_counter_kNN",
          "x_test"
         ],
         "xaxis": "x",
         "y": [
          -1.0820000171661377,
          -1.1194999814033508,
          -1.0820000171661377
         ],
         "yaxis": "y"
        },
        {
         "hovertemplate": "variable=74<br>index=%{x}<br>value=%{y}<extra></extra>",
         "legendgroup": "74",
         "line": {
          "color": "#FFA15A",
          "dash": "solid"
         },
         "mode": "lines",
         "name": "74",
         "orientation": "v",
         "showlegend": true,
         "type": "scatter",
         "x": [
          "x_counter_RSF",
          "x_counter_kNN",
          "x_test"
         ],
         "xaxis": "x",
         "y": [
          -1.0779999494552612,
          -1.1177499890327454,
          -1.0779999494552612
         ],
         "yaxis": "y"
        },
        {
         "hovertemplate": "variable=75<br>index=%{x}<br>value=%{y}<extra></extra>",
         "legendgroup": "75",
         "line": {
          "color": "#19d3f3",
          "dash": "solid"
         },
         "mode": "lines",
         "name": "75",
         "orientation": "v",
         "showlegend": true,
         "type": "scatter",
         "x": [
          "x_counter_RSF",
          "x_counter_kNN",
          "x_test"
         ],
         "xaxis": "x",
         "y": [
          -1.0779999494552612,
          -1.1175000071525574,
          -1.0779999494552612
         ],
         "yaxis": "y"
        },
        {
         "hovertemplate": "variable=76<br>index=%{x}<br>value=%{y}<extra></extra>",
         "legendgroup": "76",
         "line": {
          "color": "#FF6692",
          "dash": "solid"
         },
         "mode": "lines",
         "name": "76",
         "orientation": "v",
         "showlegend": true,
         "type": "scatter",
         "x": [
          "x_counter_RSF",
          "x_counter_kNN",
          "x_test"
         ],
         "xaxis": "x",
         "y": [
          -1.0779999494552612,
          -1.118499994277954,
          -1.0779999494552612
         ],
         "yaxis": "y"
        },
        {
         "hovertemplate": "variable=77<br>index=%{x}<br>value=%{y}<extra></extra>",
         "legendgroup": "77",
         "line": {
          "color": "#B6E880",
          "dash": "solid"
         },
         "mode": "lines",
         "name": "77",
         "orientation": "v",
         "showlegend": true,
         "type": "scatter",
         "x": [
          "x_counter_RSF",
          "x_counter_kNN",
          "x_test"
         ],
         "xaxis": "x",
         "y": [
          -1.0750000476837158,
          -1.1200000047683716,
          -1.0750000476837158
         ],
         "yaxis": "y"
        },
        {
         "hovertemplate": "variable=78<br>index=%{x}<br>value=%{y}<extra></extra>",
         "legendgroup": "78",
         "line": {
          "color": "#FF97FF",
          "dash": "solid"
         },
         "mode": "lines",
         "name": "78",
         "orientation": "v",
         "showlegend": true,
         "type": "scatter",
         "x": [
          "x_counter_RSF",
          "x_counter_kNN",
          "x_test"
         ],
         "xaxis": "x",
         "y": [
          -1.0740000009536743,
          -1.1207500100135803,
          -1.0740000009536743
         ],
         "yaxis": "y"
        },
        {
         "hovertemplate": "variable=79<br>index=%{x}<br>value=%{y}<extra></extra>",
         "legendgroup": "79",
         "line": {
          "color": "#FECB52",
          "dash": "solid"
         },
         "mode": "lines",
         "name": "79",
         "orientation": "v",
         "showlegend": true,
         "type": "scatter",
         "x": [
          "x_counter_RSF",
          "x_counter_kNN",
          "x_test"
         ],
         "xaxis": "x",
         "y": [
          -1.0770000219345093,
          -1.1192499697208405,
          -1.0770000219345093
         ],
         "yaxis": "y"
        },
        {
         "hovertemplate": "variable=80<br>index=%{x}<br>value=%{y}<extra></extra>",
         "legendgroup": "80",
         "line": {
          "color": "#636efa",
          "dash": "solid"
         },
         "mode": "lines",
         "name": "80",
         "orientation": "v",
         "showlegend": true,
         "type": "scatter",
         "x": [
          "x_counter_RSF",
          "x_counter_kNN",
          "x_test"
         ],
         "xaxis": "x",
         "y": [
          -1.0820000171661377,
          -1.1159999668598175,
          -1.0820000171661377
         ],
         "yaxis": "y"
        },
        {
         "hovertemplate": "variable=81<br>index=%{x}<br>value=%{y}<extra></extra>",
         "legendgroup": "81",
         "line": {
          "color": "#EF553B",
          "dash": "solid"
         },
         "mode": "lines",
         "name": "81",
         "orientation": "v",
         "showlegend": true,
         "type": "scatter",
         "x": [
          "x_counter_RSF",
          "x_counter_kNN",
          "x_test"
         ],
         "xaxis": "x",
         "y": [
          -1.0859999656677246,
          -1.1155000030994415,
          -1.0859999656677246
         ],
         "yaxis": "y"
        },
        {
         "hovertemplate": "variable=82<br>index=%{x}<br>value=%{y}<extra></extra>",
         "legendgroup": "82",
         "line": {
          "color": "#00cc96",
          "dash": "solid"
         },
         "mode": "lines",
         "name": "82",
         "orientation": "v",
         "showlegend": true,
         "type": "scatter",
         "x": [
          "x_counter_RSF",
          "x_counter_kNN",
          "x_test"
         ],
         "xaxis": "x",
         "y": [
          -1.0889999866485596,
          -1.1164999902248383,
          -1.0889999866485596
         ],
         "yaxis": "y"
        },
        {
         "hovertemplate": "variable=83<br>index=%{x}<br>value=%{y}<extra></extra>",
         "legendgroup": "83",
         "line": {
          "color": "#ab63fa",
          "dash": "solid"
         },
         "mode": "lines",
         "name": "83",
         "orientation": "v",
         "showlegend": true,
         "type": "scatter",
         "x": [
          "x_counter_RSF",
          "x_counter_kNN",
          "x_test"
         ],
         "xaxis": "x",
         "y": [
          -1.0889999866485596,
          -1.1177500188350677,
          -1.0889999866485596
         ],
         "yaxis": "y"
        },
        {
         "hovertemplate": "variable=84<br>index=%{x}<br>value=%{y}<extra></extra>",
         "legendgroup": "84",
         "line": {
          "color": "#FFA15A",
          "dash": "solid"
         },
         "mode": "lines",
         "name": "84",
         "orientation": "v",
         "showlegend": true,
         "type": "scatter",
         "x": [
          "x_counter_RSF",
          "x_counter_kNN",
          "x_test"
         ],
         "xaxis": "x",
         "y": [
          -1.0880000591278076,
          -1.1180000007152557,
          -1.0880000591278076
         ],
         "yaxis": "y"
        },
        {
         "hovertemplate": "variable=85<br>index=%{x}<br>value=%{y}<extra></extra>",
         "legendgroup": "85",
         "line": {
          "color": "#19d3f3",
          "dash": "solid"
         },
         "mode": "lines",
         "name": "85",
         "orientation": "v",
         "showlegend": true,
         "type": "scatter",
         "x": [
          "x_counter_RSF",
          "x_counter_kNN",
          "x_test"
         ],
         "xaxis": "x",
         "y": [
          -1.0820000171661377,
          -1.117000013589859,
          -1.0820000171661377
         ],
         "yaxis": "y"
        },
        {
         "hovertemplate": "variable=86<br>index=%{x}<br>value=%{y}<extra></extra>",
         "legendgroup": "86",
         "line": {
          "color": "#FF6692",
          "dash": "solid"
         },
         "mode": "lines",
         "name": "86",
         "orientation": "v",
         "showlegend": true,
         "type": "scatter",
         "x": [
          "x_counter_RSF",
          "x_counter_kNN",
          "x_test"
         ],
         "xaxis": "x",
         "y": [
          -1.0789999961853027,
          -1.1149999797344208,
          -1.0789999961853027
         ],
         "yaxis": "y"
        },
        {
         "hovertemplate": "variable=87<br>index=%{x}<br>value=%{y}<extra></extra>",
         "legendgroup": "87",
         "line": {
          "color": "#B6E880",
          "dash": "solid"
         },
         "mode": "lines",
         "name": "87",
         "orientation": "v",
         "showlegend": true,
         "type": "scatter",
         "x": [
          "x_counter_RSF",
          "x_counter_kNN",
          "x_test"
         ],
         "xaxis": "x",
         "y": [
          -1.0809999704360962,
          -1.113500028848648,
          -1.0809999704360962
         ],
         "yaxis": "y"
        },
        {
         "hovertemplate": "variable=88<br>index=%{x}<br>value=%{y}<extra></extra>",
         "legendgroup": "88",
         "line": {
          "color": "#FF97FF",
          "dash": "solid"
         },
         "mode": "lines",
         "name": "88",
         "orientation": "v",
         "showlegend": true,
         "type": "scatter",
         "x": [
          "x_counter_RSF",
          "x_counter_kNN",
          "x_test"
         ],
         "xaxis": "x",
         "y": [
          -1.0809999704360962,
          -1.114249974489212,
          -1.0809999704360962
         ],
         "yaxis": "y"
        },
        {
         "hovertemplate": "variable=89<br>index=%{x}<br>value=%{y}<extra></extra>",
         "legendgroup": "89",
         "line": {
          "color": "#FECB52",
          "dash": "solid"
         },
         "mode": "lines",
         "name": "89",
         "orientation": "v",
         "showlegend": true,
         "type": "scatter",
         "x": [
          "x_counter_RSF",
          "x_counter_kNN",
          "x_test"
         ],
         "xaxis": "x",
         "y": [
          -1.0809999704360962,
          -1.1167500019073486,
          -1.0809999704360962
         ],
         "yaxis": "y"
        },
        {
         "hovertemplate": "variable=90<br>index=%{x}<br>value=%{y}<extra></extra>",
         "legendgroup": "90",
         "line": {
          "color": "#636efa",
          "dash": "solid"
         },
         "mode": "lines",
         "name": "90",
         "orientation": "v",
         "showlegend": true,
         "type": "scatter",
         "x": [
          "x_counter_RSF",
          "x_counter_kNN",
          "x_test"
         ],
         "xaxis": "x",
         "y": [
          -1.0820000171661377,
          -1.1182499825954437,
          -1.0820000171661377
         ],
         "yaxis": "y"
        },
        {
         "hovertemplate": "variable=91<br>index=%{x}<br>value=%{y}<extra></extra>",
         "legendgroup": "91",
         "line": {
          "color": "#EF553B",
          "dash": "solid"
         },
         "mode": "lines",
         "name": "91",
         "orientation": "v",
         "showlegend": true,
         "type": "scatter",
         "x": [
          "x_counter_RSF",
          "x_counter_kNN",
          "x_test"
         ],
         "xaxis": "x",
         "y": [
          -1.0839999914169312,
          -1.117000013589859,
          -1.0839999914169312
         ],
         "yaxis": "y"
        },
        {
         "hovertemplate": "variable=92<br>index=%{x}<br>value=%{y}<extra></extra>",
         "legendgroup": "92",
         "line": {
          "color": "#00cc96",
          "dash": "solid"
         },
         "mode": "lines",
         "name": "92",
         "orientation": "v",
         "showlegend": true,
         "type": "scatter",
         "x": [
          "x_counter_RSF",
          "x_counter_kNN",
          "x_test"
         ],
         "xaxis": "x",
         "y": [
          -1.0880000591278076,
          -1.113999992609024,
          -1.0880000591278076
         ],
         "yaxis": "y"
        },
        {
         "hovertemplate": "variable=93<br>index=%{x}<br>value=%{y}<extra></extra>",
         "legendgroup": "93",
         "line": {
          "color": "#ab63fa",
          "dash": "solid"
         },
         "mode": "lines",
         "name": "93",
         "orientation": "v",
         "showlegend": true,
         "type": "scatter",
         "x": [
          "x_counter_RSF",
          "x_counter_kNN",
          "x_test"
         ],
         "xaxis": "x",
         "y": [
          -1.0889999866485596,
          -1.112999975681305,
          -1.0889999866485596
         ],
         "yaxis": "y"
        },
        {
         "hovertemplate": "variable=94<br>index=%{x}<br>value=%{y}<extra></extra>",
         "legendgroup": "94",
         "line": {
          "color": "#FFA15A",
          "dash": "solid"
         },
         "mode": "lines",
         "name": "94",
         "orientation": "v",
         "showlegend": true,
         "type": "scatter",
         "x": [
          "x_counter_RSF",
          "x_counter_kNN",
          "x_test"
         ],
         "xaxis": "x",
         "y": [
          -0.9679999947547913,
          -1.113999992609024,
          -0.9679999947547913
         ],
         "yaxis": "y"
        },
        {
         "hovertemplate": "variable=95<br>index=%{x}<br>value=%{y}<extra></extra>",
         "legendgroup": "95",
         "line": {
          "color": "#19d3f3",
          "dash": "solid"
         },
         "mode": "lines",
         "name": "95",
         "orientation": "v",
         "showlegend": true,
         "type": "scatter",
         "x": [
          "x_counter_RSF",
          "x_counter_kNN",
          "x_test"
         ],
         "xaxis": "x",
         "y": [
          -0.6449999809265137,
          -0.9917500168085097,
          -0.6449999809265137
         ],
         "yaxis": "y"
        },
        {
         "hovertemplate": "variable=96<br>index=%{x}<br>value=%{y}<extra></extra>",
         "legendgroup": "96",
         "line": {
          "color": "#FF6692",
          "dash": "solid"
         },
         "mode": "lines",
         "name": "96",
         "orientation": "v",
         "showlegend": true,
         "type": "scatter",
         "x": [
          "x_counter_RSF",
          "x_counter_kNN",
          "x_test"
         ],
         "xaxis": "x",
         "y": [
          -0.22320690541173965,
          -0.6620000004768372,
          -0.32199999690055847
         ],
         "yaxis": "y"
        },
        {
         "hovertemplate": "variable=97<br>index=%{x}<br>value=%{y}<extra></extra>",
         "legendgroup": "97",
         "line": {
          "color": "#B6E880",
          "dash": "solid"
         },
         "mode": "lines",
         "name": "97",
         "orientation": "v",
         "showlegend": true,
         "type": "scatter",
         "x": [
          "x_counter_RSF",
          "x_counter_kNN",
          "x_test"
         ],
         "xaxis": "x",
         "y": [
          -0.0996569130470097,
          -0.3320000022649765,
          -0.14399999380111694
         ],
         "yaxis": "y"
        },
        {
         "hovertemplate": "variable=98<br>index=%{x}<br>value=%{y}<extra></extra>",
         "legendgroup": "98",
         "line": {
          "color": "#FF97FF",
          "dash": "solid"
         },
         "mode": "lines",
         "name": "98",
         "orientation": "v",
         "showlegend": true,
         "type": "scatter",
         "x": [
          "x_counter_RSF",
          "x_counter_kNN",
          "x_test"
         ],
         "xaxis": "x",
         "y": [
          -0.043936996410682695,
          -0.1484999991953373,
          -0.06199999898672104
         ],
         "yaxis": "y"
        },
        {
         "hovertemplate": "variable=99<br>index=%{x}<br>value=%{y}<extra></extra>",
         "legendgroup": "99",
         "line": {
          "color": "#FECB52",
          "dash": "solid"
         },
         "mode": "lines",
         "name": "99",
         "orientation": "v",
         "showlegend": true,
         "type": "scatter",
         "x": [
          "x_counter_RSF",
          "x_counter_kNN",
          "x_test"
         ],
         "xaxis": "x",
         "y": [
          0.003255455950079063,
          -0.060500000603497035,
          0.001359179732389748
         ],
         "yaxis": "y"
        },
        {
         "hovertemplate": "variable=100<br>index=%{x}<br>value=%{y}<extra></extra>",
         "legendgroup": "100",
         "line": {
          "color": "#636efa",
          "dash": "solid"
         },
         "mode": "lines",
         "name": "100",
         "orientation": "v",
         "showlegend": true,
         "type": "scatter",
         "x": [
          "x_counter_RSF",
          "x_counter_kNN",
          "x_test"
         ],
         "xaxis": "x",
         "y": [
          0.00048788654744171683,
          0.004713879199698567,
          -0.01170371938496828
         ],
         "yaxis": "y"
        },
        {
         "hovertemplate": "variable=101<br>index=%{x}<br>value=%{y}<extra></extra>",
         "legendgroup": "101",
         "line": {
          "color": "#EF553B",
          "dash": "solid"
         },
         "mode": "lines",
         "name": "101",
         "orientation": "v",
         "showlegend": true,
         "type": "scatter",
         "x": [
          "x_counter_RSF",
          "x_counter_kNN",
          "x_test"
         ],
         "xaxis": "x",
         "y": [
          0.01713473901144863,
          0.02056099520996213,
          0.005350734107196331
         ],
         "yaxis": "y"
        },
        {
         "hovertemplate": "variable=102<br>index=%{x}<br>value=%{y}<extra></extra>",
         "legendgroup": "102",
         "line": {
          "color": "#00cc96",
          "dash": "solid"
         },
         "mode": "lines",
         "name": "102",
         "orientation": "v",
         "showlegend": true,
         "type": "scatter",
         "x": [
          "x_counter_RSF",
          "x_counter_kNN",
          "x_test"
         ],
         "xaxis": "x",
         "y": [
          0.018224229747954408,
          0.009440242836717516,
          0.02040299028158188
         ],
         "yaxis": "y"
        },
        {
         "hovertemplate": "variable=103<br>index=%{x}<br>value=%{y}<extra></extra>",
         "legendgroup": "103",
         "line": {
          "color": "#ab63fa",
          "dash": "solid"
         },
         "mode": "lines",
         "name": "103",
         "orientation": "v",
         "showlegend": true,
         "type": "scatter",
         "x": [
          "x_counter_RSF",
          "x_counter_kNN",
          "x_test"
         ],
         "xaxis": "x",
         "y": [
          0.008463456290400285,
          0.016454103286378086,
          -0.0027000668924301863
         ],
         "yaxis": "y"
        },
        {
         "hovertemplate": "variable=104<br>index=%{x}<br>value=%{y}<extra></extra>",
         "legendgroup": "104",
         "line": {
          "color": "#FFA15A",
          "dash": "solid"
         },
         "mode": "lines",
         "name": "104",
         "orientation": "v",
         "showlegend": true,
         "type": "scatter",
         "x": [
          "x_counter_RSF",
          "x_counter_kNN",
          "x_test"
         ],
         "xaxis": "x",
         "y": [
          0.021591313289792725,
          0.022550216148374602,
          0.020622294396162033
         ],
         "yaxis": "y"
        },
        {
         "hovertemplate": "variable=105<br>index=%{x}<br>value=%{y}<extra></extra>",
         "legendgroup": "105",
         "line": {
          "color": "#19d3f3",
          "dash": "solid"
         },
         "mode": "lines",
         "name": "105",
         "orientation": "v",
         "showlegend": true,
         "type": "scatter",
         "x": [
          "x_counter_RSF",
          "x_counter_kNN",
          "x_test"
         ],
         "xaxis": "x",
         "y": [
          0.02895828834750354,
          0.02066979359369725,
          0.03170677646994591
         ],
         "yaxis": "y"
        },
        {
         "hovertemplate": "variable=106<br>index=%{x}<br>value=%{y}<extra></extra>",
         "legendgroup": "106",
         "line": {
          "color": "#FF6692",
          "dash": "solid"
         },
         "mode": "lines",
         "name": "106",
         "orientation": "v",
         "showlegend": true,
         "type": "scatter",
         "x": [
          "x_counter_RSF",
          "x_counter_kNN",
          "x_test"
         ],
         "xaxis": "x",
         "y": [
          0.01791980650441355,
          0.022854527574963868,
          0.02262892574071884
         ],
         "yaxis": "y"
        },
        {
         "hovertemplate": "variable=107<br>index=%{x}<br>value=%{y}<extra></extra>",
         "legendgroup": "107",
         "line": {
          "color": "#B6E880",
          "dash": "solid"
         },
         "mode": "lines",
         "name": "107",
         "orientation": "v",
         "showlegend": true,
         "type": "scatter",
         "x": [
          "x_counter_RSF",
          "x_counter_kNN",
          "x_test"
         ],
         "xaxis": "x",
         "y": [
          0.026423093891724227,
          0.03410989907570183,
          0.025454498827457428
         ],
         "yaxis": "y"
        },
        {
         "hovertemplate": "variable=108<br>index=%{x}<br>value=%{y}<extra></extra>",
         "legendgroup": "108",
         "line": {
          "color": "#FF97FF",
          "dash": "solid"
         },
         "mode": "lines",
         "name": "108",
         "orientation": "v",
         "showlegend": true,
         "type": "scatter",
         "x": [
          "x_counter_RSF",
          "x_counter_kNN",
          "x_test"
         ],
         "xaxis": "x",
         "y": [
          0.01490525544774425,
          0.06392193341162056,
          0.005649102386087179
         ],
         "yaxis": "y"
        },
        {
         "hovertemplate": "variable=109<br>index=%{x}<br>value=%{y}<extra></extra>",
         "legendgroup": "109",
         "line": {
          "color": "#FECB52",
          "dash": "solid"
         },
         "mode": "lines",
         "name": "109",
         "orientation": "v",
         "showlegend": true,
         "type": "scatter",
         "x": [
          "x_counter_RSF",
          "x_counter_kNN",
          "x_test"
         ],
         "xaxis": "x",
         "y": [
          0.02831037325511964,
          0.23408744018524885,
          0.0318385548889637
         ],
         "yaxis": "y"
        },
        {
         "hovertemplate": "variable=110<br>index=%{x}<br>value=%{y}<extra></extra>",
         "legendgroup": "110",
         "line": {
          "color": "#636efa",
          "dash": "solid"
         },
         "mode": "lines",
         "name": "110",
         "orientation": "v",
         "showlegend": true,
         "type": "scatter",
         "x": [
          "x_counter_RSF",
          "x_counter_kNN",
          "x_test"
         ],
         "xaxis": "x",
         "y": [
          0.03853094091913094,
          0.39712275145575404,
          0.04221777617931366
         ],
         "yaxis": "y"
        },
        {
         "hovertemplate": "variable=111<br>index=%{x}<br>value=%{y}<extra></extra>",
         "legendgroup": "111",
         "line": {
          "color": "#EF553B",
          "dash": "solid"
         },
         "mode": "lines",
         "name": "111",
         "orientation": "v",
         "showlegend": true,
         "type": "scatter",
         "x": [
          "x_counter_RSF",
          "x_counter_kNN",
          "x_test"
         ],
         "xaxis": "x",
         "y": [
          0.06221358549741489,
          0.5136682586744428,
          0.03266767039895058
         ],
         "yaxis": "y"
        },
        {
         "hovertemplate": "variable=112<br>index=%{x}<br>value=%{y}<extra></extra>",
         "legendgroup": "112",
         "line": {
          "color": "#00cc96",
          "dash": "solid"
         },
         "mode": "lines",
         "name": "112",
         "orientation": "v",
         "showlegend": true,
         "type": "scatter",
         "x": [
          "x_counter_RSF",
          "x_counter_kNN",
          "x_test"
         ],
         "xaxis": "x",
         "y": [
          0.17355072359375234,
          0.6283345608972013,
          0.039331190288066864
         ],
         "yaxis": "y"
        },
        {
         "hovertemplate": "variable=113<br>index=%{x}<br>value=%{y}<extra></extra>",
         "legendgroup": "113",
         "line": {
          "color": "#ab63fa",
          "dash": "solid"
         },
         "mode": "lines",
         "name": "113",
         "orientation": "v",
         "showlegend": true,
         "type": "scatter",
         "x": [
          "x_counter_RSF",
          "x_counter_kNN",
          "x_test"
         ],
         "xaxis": "x",
         "y": [
          0.2835169255365877,
          0.7490000054240227,
          0.04226454347372055
         ],
         "yaxis": "y"
        },
        {
         "hovertemplate": "variable=114<br>index=%{x}<br>value=%{y}<extra></extra>",
         "legendgroup": "114",
         "line": {
          "color": "#FFA15A",
          "dash": "solid"
         },
         "mode": "lines",
         "name": "114",
         "orientation": "v",
         "showlegend": true,
         "type": "scatter",
         "x": [
          "x_counter_RSF",
          "x_counter_kNN",
          "x_test"
         ],
         "xaxis": "x",
         "y": [
          0.3236872323090675,
          0.8747499883174896,
          0.014360387809574604
         ],
         "yaxis": "y"
        },
        {
         "hovertemplate": "variable=115<br>index=%{x}<br>value=%{y}<extra></extra>",
         "legendgroup": "115",
         "line": {
          "color": "#19d3f3",
          "dash": "solid"
         },
         "mode": "lines",
         "name": "115",
         "orientation": "v",
         "showlegend": true,
         "type": "scatter",
         "x": [
          "x_counter_RSF",
          "x_counter_kNN",
          "x_test"
         ],
         "xaxis": "x",
         "y": [
          0.377577704987335,
          0.9054999947547913,
          0.047843120992183685
         ],
         "yaxis": "y"
        },
        {
         "hovertemplate": "variable=116<br>index=%{x}<br>value=%{y}<extra></extra>",
         "legendgroup": "116",
         "line": {
          "color": "#FF6692",
          "dash": "solid"
         },
         "mode": "lines",
         "name": "116",
         "orientation": "v",
         "showlegend": true,
         "type": "scatter",
         "x": [
          "x_counter_RSF",
          "x_counter_kNN",
          "x_test"
         ],
         "xaxis": "x",
         "y": [
          0.3677704528879071,
          0.7562499791383743,
          0.017369739711284637
         ],
         "yaxis": "y"
        },
        {
         "hovertemplate": "variable=117<br>index=%{x}<br>value=%{y}<extra></extra>",
         "legendgroup": "117",
         "line": {
          "color": "#B6E880",
          "dash": "solid"
         },
         "mode": "lines",
         "name": "117",
         "orientation": "v",
         "showlegend": true,
         "type": "scatter",
         "x": [
          "x_counter_RSF",
          "x_counter_kNN",
          "x_test"
         ],
         "xaxis": "x",
         "y": [
          0.37118299821386747,
          0.5107499957084656,
          0.017602255567908287
         ],
         "yaxis": "y"
        },
        {
         "hovertemplate": "variable=118<br>index=%{x}<br>value=%{y}<extra></extra>",
         "legendgroup": "118",
         "line": {
          "color": "#FF97FF",
          "dash": "solid"
         },
         "mode": "lines",
         "name": "118",
         "orientation": "v",
         "showlegend": true,
         "type": "scatter",
         "x": [
          "x_counter_RSF",
          "x_counter_kNN",
          "x_test"
         ],
         "xaxis": "x",
         "y": [
          0.3764137651551662,
          0.28449999541044235,
          0.02328876592218876
         ],
         "yaxis": "y"
        },
        {
         "hovertemplate": "variable=119<br>index=%{x}<br>value=%{y}<extra></extra>",
         "legendgroup": "119",
         "line": {
          "color": "#FECB52",
          "dash": "solid"
         },
         "mode": "lines",
         "name": "119",
         "orientation": "v",
         "showlegend": true,
         "type": "scatter",
         "x": [
          "x_counter_RSF",
          "x_counter_kNN",
          "x_test"
         ],
         "xaxis": "x",
         "y": [
          0.37303780583400803,
          0.13274999801069498,
          0.017181415110826492
         ],
         "yaxis": "y"
        },
        {
         "hovertemplate": "variable=120<br>index=%{x}<br>value=%{y}<extra></extra>",
         "legendgroup": "120",
         "line": {
          "color": "#636efa",
          "dash": "solid"
         },
         "mode": "lines",
         "name": "120",
         "orientation": "v",
         "showlegend": true,
         "type": "scatter",
         "x": [
          "x_counter_RSF",
          "x_counter_kNN",
          "x_test"
         ],
         "xaxis": "x",
         "y": [
          0.36417422745484984,
          0.07790583651512861,
          0.003924596589058638
         ],
         "yaxis": "y"
        },
        {
         "hovertemplate": "variable=121<br>index=%{x}<br>value=%{y}<extra></extra>",
         "legendgroup": "121",
         "line": {
          "color": "#EF553B",
          "dash": "solid"
         },
         "mode": "lines",
         "name": "121",
         "orientation": "v",
         "showlegend": true,
         "type": "scatter",
         "x": [
          "x_counter_RSF",
          "x_counter_kNN",
          "x_test"
         ],
         "xaxis": "x",
         "y": [
          0.3692134311531641,
          0.05632891971617937,
          0.010829880833625793
         ],
         "yaxis": "y"
        },
        {
         "hovertemplate": "variable=122<br>index=%{x}<br>value=%{y}<extra></extra>",
         "legendgroup": "122",
         "line": {
          "color": "#00cc96",
          "dash": "solid"
         },
         "mode": "lines",
         "name": "122",
         "orientation": "v",
         "showlegend": true,
         "type": "scatter",
         "x": [
          "x_counter_RSF",
          "x_counter_kNN",
          "x_test"
         ],
         "xaxis": "x",
         "y": [
          0.3789460978717324,
          0.036121279932558537,
          0.025277622044086456
         ],
         "yaxis": "y"
        },
        {
         "hovertemplate": "variable=123<br>index=%{x}<br>value=%{y}<extra></extra>",
         "legendgroup": "123",
         "line": {
          "color": "#ab63fa",
          "dash": "solid"
         },
         "mode": "lines",
         "name": "123",
         "orientation": "v",
         "showlegend": true,
         "type": "scatter",
         "x": [
          "x_counter_RSF",
          "x_counter_kNN",
          "x_test"
         ],
         "xaxis": "x",
         "y": [
          0.38447120613592245,
          0.03620309056714177,
          0.0321081317961216
         ],
         "yaxis": "y"
        },
        {
         "hovertemplate": "variable=124<br>index=%{x}<br>value=%{y}<extra></extra>",
         "legendgroup": "124",
         "line": {
          "color": "#FFA15A",
          "dash": "solid"
         },
         "mode": "lines",
         "name": "124",
         "orientation": "v",
         "showlegend": true,
         "type": "scatter",
         "x": [
          "x_counter_RSF",
          "x_counter_kNN",
          "x_test"
         ],
         "xaxis": "x",
         "y": [
          0.38936772538750064,
          0.017754914006218314,
          0.03622567281126976
         ],
         "yaxis": "y"
        },
        {
         "hovertemplate": "variable=125<br>index=%{x}<br>value=%{y}<extra></extra>",
         "legendgroup": "125",
         "line": {
          "color": "#19d3f3",
          "dash": "solid"
         },
         "mode": "lines",
         "name": "125",
         "orientation": "v",
         "showlegend": true,
         "type": "scatter",
         "x": [
          "x_counter_RSF",
          "x_counter_kNN",
          "x_test"
         ],
         "xaxis": "x",
         "y": [
          0.38631797179438077,
          0.025897421641275287,
          0.030194995924830437
         ],
         "yaxis": "y"
        },
        {
         "hovertemplate": "variable=126<br>index=%{x}<br>value=%{y}<extra></extra>",
         "legendgroup": "126",
         "line": {
          "color": "#FF6692",
          "dash": "solid"
         },
         "mode": "lines",
         "name": "126",
         "orientation": "v",
         "showlegend": true,
         "type": "scatter",
         "x": [
          "x_counter_RSF",
          "x_counter_kNN",
          "x_test"
         ],
         "xaxis": "x",
         "y": [
          0.3770189690189548,
          0.028528014896437526,
          0.01708216965198517
         ],
         "yaxis": "y"
        },
        {
         "hovertemplate": "variable=127<br>index=%{x}<br>value=%{y}<extra></extra>",
         "legendgroup": "127",
         "line": {
          "color": "#B6E880",
          "dash": "solid"
         },
         "mode": "lines",
         "name": "127",
         "orientation": "v",
         "showlegend": true,
         "type": "scatter",
         "x": [
          "x_counter_RSF",
          "x_counter_kNN",
          "x_test"
         ],
         "xaxis": "x",
         "y": [
          0.3745313322948033,
          0.01679457852151245,
          0.014413945376873016
         ],
         "yaxis": "y"
        }
       ],
       "layout": {
        "legend": {
         "title": {
          "text": "variable"
         },
         "tracegroupgap": 0
        },
        "margin": {
         "t": 60
        },
        "template": {
         "data": {
          "bar": [
           {
            "error_x": {
             "color": "#f2f5fa"
            },
            "error_y": {
             "color": "#f2f5fa"
            },
            "marker": {
             "line": {
              "color": "rgb(17,17,17)",
              "width": 0.5
             }
            },
            "type": "bar"
           }
          ],
          "barpolar": [
           {
            "marker": {
             "line": {
              "color": "rgb(17,17,17)",
              "width": 0.5
             }
            },
            "type": "barpolar"
           }
          ],
          "carpet": [
           {
            "aaxis": {
             "endlinecolor": "#A2B1C6",
             "gridcolor": "#506784",
             "linecolor": "#506784",
             "minorgridcolor": "#506784",
             "startlinecolor": "#A2B1C6"
            },
            "baxis": {
             "endlinecolor": "#A2B1C6",
             "gridcolor": "#506784",
             "linecolor": "#506784",
             "minorgridcolor": "#506784",
             "startlinecolor": "#A2B1C6"
            },
            "type": "carpet"
           }
          ],
          "choropleth": [
           {
            "colorbar": {
             "outlinewidth": 0,
             "ticks": ""
            },
            "type": "choropleth"
           }
          ],
          "contour": [
           {
            "colorbar": {
             "outlinewidth": 0,
             "ticks": ""
            },
            "colorscale": [
             [
              0,
              "#0d0887"
             ],
             [
              0.1111111111111111,
              "#46039f"
             ],
             [
              0.2222222222222222,
              "#7201a8"
             ],
             [
              0.3333333333333333,
              "#9c179e"
             ],
             [
              0.4444444444444444,
              "#bd3786"
             ],
             [
              0.5555555555555556,
              "#d8576b"
             ],
             [
              0.6666666666666666,
              "#ed7953"
             ],
             [
              0.7777777777777778,
              "#fb9f3a"
             ],
             [
              0.8888888888888888,
              "#fdca26"
             ],
             [
              1,
              "#f0f921"
             ]
            ],
            "type": "contour"
           }
          ],
          "contourcarpet": [
           {
            "colorbar": {
             "outlinewidth": 0,
             "ticks": ""
            },
            "type": "contourcarpet"
           }
          ],
          "heatmap": [
           {
            "colorbar": {
             "outlinewidth": 0,
             "ticks": ""
            },
            "colorscale": [
             [
              0,
              "#0d0887"
             ],
             [
              0.1111111111111111,
              "#46039f"
             ],
             [
              0.2222222222222222,
              "#7201a8"
             ],
             [
              0.3333333333333333,
              "#9c179e"
             ],
             [
              0.4444444444444444,
              "#bd3786"
             ],
             [
              0.5555555555555556,
              "#d8576b"
             ],
             [
              0.6666666666666666,
              "#ed7953"
             ],
             [
              0.7777777777777778,
              "#fb9f3a"
             ],
             [
              0.8888888888888888,
              "#fdca26"
             ],
             [
              1,
              "#f0f921"
             ]
            ],
            "type": "heatmap"
           }
          ],
          "heatmapgl": [
           {
            "colorbar": {
             "outlinewidth": 0,
             "ticks": ""
            },
            "colorscale": [
             [
              0,
              "#0d0887"
             ],
             [
              0.1111111111111111,
              "#46039f"
             ],
             [
              0.2222222222222222,
              "#7201a8"
             ],
             [
              0.3333333333333333,
              "#9c179e"
             ],
             [
              0.4444444444444444,
              "#bd3786"
             ],
             [
              0.5555555555555556,
              "#d8576b"
             ],
             [
              0.6666666666666666,
              "#ed7953"
             ],
             [
              0.7777777777777778,
              "#fb9f3a"
             ],
             [
              0.8888888888888888,
              "#fdca26"
             ],
             [
              1,
              "#f0f921"
             ]
            ],
            "type": "heatmapgl"
           }
          ],
          "histogram": [
           {
            "marker": {
             "colorbar": {
              "outlinewidth": 0,
              "ticks": ""
             }
            },
            "type": "histogram"
           }
          ],
          "histogram2d": [
           {
            "colorbar": {
             "outlinewidth": 0,
             "ticks": ""
            },
            "colorscale": [
             [
              0,
              "#0d0887"
             ],
             [
              0.1111111111111111,
              "#46039f"
             ],
             [
              0.2222222222222222,
              "#7201a8"
             ],
             [
              0.3333333333333333,
              "#9c179e"
             ],
             [
              0.4444444444444444,
              "#bd3786"
             ],
             [
              0.5555555555555556,
              "#d8576b"
             ],
             [
              0.6666666666666666,
              "#ed7953"
             ],
             [
              0.7777777777777778,
              "#fb9f3a"
             ],
             [
              0.8888888888888888,
              "#fdca26"
             ],
             [
              1,
              "#f0f921"
             ]
            ],
            "type": "histogram2d"
           }
          ],
          "histogram2dcontour": [
           {
            "colorbar": {
             "outlinewidth": 0,
             "ticks": ""
            },
            "colorscale": [
             [
              0,
              "#0d0887"
             ],
             [
              0.1111111111111111,
              "#46039f"
             ],
             [
              0.2222222222222222,
              "#7201a8"
             ],
             [
              0.3333333333333333,
              "#9c179e"
             ],
             [
              0.4444444444444444,
              "#bd3786"
             ],
             [
              0.5555555555555556,
              "#d8576b"
             ],
             [
              0.6666666666666666,
              "#ed7953"
             ],
             [
              0.7777777777777778,
              "#fb9f3a"
             ],
             [
              0.8888888888888888,
              "#fdca26"
             ],
             [
              1,
              "#f0f921"
             ]
            ],
            "type": "histogram2dcontour"
           }
          ],
          "mesh3d": [
           {
            "colorbar": {
             "outlinewidth": 0,
             "ticks": ""
            },
            "type": "mesh3d"
           }
          ],
          "parcoords": [
           {
            "line": {
             "colorbar": {
              "outlinewidth": 0,
              "ticks": ""
             }
            },
            "type": "parcoords"
           }
          ],
          "pie": [
           {
            "automargin": true,
            "type": "pie"
           }
          ],
          "scatter": [
           {
            "marker": {
             "line": {
              "color": "#283442"
             }
            },
            "type": "scatter"
           }
          ],
          "scatter3d": [
           {
            "line": {
             "colorbar": {
              "outlinewidth": 0,
              "ticks": ""
             }
            },
            "marker": {
             "colorbar": {
              "outlinewidth": 0,
              "ticks": ""
             }
            },
            "type": "scatter3d"
           }
          ],
          "scattercarpet": [
           {
            "marker": {
             "colorbar": {
              "outlinewidth": 0,
              "ticks": ""
             }
            },
            "type": "scattercarpet"
           }
          ],
          "scattergeo": [
           {
            "marker": {
             "colorbar": {
              "outlinewidth": 0,
              "ticks": ""
             }
            },
            "type": "scattergeo"
           }
          ],
          "scattergl": [
           {
            "marker": {
             "line": {
              "color": "#283442"
             }
            },
            "type": "scattergl"
           }
          ],
          "scattermapbox": [
           {
            "marker": {
             "colorbar": {
              "outlinewidth": 0,
              "ticks": ""
             }
            },
            "type": "scattermapbox"
           }
          ],
          "scatterpolar": [
           {
            "marker": {
             "colorbar": {
              "outlinewidth": 0,
              "ticks": ""
             }
            },
            "type": "scatterpolar"
           }
          ],
          "scatterpolargl": [
           {
            "marker": {
             "colorbar": {
              "outlinewidth": 0,
              "ticks": ""
             }
            },
            "type": "scatterpolargl"
           }
          ],
          "scatterternary": [
           {
            "marker": {
             "colorbar": {
              "outlinewidth": 0,
              "ticks": ""
             }
            },
            "type": "scatterternary"
           }
          ],
          "surface": [
           {
            "colorbar": {
             "outlinewidth": 0,
             "ticks": ""
            },
            "colorscale": [
             [
              0,
              "#0d0887"
             ],
             [
              0.1111111111111111,
              "#46039f"
             ],
             [
              0.2222222222222222,
              "#7201a8"
             ],
             [
              0.3333333333333333,
              "#9c179e"
             ],
             [
              0.4444444444444444,
              "#bd3786"
             ],
             [
              0.5555555555555556,
              "#d8576b"
             ],
             [
              0.6666666666666666,
              "#ed7953"
             ],
             [
              0.7777777777777778,
              "#fb9f3a"
             ],
             [
              0.8888888888888888,
              "#fdca26"
             ],
             [
              1,
              "#f0f921"
             ]
            ],
            "type": "surface"
           }
          ],
          "table": [
           {
            "cells": {
             "fill": {
              "color": "#506784"
             },
             "line": {
              "color": "rgb(17,17,17)"
             }
            },
            "header": {
             "fill": {
              "color": "#2a3f5f"
             },
             "line": {
              "color": "rgb(17,17,17)"
             }
            },
            "type": "table"
           }
          ]
         },
         "layout": {
          "annotationdefaults": {
           "arrowcolor": "#f2f5fa",
           "arrowhead": 0,
           "arrowwidth": 1
          },
          "autotypenumbers": "strict",
          "coloraxis": {
           "colorbar": {
            "outlinewidth": 0,
            "ticks": ""
           }
          },
          "colorscale": {
           "diverging": [
            [
             0,
             "#8e0152"
            ],
            [
             0.1,
             "#c51b7d"
            ],
            [
             0.2,
             "#de77ae"
            ],
            [
             0.3,
             "#f1b6da"
            ],
            [
             0.4,
             "#fde0ef"
            ],
            [
             0.5,
             "#f7f7f7"
            ],
            [
             0.6,
             "#e6f5d0"
            ],
            [
             0.7,
             "#b8e186"
            ],
            [
             0.8,
             "#7fbc41"
            ],
            [
             0.9,
             "#4d9221"
            ],
            [
             1,
             "#276419"
            ]
           ],
           "sequential": [
            [
             0,
             "#0d0887"
            ],
            [
             0.1111111111111111,
             "#46039f"
            ],
            [
             0.2222222222222222,
             "#7201a8"
            ],
            [
             0.3333333333333333,
             "#9c179e"
            ],
            [
             0.4444444444444444,
             "#bd3786"
            ],
            [
             0.5555555555555556,
             "#d8576b"
            ],
            [
             0.6666666666666666,
             "#ed7953"
            ],
            [
             0.7777777777777778,
             "#fb9f3a"
            ],
            [
             0.8888888888888888,
             "#fdca26"
            ],
            [
             1,
             "#f0f921"
            ]
           ],
           "sequentialminus": [
            [
             0,
             "#0d0887"
            ],
            [
             0.1111111111111111,
             "#46039f"
            ],
            [
             0.2222222222222222,
             "#7201a8"
            ],
            [
             0.3333333333333333,
             "#9c179e"
            ],
            [
             0.4444444444444444,
             "#bd3786"
            ],
            [
             0.5555555555555556,
             "#d8576b"
            ],
            [
             0.6666666666666666,
             "#ed7953"
            ],
            [
             0.7777777777777778,
             "#fb9f3a"
            ],
            [
             0.8888888888888888,
             "#fdca26"
            ],
            [
             1,
             "#f0f921"
            ]
           ]
          },
          "colorway": [
           "#636efa",
           "#EF553B",
           "#00cc96",
           "#ab63fa",
           "#FFA15A",
           "#19d3f3",
           "#FF6692",
           "#B6E880",
           "#FF97FF",
           "#FECB52"
          ],
          "font": {
           "color": "#f2f5fa"
          },
          "geo": {
           "bgcolor": "rgb(17,17,17)",
           "lakecolor": "rgb(17,17,17)",
           "landcolor": "rgb(17,17,17)",
           "showlakes": true,
           "showland": true,
           "subunitcolor": "#506784"
          },
          "hoverlabel": {
           "align": "left"
          },
          "hovermode": "closest",
          "mapbox": {
           "style": "dark"
          },
          "paper_bgcolor": "rgb(17,17,17)",
          "plot_bgcolor": "rgb(17,17,17)",
          "polar": {
           "angularaxis": {
            "gridcolor": "#506784",
            "linecolor": "#506784",
            "ticks": ""
           },
           "bgcolor": "rgb(17,17,17)",
           "radialaxis": {
            "gridcolor": "#506784",
            "linecolor": "#506784",
            "ticks": ""
           }
          },
          "scene": {
           "xaxis": {
            "backgroundcolor": "rgb(17,17,17)",
            "gridcolor": "#506784",
            "gridwidth": 2,
            "linecolor": "#506784",
            "showbackground": true,
            "ticks": "",
            "zerolinecolor": "#C8D4E3"
           },
           "yaxis": {
            "backgroundcolor": "rgb(17,17,17)",
            "gridcolor": "#506784",
            "gridwidth": 2,
            "linecolor": "#506784",
            "showbackground": true,
            "ticks": "",
            "zerolinecolor": "#C8D4E3"
           },
           "zaxis": {
            "backgroundcolor": "rgb(17,17,17)",
            "gridcolor": "#506784",
            "gridwidth": 2,
            "linecolor": "#506784",
            "showbackground": true,
            "ticks": "",
            "zerolinecolor": "#C8D4E3"
           }
          },
          "shapedefaults": {
           "line": {
            "color": "#f2f5fa"
           }
          },
          "sliderdefaults": {
           "bgcolor": "#C8D4E3",
           "bordercolor": "rgb(17,17,17)",
           "borderwidth": 1,
           "tickwidth": 0
          },
          "ternary": {
           "aaxis": {
            "gridcolor": "#506784",
            "linecolor": "#506784",
            "ticks": ""
           },
           "baxis": {
            "gridcolor": "#506784",
            "linecolor": "#506784",
            "ticks": ""
           },
           "bgcolor": "rgb(17,17,17)",
           "caxis": {
            "gridcolor": "#506784",
            "linecolor": "#506784",
            "ticks": ""
           }
          },
          "title": {
           "x": 0.05
          },
          "updatemenudefaults": {
           "bgcolor": "#506784",
           "borderwidth": 0
          },
          "xaxis": {
           "automargin": true,
           "gridcolor": "#283442",
           "linecolor": "#506784",
           "ticks": "",
           "title": {
            "standoff": 15
           },
           "zerolinecolor": "#283442",
           "zerolinewidth": 2
          },
          "yaxis": {
           "automargin": true,
           "gridcolor": "#283442",
           "linecolor": "#506784",
           "ticks": "",
           "title": {
            "standoff": 15
           },
           "zerolinecolor": "#283442",
           "zerolinewidth": 2
          }
         }
        },
        "xaxis": {
         "anchor": "y",
         "domain": [
          0,
          1
         ],
         "title": {
          "text": "index"
         }
        },
        "yaxis": {
         "anchor": "x",
         "domain": [
          0,
          1
         ],
         "title": {
          "text": "value"
         }
        }
       }
      },
      "text/html": [
       "<div>                            <div id=\"73dff06f-08c0-4af6-869d-e2dc1a72502d\" class=\"plotly-graph-div\" style=\"height:525px; width:100%;\"></div>            <script type=\"text/javascript\">                require([\"plotly\"], function(Plotly) {                    window.PLOTLYENV=window.PLOTLYENV || {};                                    if (document.getElementById(\"73dff06f-08c0-4af6-869d-e2dc1a72502d\")) {                    Plotly.newPlot(                        \"73dff06f-08c0-4af6-869d-e2dc1a72502d\",                        [{\"hovertemplate\": \"variable=0<br>index=%{x}<br>value=%{y}<extra></extra>\", \"legendgroup\": \"0\", \"line\": {\"color\": \"#636efa\", \"dash\": \"solid\"}, \"mode\": \"lines\", \"name\": \"0\", \"orientation\": \"v\", \"showlegend\": true, \"type\": \"scatter\", \"x\": [\"x_counter_RSF\", \"x_counter_kNN\", \"x_test\"], \"xaxis\": \"x\", \"y\": [0.023093659430742264, 0.021178386406973004, 0.023093659430742264], \"yaxis\": \"y\"}, {\"hovertemplate\": \"variable=1<br>index=%{x}<br>value=%{y}<extra></extra>\", \"legendgroup\": \"1\", \"line\": {\"color\": \"#EF553B\", \"dash\": \"solid\"}, \"mode\": \"lines\", \"name\": \"1\", \"orientation\": \"v\", \"showlegend\": true, \"type\": \"scatter\", \"x\": [\"x_counter_RSF\", \"x_counter_kNN\", \"x_test\"], \"xaxis\": \"x\", \"y\": [0.03989811986684799, 0.023945185559568927, 0.03989811986684799], \"yaxis\": \"y\"}, {\"hovertemplate\": \"variable=2<br>index=%{x}<br>value=%{y}<extra></extra>\", \"legendgroup\": \"2\", \"line\": {\"color\": \"#00cc96\", \"dash\": \"solid\"}, \"mode\": \"lines\", \"name\": \"2\", \"orientation\": \"v\", \"showlegend\": true, \"type\": \"scatter\", \"x\": [\"x_counter_RSF\", \"x_counter_kNN\", \"x_test\"], \"xaxis\": \"x\", \"y\": [0.01182102132588625, 0.03220551402773708, 0.01182102132588625], \"yaxis\": \"y\"}, {\"hovertemplate\": \"variable=3<br>index=%{x}<br>value=%{y}<extra></extra>\", \"legendgroup\": \"3\", \"line\": {\"color\": \"#ab63fa\", \"dash\": \"solid\"}, \"mode\": \"lines\", \"name\": \"3\", \"orientation\": \"v\", \"showlegend\": true, \"type\": \"scatter\", \"x\": [\"x_counter_RSF\", \"x_counter_kNN\", \"x_test\"], \"xaxis\": \"x\", \"y\": [0.002964944113045931, 0.02044555521570146, 0.002964944113045931], \"yaxis\": \"y\"}, {\"hovertemplate\": \"variable=4<br>index=%{x}<br>value=%{y}<extra></extra>\", \"legendgroup\": \"4\", \"line\": {\"color\": \"#FFA15A\", \"dash\": \"solid\"}, \"mode\": \"lines\", \"name\": \"4\", \"orientation\": \"v\", \"showlegend\": true, \"type\": \"scatter\", \"x\": [\"x_counter_RSF\", \"x_counter_kNN\", \"x_test\"], \"xaxis\": \"x\", \"y\": [-0.0007469661068171263, 0.03141471138224006, -0.0007469661068171263], \"yaxis\": \"y\"}, {\"hovertemplate\": \"variable=5<br>index=%{x}<br>value=%{y}<extra></extra>\", \"legendgroup\": \"5\", \"line\": {\"color\": \"#19d3f3\", \"dash\": \"solid\"}, \"mode\": \"lines\", \"name\": \"5\", \"orientation\": \"v\", \"showlegend\": true, \"type\": \"scatter\", \"x\": [\"x_counter_RSF\", \"x_counter_kNN\", \"x_test\"], \"xaxis\": \"x\", \"y\": [0.023447591811418533, 0.012058442865964025, 0.023447591811418533], \"yaxis\": \"y\"}, {\"hovertemplate\": \"variable=6<br>index=%{x}<br>value=%{y}<extra></extra>\", \"legendgroup\": \"6\", \"line\": {\"color\": \"#FF6692\", \"dash\": \"solid\"}, \"mode\": \"lines\", \"name\": \"6\", \"orientation\": \"v\", \"showlegend\": true, \"type\": \"scatter\", \"x\": [\"x_counter_RSF\", \"x_counter_kNN\", \"x_test\"], \"xaxis\": \"x\", \"y\": [0.009272610768675804, 0.031515442533418536, 0.009272610768675804], \"yaxis\": \"y\"}, {\"hovertemplate\": \"variable=7<br>index=%{x}<br>value=%{y}<extra></extra>\", \"legendgroup\": \"7\", \"line\": {\"color\": \"#B6E880\", \"dash\": \"solid\"}, \"mode\": \"lines\", \"name\": \"7\", \"orientation\": \"v\", \"showlegend\": true, \"type\": \"scatter\", \"x\": [\"x_counter_RSF\", \"x_counter_kNN\", \"x_test\"], \"xaxis\": \"x\", \"y\": [0.12300000339746475, 0.016359949833713472, 0.12300000339746475], \"yaxis\": \"y\"}, {\"hovertemplate\": \"variable=8<br>index=%{x}<br>value=%{y}<extra></extra>\", \"legendgroup\": \"8\", \"line\": {\"color\": \"#FF97FF\", \"dash\": \"solid\"}, \"mode\": \"lines\", \"name\": \"8\", \"orientation\": \"v\", \"showlegend\": true, \"type\": \"scatter\", \"x\": [\"x_counter_RSF\", \"x_counter_kNN\", \"x_test\"], \"xaxis\": \"x\", \"y\": [0.45500001311302185, 0.013733317260630429, 0.45500001311302185], \"yaxis\": \"y\"}, {\"hovertemplate\": \"variable=9<br>index=%{x}<br>value=%{y}<extra></extra>\", \"legendgroup\": \"9\", \"line\": {\"color\": \"#FECB52\", \"dash\": \"solid\"}, \"mode\": \"lines\", \"name\": \"9\", \"orientation\": \"v\", \"showlegend\": true, \"type\": \"scatter\", \"x\": [\"x_counter_RSF\", \"x_counter_kNN\", \"x_test\"], \"xaxis\": \"x\", \"y\": [0.7919999957084656, 0.032101453049108386, 0.7919999957084656], \"yaxis\": \"y\"}, {\"hovertemplate\": \"variable=10<br>index=%{x}<br>value=%{y}<extra></extra>\", \"legendgroup\": \"10\", \"line\": {\"color\": \"#636efa\", \"dash\": \"solid\"}, \"mode\": \"lines\", \"name\": \"10\", \"orientation\": \"v\", \"showlegend\": true, \"type\": \"scatter\", \"x\": [\"x_counter_RSF\", \"x_counter_kNN\", \"x_test\"], \"xaxis\": \"x\", \"y\": [0.9810000061988831, 0.02495202806312591, 0.9810000061988831], \"yaxis\": \"y\"}, {\"hovertemplate\": \"variable=11<br>index=%{x}<br>value=%{y}<extra></extra>\", \"legendgroup\": \"11\", \"line\": {\"color\": \"#EF553B\", \"dash\": \"solid\"}, \"mode\": \"lines\", \"name\": \"11\", \"orientation\": \"v\", \"showlegend\": true, \"type\": \"scatter\", \"x\": [\"x_counter_RSF\", \"x_counter_kNN\", \"x_test\"], \"xaxis\": \"x\", \"y\": [1.0700000524520874, 0.030979222152382135, 1.0700000524520874], \"yaxis\": \"y\"}, {\"hovertemplate\": \"variable=12<br>index=%{x}<br>value=%{y}<extra></extra>\", \"legendgroup\": \"12\", \"line\": {\"color\": \"#00cc96\", \"dash\": \"solid\"}, \"mode\": \"lines\", \"name\": \"12\", \"orientation\": \"v\", \"showlegend\": true, \"type\": \"scatter\", \"x\": [\"x_counter_RSF\", \"x_counter_kNN\", \"x_test\"], \"xaxis\": \"x\", \"y\": [1.1089999675750732, 0.032084816601127386, 1.1089999675750732], \"yaxis\": \"y\"}, {\"hovertemplate\": \"variable=13<br>index=%{x}<br>value=%{y}<extra></extra>\", \"legendgroup\": \"13\", \"line\": {\"color\": \"#ab63fa\", \"dash\": \"solid\"}, \"mode\": \"lines\", \"name\": \"13\", \"orientation\": \"v\", \"showlegend\": true, \"type\": \"scatter\", \"x\": [\"x_counter_RSF\", \"x_counter_kNN\", \"x_test\"], \"xaxis\": \"x\", \"y\": [1.1269999742507935, 0.02514648879878223, 1.1269999742507935], \"yaxis\": \"y\"}, {\"hovertemplate\": \"variable=14<br>index=%{x}<br>value=%{y}<extra></extra>\", \"legendgroup\": \"14\", \"line\": {\"color\": \"#FFA15A\", \"dash\": \"solid\"}, \"mode\": \"lines\", \"name\": \"14\", \"orientation\": \"v\", \"showlegend\": true, \"type\": \"scatter\", \"x\": [\"x_counter_RSF\", \"x_counter_kNN\", \"x_test\"], \"xaxis\": \"x\", \"y\": [1.0080000162124634, 0.02280134498141706, 1.0080000162124634], \"yaxis\": \"y\"}, {\"hovertemplate\": \"variable=15<br>index=%{x}<br>value=%{y}<extra></extra>\", \"legendgroup\": \"15\", \"line\": {\"color\": \"#19d3f3\", \"dash\": \"solid\"}, \"mode\": \"lines\", \"name\": \"15\", \"orientation\": \"v\", \"showlegend\": true, \"type\": \"scatter\", \"x\": [\"x_counter_RSF\", \"x_counter_kNN\", \"x_test\"], \"xaxis\": \"x\", \"y\": [0.6740000247955322, 0.02175834123772802, 0.6740000247955322], \"yaxis\": \"y\"}, {\"hovertemplate\": \"variable=16<br>index=%{x}<br>value=%{y}<extra></extra>\", \"legendgroup\": \"16\", \"line\": {\"color\": \"#FF6692\", \"dash\": \"solid\"}, \"mode\": \"lines\", \"name\": \"16\", \"orientation\": \"v\", \"showlegend\": true, \"type\": \"scatter\", \"x\": [\"x_counter_RSF\", \"x_counter_kNN\", \"x_test\"], \"xaxis\": \"x\", \"y\": [0.33500000834465027, 0.025651566218584776, 0.33500000834465027], \"yaxis\": \"y\"}, {\"hovertemplate\": \"variable=17<br>index=%{x}<br>value=%{y}<extra></extra>\", \"legendgroup\": \"17\", \"line\": {\"color\": \"#B6E880\", \"dash\": \"solid\"}, \"mode\": \"lines\", \"name\": \"17\", \"orientation\": \"v\", \"showlegend\": true, \"type\": \"scatter\", \"x\": [\"x_counter_RSF\", \"x_counter_kNN\", \"x_test\"], \"xaxis\": \"x\", \"y\": [0.1469999998807907, 0.02460449351929128, 0.1469999998807907], \"yaxis\": \"y\"}, {\"hovertemplate\": \"variable=18<br>index=%{x}<br>value=%{y}<extra></extra>\", \"legendgroup\": \"18\", \"line\": {\"color\": \"#FF97FF\", \"dash\": \"solid\"}, \"mode\": \"lines\", \"name\": \"18\", \"orientation\": \"v\", \"showlegend\": true, \"type\": \"scatter\", \"x\": [\"x_counter_RSF\", \"x_counter_kNN\", \"x_test\"], \"xaxis\": \"x\", \"y\": [0.06199999898672104, 0.01976003753952682, 0.06199999898672104], \"yaxis\": \"y\"}, {\"hovertemplate\": \"variable=19<br>index=%{x}<br>value=%{y}<extra></extra>\", \"legendgroup\": \"19\", \"line\": {\"color\": \"#FECB52\", \"dash\": \"solid\"}, \"mode\": \"lines\", \"name\": \"19\", \"orientation\": \"v\", \"showlegend\": true, \"type\": \"scatter\", \"x\": [\"x_counter_RSF\", \"x_counter_kNN\", \"x_test\"], \"xaxis\": \"x\", \"y\": [0.07367971539497375, 0.037737452890723944, 0.07367971539497375], \"yaxis\": \"y\"}, {\"hovertemplate\": \"variable=20<br>index=%{x}<br>value=%{y}<extra></extra>\", \"legendgroup\": \"20\", \"line\": {\"color\": \"#636efa\", \"dash\": \"solid\"}, \"mode\": \"lines\", \"name\": \"20\", \"orientation\": \"v\", \"showlegend\": true, \"type\": \"scatter\", \"x\": [\"x_counter_RSF\", \"x_counter_kNN\", \"x_test\"], \"xaxis\": \"x\", \"y\": [0.03485501930117607, 0.033876274013891816, 0.03485501930117607], \"yaxis\": \"y\"}, {\"hovertemplate\": \"variable=21<br>index=%{x}<br>value=%{y}<extra></extra>\", \"legendgroup\": \"21\", \"line\": {\"color\": \"#EF553B\", \"dash\": \"solid\"}, \"mode\": \"lines\", \"name\": \"21\", \"orientation\": \"v\", \"showlegend\": true, \"type\": \"scatter\", \"x\": [\"x_counter_RSF\", \"x_counter_kNN\", \"x_test\"], \"xaxis\": \"x\", \"y\": [0.04193883016705513, 0.04171457281336188, 0.04193883016705513], \"yaxis\": \"y\"}, {\"hovertemplate\": \"variable=22<br>index=%{x}<br>value=%{y}<extra></extra>\", \"legendgroup\": \"22\", \"line\": {\"color\": \"#00cc96\", \"dash\": \"solid\"}, \"mode\": \"lines\", \"name\": \"22\", \"orientation\": \"v\", \"showlegend\": true, \"type\": \"scatter\", \"x\": [\"x_counter_RSF\", \"x_counter_kNN\", \"x_test\"], \"xaxis\": \"x\", \"y\": [0.0015920051373541355, 0.030709385871887207, 0.0015920051373541355], \"yaxis\": \"y\"}, {\"hovertemplate\": \"variable=23<br>index=%{x}<br>value=%{y}<extra></extra>\", \"legendgroup\": \"23\", \"line\": {\"color\": \"#ab63fa\", \"dash\": \"solid\"}, \"mode\": \"lines\", \"name\": \"23\", \"orientation\": \"v\", \"showlegend\": true, \"type\": \"scatter\", \"x\": [\"x_counter_RSF\", \"x_counter_kNN\", \"x_test\"], \"xaxis\": \"x\", \"y\": [0.023987889289855957, 0.03314285073429346, 0.023987889289855957], \"yaxis\": \"y\"}, {\"hovertemplate\": \"variable=24<br>index=%{x}<br>value=%{y}<extra></extra>\", \"legendgroup\": \"24\", \"line\": {\"color\": \"#FFA15A\", \"dash\": \"solid\"}, \"mode\": \"lines\", \"name\": \"24\", \"orientation\": \"v\", \"showlegend\": true, \"type\": \"scatter\", \"x\": [\"x_counter_RSF\", \"x_counter_kNN\", \"x_test\"], \"xaxis\": \"x\", \"y\": [0.006554984953254461, 0.023565575771499425, 0.006554984953254461], \"yaxis\": \"y\"}, {\"hovertemplate\": \"variable=25<br>index=%{x}<br>value=%{y}<extra></extra>\", \"legendgroup\": \"25\", \"line\": {\"color\": \"#19d3f3\", \"dash\": \"solid\"}, \"mode\": \"lines\", \"name\": \"25\", \"orientation\": \"v\", \"showlegend\": true, \"type\": \"scatter\", \"x\": [\"x_counter_RSF\", \"x_counter_kNN\", \"x_test\"], \"xaxis\": \"x\", \"y\": [-0.0024014918599277735, 0.03753576101735234, -0.0024014918599277735], \"yaxis\": \"y\"}, {\"hovertemplate\": \"variable=26<br>index=%{x}<br>value=%{y}<extra></extra>\", \"legendgroup\": \"26\", \"line\": {\"color\": \"#FF6692\", \"dash\": \"solid\"}, \"mode\": \"lines\", \"name\": \"26\", \"orientation\": \"v\", \"showlegend\": true, \"type\": \"scatter\", \"x\": [\"x_counter_RSF\", \"x_counter_kNN\", \"x_test\"], \"xaxis\": \"x\", \"y\": [0.02684539370238781, 0.02516713971272111, 0.02684539370238781], \"yaxis\": \"y\"}, {\"hovertemplate\": \"variable=27<br>index=%{x}<br>value=%{y}<extra></extra>\", \"legendgroup\": \"27\", \"line\": {\"color\": \"#B6E880\", \"dash\": \"solid\"}, \"mode\": \"lines\", \"name\": \"27\", \"orientation\": \"v\", \"showlegend\": true, \"type\": \"scatter\", \"x\": [\"x_counter_RSF\", \"x_counter_kNN\", \"x_test\"], \"xaxis\": \"x\", \"y\": [0.004737056791782379, 0.027583966962993145, 0.004737056791782379], \"yaxis\": \"y\"}, {\"hovertemplate\": \"variable=28<br>index=%{x}<br>value=%{y}<extra></extra>\", \"legendgroup\": \"28\", \"line\": {\"color\": \"#FF97FF\", \"dash\": \"solid\"}, \"mode\": \"lines\", \"name\": \"28\", \"orientation\": \"v\", \"showlegend\": true, \"type\": \"scatter\", \"x\": [\"x_counter_RSF\", \"x_counter_kNN\", \"x_test\"], \"xaxis\": \"x\", \"y\": [0.0056610507890582085, 0.03194532170891762, 0.0056610507890582085], \"yaxis\": \"y\"}, {\"hovertemplate\": \"variable=29<br>index=%{x}<br>value=%{y}<extra></extra>\", \"legendgroup\": \"29\", \"line\": {\"color\": \"#FECB52\", \"dash\": \"solid\"}, \"mode\": \"lines\", \"name\": \"29\", \"orientation\": \"v\", \"showlegend\": true, \"type\": \"scatter\", \"x\": [\"x_counter_RSF\", \"x_counter_kNN\", \"x_test\"], \"xaxis\": \"x\", \"y\": [-0.00711578456684947, 0.04252621531486511, -0.00711578456684947], \"yaxis\": \"y\"}, {\"hovertemplate\": \"variable=30<br>index=%{x}<br>value=%{y}<extra></extra>\", \"legendgroup\": \"30\", \"line\": {\"color\": \"#636efa\", \"dash\": \"solid\"}, \"mode\": \"lines\", \"name\": \"30\", \"orientation\": \"v\", \"showlegend\": true, \"type\": \"scatter\", \"x\": [\"x_counter_RSF\", \"x_counter_kNN\", \"x_test\"], \"xaxis\": \"x\", \"y\": [0.009231503121554852, 0.03154167300090194, 0.009231503121554852], \"yaxis\": \"y\"}, {\"hovertemplate\": \"variable=31<br>index=%{x}<br>value=%{y}<extra></extra>\", \"legendgroup\": \"31\", \"line\": {\"color\": \"#EF553B\", \"dash\": \"solid\"}, \"mode\": \"lines\", \"name\": \"31\", \"orientation\": \"v\", \"showlegend\": true, \"type\": \"scatter\", \"x\": [\"x_counter_RSF\", \"x_counter_kNN\", \"x_test\"], \"xaxis\": \"x\", \"y\": [-0.0020162167493253946, 0.03121537622064352, -0.0020162167493253946], \"yaxis\": \"y\"}, {\"hovertemplate\": \"variable=32<br>index=%{x}<br>value=%{y}<extra></extra>\", \"legendgroup\": \"32\", \"line\": {\"color\": \"#00cc96\", \"dash\": \"solid\"}, \"mode\": \"lines\", \"name\": \"32\", \"orientation\": \"v\", \"showlegend\": true, \"type\": \"scatter\", \"x\": [\"x_counter_RSF\", \"x_counter_kNN\", \"x_test\"], \"xaxis\": \"x\", \"y\": [0.010804626159369946, 0.01956865443571587, 0.010804626159369946], \"yaxis\": \"y\"}, {\"hovertemplate\": \"variable=33<br>index=%{x}<br>value=%{y}<extra></extra>\", \"legendgroup\": \"33\", \"line\": {\"color\": \"#ab63fa\", \"dash\": \"solid\"}, \"mode\": \"lines\", \"name\": \"33\", \"orientation\": \"v\", \"showlegend\": true, \"type\": \"scatter\", \"x\": [\"x_counter_RSF\", \"x_counter_kNN\", \"x_test\"], \"xaxis\": \"x\", \"y\": [0.03952237591147423, 0.030558915343135595, 0.03952237591147423], \"yaxis\": \"y\"}, {\"hovertemplate\": \"variable=34<br>index=%{x}<br>value=%{y}<extra></extra>\", \"legendgroup\": \"34\", \"line\": {\"color\": \"#FFA15A\", \"dash\": \"solid\"}, \"mode\": \"lines\", \"name\": \"34\", \"orientation\": \"v\", \"showlegend\": true, \"type\": \"scatter\", \"x\": [\"x_counter_RSF\", \"x_counter_kNN\", \"x_test\"], \"xaxis\": \"x\", \"y\": [0.028528086841106415, 0.03229506849311292, 0.028528086841106415], \"yaxis\": \"y\"}, {\"hovertemplate\": \"variable=35<br>index=%{x}<br>value=%{y}<extra></extra>\", \"legendgroup\": \"35\", \"line\": {\"color\": \"#19d3f3\", \"dash\": \"solid\"}, \"mode\": \"lines\", \"name\": \"35\", \"orientation\": \"v\", \"showlegend\": true, \"type\": \"scatter\", \"x\": [\"x_counter_RSF\", \"x_counter_kNN\", \"x_test\"], \"xaxis\": \"x\", \"y\": [0.023975122720003128, 0.03603845462203026, 0.023975122720003128], \"yaxis\": \"y\"}, {\"hovertemplate\": \"variable=36<br>index=%{x}<br>value=%{y}<extra></extra>\", \"legendgroup\": \"36\", \"line\": {\"color\": \"#FF6692\", \"dash\": \"solid\"}, \"mode\": \"lines\", \"name\": \"36\", \"orientation\": \"v\", \"showlegend\": true, \"type\": \"scatter\", \"x\": [\"x_counter_RSF\", \"x_counter_kNN\", \"x_test\"], \"xaxis\": \"x\", \"y\": [0.006632714997977018, 0.024613600966404192, 0.006632714997977018], \"yaxis\": \"y\"}, {\"hovertemplate\": \"variable=37<br>index=%{x}<br>value=%{y}<extra></extra>\", \"legendgroup\": \"37\", \"line\": {\"color\": \"#B6E880\", \"dash\": \"solid\"}, \"mode\": \"lines\", \"name\": \"37\", \"orientation\": \"v\", \"showlegend\": true, \"type\": \"scatter\", \"x\": [\"x_counter_RSF\", \"x_counter_kNN\", \"x_test\"], \"xaxis\": \"x\", \"y\": [0.04770134016871452, 0.031503469217568636, 0.04770134016871452], \"yaxis\": \"y\"}, {\"hovertemplate\": \"variable=38<br>index=%{x}<br>value=%{y}<extra></extra>\", \"legendgroup\": \"38\", \"line\": {\"color\": \"#FF97FF\", \"dash\": \"solid\"}, \"mode\": \"lines\", \"name\": \"38\", \"orientation\": \"v\", \"showlegend\": true, \"type\": \"scatter\", \"x\": [\"x_counter_RSF\", \"x_counter_kNN\", \"x_test\"], \"xaxis\": \"x\", \"y\": [-0.11800000071525574, 0.01809755663271062, -0.11800000071525574], \"yaxis\": \"y\"}, {\"hovertemplate\": \"variable=39<br>index=%{x}<br>value=%{y}<extra></extra>\", \"legendgroup\": \"39\", \"line\": {\"color\": \"#FECB52\", \"dash\": \"solid\"}, \"mode\": \"lines\", \"name\": \"39\", \"orientation\": \"v\", \"showlegend\": true, \"type\": \"scatter\", \"x\": [\"x_counter_RSF\", \"x_counter_kNN\", \"x_test\"], \"xaxis\": \"x\", \"y\": [-0.4399999976158142, -0.005689880403224379, -0.4399999976158142], \"yaxis\": \"y\"}, {\"hovertemplate\": \"variable=40<br>index=%{x}<br>value=%{y}<extra></extra>\", \"legendgroup\": \"40\", \"line\": {\"color\": \"#636efa\", \"dash\": \"solid\"}, \"mode\": \"lines\", \"name\": \"40\", \"orientation\": \"v\", \"showlegend\": true, \"type\": \"scatter\", \"x\": [\"x_counter_RSF\", \"x_counter_kNN\", \"x_test\"], \"xaxis\": \"x\", \"y\": [-0.7620000243186951, -0.16083057038486004, -0.7620000243186951], \"yaxis\": \"y\"}, {\"hovertemplate\": \"variable=41<br>index=%{x}<br>value=%{y}<extra></extra>\", \"legendgroup\": \"41\", \"line\": {\"color\": \"#EF553B\", \"dash\": \"solid\"}, \"mode\": \"lines\", \"name\": \"41\", \"orientation\": \"v\", \"showlegend\": true, \"type\": \"scatter\", \"x\": [\"x_counter_RSF\", \"x_counter_kNN\", \"x_test\"], \"xaxis\": \"x\", \"y\": [-0.9430000185966492, -0.4462499879300594, -0.9430000185966492], \"yaxis\": \"y\"}, {\"hovertemplate\": \"variable=42<br>index=%{x}<br>value=%{y}<extra></extra>\", \"legendgroup\": \"42\", \"line\": {\"color\": \"#00cc96\", \"dash\": \"solid\"}, \"mode\": \"lines\", \"name\": \"42\", \"orientation\": \"v\", \"showlegend\": true, \"type\": \"scatter\", \"x\": [\"x_counter_RSF\", \"x_counter_kNN\", \"x_test\"], \"xaxis\": \"x\", \"y\": [-1.0290000438690186, -0.742749996483326, -1.0290000438690186], \"yaxis\": \"y\"}, {\"hovertemplate\": \"variable=43<br>index=%{x}<br>value=%{y}<extra></extra>\", \"legendgroup\": \"43\", \"line\": {\"color\": \"#ab63fa\", \"dash\": \"solid\"}, \"mode\": \"lines\", \"name\": \"43\", \"orientation\": \"v\", \"showlegend\": true, \"type\": \"scatter\", \"x\": [\"x_counter_RSF\", \"x_counter_kNN\", \"x_test\"], \"xaxis\": \"x\", \"y\": [-1.0640000104904175, -0.9419999867677689, -1.0640000104904175], \"yaxis\": \"y\"}, {\"hovertemplate\": \"variable=44<br>index=%{x}<br>value=%{y}<extra></extra>\", \"legendgroup\": \"44\", \"line\": {\"color\": \"#FFA15A\", \"dash\": \"solid\"}, \"mode\": \"lines\", \"name\": \"44\", \"orientation\": \"v\", \"showlegend\": true, \"type\": \"scatter\", \"x\": [\"x_counter_RSF\", \"x_counter_kNN\", \"x_test\"], \"xaxis\": \"x\", \"y\": [-1.0770000219345093, -1.0415000021457672, -1.0770000219345093], \"yaxis\": \"y\"}, {\"hovertemplate\": \"variable=45<br>index=%{x}<br>value=%{y}<extra></extra>\", \"legendgroup\": \"45\", \"line\": {\"color\": \"#19d3f3\", \"dash\": \"solid\"}, \"mode\": \"lines\", \"name\": \"45\", \"orientation\": \"v\", \"showlegend\": true, \"type\": \"scatter\", \"x\": [\"x_counter_RSF\", \"x_counter_kNN\", \"x_test\"], \"xaxis\": \"x\", \"y\": [-1.0809999704360962, -1.0867500007152557, -1.0809999704360962], \"yaxis\": \"y\"}, {\"hovertemplate\": \"variable=46<br>index=%{x}<br>value=%{y}<extra></extra>\", \"legendgroup\": \"46\", \"line\": {\"color\": \"#FF6692\", \"dash\": \"solid\"}, \"mode\": \"lines\", \"name\": \"46\", \"orientation\": \"v\", \"showlegend\": true, \"type\": \"scatter\", \"x\": [\"x_counter_RSF\", \"x_counter_kNN\", \"x_test\"], \"xaxis\": \"x\", \"y\": [-1.0850000381469727, -1.1074999868869781, -1.0850000381469727], \"yaxis\": \"y\"}, {\"hovertemplate\": \"variable=47<br>index=%{x}<br>value=%{y}<extra></extra>\", \"legendgroup\": \"47\", \"line\": {\"color\": \"#B6E880\", \"dash\": \"solid\"}, \"mode\": \"lines\", \"name\": \"47\", \"orientation\": \"v\", \"showlegend\": true, \"type\": \"scatter\", \"x\": [\"x_counter_RSF\", \"x_counter_kNN\", \"x_test\"], \"xaxis\": \"x\", \"y\": [-1.0859999656677246, -1.1144999861717224, -1.0859999656677246], \"yaxis\": \"y\"}, {\"hovertemplate\": \"variable=48<br>index=%{x}<br>value=%{y}<extra></extra>\", \"legendgroup\": \"48\", \"line\": {\"color\": \"#FF97FF\", \"dash\": \"solid\"}, \"mode\": \"lines\", \"name\": \"48\", \"orientation\": \"v\", \"showlegend\": true, \"type\": \"scatter\", \"x\": [\"x_counter_RSF\", \"x_counter_kNN\", \"x_test\"], \"xaxis\": \"x\", \"y\": [-1.0839999914169312, -1.1144999861717224, -1.0839999914169312], \"yaxis\": \"y\"}, {\"hovertemplate\": \"variable=49<br>index=%{x}<br>value=%{y}<extra></extra>\", \"legendgroup\": \"49\", \"line\": {\"color\": \"#FECB52\", \"dash\": \"solid\"}, \"mode\": \"lines\", \"name\": \"49\", \"orientation\": \"v\", \"showlegend\": true, \"type\": \"scatter\", \"x\": [\"x_counter_RSF\", \"x_counter_kNN\", \"x_test\"], \"xaxis\": \"x\", \"y\": [-1.0829999446868896, -1.1132499873638153, -1.0829999446868896], \"yaxis\": \"y\"}, {\"hovertemplate\": \"variable=50<br>index=%{x}<br>value=%{y}<extra></extra>\", \"legendgroup\": \"50\", \"line\": {\"color\": \"#636efa\", \"dash\": \"solid\"}, \"mode\": \"lines\", \"name\": \"50\", \"orientation\": \"v\", \"showlegend\": true, \"type\": \"scatter\", \"x\": [\"x_counter_RSF\", \"x_counter_kNN\", \"x_test\"], \"xaxis\": \"x\", \"y\": [-1.0789999961853027, -1.1164999902248383, -1.0789999961853027], \"yaxis\": \"y\"}, {\"hovertemplate\": \"variable=51<br>index=%{x}<br>value=%{y}<extra></extra>\", \"legendgroup\": \"51\", \"line\": {\"color\": \"#EF553B\", \"dash\": \"solid\"}, \"mode\": \"lines\", \"name\": \"51\", \"orientation\": \"v\", \"showlegend\": true, \"type\": \"scatter\", \"x\": [\"x_counter_RSF\", \"x_counter_kNN\", \"x_test\"], \"xaxis\": \"x\", \"y\": [-1.0759999752044678, -1.120749980211258, -1.0759999752044678], \"yaxis\": \"y\"}, {\"hovertemplate\": \"variable=52<br>index=%{x}<br>value=%{y}<extra></extra>\", \"legendgroup\": \"52\", \"line\": {\"color\": \"#00cc96\", \"dash\": \"solid\"}, \"mode\": \"lines\", \"name\": \"52\", \"orientation\": \"v\", \"showlegend\": true, \"type\": \"scatter\", \"x\": [\"x_counter_RSF\", \"x_counter_kNN\", \"x_test\"], \"xaxis\": \"x\", \"y\": [-1.0789999961853027, -1.1219999492168427, -1.0789999961853027], \"yaxis\": \"y\"}, {\"hovertemplate\": \"variable=53<br>index=%{x}<br>value=%{y}<extra></extra>\", \"legendgroup\": \"53\", \"line\": {\"color\": \"#ab63fa\", \"dash\": \"solid\"}, \"mode\": \"lines\", \"name\": \"53\", \"orientation\": \"v\", \"showlegend\": true, \"type\": \"scatter\", \"x\": [\"x_counter_RSF\", \"x_counter_kNN\", \"x_test\"], \"xaxis\": \"x\", \"y\": [-1.0829999446868896, -1.12049999833107, -1.0829999446868896], \"yaxis\": \"y\"}, {\"hovertemplate\": \"variable=54<br>index=%{x}<br>value=%{y}<extra></extra>\", \"legendgroup\": \"54\", \"line\": {\"color\": \"#FFA15A\", \"dash\": \"solid\"}, \"mode\": \"lines\", \"name\": \"54\", \"orientation\": \"v\", \"showlegend\": true, \"type\": \"scatter\", \"x\": [\"x_counter_RSF\", \"x_counter_kNN\", \"x_test\"], \"xaxis\": \"x\", \"y\": [-1.0859999656677246, -1.1187500357627869, -1.0859999656677246], \"yaxis\": \"y\"}, {\"hovertemplate\": \"variable=55<br>index=%{x}<br>value=%{y}<extra></extra>\", \"legendgroup\": \"55\", \"line\": {\"color\": \"#19d3f3\", \"dash\": \"solid\"}, \"mode\": \"lines\", \"name\": \"55\", \"orientation\": \"v\", \"showlegend\": true, \"type\": \"scatter\", \"x\": [\"x_counter_RSF\", \"x_counter_kNN\", \"x_test\"], \"xaxis\": \"x\", \"y\": [-1.0880000591278076, -1.1182499825954437, -1.0880000591278076], \"yaxis\": \"y\"}, {\"hovertemplate\": \"variable=56<br>index=%{x}<br>value=%{y}<extra></extra>\", \"legendgroup\": \"56\", \"line\": {\"color\": \"#FF6692\", \"dash\": \"solid\"}, \"mode\": \"lines\", \"name\": \"56\", \"orientation\": \"v\", \"showlegend\": true, \"type\": \"scatter\", \"x\": [\"x_counter_RSF\", \"x_counter_kNN\", \"x_test\"], \"xaxis\": \"x\", \"y\": [-1.0889999866485596, -1.117499977350235, -1.0889999866485596], \"yaxis\": \"y\"}, {\"hovertemplate\": \"variable=57<br>index=%{x}<br>value=%{y}<extra></extra>\", \"legendgroup\": \"57\", \"line\": {\"color\": \"#B6E880\", \"dash\": \"solid\"}, \"mode\": \"lines\", \"name\": \"57\", \"orientation\": \"v\", \"showlegend\": true, \"type\": \"scatter\", \"x\": [\"x_counter_RSF\", \"x_counter_kNN\", \"x_test\"], \"xaxis\": \"x\", \"y\": [-1.0880000591278076, -1.1162499785423279, -1.0880000591278076], \"yaxis\": \"y\"}, {\"hovertemplate\": \"variable=58<br>index=%{x}<br>value=%{y}<extra></extra>\", \"legendgroup\": \"58\", \"line\": {\"color\": \"#FF97FF\", \"dash\": \"solid\"}, \"mode\": \"lines\", \"name\": \"58\", \"orientation\": \"v\", \"showlegend\": true, \"type\": \"scatter\", \"x\": [\"x_counter_RSF\", \"x_counter_kNN\", \"x_test\"], \"xaxis\": \"x\", \"y\": [-1.0859999656677246, -1.1169999837875366, -1.0859999656677246], \"yaxis\": \"y\"}, {\"hovertemplate\": \"variable=59<br>index=%{x}<br>value=%{y}<extra></extra>\", \"legendgroup\": \"59\", \"line\": {\"color\": \"#FECB52\", \"dash\": \"solid\"}, \"mode\": \"lines\", \"name\": \"59\", \"orientation\": \"v\", \"showlegend\": true, \"type\": \"scatter\", \"x\": [\"x_counter_RSF\", \"x_counter_kNN\", \"x_test\"], \"xaxis\": \"x\", \"y\": [-1.0870000123977661, -1.1182500123977661, -1.0870000123977661], \"yaxis\": \"y\"}, {\"hovertemplate\": \"variable=60<br>index=%{x}<br>value=%{y}<extra></extra>\", \"legendgroup\": \"60\", \"line\": {\"color\": \"#636efa\", \"dash\": \"solid\"}, \"mode\": \"lines\", \"name\": \"60\", \"orientation\": \"v\", \"showlegend\": true, \"type\": \"scatter\", \"x\": [\"x_counter_RSF\", \"x_counter_kNN\", \"x_test\"], \"xaxis\": \"x\", \"y\": [-1.0889999866485596, -1.118749976158142, -1.0889999866485596], \"yaxis\": \"y\"}, {\"hovertemplate\": \"variable=61<br>index=%{x}<br>value=%{y}<extra></extra>\", \"legendgroup\": \"61\", \"line\": {\"color\": \"#EF553B\", \"dash\": \"solid\"}, \"mode\": \"lines\", \"name\": \"61\", \"orientation\": \"v\", \"showlegend\": true, \"type\": \"scatter\", \"x\": [\"x_counter_RSF\", \"x_counter_kNN\", \"x_test\"], \"xaxis\": \"x\", \"y\": [-1.0880000591278076, -1.1189999878406525, -1.0880000591278076], \"yaxis\": \"y\"}, {\"hovertemplate\": \"variable=62<br>index=%{x}<br>value=%{y}<extra></extra>\", \"legendgroup\": \"62\", \"line\": {\"color\": \"#00cc96\", \"dash\": \"solid\"}, \"mode\": \"lines\", \"name\": \"62\", \"orientation\": \"v\", \"showlegend\": true, \"type\": \"scatter\", \"x\": [\"x_counter_RSF\", \"x_counter_kNN\", \"x_test\"], \"xaxis\": \"x\", \"y\": [-1.0850000381469727, -1.1197499930858612, -1.0850000381469727], \"yaxis\": \"y\"}, {\"hovertemplate\": \"variable=63<br>index=%{x}<br>value=%{y}<extra></extra>\", \"legendgroup\": \"63\", \"line\": {\"color\": \"#ab63fa\", \"dash\": \"solid\"}, \"mode\": \"lines\", \"name\": \"63\", \"orientation\": \"v\", \"showlegend\": true, \"type\": \"scatter\", \"x\": [\"x_counter_RSF\", \"x_counter_kNN\", \"x_test\"], \"xaxis\": \"x\", \"y\": [-1.0820000171661377, -1.1197499930858612, -1.0820000171661377], \"yaxis\": \"y\"}, {\"hovertemplate\": \"variable=64<br>index=%{x}<br>value=%{y}<extra></extra>\", \"legendgroup\": \"64\", \"line\": {\"color\": \"#FFA15A\", \"dash\": \"solid\"}, \"mode\": \"lines\", \"name\": \"64\", \"orientation\": \"v\", \"showlegend\": true, \"type\": \"scatter\", \"x\": [\"x_counter_RSF\", \"x_counter_kNN\", \"x_test\"], \"xaxis\": \"x\", \"y\": [-1.0770000219345093, -1.1164999902248383, -1.0770000219345093], \"yaxis\": \"y\"}, {\"hovertemplate\": \"variable=65<br>index=%{x}<br>value=%{y}<extra></extra>\", \"legendgroup\": \"65\", \"line\": {\"color\": \"#19d3f3\", \"dash\": \"solid\"}, \"mode\": \"lines\", \"name\": \"65\", \"orientation\": \"v\", \"showlegend\": true, \"type\": \"scatter\", \"x\": [\"x_counter_RSF\", \"x_counter_kNN\", \"x_test\"], \"xaxis\": \"x\", \"y\": [-1.0750000476837158, -1.1145000159740448, -1.0750000476837158], \"yaxis\": \"y\"}, {\"hovertemplate\": \"variable=66<br>index=%{x}<br>value=%{y}<extra></extra>\", \"legendgroup\": \"66\", \"line\": {\"color\": \"#FF6692\", \"dash\": \"solid\"}, \"mode\": \"lines\", \"name\": \"66\", \"orientation\": \"v\", \"showlegend\": true, \"type\": \"scatter\", \"x\": [\"x_counter_RSF\", \"x_counter_kNN\", \"x_test\"], \"xaxis\": \"x\", \"y\": [-1.0770000219345093, -1.113999992609024, -1.0770000219345093], \"yaxis\": \"y\"}, {\"hovertemplate\": \"variable=67<br>index=%{x}<br>value=%{y}<extra></extra>\", \"legendgroup\": \"67\", \"line\": {\"color\": \"#B6E880\", \"dash\": \"solid\"}, \"mode\": \"lines\", \"name\": \"67\", \"orientation\": \"v\", \"showlegend\": true, \"type\": \"scatter\", \"x\": [\"x_counter_RSF\", \"x_counter_kNN\", \"x_test\"], \"xaxis\": \"x\", \"y\": [-1.0820000171661377, -1.1147499978542328, -1.0820000171661377], \"yaxis\": \"y\"}, {\"hovertemplate\": \"variable=68<br>index=%{x}<br>value=%{y}<extra></extra>\", \"legendgroup\": \"68\", \"line\": {\"color\": \"#FF97FF\", \"dash\": \"solid\"}, \"mode\": \"lines\", \"name\": \"68\", \"orientation\": \"v\", \"showlegend\": true, \"type\": \"scatter\", \"x\": [\"x_counter_RSF\", \"x_counter_kNN\", \"x_test\"], \"xaxis\": \"x\", \"y\": [-1.0870000123977661, -1.1159999668598175, -1.0870000123977661], \"yaxis\": \"y\"}, {\"hovertemplate\": \"variable=69<br>index=%{x}<br>value=%{y}<extra></extra>\", \"legendgroup\": \"69\", \"line\": {\"color\": \"#FECB52\", \"dash\": \"solid\"}, \"mode\": \"lines\", \"name\": \"69\", \"orientation\": \"v\", \"showlegend\": true, \"type\": \"scatter\", \"x\": [\"x_counter_RSF\", \"x_counter_kNN\", \"x_test\"], \"xaxis\": \"x\", \"y\": [-1.090000033378601, -1.117499977350235, -1.090000033378601], \"yaxis\": \"y\"}, {\"hovertemplate\": \"variable=70<br>index=%{x}<br>value=%{y}<extra></extra>\", \"legendgroup\": \"70\", \"line\": {\"color\": \"#636efa\", \"dash\": \"solid\"}, \"mode\": \"lines\", \"name\": \"70\", \"orientation\": \"v\", \"showlegend\": true, \"type\": \"scatter\", \"x\": [\"x_counter_RSF\", \"x_counter_kNN\", \"x_test\"], \"xaxis\": \"x\", \"y\": [-1.0889999866485596, -1.1180000007152557, -1.0889999866485596], \"yaxis\": \"y\"}, {\"hovertemplate\": \"variable=71<br>index=%{x}<br>value=%{y}<extra></extra>\", \"legendgroup\": \"71\", \"line\": {\"color\": \"#EF553B\", \"dash\": \"solid\"}, \"mode\": \"lines\", \"name\": \"71\", \"orientation\": \"v\", \"showlegend\": true, \"type\": \"scatter\", \"x\": [\"x_counter_RSF\", \"x_counter_kNN\", \"x_test\"], \"xaxis\": \"x\", \"y\": [-1.0880000591278076, -1.118749976158142, -1.0880000591278076], \"yaxis\": \"y\"}, {\"hovertemplate\": \"variable=72<br>index=%{x}<br>value=%{y}<extra></extra>\", \"legendgroup\": \"72\", \"line\": {\"color\": \"#00cc96\", \"dash\": \"solid\"}, \"mode\": \"lines\", \"name\": \"72\", \"orientation\": \"v\", \"showlegend\": true, \"type\": \"scatter\", \"x\": [\"x_counter_RSF\", \"x_counter_kNN\", \"x_test\"], \"xaxis\": \"x\", \"y\": [-1.0859999656677246, -1.1199999749660492, -1.0859999656677246], \"yaxis\": \"y\"}, {\"hovertemplate\": \"variable=73<br>index=%{x}<br>value=%{y}<extra></extra>\", \"legendgroup\": \"73\", \"line\": {\"color\": \"#ab63fa\", \"dash\": \"solid\"}, \"mode\": \"lines\", \"name\": \"73\", \"orientation\": \"v\", \"showlegend\": true, \"type\": \"scatter\", \"x\": [\"x_counter_RSF\", \"x_counter_kNN\", \"x_test\"], \"xaxis\": \"x\", \"y\": [-1.0820000171661377, -1.1194999814033508, -1.0820000171661377], \"yaxis\": \"y\"}, {\"hovertemplate\": \"variable=74<br>index=%{x}<br>value=%{y}<extra></extra>\", \"legendgroup\": \"74\", \"line\": {\"color\": \"#FFA15A\", \"dash\": \"solid\"}, \"mode\": \"lines\", \"name\": \"74\", \"orientation\": \"v\", \"showlegend\": true, \"type\": \"scatter\", \"x\": [\"x_counter_RSF\", \"x_counter_kNN\", \"x_test\"], \"xaxis\": \"x\", \"y\": [-1.0779999494552612, -1.1177499890327454, -1.0779999494552612], \"yaxis\": \"y\"}, {\"hovertemplate\": \"variable=75<br>index=%{x}<br>value=%{y}<extra></extra>\", \"legendgroup\": \"75\", \"line\": {\"color\": \"#19d3f3\", \"dash\": \"solid\"}, \"mode\": \"lines\", \"name\": \"75\", \"orientation\": \"v\", \"showlegend\": true, \"type\": \"scatter\", \"x\": [\"x_counter_RSF\", \"x_counter_kNN\", \"x_test\"], \"xaxis\": \"x\", \"y\": [-1.0779999494552612, -1.1175000071525574, -1.0779999494552612], \"yaxis\": \"y\"}, {\"hovertemplate\": \"variable=76<br>index=%{x}<br>value=%{y}<extra></extra>\", \"legendgroup\": \"76\", \"line\": {\"color\": \"#FF6692\", \"dash\": \"solid\"}, \"mode\": \"lines\", \"name\": \"76\", \"orientation\": \"v\", \"showlegend\": true, \"type\": \"scatter\", \"x\": [\"x_counter_RSF\", \"x_counter_kNN\", \"x_test\"], \"xaxis\": \"x\", \"y\": [-1.0779999494552612, -1.118499994277954, -1.0779999494552612], \"yaxis\": \"y\"}, {\"hovertemplate\": \"variable=77<br>index=%{x}<br>value=%{y}<extra></extra>\", \"legendgroup\": \"77\", \"line\": {\"color\": \"#B6E880\", \"dash\": \"solid\"}, \"mode\": \"lines\", \"name\": \"77\", \"orientation\": \"v\", \"showlegend\": true, \"type\": \"scatter\", \"x\": [\"x_counter_RSF\", \"x_counter_kNN\", \"x_test\"], \"xaxis\": \"x\", \"y\": [-1.0750000476837158, -1.1200000047683716, -1.0750000476837158], \"yaxis\": \"y\"}, {\"hovertemplate\": \"variable=78<br>index=%{x}<br>value=%{y}<extra></extra>\", \"legendgroup\": \"78\", \"line\": {\"color\": \"#FF97FF\", \"dash\": \"solid\"}, \"mode\": \"lines\", \"name\": \"78\", \"orientation\": \"v\", \"showlegend\": true, \"type\": \"scatter\", \"x\": [\"x_counter_RSF\", \"x_counter_kNN\", \"x_test\"], \"xaxis\": \"x\", \"y\": [-1.0740000009536743, -1.1207500100135803, -1.0740000009536743], \"yaxis\": \"y\"}, {\"hovertemplate\": \"variable=79<br>index=%{x}<br>value=%{y}<extra></extra>\", \"legendgroup\": \"79\", \"line\": {\"color\": \"#FECB52\", \"dash\": \"solid\"}, \"mode\": \"lines\", \"name\": \"79\", \"orientation\": \"v\", \"showlegend\": true, \"type\": \"scatter\", \"x\": [\"x_counter_RSF\", \"x_counter_kNN\", \"x_test\"], \"xaxis\": \"x\", \"y\": [-1.0770000219345093, -1.1192499697208405, -1.0770000219345093], \"yaxis\": \"y\"}, {\"hovertemplate\": \"variable=80<br>index=%{x}<br>value=%{y}<extra></extra>\", \"legendgroup\": \"80\", \"line\": {\"color\": \"#636efa\", \"dash\": \"solid\"}, \"mode\": \"lines\", \"name\": \"80\", \"orientation\": \"v\", \"showlegend\": true, \"type\": \"scatter\", \"x\": [\"x_counter_RSF\", \"x_counter_kNN\", \"x_test\"], \"xaxis\": \"x\", \"y\": [-1.0820000171661377, -1.1159999668598175, -1.0820000171661377], \"yaxis\": \"y\"}, {\"hovertemplate\": \"variable=81<br>index=%{x}<br>value=%{y}<extra></extra>\", \"legendgroup\": \"81\", \"line\": {\"color\": \"#EF553B\", \"dash\": \"solid\"}, \"mode\": \"lines\", \"name\": \"81\", \"orientation\": \"v\", \"showlegend\": true, \"type\": \"scatter\", \"x\": [\"x_counter_RSF\", \"x_counter_kNN\", \"x_test\"], \"xaxis\": \"x\", \"y\": [-1.0859999656677246, -1.1155000030994415, -1.0859999656677246], \"yaxis\": \"y\"}, {\"hovertemplate\": \"variable=82<br>index=%{x}<br>value=%{y}<extra></extra>\", \"legendgroup\": \"82\", \"line\": {\"color\": \"#00cc96\", \"dash\": \"solid\"}, \"mode\": \"lines\", \"name\": \"82\", \"orientation\": \"v\", \"showlegend\": true, \"type\": \"scatter\", \"x\": [\"x_counter_RSF\", \"x_counter_kNN\", \"x_test\"], \"xaxis\": \"x\", \"y\": [-1.0889999866485596, -1.1164999902248383, -1.0889999866485596], \"yaxis\": \"y\"}, {\"hovertemplate\": \"variable=83<br>index=%{x}<br>value=%{y}<extra></extra>\", \"legendgroup\": \"83\", \"line\": {\"color\": \"#ab63fa\", \"dash\": \"solid\"}, \"mode\": \"lines\", \"name\": \"83\", \"orientation\": \"v\", \"showlegend\": true, \"type\": \"scatter\", \"x\": [\"x_counter_RSF\", \"x_counter_kNN\", \"x_test\"], \"xaxis\": \"x\", \"y\": [-1.0889999866485596, -1.1177500188350677, -1.0889999866485596], \"yaxis\": \"y\"}, {\"hovertemplate\": \"variable=84<br>index=%{x}<br>value=%{y}<extra></extra>\", \"legendgroup\": \"84\", \"line\": {\"color\": \"#FFA15A\", \"dash\": \"solid\"}, \"mode\": \"lines\", \"name\": \"84\", \"orientation\": \"v\", \"showlegend\": true, \"type\": \"scatter\", \"x\": [\"x_counter_RSF\", \"x_counter_kNN\", \"x_test\"], \"xaxis\": \"x\", \"y\": [-1.0880000591278076, -1.1180000007152557, -1.0880000591278076], \"yaxis\": \"y\"}, {\"hovertemplate\": \"variable=85<br>index=%{x}<br>value=%{y}<extra></extra>\", \"legendgroup\": \"85\", \"line\": {\"color\": \"#19d3f3\", \"dash\": \"solid\"}, \"mode\": \"lines\", \"name\": \"85\", \"orientation\": \"v\", \"showlegend\": true, \"type\": \"scatter\", \"x\": [\"x_counter_RSF\", \"x_counter_kNN\", \"x_test\"], \"xaxis\": \"x\", \"y\": [-1.0820000171661377, -1.117000013589859, -1.0820000171661377], \"yaxis\": \"y\"}, {\"hovertemplate\": \"variable=86<br>index=%{x}<br>value=%{y}<extra></extra>\", \"legendgroup\": \"86\", \"line\": {\"color\": \"#FF6692\", \"dash\": \"solid\"}, \"mode\": \"lines\", \"name\": \"86\", \"orientation\": \"v\", \"showlegend\": true, \"type\": \"scatter\", \"x\": [\"x_counter_RSF\", \"x_counter_kNN\", \"x_test\"], \"xaxis\": \"x\", \"y\": [-1.0789999961853027, -1.1149999797344208, -1.0789999961853027], \"yaxis\": \"y\"}, {\"hovertemplate\": \"variable=87<br>index=%{x}<br>value=%{y}<extra></extra>\", \"legendgroup\": \"87\", \"line\": {\"color\": \"#B6E880\", \"dash\": \"solid\"}, \"mode\": \"lines\", \"name\": \"87\", \"orientation\": \"v\", \"showlegend\": true, \"type\": \"scatter\", \"x\": [\"x_counter_RSF\", \"x_counter_kNN\", \"x_test\"], \"xaxis\": \"x\", \"y\": [-1.0809999704360962, -1.113500028848648, -1.0809999704360962], \"yaxis\": \"y\"}, {\"hovertemplate\": \"variable=88<br>index=%{x}<br>value=%{y}<extra></extra>\", \"legendgroup\": \"88\", \"line\": {\"color\": \"#FF97FF\", \"dash\": \"solid\"}, \"mode\": \"lines\", \"name\": \"88\", \"orientation\": \"v\", \"showlegend\": true, \"type\": \"scatter\", \"x\": [\"x_counter_RSF\", \"x_counter_kNN\", \"x_test\"], \"xaxis\": \"x\", \"y\": [-1.0809999704360962, -1.114249974489212, -1.0809999704360962], \"yaxis\": \"y\"}, {\"hovertemplate\": \"variable=89<br>index=%{x}<br>value=%{y}<extra></extra>\", \"legendgroup\": \"89\", \"line\": {\"color\": \"#FECB52\", \"dash\": \"solid\"}, \"mode\": \"lines\", \"name\": \"89\", \"orientation\": \"v\", \"showlegend\": true, \"type\": \"scatter\", \"x\": [\"x_counter_RSF\", \"x_counter_kNN\", \"x_test\"], \"xaxis\": \"x\", \"y\": [-1.0809999704360962, -1.1167500019073486, -1.0809999704360962], \"yaxis\": \"y\"}, {\"hovertemplate\": \"variable=90<br>index=%{x}<br>value=%{y}<extra></extra>\", \"legendgroup\": \"90\", \"line\": {\"color\": \"#636efa\", \"dash\": \"solid\"}, \"mode\": \"lines\", \"name\": \"90\", \"orientation\": \"v\", \"showlegend\": true, \"type\": \"scatter\", \"x\": [\"x_counter_RSF\", \"x_counter_kNN\", \"x_test\"], \"xaxis\": \"x\", \"y\": [-1.0820000171661377, -1.1182499825954437, -1.0820000171661377], \"yaxis\": \"y\"}, {\"hovertemplate\": \"variable=91<br>index=%{x}<br>value=%{y}<extra></extra>\", \"legendgroup\": \"91\", \"line\": {\"color\": \"#EF553B\", \"dash\": \"solid\"}, \"mode\": \"lines\", \"name\": \"91\", \"orientation\": \"v\", \"showlegend\": true, \"type\": \"scatter\", \"x\": [\"x_counter_RSF\", \"x_counter_kNN\", \"x_test\"], \"xaxis\": \"x\", \"y\": [-1.0839999914169312, -1.117000013589859, -1.0839999914169312], \"yaxis\": \"y\"}, {\"hovertemplate\": \"variable=92<br>index=%{x}<br>value=%{y}<extra></extra>\", \"legendgroup\": \"92\", \"line\": {\"color\": \"#00cc96\", \"dash\": \"solid\"}, \"mode\": \"lines\", \"name\": \"92\", \"orientation\": \"v\", \"showlegend\": true, \"type\": \"scatter\", \"x\": [\"x_counter_RSF\", \"x_counter_kNN\", \"x_test\"], \"xaxis\": \"x\", \"y\": [-1.0880000591278076, -1.113999992609024, -1.0880000591278076], \"yaxis\": \"y\"}, {\"hovertemplate\": \"variable=93<br>index=%{x}<br>value=%{y}<extra></extra>\", \"legendgroup\": \"93\", \"line\": {\"color\": \"#ab63fa\", \"dash\": \"solid\"}, \"mode\": \"lines\", \"name\": \"93\", \"orientation\": \"v\", \"showlegend\": true, \"type\": \"scatter\", \"x\": [\"x_counter_RSF\", \"x_counter_kNN\", \"x_test\"], \"xaxis\": \"x\", \"y\": [-1.0889999866485596, -1.112999975681305, -1.0889999866485596], \"yaxis\": \"y\"}, {\"hovertemplate\": \"variable=94<br>index=%{x}<br>value=%{y}<extra></extra>\", \"legendgroup\": \"94\", \"line\": {\"color\": \"#FFA15A\", \"dash\": \"solid\"}, \"mode\": \"lines\", \"name\": \"94\", \"orientation\": \"v\", \"showlegend\": true, \"type\": \"scatter\", \"x\": [\"x_counter_RSF\", \"x_counter_kNN\", \"x_test\"], \"xaxis\": \"x\", \"y\": [-0.9679999947547913, -1.113999992609024, -0.9679999947547913], \"yaxis\": \"y\"}, {\"hovertemplate\": \"variable=95<br>index=%{x}<br>value=%{y}<extra></extra>\", \"legendgroup\": \"95\", \"line\": {\"color\": \"#19d3f3\", \"dash\": \"solid\"}, \"mode\": \"lines\", \"name\": \"95\", \"orientation\": \"v\", \"showlegend\": true, \"type\": \"scatter\", \"x\": [\"x_counter_RSF\", \"x_counter_kNN\", \"x_test\"], \"xaxis\": \"x\", \"y\": [-0.6449999809265137, -0.9917500168085097, -0.6449999809265137], \"yaxis\": \"y\"}, {\"hovertemplate\": \"variable=96<br>index=%{x}<br>value=%{y}<extra></extra>\", \"legendgroup\": \"96\", \"line\": {\"color\": \"#FF6692\", \"dash\": \"solid\"}, \"mode\": \"lines\", \"name\": \"96\", \"orientation\": \"v\", \"showlegend\": true, \"type\": \"scatter\", \"x\": [\"x_counter_RSF\", \"x_counter_kNN\", \"x_test\"], \"xaxis\": \"x\", \"y\": [-0.22320690541173965, -0.6620000004768372, -0.32199999690055847], \"yaxis\": \"y\"}, {\"hovertemplate\": \"variable=97<br>index=%{x}<br>value=%{y}<extra></extra>\", \"legendgroup\": \"97\", \"line\": {\"color\": \"#B6E880\", \"dash\": \"solid\"}, \"mode\": \"lines\", \"name\": \"97\", \"orientation\": \"v\", \"showlegend\": true, \"type\": \"scatter\", \"x\": [\"x_counter_RSF\", \"x_counter_kNN\", \"x_test\"], \"xaxis\": \"x\", \"y\": [-0.0996569130470097, -0.3320000022649765, -0.14399999380111694], \"yaxis\": \"y\"}, {\"hovertemplate\": \"variable=98<br>index=%{x}<br>value=%{y}<extra></extra>\", \"legendgroup\": \"98\", \"line\": {\"color\": \"#FF97FF\", \"dash\": \"solid\"}, \"mode\": \"lines\", \"name\": \"98\", \"orientation\": \"v\", \"showlegend\": true, \"type\": \"scatter\", \"x\": [\"x_counter_RSF\", \"x_counter_kNN\", \"x_test\"], \"xaxis\": \"x\", \"y\": [-0.043936996410682695, -0.1484999991953373, -0.06199999898672104], \"yaxis\": \"y\"}, {\"hovertemplate\": \"variable=99<br>index=%{x}<br>value=%{y}<extra></extra>\", \"legendgroup\": \"99\", \"line\": {\"color\": \"#FECB52\", \"dash\": \"solid\"}, \"mode\": \"lines\", \"name\": \"99\", \"orientation\": \"v\", \"showlegend\": true, \"type\": \"scatter\", \"x\": [\"x_counter_RSF\", \"x_counter_kNN\", \"x_test\"], \"xaxis\": \"x\", \"y\": [0.003255455950079063, -0.060500000603497035, 0.001359179732389748], \"yaxis\": \"y\"}, {\"hovertemplate\": \"variable=100<br>index=%{x}<br>value=%{y}<extra></extra>\", \"legendgroup\": \"100\", \"line\": {\"color\": \"#636efa\", \"dash\": \"solid\"}, \"mode\": \"lines\", \"name\": \"100\", \"orientation\": \"v\", \"showlegend\": true, \"type\": \"scatter\", \"x\": [\"x_counter_RSF\", \"x_counter_kNN\", \"x_test\"], \"xaxis\": \"x\", \"y\": [0.00048788654744171683, 0.004713879199698567, -0.01170371938496828], \"yaxis\": \"y\"}, {\"hovertemplate\": \"variable=101<br>index=%{x}<br>value=%{y}<extra></extra>\", \"legendgroup\": \"101\", \"line\": {\"color\": \"#EF553B\", \"dash\": \"solid\"}, \"mode\": \"lines\", \"name\": \"101\", \"orientation\": \"v\", \"showlegend\": true, \"type\": \"scatter\", \"x\": [\"x_counter_RSF\", \"x_counter_kNN\", \"x_test\"], \"xaxis\": \"x\", \"y\": [0.01713473901144863, 0.02056099520996213, 0.005350734107196331], \"yaxis\": \"y\"}, {\"hovertemplate\": \"variable=102<br>index=%{x}<br>value=%{y}<extra></extra>\", \"legendgroup\": \"102\", \"line\": {\"color\": \"#00cc96\", \"dash\": \"solid\"}, \"mode\": \"lines\", \"name\": \"102\", \"orientation\": \"v\", \"showlegend\": true, \"type\": \"scatter\", \"x\": [\"x_counter_RSF\", \"x_counter_kNN\", \"x_test\"], \"xaxis\": \"x\", \"y\": [0.018224229747954408, 0.009440242836717516, 0.02040299028158188], \"yaxis\": \"y\"}, {\"hovertemplate\": \"variable=103<br>index=%{x}<br>value=%{y}<extra></extra>\", \"legendgroup\": \"103\", \"line\": {\"color\": \"#ab63fa\", \"dash\": \"solid\"}, \"mode\": \"lines\", \"name\": \"103\", \"orientation\": \"v\", \"showlegend\": true, \"type\": \"scatter\", \"x\": [\"x_counter_RSF\", \"x_counter_kNN\", \"x_test\"], \"xaxis\": \"x\", \"y\": [0.008463456290400285, 0.016454103286378086, -0.0027000668924301863], \"yaxis\": \"y\"}, {\"hovertemplate\": \"variable=104<br>index=%{x}<br>value=%{y}<extra></extra>\", \"legendgroup\": \"104\", \"line\": {\"color\": \"#FFA15A\", \"dash\": \"solid\"}, \"mode\": \"lines\", \"name\": \"104\", \"orientation\": \"v\", \"showlegend\": true, \"type\": \"scatter\", \"x\": [\"x_counter_RSF\", \"x_counter_kNN\", \"x_test\"], \"xaxis\": \"x\", \"y\": [0.021591313289792725, 0.022550216148374602, 0.020622294396162033], \"yaxis\": \"y\"}, {\"hovertemplate\": \"variable=105<br>index=%{x}<br>value=%{y}<extra></extra>\", \"legendgroup\": \"105\", \"line\": {\"color\": \"#19d3f3\", \"dash\": \"solid\"}, \"mode\": \"lines\", \"name\": \"105\", \"orientation\": \"v\", \"showlegend\": true, \"type\": \"scatter\", \"x\": [\"x_counter_RSF\", \"x_counter_kNN\", \"x_test\"], \"xaxis\": \"x\", \"y\": [0.02895828834750354, 0.02066979359369725, 0.03170677646994591], \"yaxis\": \"y\"}, {\"hovertemplate\": \"variable=106<br>index=%{x}<br>value=%{y}<extra></extra>\", \"legendgroup\": \"106\", \"line\": {\"color\": \"#FF6692\", \"dash\": \"solid\"}, \"mode\": \"lines\", \"name\": \"106\", \"orientation\": \"v\", \"showlegend\": true, \"type\": \"scatter\", \"x\": [\"x_counter_RSF\", \"x_counter_kNN\", \"x_test\"], \"xaxis\": \"x\", \"y\": [0.01791980650441355, 0.022854527574963868, 0.02262892574071884], \"yaxis\": \"y\"}, {\"hovertemplate\": \"variable=107<br>index=%{x}<br>value=%{y}<extra></extra>\", \"legendgroup\": \"107\", \"line\": {\"color\": \"#B6E880\", \"dash\": \"solid\"}, \"mode\": \"lines\", \"name\": \"107\", \"orientation\": \"v\", \"showlegend\": true, \"type\": \"scatter\", \"x\": [\"x_counter_RSF\", \"x_counter_kNN\", \"x_test\"], \"xaxis\": \"x\", \"y\": [0.026423093891724227, 0.03410989907570183, 0.025454498827457428], \"yaxis\": \"y\"}, {\"hovertemplate\": \"variable=108<br>index=%{x}<br>value=%{y}<extra></extra>\", \"legendgroup\": \"108\", \"line\": {\"color\": \"#FF97FF\", \"dash\": \"solid\"}, \"mode\": \"lines\", \"name\": \"108\", \"orientation\": \"v\", \"showlegend\": true, \"type\": \"scatter\", \"x\": [\"x_counter_RSF\", \"x_counter_kNN\", \"x_test\"], \"xaxis\": \"x\", \"y\": [0.01490525544774425, 0.06392193341162056, 0.005649102386087179], \"yaxis\": \"y\"}, {\"hovertemplate\": \"variable=109<br>index=%{x}<br>value=%{y}<extra></extra>\", \"legendgroup\": \"109\", \"line\": {\"color\": \"#FECB52\", \"dash\": \"solid\"}, \"mode\": \"lines\", \"name\": \"109\", \"orientation\": \"v\", \"showlegend\": true, \"type\": \"scatter\", \"x\": [\"x_counter_RSF\", \"x_counter_kNN\", \"x_test\"], \"xaxis\": \"x\", \"y\": [0.02831037325511964, 0.23408744018524885, 0.0318385548889637], \"yaxis\": \"y\"}, {\"hovertemplate\": \"variable=110<br>index=%{x}<br>value=%{y}<extra></extra>\", \"legendgroup\": \"110\", \"line\": {\"color\": \"#636efa\", \"dash\": \"solid\"}, \"mode\": \"lines\", \"name\": \"110\", \"orientation\": \"v\", \"showlegend\": true, \"type\": \"scatter\", \"x\": [\"x_counter_RSF\", \"x_counter_kNN\", \"x_test\"], \"xaxis\": \"x\", \"y\": [0.03853094091913094, 0.39712275145575404, 0.04221777617931366], \"yaxis\": \"y\"}, {\"hovertemplate\": \"variable=111<br>index=%{x}<br>value=%{y}<extra></extra>\", \"legendgroup\": \"111\", \"line\": {\"color\": \"#EF553B\", \"dash\": \"solid\"}, \"mode\": \"lines\", \"name\": \"111\", \"orientation\": \"v\", \"showlegend\": true, \"type\": \"scatter\", \"x\": [\"x_counter_RSF\", \"x_counter_kNN\", \"x_test\"], \"xaxis\": \"x\", \"y\": [0.06221358549741489, 0.5136682586744428, 0.03266767039895058], \"yaxis\": \"y\"}, {\"hovertemplate\": \"variable=112<br>index=%{x}<br>value=%{y}<extra></extra>\", \"legendgroup\": \"112\", \"line\": {\"color\": \"#00cc96\", \"dash\": \"solid\"}, \"mode\": \"lines\", \"name\": \"112\", \"orientation\": \"v\", \"showlegend\": true, \"type\": \"scatter\", \"x\": [\"x_counter_RSF\", \"x_counter_kNN\", \"x_test\"], \"xaxis\": \"x\", \"y\": [0.17355072359375234, 0.6283345608972013, 0.039331190288066864], \"yaxis\": \"y\"}, {\"hovertemplate\": \"variable=113<br>index=%{x}<br>value=%{y}<extra></extra>\", \"legendgroup\": \"113\", \"line\": {\"color\": \"#ab63fa\", \"dash\": \"solid\"}, \"mode\": \"lines\", \"name\": \"113\", \"orientation\": \"v\", \"showlegend\": true, \"type\": \"scatter\", \"x\": [\"x_counter_RSF\", \"x_counter_kNN\", \"x_test\"], \"xaxis\": \"x\", \"y\": [0.2835169255365877, 0.7490000054240227, 0.04226454347372055], \"yaxis\": \"y\"}, {\"hovertemplate\": \"variable=114<br>index=%{x}<br>value=%{y}<extra></extra>\", \"legendgroup\": \"114\", \"line\": {\"color\": \"#FFA15A\", \"dash\": \"solid\"}, \"mode\": \"lines\", \"name\": \"114\", \"orientation\": \"v\", \"showlegend\": true, \"type\": \"scatter\", \"x\": [\"x_counter_RSF\", \"x_counter_kNN\", \"x_test\"], \"xaxis\": \"x\", \"y\": [0.3236872323090675, 0.8747499883174896, 0.014360387809574604], \"yaxis\": \"y\"}, {\"hovertemplate\": \"variable=115<br>index=%{x}<br>value=%{y}<extra></extra>\", \"legendgroup\": \"115\", \"line\": {\"color\": \"#19d3f3\", \"dash\": \"solid\"}, \"mode\": \"lines\", \"name\": \"115\", \"orientation\": \"v\", \"showlegend\": true, \"type\": \"scatter\", \"x\": [\"x_counter_RSF\", \"x_counter_kNN\", \"x_test\"], \"xaxis\": \"x\", \"y\": [0.377577704987335, 0.9054999947547913, 0.047843120992183685], \"yaxis\": \"y\"}, {\"hovertemplate\": \"variable=116<br>index=%{x}<br>value=%{y}<extra></extra>\", \"legendgroup\": \"116\", \"line\": {\"color\": \"#FF6692\", \"dash\": \"solid\"}, \"mode\": \"lines\", \"name\": \"116\", \"orientation\": \"v\", \"showlegend\": true, \"type\": \"scatter\", \"x\": [\"x_counter_RSF\", \"x_counter_kNN\", \"x_test\"], \"xaxis\": \"x\", \"y\": [0.3677704528879071, 0.7562499791383743, 0.017369739711284637], \"yaxis\": \"y\"}, {\"hovertemplate\": \"variable=117<br>index=%{x}<br>value=%{y}<extra></extra>\", \"legendgroup\": \"117\", \"line\": {\"color\": \"#B6E880\", \"dash\": \"solid\"}, \"mode\": \"lines\", \"name\": \"117\", \"orientation\": \"v\", \"showlegend\": true, \"type\": \"scatter\", \"x\": [\"x_counter_RSF\", \"x_counter_kNN\", \"x_test\"], \"xaxis\": \"x\", \"y\": [0.37118299821386747, 0.5107499957084656, 0.017602255567908287], \"yaxis\": \"y\"}, {\"hovertemplate\": \"variable=118<br>index=%{x}<br>value=%{y}<extra></extra>\", \"legendgroup\": \"118\", \"line\": {\"color\": \"#FF97FF\", \"dash\": \"solid\"}, \"mode\": \"lines\", \"name\": \"118\", \"orientation\": \"v\", \"showlegend\": true, \"type\": \"scatter\", \"x\": [\"x_counter_RSF\", \"x_counter_kNN\", \"x_test\"], \"xaxis\": \"x\", \"y\": [0.3764137651551662, 0.28449999541044235, 0.02328876592218876], \"yaxis\": \"y\"}, {\"hovertemplate\": \"variable=119<br>index=%{x}<br>value=%{y}<extra></extra>\", \"legendgroup\": \"119\", \"line\": {\"color\": \"#FECB52\", \"dash\": \"solid\"}, \"mode\": \"lines\", \"name\": \"119\", \"orientation\": \"v\", \"showlegend\": true, \"type\": \"scatter\", \"x\": [\"x_counter_RSF\", \"x_counter_kNN\", \"x_test\"], \"xaxis\": \"x\", \"y\": [0.37303780583400803, 0.13274999801069498, 0.017181415110826492], \"yaxis\": \"y\"}, {\"hovertemplate\": \"variable=120<br>index=%{x}<br>value=%{y}<extra></extra>\", \"legendgroup\": \"120\", \"line\": {\"color\": \"#636efa\", \"dash\": \"solid\"}, \"mode\": \"lines\", \"name\": \"120\", \"orientation\": \"v\", \"showlegend\": true, \"type\": \"scatter\", \"x\": [\"x_counter_RSF\", \"x_counter_kNN\", \"x_test\"], \"xaxis\": \"x\", \"y\": [0.36417422745484984, 0.07790583651512861, 0.003924596589058638], \"yaxis\": \"y\"}, {\"hovertemplate\": \"variable=121<br>index=%{x}<br>value=%{y}<extra></extra>\", \"legendgroup\": \"121\", \"line\": {\"color\": \"#EF553B\", \"dash\": \"solid\"}, \"mode\": \"lines\", \"name\": \"121\", \"orientation\": \"v\", \"showlegend\": true, \"type\": \"scatter\", \"x\": [\"x_counter_RSF\", \"x_counter_kNN\", \"x_test\"], \"xaxis\": \"x\", \"y\": [0.3692134311531641, 0.05632891971617937, 0.010829880833625793], \"yaxis\": \"y\"}, {\"hovertemplate\": \"variable=122<br>index=%{x}<br>value=%{y}<extra></extra>\", \"legendgroup\": \"122\", \"line\": {\"color\": \"#00cc96\", \"dash\": \"solid\"}, \"mode\": \"lines\", \"name\": \"122\", \"orientation\": \"v\", \"showlegend\": true, \"type\": \"scatter\", \"x\": [\"x_counter_RSF\", \"x_counter_kNN\", \"x_test\"], \"xaxis\": \"x\", \"y\": [0.3789460978717324, 0.036121279932558537, 0.025277622044086456], \"yaxis\": \"y\"}, {\"hovertemplate\": \"variable=123<br>index=%{x}<br>value=%{y}<extra></extra>\", \"legendgroup\": \"123\", \"line\": {\"color\": \"#ab63fa\", \"dash\": \"solid\"}, \"mode\": \"lines\", \"name\": \"123\", \"orientation\": \"v\", \"showlegend\": true, \"type\": \"scatter\", \"x\": [\"x_counter_RSF\", \"x_counter_kNN\", \"x_test\"], \"xaxis\": \"x\", \"y\": [0.38447120613592245, 0.03620309056714177, 0.0321081317961216], \"yaxis\": \"y\"}, {\"hovertemplate\": \"variable=124<br>index=%{x}<br>value=%{y}<extra></extra>\", \"legendgroup\": \"124\", \"line\": {\"color\": \"#FFA15A\", \"dash\": \"solid\"}, \"mode\": \"lines\", \"name\": \"124\", \"orientation\": \"v\", \"showlegend\": true, \"type\": \"scatter\", \"x\": [\"x_counter_RSF\", \"x_counter_kNN\", \"x_test\"], \"xaxis\": \"x\", \"y\": [0.38936772538750064, 0.017754914006218314, 0.03622567281126976], \"yaxis\": \"y\"}, {\"hovertemplate\": \"variable=125<br>index=%{x}<br>value=%{y}<extra></extra>\", \"legendgroup\": \"125\", \"line\": {\"color\": \"#19d3f3\", \"dash\": \"solid\"}, \"mode\": \"lines\", \"name\": \"125\", \"orientation\": \"v\", \"showlegend\": true, \"type\": \"scatter\", \"x\": [\"x_counter_RSF\", \"x_counter_kNN\", \"x_test\"], \"xaxis\": \"x\", \"y\": [0.38631797179438077, 0.025897421641275287, 0.030194995924830437], \"yaxis\": \"y\"}, {\"hovertemplate\": \"variable=126<br>index=%{x}<br>value=%{y}<extra></extra>\", \"legendgroup\": \"126\", \"line\": {\"color\": \"#FF6692\", \"dash\": \"solid\"}, \"mode\": \"lines\", \"name\": \"126\", \"orientation\": \"v\", \"showlegend\": true, \"type\": \"scatter\", \"x\": [\"x_counter_RSF\", \"x_counter_kNN\", \"x_test\"], \"xaxis\": \"x\", \"y\": [0.3770189690189548, 0.028528014896437526, 0.01708216965198517], \"yaxis\": \"y\"}, {\"hovertemplate\": \"variable=127<br>index=%{x}<br>value=%{y}<extra></extra>\", \"legendgroup\": \"127\", \"line\": {\"color\": \"#B6E880\", \"dash\": \"solid\"}, \"mode\": \"lines\", \"name\": \"127\", \"orientation\": \"v\", \"showlegend\": true, \"type\": \"scatter\", \"x\": [\"x_counter_RSF\", \"x_counter_kNN\", \"x_test\"], \"xaxis\": \"x\", \"y\": [0.3745313322948033, 0.01679457852151245, 0.014413945376873016], \"yaxis\": \"y\"}],                        {\"legend\": {\"title\": {\"text\": \"variable\"}, \"tracegroupgap\": 0}, \"margin\": {\"t\": 60}, \"template\": {\"data\": {\"bar\": [{\"error_x\": {\"color\": \"#f2f5fa\"}, \"error_y\": {\"color\": \"#f2f5fa\"}, \"marker\": {\"line\": {\"color\": \"rgb(17,17,17)\", \"width\": 0.5}}, \"type\": \"bar\"}], \"barpolar\": [{\"marker\": {\"line\": {\"color\": \"rgb(17,17,17)\", \"width\": 0.5}}, \"type\": \"barpolar\"}], \"carpet\": [{\"aaxis\": {\"endlinecolor\": \"#A2B1C6\", \"gridcolor\": \"#506784\", \"linecolor\": \"#506784\", \"minorgridcolor\": \"#506784\", \"startlinecolor\": \"#A2B1C6\"}, \"baxis\": {\"endlinecolor\": \"#A2B1C6\", \"gridcolor\": \"#506784\", \"linecolor\": \"#506784\", \"minorgridcolor\": \"#506784\", \"startlinecolor\": \"#A2B1C6\"}, \"type\": \"carpet\"}], \"choropleth\": [{\"colorbar\": {\"outlinewidth\": 0, \"ticks\": \"\"}, \"type\": \"choropleth\"}], \"contour\": [{\"colorbar\": {\"outlinewidth\": 0, \"ticks\": \"\"}, \"colorscale\": [[0.0, \"#0d0887\"], [0.1111111111111111, \"#46039f\"], [0.2222222222222222, \"#7201a8\"], [0.3333333333333333, \"#9c179e\"], [0.4444444444444444, \"#bd3786\"], [0.5555555555555556, \"#d8576b\"], [0.6666666666666666, \"#ed7953\"], [0.7777777777777778, \"#fb9f3a\"], [0.8888888888888888, \"#fdca26\"], [1.0, \"#f0f921\"]], \"type\": \"contour\"}], \"contourcarpet\": [{\"colorbar\": {\"outlinewidth\": 0, \"ticks\": \"\"}, \"type\": \"contourcarpet\"}], \"heatmap\": [{\"colorbar\": {\"outlinewidth\": 0, \"ticks\": \"\"}, \"colorscale\": [[0.0, \"#0d0887\"], [0.1111111111111111, \"#46039f\"], [0.2222222222222222, \"#7201a8\"], [0.3333333333333333, \"#9c179e\"], [0.4444444444444444, \"#bd3786\"], [0.5555555555555556, \"#d8576b\"], [0.6666666666666666, \"#ed7953\"], [0.7777777777777778, \"#fb9f3a\"], [0.8888888888888888, \"#fdca26\"], [1.0, \"#f0f921\"]], \"type\": \"heatmap\"}], \"heatmapgl\": [{\"colorbar\": {\"outlinewidth\": 0, \"ticks\": \"\"}, \"colorscale\": [[0.0, \"#0d0887\"], [0.1111111111111111, \"#46039f\"], [0.2222222222222222, \"#7201a8\"], [0.3333333333333333, \"#9c179e\"], [0.4444444444444444, \"#bd3786\"], [0.5555555555555556, \"#d8576b\"], [0.6666666666666666, \"#ed7953\"], [0.7777777777777778, \"#fb9f3a\"], [0.8888888888888888, \"#fdca26\"], [1.0, \"#f0f921\"]], \"type\": \"heatmapgl\"}], \"histogram\": [{\"marker\": {\"colorbar\": {\"outlinewidth\": 0, \"ticks\": \"\"}}, \"type\": \"histogram\"}], \"histogram2d\": [{\"colorbar\": {\"outlinewidth\": 0, \"ticks\": \"\"}, \"colorscale\": [[0.0, \"#0d0887\"], [0.1111111111111111, \"#46039f\"], [0.2222222222222222, \"#7201a8\"], [0.3333333333333333, \"#9c179e\"], [0.4444444444444444, \"#bd3786\"], [0.5555555555555556, \"#d8576b\"], [0.6666666666666666, \"#ed7953\"], [0.7777777777777778, \"#fb9f3a\"], [0.8888888888888888, \"#fdca26\"], [1.0, \"#f0f921\"]], \"type\": \"histogram2d\"}], \"histogram2dcontour\": [{\"colorbar\": {\"outlinewidth\": 0, \"ticks\": \"\"}, \"colorscale\": [[0.0, \"#0d0887\"], [0.1111111111111111, \"#46039f\"], [0.2222222222222222, \"#7201a8\"], [0.3333333333333333, \"#9c179e\"], [0.4444444444444444, \"#bd3786\"], [0.5555555555555556, \"#d8576b\"], [0.6666666666666666, \"#ed7953\"], [0.7777777777777778, \"#fb9f3a\"], [0.8888888888888888, \"#fdca26\"], [1.0, \"#f0f921\"]], \"type\": \"histogram2dcontour\"}], \"mesh3d\": [{\"colorbar\": {\"outlinewidth\": 0, \"ticks\": \"\"}, \"type\": \"mesh3d\"}], \"parcoords\": [{\"line\": {\"colorbar\": {\"outlinewidth\": 0, \"ticks\": \"\"}}, \"type\": \"parcoords\"}], \"pie\": [{\"automargin\": true, \"type\": \"pie\"}], \"scatter\": [{\"marker\": {\"line\": {\"color\": \"#283442\"}}, \"type\": \"scatter\"}], \"scatter3d\": [{\"line\": {\"colorbar\": {\"outlinewidth\": 0, \"ticks\": \"\"}}, \"marker\": {\"colorbar\": {\"outlinewidth\": 0, \"ticks\": \"\"}}, \"type\": \"scatter3d\"}], \"scattercarpet\": [{\"marker\": {\"colorbar\": {\"outlinewidth\": 0, \"ticks\": \"\"}}, \"type\": \"scattercarpet\"}], \"scattergeo\": [{\"marker\": {\"colorbar\": {\"outlinewidth\": 0, \"ticks\": \"\"}}, \"type\": \"scattergeo\"}], \"scattergl\": [{\"marker\": {\"line\": {\"color\": \"#283442\"}}, \"type\": \"scattergl\"}], \"scattermapbox\": [{\"marker\": {\"colorbar\": {\"outlinewidth\": 0, \"ticks\": \"\"}}, \"type\": \"scattermapbox\"}], \"scatterpolar\": [{\"marker\": {\"colorbar\": {\"outlinewidth\": 0, \"ticks\": \"\"}}, \"type\": \"scatterpolar\"}], \"scatterpolargl\": [{\"marker\": {\"colorbar\": {\"outlinewidth\": 0, \"ticks\": \"\"}}, \"type\": \"scatterpolargl\"}], \"scatterternary\": [{\"marker\": {\"colorbar\": {\"outlinewidth\": 0, \"ticks\": \"\"}}, \"type\": \"scatterternary\"}], \"surface\": [{\"colorbar\": {\"outlinewidth\": 0, \"ticks\": \"\"}, \"colorscale\": [[0.0, \"#0d0887\"], [0.1111111111111111, \"#46039f\"], [0.2222222222222222, \"#7201a8\"], [0.3333333333333333, \"#9c179e\"], [0.4444444444444444, \"#bd3786\"], [0.5555555555555556, \"#d8576b\"], [0.6666666666666666, \"#ed7953\"], [0.7777777777777778, \"#fb9f3a\"], [0.8888888888888888, \"#fdca26\"], [1.0, \"#f0f921\"]], \"type\": \"surface\"}], \"table\": [{\"cells\": {\"fill\": {\"color\": \"#506784\"}, \"line\": {\"color\": \"rgb(17,17,17)\"}}, \"header\": {\"fill\": {\"color\": \"#2a3f5f\"}, \"line\": {\"color\": \"rgb(17,17,17)\"}}, \"type\": \"table\"}]}, \"layout\": {\"annotationdefaults\": {\"arrowcolor\": \"#f2f5fa\", \"arrowhead\": 0, \"arrowwidth\": 1}, \"autotypenumbers\": \"strict\", \"coloraxis\": {\"colorbar\": {\"outlinewidth\": 0, \"ticks\": \"\"}}, \"colorscale\": {\"diverging\": [[0, \"#8e0152\"], [0.1, \"#c51b7d\"], [0.2, \"#de77ae\"], [0.3, \"#f1b6da\"], [0.4, \"#fde0ef\"], [0.5, \"#f7f7f7\"], [0.6, \"#e6f5d0\"], [0.7, \"#b8e186\"], [0.8, \"#7fbc41\"], [0.9, \"#4d9221\"], [1, \"#276419\"]], \"sequential\": [[0.0, \"#0d0887\"], [0.1111111111111111, \"#46039f\"], [0.2222222222222222, \"#7201a8\"], [0.3333333333333333, \"#9c179e\"], [0.4444444444444444, \"#bd3786\"], [0.5555555555555556, \"#d8576b\"], [0.6666666666666666, \"#ed7953\"], [0.7777777777777778, \"#fb9f3a\"], [0.8888888888888888, \"#fdca26\"], [1.0, \"#f0f921\"]], \"sequentialminus\": [[0.0, \"#0d0887\"], [0.1111111111111111, \"#46039f\"], [0.2222222222222222, \"#7201a8\"], [0.3333333333333333, \"#9c179e\"], [0.4444444444444444, \"#bd3786\"], [0.5555555555555556, \"#d8576b\"], [0.6666666666666666, \"#ed7953\"], [0.7777777777777778, \"#fb9f3a\"], [0.8888888888888888, \"#fdca26\"], [1.0, \"#f0f921\"]]}, \"colorway\": [\"#636efa\", \"#EF553B\", \"#00cc96\", \"#ab63fa\", \"#FFA15A\", \"#19d3f3\", \"#FF6692\", \"#B6E880\", \"#FF97FF\", \"#FECB52\"], \"font\": {\"color\": \"#f2f5fa\"}, \"geo\": {\"bgcolor\": \"rgb(17,17,17)\", \"lakecolor\": \"rgb(17,17,17)\", \"landcolor\": \"rgb(17,17,17)\", \"showlakes\": true, \"showland\": true, \"subunitcolor\": \"#506784\"}, \"hoverlabel\": {\"align\": \"left\"}, \"hovermode\": \"closest\", \"mapbox\": {\"style\": \"dark\"}, \"paper_bgcolor\": \"rgb(17,17,17)\", \"plot_bgcolor\": \"rgb(17,17,17)\", \"polar\": {\"angularaxis\": {\"gridcolor\": \"#506784\", \"linecolor\": \"#506784\", \"ticks\": \"\"}, \"bgcolor\": \"rgb(17,17,17)\", \"radialaxis\": {\"gridcolor\": \"#506784\", \"linecolor\": \"#506784\", \"ticks\": \"\"}}, \"scene\": {\"xaxis\": {\"backgroundcolor\": \"rgb(17,17,17)\", \"gridcolor\": \"#506784\", \"gridwidth\": 2, \"linecolor\": \"#506784\", \"showbackground\": true, \"ticks\": \"\", \"zerolinecolor\": \"#C8D4E3\"}, \"yaxis\": {\"backgroundcolor\": \"rgb(17,17,17)\", \"gridcolor\": \"#506784\", \"gridwidth\": 2, \"linecolor\": \"#506784\", \"showbackground\": true, \"ticks\": \"\", \"zerolinecolor\": \"#C8D4E3\"}, \"zaxis\": {\"backgroundcolor\": \"rgb(17,17,17)\", \"gridcolor\": \"#506784\", \"gridwidth\": 2, \"linecolor\": \"#506784\", \"showbackground\": true, \"ticks\": \"\", \"zerolinecolor\": \"#C8D4E3\"}}, \"shapedefaults\": {\"line\": {\"color\": \"#f2f5fa\"}}, \"sliderdefaults\": {\"bgcolor\": \"#C8D4E3\", \"bordercolor\": \"rgb(17,17,17)\", \"borderwidth\": 1, \"tickwidth\": 0}, \"ternary\": {\"aaxis\": {\"gridcolor\": \"#506784\", \"linecolor\": \"#506784\", \"ticks\": \"\"}, \"baxis\": {\"gridcolor\": \"#506784\", \"linecolor\": \"#506784\", \"ticks\": \"\"}, \"bgcolor\": \"rgb(17,17,17)\", \"caxis\": {\"gridcolor\": \"#506784\", \"linecolor\": \"#506784\", \"ticks\": \"\"}}, \"title\": {\"x\": 0.05}, \"updatemenudefaults\": {\"bgcolor\": \"#506784\", \"borderwidth\": 0}, \"xaxis\": {\"automargin\": true, \"gridcolor\": \"#283442\", \"linecolor\": \"#506784\", \"ticks\": \"\", \"title\": {\"standoff\": 15}, \"zerolinecolor\": \"#283442\", \"zerolinewidth\": 2}, \"yaxis\": {\"automargin\": true, \"gridcolor\": \"#283442\", \"linecolor\": \"#506784\", \"ticks\": \"\", \"title\": {\"standoff\": 15}, \"zerolinecolor\": \"#283442\", \"zerolinewidth\": 2}}}, \"xaxis\": {\"anchor\": \"y\", \"domain\": [0.0, 1.0], \"title\": {\"text\": \"index\"}}, \"yaxis\": {\"anchor\": \"x\", \"domain\": [0.0, 1.0], \"title\": {\"text\": \"value\"}}},                        {\"responsive\": true}                    ).then(function(){\n",
       "                            \n",
       "var gd = document.getElementById('73dff06f-08c0-4af6-869d-e2dc1a72502d');\n",
       "var x = new MutationObserver(function (mutations, observer) {{\n",
       "        var display = window.getComputedStyle(gd).display;\n",
       "        if (!display || display === 'none') {{\n",
       "            console.log([gd, 'removed!']);\n",
       "            Plotly.purge(gd);\n",
       "            observer.disconnect();\n",
       "        }}\n",
       "}});\n",
       "\n",
       "// Listen for the removal of the full notebook cells\n",
       "var notebookContainer = gd.closest('#notebook-container');\n",
       "if (notebookContainer) {{\n",
       "    x.observe(notebookContainer, {childList: true});\n",
       "}}\n",
       "\n",
       "// Listen for the clearing of the current output cell\n",
       "var outputEl = gd.closest('.output');\n",
       "if (outputEl) {{\n",
       "    x.observe(outputEl, {childList: true});\n",
       "}}\n",
       "\n",
       "                        })                };                });            </script>        </div>"
      ]
     },
     "metadata": {},
     "output_type": "display_data"
    }
   ],
   "source": [
    "sel_instance_idx = 5\n",
    "x_counter_RSF = x_counterfactual_RSF[sel_instance_idx, :]\n",
    "x_counter_kNN = x_counterfactual_kNN[sel_instance_idx, :]\n",
    "y1 = x_counterfactual_RSF[sel_instance_idx, :]\n",
    "y2 = x_counterfactual_kNN[sel_instance_idx, :]\n",
    "y3 = x_test[sel_instance_idx, :]\n",
    "X = np.array([y1, y2, y3])\n",
    "X = X.T\n",
    "cols = [\"x_counter_RSF\",\"x_counter_kNN\",\"x_test\"]\n",
    "df=pd.DataFrame(X, columns=cols)\n",
    "df = df.T\n",
    "display(df)\n",
    "# df.columns = df.iloc[-1]\n",
    "# print(df)\n",
    "# df = df.head(-1)\n",
    "\n",
    "# df.index.name = 'Country'\n",
    "\n",
    "# Want time on the x-axis? ###\n",
    "# just include:\n",
    "# df = df.T\n",
    "##############################\n",
    "\n",
    "# plotly\n",
    "fig = px.line(df, x=df.index, y = df.columns)\n",
    "fig.update_layout(template=\"plotly_dark\")\n",
    "fig.show()"
   ]
  },
  {
   "cell_type": "code",
   "execution_count": 55,
   "id": "4d6d8594-dfe3-4784-a98c-a3085ea04c5c",
   "metadata": {},
   "outputs": [
    {
     "data": {
      "text/html": [
       "<div>\n",
       "<style scoped>\n",
       "    .dataframe tbody tr th:only-of-type {\n",
       "        vertical-align: middle;\n",
       "    }\n",
       "\n",
       "    .dataframe tbody tr th {\n",
       "        vertical-align: top;\n",
       "    }\n",
       "\n",
       "    .dataframe thead th {\n",
       "        text-align: right;\n",
       "    }\n",
       "</style>\n",
       "<table border=\"1\" class=\"dataframe\">\n",
       "  <thead>\n",
       "    <tr style=\"text-align: right;\">\n",
       "      <th>x_test</th>\n",
       "      <th>0.023094</th>\n",
       "      <th>0.039898</th>\n",
       "      <th>0.011821</th>\n",
       "      <th>0.002965</th>\n",
       "      <th>-0.000747</th>\n",
       "      <th>0.023448</th>\n",
       "      <th>0.009273</th>\n",
       "      <th>0.123000</th>\n",
       "      <th>0.455000</th>\n",
       "      <th>0.792000</th>\n",
       "      <th>...</th>\n",
       "      <th>0.023289</th>\n",
       "      <th>0.017181</th>\n",
       "      <th>0.003925</th>\n",
       "      <th>0.010830</th>\n",
       "      <th>0.025278</th>\n",
       "      <th>0.032108</th>\n",
       "      <th>0.036226</th>\n",
       "      <th>0.030195</th>\n",
       "      <th>0.017082</th>\n",
       "      <th>0.014414</th>\n",
       "    </tr>\n",
       "    <tr>\n",
       "      <th>Country</th>\n",
       "      <th></th>\n",
       "      <th></th>\n",
       "      <th></th>\n",
       "      <th></th>\n",
       "      <th></th>\n",
       "      <th></th>\n",
       "      <th></th>\n",
       "      <th></th>\n",
       "      <th></th>\n",
       "      <th></th>\n",
       "      <th></th>\n",
       "      <th></th>\n",
       "      <th></th>\n",
       "      <th></th>\n",
       "      <th></th>\n",
       "      <th></th>\n",
       "      <th></th>\n",
       "      <th></th>\n",
       "      <th></th>\n",
       "      <th></th>\n",
       "      <th></th>\n",
       "    </tr>\n",
       "  </thead>\n",
       "  <tbody>\n",
       "    <tr>\n",
       "      <th>x_counter_RSF</th>\n",
       "      <td>0.023094</td>\n",
       "      <td>0.039898</td>\n",
       "      <td>0.011821</td>\n",
       "      <td>0.002965</td>\n",
       "      <td>-0.000747</td>\n",
       "      <td>0.023448</td>\n",
       "      <td>0.009273</td>\n",
       "      <td>0.12300</td>\n",
       "      <td>0.455000</td>\n",
       "      <td>0.792000</td>\n",
       "      <td>...</td>\n",
       "      <td>0.376414</td>\n",
       "      <td>0.373038</td>\n",
       "      <td>0.364174</td>\n",
       "      <td>0.369213</td>\n",
       "      <td>0.378946</td>\n",
       "      <td>0.384471</td>\n",
       "      <td>0.389368</td>\n",
       "      <td>0.386318</td>\n",
       "      <td>0.377019</td>\n",
       "      <td>0.374531</td>\n",
       "    </tr>\n",
       "    <tr>\n",
       "      <th>x_counter_kNN</th>\n",
       "      <td>0.021178</td>\n",
       "      <td>0.023945</td>\n",
       "      <td>0.032206</td>\n",
       "      <td>0.020446</td>\n",
       "      <td>0.031415</td>\n",
       "      <td>0.012058</td>\n",
       "      <td>0.031515</td>\n",
       "      <td>0.01636</td>\n",
       "      <td>0.013733</td>\n",
       "      <td>0.032101</td>\n",
       "      <td>...</td>\n",
       "      <td>0.284500</td>\n",
       "      <td>0.132750</td>\n",
       "      <td>0.077906</td>\n",
       "      <td>0.056329</td>\n",
       "      <td>0.036121</td>\n",
       "      <td>0.036203</td>\n",
       "      <td>0.017755</td>\n",
       "      <td>0.025897</td>\n",
       "      <td>0.028528</td>\n",
       "      <td>0.016795</td>\n",
       "    </tr>\n",
       "  </tbody>\n",
       "</table>\n",
       "<p>2 rows × 128 columns</p>\n",
       "</div>"
      ],
      "text/plain": [
       "x_test          0.023094   0.039898   0.011821   0.002965  -0.000747  \\\n",
       "Country                                                                \n",
       "x_counter_RSF   0.023094   0.039898   0.011821   0.002965  -0.000747   \n",
       "x_counter_kNN   0.021178   0.023945   0.032206   0.020446   0.031415   \n",
       "\n",
       "x_test          0.023448   0.009273   0.123000   0.455000   0.792000  ...  \\\n",
       "Country                                                               ...   \n",
       "x_counter_RSF   0.023448   0.009273    0.12300   0.455000   0.792000  ...   \n",
       "x_counter_kNN   0.012058   0.031515    0.01636   0.013733   0.032101  ...   \n",
       "\n",
       "x_test          0.023289   0.017181   0.003925   0.010830   0.025278  \\\n",
       "Country                                                                \n",
       "x_counter_RSF   0.376414   0.373038   0.364174   0.369213   0.378946   \n",
       "x_counter_kNN   0.284500   0.132750   0.077906   0.056329   0.036121   \n",
       "\n",
       "x_test          0.032108   0.036226   0.030195   0.017082   0.014414  \n",
       "Country                                                               \n",
       "x_counter_RSF   0.384471   0.389368   0.386318   0.377019   0.374531  \n",
       "x_counter_kNN   0.036203   0.017755   0.025897   0.028528   0.016795  \n",
       "\n",
       "[2 rows x 128 columns]"
      ]
     },
     "execution_count": 55,
     "metadata": {},
     "output_type": "execute_result"
    }
   ],
   "source": [
    "df"
   ]
  },
  {
   "cell_type": "code",
   "execution_count": 38,
   "id": "c05a8896-06fe-4240-bbb9-3834b66e9871",
   "metadata": {},
   "outputs": [],
   "source": [
    "X = X.T"
   ]
  },
  {
   "cell_type": "code",
   "execution_count": 39,
   "id": "32e28527-d35e-4d0f-a673-27983ecf8238",
   "metadata": {},
   "outputs": [
    {
     "data": {
      "text/plain": [
       "(128, 3)"
      ]
     },
     "execution_count": 39,
     "metadata": {},
     "output_type": "execute_result"
    }
   ],
   "source": [
    "X.shape"
   ]
  },
  {
   "cell_type": "code",
   "execution_count": 63,
   "id": "c9a9a819-ce35-40bc-b64c-fdc184d10d78",
   "metadata": {},
   "outputs": [
    {
     "data": {
      "application/vnd.plotly.v1+json": {
       "config": {
        "plotlyServerURL": "https://plot.ly"
       },
       "data": [
        {
         "hovertemplate": "Year=2020<br>Country=%{x}<br>value=%{y}<extra></extra>",
         "legendgroup": "2020",
         "line": {
          "color": "#636efa",
          "dash": "solid"
         },
         "mode": "lines",
         "name": "2020",
         "orientation": "v",
         "showlegend": true,
         "type": "scatter",
         "x": [
          "Canada",
          "France",
          "Germany"
         ],
         "xaxis": "x",
         "y": [
          0,
          0,
          0
         ],
         "yaxis": "y"
        },
        {
         "hovertemplate": "Year=2021<br>Country=%{x}<br>value=%{y}<extra></extra>",
         "legendgroup": "2021",
         "line": {
          "color": "#EF553B",
          "dash": "solid"
         },
         "mode": "lines",
         "name": "2021",
         "orientation": "v",
         "showlegend": true,
         "type": "scatter",
         "x": [
          "Canada",
          "France",
          "Germany"
         ],
         "xaxis": "x",
         "y": [
          -0.2520921296030769,
          0.10960984157818278,
          1.5824811170615634
         ],
         "yaxis": "y"
        },
        {
         "hovertemplate": "Year=2022<br>Country=%{x}<br>value=%{y}<extra></extra>",
         "legendgroup": "2022",
         "line": {
          "color": "#00cc96",
          "dash": "solid"
         },
         "mode": "lines",
         "name": "2022",
         "orientation": "v",
         "showlegend": true,
         "type": "scatter",
         "x": [
          "Canada",
          "France",
          "Germany"
         ],
         "xaxis": "x",
         "y": [
          -1.1613245344593188,
          -0.48202681635210565,
          1.7700843428985988
         ],
         "yaxis": "y"
        },
        {
         "hovertemplate": "Year=2023<br>Country=%{x}<br>value=%{y}<extra></extra>",
         "legendgroup": "2023",
         "line": {
          "color": "#ab63fa",
          "dash": "solid"
         },
         "mode": "lines",
         "name": "2023",
         "orientation": "v",
         "showlegend": true,
         "type": "scatter",
         "x": [
          "Canada",
          "France",
          "Germany"
         ],
         "xaxis": "x",
         "y": [
          -1.491194492238678,
          -1.6747914287739118,
          1.5652078323110115
         ],
         "yaxis": "y"
        },
        {
         "hovertemplate": "Year=2024<br>Country=%{x}<br>value=%{y}<extra></extra>",
         "legendgroup": "2024",
         "line": {
          "color": "#FFA15A",
          "dash": "solid"
         },
         "mode": "lines",
         "name": "2024",
         "orientation": "v",
         "showlegend": true,
         "type": "scatter",
         "x": [
          "Canada",
          "France",
          "Germany"
         ],
         "xaxis": "x",
         "y": [
          -1.850023439239921,
          -1.0713198261644163,
          -0.09958069716068296
         ],
         "yaxis": "y"
        },
        {
         "hovertemplate": "Year=2025<br>Country=%{x}<br>value=%{y}<extra></extra>",
         "legendgroup": "2025",
         "line": {
          "color": "#19d3f3",
          "dash": "solid"
         },
         "mode": "lines",
         "name": "2025",
         "orientation": "v",
         "showlegend": true,
         "type": "scatter",
         "x": [
          "Canada",
          "France",
          "Germany"
         ],
         "xaxis": "x",
         "y": [
          -2.5502024769298726,
          0.08007118332275387,
          1.7577503100706289
         ],
         "yaxis": "y"
        }
       ],
       "layout": {
        "legend": {
         "title": {
          "text": "Year"
         },
         "tracegroupgap": 0
        },
        "margin": {
         "t": 60
        },
        "template": {
         "data": {
          "bar": [
           {
            "error_x": {
             "color": "#f2f5fa"
            },
            "error_y": {
             "color": "#f2f5fa"
            },
            "marker": {
             "line": {
              "color": "rgb(17,17,17)",
              "width": 0.5
             }
            },
            "type": "bar"
           }
          ],
          "barpolar": [
           {
            "marker": {
             "line": {
              "color": "rgb(17,17,17)",
              "width": 0.5
             }
            },
            "type": "barpolar"
           }
          ],
          "carpet": [
           {
            "aaxis": {
             "endlinecolor": "#A2B1C6",
             "gridcolor": "#506784",
             "linecolor": "#506784",
             "minorgridcolor": "#506784",
             "startlinecolor": "#A2B1C6"
            },
            "baxis": {
             "endlinecolor": "#A2B1C6",
             "gridcolor": "#506784",
             "linecolor": "#506784",
             "minorgridcolor": "#506784",
             "startlinecolor": "#A2B1C6"
            },
            "type": "carpet"
           }
          ],
          "choropleth": [
           {
            "colorbar": {
             "outlinewidth": 0,
             "ticks": ""
            },
            "type": "choropleth"
           }
          ],
          "contour": [
           {
            "colorbar": {
             "outlinewidth": 0,
             "ticks": ""
            },
            "colorscale": [
             [
              0,
              "#0d0887"
             ],
             [
              0.1111111111111111,
              "#46039f"
             ],
             [
              0.2222222222222222,
              "#7201a8"
             ],
             [
              0.3333333333333333,
              "#9c179e"
             ],
             [
              0.4444444444444444,
              "#bd3786"
             ],
             [
              0.5555555555555556,
              "#d8576b"
             ],
             [
              0.6666666666666666,
              "#ed7953"
             ],
             [
              0.7777777777777778,
              "#fb9f3a"
             ],
             [
              0.8888888888888888,
              "#fdca26"
             ],
             [
              1,
              "#f0f921"
             ]
            ],
            "type": "contour"
           }
          ],
          "contourcarpet": [
           {
            "colorbar": {
             "outlinewidth": 0,
             "ticks": ""
            },
            "type": "contourcarpet"
           }
          ],
          "heatmap": [
           {
            "colorbar": {
             "outlinewidth": 0,
             "ticks": ""
            },
            "colorscale": [
             [
              0,
              "#0d0887"
             ],
             [
              0.1111111111111111,
              "#46039f"
             ],
             [
              0.2222222222222222,
              "#7201a8"
             ],
             [
              0.3333333333333333,
              "#9c179e"
             ],
             [
              0.4444444444444444,
              "#bd3786"
             ],
             [
              0.5555555555555556,
              "#d8576b"
             ],
             [
              0.6666666666666666,
              "#ed7953"
             ],
             [
              0.7777777777777778,
              "#fb9f3a"
             ],
             [
              0.8888888888888888,
              "#fdca26"
             ],
             [
              1,
              "#f0f921"
             ]
            ],
            "type": "heatmap"
           }
          ],
          "heatmapgl": [
           {
            "colorbar": {
             "outlinewidth": 0,
             "ticks": ""
            },
            "colorscale": [
             [
              0,
              "#0d0887"
             ],
             [
              0.1111111111111111,
              "#46039f"
             ],
             [
              0.2222222222222222,
              "#7201a8"
             ],
             [
              0.3333333333333333,
              "#9c179e"
             ],
             [
              0.4444444444444444,
              "#bd3786"
             ],
             [
              0.5555555555555556,
              "#d8576b"
             ],
             [
              0.6666666666666666,
              "#ed7953"
             ],
             [
              0.7777777777777778,
              "#fb9f3a"
             ],
             [
              0.8888888888888888,
              "#fdca26"
             ],
             [
              1,
              "#f0f921"
             ]
            ],
            "type": "heatmapgl"
           }
          ],
          "histogram": [
           {
            "marker": {
             "colorbar": {
              "outlinewidth": 0,
              "ticks": ""
             }
            },
            "type": "histogram"
           }
          ],
          "histogram2d": [
           {
            "colorbar": {
             "outlinewidth": 0,
             "ticks": ""
            },
            "colorscale": [
             [
              0,
              "#0d0887"
             ],
             [
              0.1111111111111111,
              "#46039f"
             ],
             [
              0.2222222222222222,
              "#7201a8"
             ],
             [
              0.3333333333333333,
              "#9c179e"
             ],
             [
              0.4444444444444444,
              "#bd3786"
             ],
             [
              0.5555555555555556,
              "#d8576b"
             ],
             [
              0.6666666666666666,
              "#ed7953"
             ],
             [
              0.7777777777777778,
              "#fb9f3a"
             ],
             [
              0.8888888888888888,
              "#fdca26"
             ],
             [
              1,
              "#f0f921"
             ]
            ],
            "type": "histogram2d"
           }
          ],
          "histogram2dcontour": [
           {
            "colorbar": {
             "outlinewidth": 0,
             "ticks": ""
            },
            "colorscale": [
             [
              0,
              "#0d0887"
             ],
             [
              0.1111111111111111,
              "#46039f"
             ],
             [
              0.2222222222222222,
              "#7201a8"
             ],
             [
              0.3333333333333333,
              "#9c179e"
             ],
             [
              0.4444444444444444,
              "#bd3786"
             ],
             [
              0.5555555555555556,
              "#d8576b"
             ],
             [
              0.6666666666666666,
              "#ed7953"
             ],
             [
              0.7777777777777778,
              "#fb9f3a"
             ],
             [
              0.8888888888888888,
              "#fdca26"
             ],
             [
              1,
              "#f0f921"
             ]
            ],
            "type": "histogram2dcontour"
           }
          ],
          "mesh3d": [
           {
            "colorbar": {
             "outlinewidth": 0,
             "ticks": ""
            },
            "type": "mesh3d"
           }
          ],
          "parcoords": [
           {
            "line": {
             "colorbar": {
              "outlinewidth": 0,
              "ticks": ""
             }
            },
            "type": "parcoords"
           }
          ],
          "pie": [
           {
            "automargin": true,
            "type": "pie"
           }
          ],
          "scatter": [
           {
            "marker": {
             "line": {
              "color": "#283442"
             }
            },
            "type": "scatter"
           }
          ],
          "scatter3d": [
           {
            "line": {
             "colorbar": {
              "outlinewidth": 0,
              "ticks": ""
             }
            },
            "marker": {
             "colorbar": {
              "outlinewidth": 0,
              "ticks": ""
             }
            },
            "type": "scatter3d"
           }
          ],
          "scattercarpet": [
           {
            "marker": {
             "colorbar": {
              "outlinewidth": 0,
              "ticks": ""
             }
            },
            "type": "scattercarpet"
           }
          ],
          "scattergeo": [
           {
            "marker": {
             "colorbar": {
              "outlinewidth": 0,
              "ticks": ""
             }
            },
            "type": "scattergeo"
           }
          ],
          "scattergl": [
           {
            "marker": {
             "line": {
              "color": "#283442"
             }
            },
            "type": "scattergl"
           }
          ],
          "scattermapbox": [
           {
            "marker": {
             "colorbar": {
              "outlinewidth": 0,
              "ticks": ""
             }
            },
            "type": "scattermapbox"
           }
          ],
          "scatterpolar": [
           {
            "marker": {
             "colorbar": {
              "outlinewidth": 0,
              "ticks": ""
             }
            },
            "type": "scatterpolar"
           }
          ],
          "scatterpolargl": [
           {
            "marker": {
             "colorbar": {
              "outlinewidth": 0,
              "ticks": ""
             }
            },
            "type": "scatterpolargl"
           }
          ],
          "scatterternary": [
           {
            "marker": {
             "colorbar": {
              "outlinewidth": 0,
              "ticks": ""
             }
            },
            "type": "scatterternary"
           }
          ],
          "surface": [
           {
            "colorbar": {
             "outlinewidth": 0,
             "ticks": ""
            },
            "colorscale": [
             [
              0,
              "#0d0887"
             ],
             [
              0.1111111111111111,
              "#46039f"
             ],
             [
              0.2222222222222222,
              "#7201a8"
             ],
             [
              0.3333333333333333,
              "#9c179e"
             ],
             [
              0.4444444444444444,
              "#bd3786"
             ],
             [
              0.5555555555555556,
              "#d8576b"
             ],
             [
              0.6666666666666666,
              "#ed7953"
             ],
             [
              0.7777777777777778,
              "#fb9f3a"
             ],
             [
              0.8888888888888888,
              "#fdca26"
             ],
             [
              1,
              "#f0f921"
             ]
            ],
            "type": "surface"
           }
          ],
          "table": [
           {
            "cells": {
             "fill": {
              "color": "#506784"
             },
             "line": {
              "color": "rgb(17,17,17)"
             }
            },
            "header": {
             "fill": {
              "color": "#2a3f5f"
             },
             "line": {
              "color": "rgb(17,17,17)"
             }
            },
            "type": "table"
           }
          ]
         },
         "layout": {
          "annotationdefaults": {
           "arrowcolor": "#f2f5fa",
           "arrowhead": 0,
           "arrowwidth": 1
          },
          "autotypenumbers": "strict",
          "coloraxis": {
           "colorbar": {
            "outlinewidth": 0,
            "ticks": ""
           }
          },
          "colorscale": {
           "diverging": [
            [
             0,
             "#8e0152"
            ],
            [
             0.1,
             "#c51b7d"
            ],
            [
             0.2,
             "#de77ae"
            ],
            [
             0.3,
             "#f1b6da"
            ],
            [
             0.4,
             "#fde0ef"
            ],
            [
             0.5,
             "#f7f7f7"
            ],
            [
             0.6,
             "#e6f5d0"
            ],
            [
             0.7,
             "#b8e186"
            ],
            [
             0.8,
             "#7fbc41"
            ],
            [
             0.9,
             "#4d9221"
            ],
            [
             1,
             "#276419"
            ]
           ],
           "sequential": [
            [
             0,
             "#0d0887"
            ],
            [
             0.1111111111111111,
             "#46039f"
            ],
            [
             0.2222222222222222,
             "#7201a8"
            ],
            [
             0.3333333333333333,
             "#9c179e"
            ],
            [
             0.4444444444444444,
             "#bd3786"
            ],
            [
             0.5555555555555556,
             "#d8576b"
            ],
            [
             0.6666666666666666,
             "#ed7953"
            ],
            [
             0.7777777777777778,
             "#fb9f3a"
            ],
            [
             0.8888888888888888,
             "#fdca26"
            ],
            [
             1,
             "#f0f921"
            ]
           ],
           "sequentialminus": [
            [
             0,
             "#0d0887"
            ],
            [
             0.1111111111111111,
             "#46039f"
            ],
            [
             0.2222222222222222,
             "#7201a8"
            ],
            [
             0.3333333333333333,
             "#9c179e"
            ],
            [
             0.4444444444444444,
             "#bd3786"
            ],
            [
             0.5555555555555556,
             "#d8576b"
            ],
            [
             0.6666666666666666,
             "#ed7953"
            ],
            [
             0.7777777777777778,
             "#fb9f3a"
            ],
            [
             0.8888888888888888,
             "#fdca26"
            ],
            [
             1,
             "#f0f921"
            ]
           ]
          },
          "colorway": [
           "#636efa",
           "#EF553B",
           "#00cc96",
           "#ab63fa",
           "#FFA15A",
           "#19d3f3",
           "#FF6692",
           "#B6E880",
           "#FF97FF",
           "#FECB52"
          ],
          "font": {
           "color": "#f2f5fa"
          },
          "geo": {
           "bgcolor": "rgb(17,17,17)",
           "lakecolor": "rgb(17,17,17)",
           "landcolor": "rgb(17,17,17)",
           "showlakes": true,
           "showland": true,
           "subunitcolor": "#506784"
          },
          "hoverlabel": {
           "align": "left"
          },
          "hovermode": "closest",
          "mapbox": {
           "style": "dark"
          },
          "paper_bgcolor": "rgb(17,17,17)",
          "plot_bgcolor": "rgb(17,17,17)",
          "polar": {
           "angularaxis": {
            "gridcolor": "#506784",
            "linecolor": "#506784",
            "ticks": ""
           },
           "bgcolor": "rgb(17,17,17)",
           "radialaxis": {
            "gridcolor": "#506784",
            "linecolor": "#506784",
            "ticks": ""
           }
          },
          "scene": {
           "xaxis": {
            "backgroundcolor": "rgb(17,17,17)",
            "gridcolor": "#506784",
            "gridwidth": 2,
            "linecolor": "#506784",
            "showbackground": true,
            "ticks": "",
            "zerolinecolor": "#C8D4E3"
           },
           "yaxis": {
            "backgroundcolor": "rgb(17,17,17)",
            "gridcolor": "#506784",
            "gridwidth": 2,
            "linecolor": "#506784",
            "showbackground": true,
            "ticks": "",
            "zerolinecolor": "#C8D4E3"
           },
           "zaxis": {
            "backgroundcolor": "rgb(17,17,17)",
            "gridcolor": "#506784",
            "gridwidth": 2,
            "linecolor": "#506784",
            "showbackground": true,
            "ticks": "",
            "zerolinecolor": "#C8D4E3"
           }
          },
          "shapedefaults": {
           "line": {
            "color": "#f2f5fa"
           }
          },
          "sliderdefaults": {
           "bgcolor": "#C8D4E3",
           "bordercolor": "rgb(17,17,17)",
           "borderwidth": 1,
           "tickwidth": 0
          },
          "ternary": {
           "aaxis": {
            "gridcolor": "#506784",
            "linecolor": "#506784",
            "ticks": ""
           },
           "baxis": {
            "gridcolor": "#506784",
            "linecolor": "#506784",
            "ticks": ""
           },
           "bgcolor": "rgb(17,17,17)",
           "caxis": {
            "gridcolor": "#506784",
            "linecolor": "#506784",
            "ticks": ""
           }
          },
          "title": {
           "x": 0.05
          },
          "updatemenudefaults": {
           "bgcolor": "#506784",
           "borderwidth": 0
          },
          "xaxis": {
           "automargin": true,
           "gridcolor": "#283442",
           "linecolor": "#506784",
           "ticks": "",
           "title": {
            "standoff": 15
           },
           "zerolinecolor": "#283442",
           "zerolinewidth": 2
          },
          "yaxis": {
           "automargin": true,
           "gridcolor": "#283442",
           "linecolor": "#506784",
           "ticks": "",
           "title": {
            "standoff": 15
           },
           "zerolinecolor": "#283442",
           "zerolinewidth": 2
          }
         }
        },
        "xaxis": {
         "anchor": "y",
         "domain": [
          0,
          1
         ],
         "title": {
          "text": "Country"
         }
        },
        "yaxis": {
         "anchor": "x",
         "domain": [
          0,
          1
         ],
         "title": {
          "text": "value"
         }
        }
       }
      },
      "text/html": [
       "<div>                            <div id=\"a6cff1c0-7bae-4242-9b53-414143e92ed4\" class=\"plotly-graph-div\" style=\"height:525px; width:100%;\"></div>            <script type=\"text/javascript\">                require([\"plotly\"], function(Plotly) {                    window.PLOTLYENV=window.PLOTLYENV || {};                                    if (document.getElementById(\"a6cff1c0-7bae-4242-9b53-414143e92ed4\")) {                    Plotly.newPlot(                        \"a6cff1c0-7bae-4242-9b53-414143e92ed4\",                        [{\"hovertemplate\": \"Year=2020<br>Country=%{x}<br>value=%{y}<extra></extra>\", \"legendgroup\": \"2020\", \"line\": {\"color\": \"#636efa\", \"dash\": \"solid\"}, \"mode\": \"lines\", \"name\": \"2020\", \"orientation\": \"v\", \"showlegend\": true, \"type\": \"scatter\", \"x\": [\"Canada\", \"France\", \"Germany\"], \"xaxis\": \"x\", \"y\": [0.0, 0.0, 0.0], \"yaxis\": \"y\"}, {\"hovertemplate\": \"Year=2021<br>Country=%{x}<br>value=%{y}<extra></extra>\", \"legendgroup\": \"2021\", \"line\": {\"color\": \"#EF553B\", \"dash\": \"solid\"}, \"mode\": \"lines\", \"name\": \"2021\", \"orientation\": \"v\", \"showlegend\": true, \"type\": \"scatter\", \"x\": [\"Canada\", \"France\", \"Germany\"], \"xaxis\": \"x\", \"y\": [-0.2520921296030769, 0.10960984157818278, 1.5824811170615634], \"yaxis\": \"y\"}, {\"hovertemplate\": \"Year=2022<br>Country=%{x}<br>value=%{y}<extra></extra>\", \"legendgroup\": \"2022\", \"line\": {\"color\": \"#00cc96\", \"dash\": \"solid\"}, \"mode\": \"lines\", \"name\": \"2022\", \"orientation\": \"v\", \"showlegend\": true, \"type\": \"scatter\", \"x\": [\"Canada\", \"France\", \"Germany\"], \"xaxis\": \"x\", \"y\": [-1.1613245344593188, -0.48202681635210565, 1.7700843428985988], \"yaxis\": \"y\"}, {\"hovertemplate\": \"Year=2023<br>Country=%{x}<br>value=%{y}<extra></extra>\", \"legendgroup\": \"2023\", \"line\": {\"color\": \"#ab63fa\", \"dash\": \"solid\"}, \"mode\": \"lines\", \"name\": \"2023\", \"orientation\": \"v\", \"showlegend\": true, \"type\": \"scatter\", \"x\": [\"Canada\", \"France\", \"Germany\"], \"xaxis\": \"x\", \"y\": [-1.491194492238678, -1.6747914287739118, 1.5652078323110115], \"yaxis\": \"y\"}, {\"hovertemplate\": \"Year=2024<br>Country=%{x}<br>value=%{y}<extra></extra>\", \"legendgroup\": \"2024\", \"line\": {\"color\": \"#FFA15A\", \"dash\": \"solid\"}, \"mode\": \"lines\", \"name\": \"2024\", \"orientation\": \"v\", \"showlegend\": true, \"type\": \"scatter\", \"x\": [\"Canada\", \"France\", \"Germany\"], \"xaxis\": \"x\", \"y\": [-1.850023439239921, -1.0713198261644163, -0.09958069716068296], \"yaxis\": \"y\"}, {\"hovertemplate\": \"Year=2025<br>Country=%{x}<br>value=%{y}<extra></extra>\", \"legendgroup\": \"2025\", \"line\": {\"color\": \"#19d3f3\", \"dash\": \"solid\"}, \"mode\": \"lines\", \"name\": \"2025\", \"orientation\": \"v\", \"showlegend\": true, \"type\": \"scatter\", \"x\": [\"Canada\", \"France\", \"Germany\"], \"xaxis\": \"x\", \"y\": [-2.5502024769298726, 0.08007118332275387, 1.7577503100706289], \"yaxis\": \"y\"}],                        {\"legend\": {\"title\": {\"text\": \"Year\"}, \"tracegroupgap\": 0}, \"margin\": {\"t\": 60}, \"template\": {\"data\": {\"bar\": [{\"error_x\": {\"color\": \"#f2f5fa\"}, \"error_y\": {\"color\": \"#f2f5fa\"}, \"marker\": {\"line\": {\"color\": \"rgb(17,17,17)\", \"width\": 0.5}}, \"type\": \"bar\"}], \"barpolar\": [{\"marker\": {\"line\": {\"color\": \"rgb(17,17,17)\", \"width\": 0.5}}, \"type\": \"barpolar\"}], \"carpet\": [{\"aaxis\": {\"endlinecolor\": \"#A2B1C6\", \"gridcolor\": \"#506784\", \"linecolor\": \"#506784\", \"minorgridcolor\": \"#506784\", \"startlinecolor\": \"#A2B1C6\"}, \"baxis\": {\"endlinecolor\": \"#A2B1C6\", \"gridcolor\": \"#506784\", \"linecolor\": \"#506784\", \"minorgridcolor\": \"#506784\", \"startlinecolor\": \"#A2B1C6\"}, \"type\": \"carpet\"}], \"choropleth\": [{\"colorbar\": {\"outlinewidth\": 0, \"ticks\": \"\"}, \"type\": \"choropleth\"}], \"contour\": [{\"colorbar\": {\"outlinewidth\": 0, \"ticks\": \"\"}, \"colorscale\": [[0.0, \"#0d0887\"], [0.1111111111111111, \"#46039f\"], [0.2222222222222222, \"#7201a8\"], [0.3333333333333333, \"#9c179e\"], [0.4444444444444444, \"#bd3786\"], [0.5555555555555556, \"#d8576b\"], [0.6666666666666666, \"#ed7953\"], [0.7777777777777778, \"#fb9f3a\"], [0.8888888888888888, \"#fdca26\"], [1.0, \"#f0f921\"]], \"type\": \"contour\"}], \"contourcarpet\": [{\"colorbar\": {\"outlinewidth\": 0, \"ticks\": \"\"}, \"type\": \"contourcarpet\"}], \"heatmap\": [{\"colorbar\": {\"outlinewidth\": 0, \"ticks\": \"\"}, \"colorscale\": [[0.0, \"#0d0887\"], [0.1111111111111111, \"#46039f\"], [0.2222222222222222, \"#7201a8\"], [0.3333333333333333, \"#9c179e\"], [0.4444444444444444, \"#bd3786\"], [0.5555555555555556, \"#d8576b\"], [0.6666666666666666, \"#ed7953\"], [0.7777777777777778, \"#fb9f3a\"], [0.8888888888888888, \"#fdca26\"], [1.0, \"#f0f921\"]], \"type\": \"heatmap\"}], \"heatmapgl\": [{\"colorbar\": {\"outlinewidth\": 0, \"ticks\": \"\"}, \"colorscale\": [[0.0, \"#0d0887\"], [0.1111111111111111, \"#46039f\"], [0.2222222222222222, \"#7201a8\"], [0.3333333333333333, \"#9c179e\"], [0.4444444444444444, \"#bd3786\"], [0.5555555555555556, \"#d8576b\"], [0.6666666666666666, \"#ed7953\"], [0.7777777777777778, \"#fb9f3a\"], [0.8888888888888888, \"#fdca26\"], [1.0, \"#f0f921\"]], \"type\": \"heatmapgl\"}], \"histogram\": [{\"marker\": {\"colorbar\": {\"outlinewidth\": 0, \"ticks\": \"\"}}, \"type\": \"histogram\"}], \"histogram2d\": [{\"colorbar\": {\"outlinewidth\": 0, \"ticks\": \"\"}, \"colorscale\": [[0.0, \"#0d0887\"], [0.1111111111111111, \"#46039f\"], [0.2222222222222222, \"#7201a8\"], [0.3333333333333333, \"#9c179e\"], [0.4444444444444444, \"#bd3786\"], [0.5555555555555556, \"#d8576b\"], [0.6666666666666666, \"#ed7953\"], [0.7777777777777778, \"#fb9f3a\"], [0.8888888888888888, \"#fdca26\"], [1.0, \"#f0f921\"]], \"type\": \"histogram2d\"}], \"histogram2dcontour\": [{\"colorbar\": {\"outlinewidth\": 0, \"ticks\": \"\"}, \"colorscale\": [[0.0, \"#0d0887\"], [0.1111111111111111, \"#46039f\"], [0.2222222222222222, \"#7201a8\"], [0.3333333333333333, \"#9c179e\"], [0.4444444444444444, \"#bd3786\"], [0.5555555555555556, \"#d8576b\"], [0.6666666666666666, \"#ed7953\"], [0.7777777777777778, \"#fb9f3a\"], [0.8888888888888888, \"#fdca26\"], [1.0, \"#f0f921\"]], \"type\": \"histogram2dcontour\"}], \"mesh3d\": [{\"colorbar\": {\"outlinewidth\": 0, \"ticks\": \"\"}, \"type\": \"mesh3d\"}], \"parcoords\": [{\"line\": {\"colorbar\": {\"outlinewidth\": 0, \"ticks\": \"\"}}, \"type\": \"parcoords\"}], \"pie\": [{\"automargin\": true, \"type\": \"pie\"}], \"scatter\": [{\"marker\": {\"line\": {\"color\": \"#283442\"}}, \"type\": \"scatter\"}], \"scatter3d\": [{\"line\": {\"colorbar\": {\"outlinewidth\": 0, \"ticks\": \"\"}}, \"marker\": {\"colorbar\": {\"outlinewidth\": 0, \"ticks\": \"\"}}, \"type\": \"scatter3d\"}], \"scattercarpet\": [{\"marker\": {\"colorbar\": {\"outlinewidth\": 0, \"ticks\": \"\"}}, \"type\": \"scattercarpet\"}], \"scattergeo\": [{\"marker\": {\"colorbar\": {\"outlinewidth\": 0, \"ticks\": \"\"}}, \"type\": \"scattergeo\"}], \"scattergl\": [{\"marker\": {\"line\": {\"color\": \"#283442\"}}, \"type\": \"scattergl\"}], \"scattermapbox\": [{\"marker\": {\"colorbar\": {\"outlinewidth\": 0, \"ticks\": \"\"}}, \"type\": \"scattermapbox\"}], \"scatterpolar\": [{\"marker\": {\"colorbar\": {\"outlinewidth\": 0, \"ticks\": \"\"}}, \"type\": \"scatterpolar\"}], \"scatterpolargl\": [{\"marker\": {\"colorbar\": {\"outlinewidth\": 0, \"ticks\": \"\"}}, \"type\": \"scatterpolargl\"}], \"scatterternary\": [{\"marker\": {\"colorbar\": {\"outlinewidth\": 0, \"ticks\": \"\"}}, \"type\": \"scatterternary\"}], \"surface\": [{\"colorbar\": {\"outlinewidth\": 0, \"ticks\": \"\"}, \"colorscale\": [[0.0, \"#0d0887\"], [0.1111111111111111, \"#46039f\"], [0.2222222222222222, \"#7201a8\"], [0.3333333333333333, \"#9c179e\"], [0.4444444444444444, \"#bd3786\"], [0.5555555555555556, \"#d8576b\"], [0.6666666666666666, \"#ed7953\"], [0.7777777777777778, \"#fb9f3a\"], [0.8888888888888888, \"#fdca26\"], [1.0, \"#f0f921\"]], \"type\": \"surface\"}], \"table\": [{\"cells\": {\"fill\": {\"color\": \"#506784\"}, \"line\": {\"color\": \"rgb(17,17,17)\"}}, \"header\": {\"fill\": {\"color\": \"#2a3f5f\"}, \"line\": {\"color\": \"rgb(17,17,17)\"}}, \"type\": \"table\"}]}, \"layout\": {\"annotationdefaults\": {\"arrowcolor\": \"#f2f5fa\", \"arrowhead\": 0, \"arrowwidth\": 1}, \"autotypenumbers\": \"strict\", \"coloraxis\": {\"colorbar\": {\"outlinewidth\": 0, \"ticks\": \"\"}}, \"colorscale\": {\"diverging\": [[0, \"#8e0152\"], [0.1, \"#c51b7d\"], [0.2, \"#de77ae\"], [0.3, \"#f1b6da\"], [0.4, \"#fde0ef\"], [0.5, \"#f7f7f7\"], [0.6, \"#e6f5d0\"], [0.7, \"#b8e186\"], [0.8, \"#7fbc41\"], [0.9, \"#4d9221\"], [1, \"#276419\"]], \"sequential\": [[0.0, \"#0d0887\"], [0.1111111111111111, \"#46039f\"], [0.2222222222222222, \"#7201a8\"], [0.3333333333333333, \"#9c179e\"], [0.4444444444444444, \"#bd3786\"], [0.5555555555555556, \"#d8576b\"], [0.6666666666666666, \"#ed7953\"], [0.7777777777777778, \"#fb9f3a\"], [0.8888888888888888, \"#fdca26\"], [1.0, \"#f0f921\"]], \"sequentialminus\": [[0.0, \"#0d0887\"], [0.1111111111111111, \"#46039f\"], [0.2222222222222222, \"#7201a8\"], [0.3333333333333333, \"#9c179e\"], [0.4444444444444444, \"#bd3786\"], [0.5555555555555556, \"#d8576b\"], [0.6666666666666666, \"#ed7953\"], [0.7777777777777778, \"#fb9f3a\"], [0.8888888888888888, \"#fdca26\"], [1.0, \"#f0f921\"]]}, \"colorway\": [\"#636efa\", \"#EF553B\", \"#00cc96\", \"#ab63fa\", \"#FFA15A\", \"#19d3f3\", \"#FF6692\", \"#B6E880\", \"#FF97FF\", \"#FECB52\"], \"font\": {\"color\": \"#f2f5fa\"}, \"geo\": {\"bgcolor\": \"rgb(17,17,17)\", \"lakecolor\": \"rgb(17,17,17)\", \"landcolor\": \"rgb(17,17,17)\", \"showlakes\": true, \"showland\": true, \"subunitcolor\": \"#506784\"}, \"hoverlabel\": {\"align\": \"left\"}, \"hovermode\": \"closest\", \"mapbox\": {\"style\": \"dark\"}, \"paper_bgcolor\": \"rgb(17,17,17)\", \"plot_bgcolor\": \"rgb(17,17,17)\", \"polar\": {\"angularaxis\": {\"gridcolor\": \"#506784\", \"linecolor\": \"#506784\", \"ticks\": \"\"}, \"bgcolor\": \"rgb(17,17,17)\", \"radialaxis\": {\"gridcolor\": \"#506784\", \"linecolor\": \"#506784\", \"ticks\": \"\"}}, \"scene\": {\"xaxis\": {\"backgroundcolor\": \"rgb(17,17,17)\", \"gridcolor\": \"#506784\", \"gridwidth\": 2, \"linecolor\": \"#506784\", \"showbackground\": true, \"ticks\": \"\", \"zerolinecolor\": \"#C8D4E3\"}, \"yaxis\": {\"backgroundcolor\": \"rgb(17,17,17)\", \"gridcolor\": \"#506784\", \"gridwidth\": 2, \"linecolor\": \"#506784\", \"showbackground\": true, \"ticks\": \"\", \"zerolinecolor\": \"#C8D4E3\"}, \"zaxis\": {\"backgroundcolor\": \"rgb(17,17,17)\", \"gridcolor\": \"#506784\", \"gridwidth\": 2, \"linecolor\": \"#506784\", \"showbackground\": true, \"ticks\": \"\", \"zerolinecolor\": \"#C8D4E3\"}}, \"shapedefaults\": {\"line\": {\"color\": \"#f2f5fa\"}}, \"sliderdefaults\": {\"bgcolor\": \"#C8D4E3\", \"bordercolor\": \"rgb(17,17,17)\", \"borderwidth\": 1, \"tickwidth\": 0}, \"ternary\": {\"aaxis\": {\"gridcolor\": \"#506784\", \"linecolor\": \"#506784\", \"ticks\": \"\"}, \"baxis\": {\"gridcolor\": \"#506784\", \"linecolor\": \"#506784\", \"ticks\": \"\"}, \"bgcolor\": \"rgb(17,17,17)\", \"caxis\": {\"gridcolor\": \"#506784\", \"linecolor\": \"#506784\", \"ticks\": \"\"}}, \"title\": {\"x\": 0.05}, \"updatemenudefaults\": {\"bgcolor\": \"#506784\", \"borderwidth\": 0}, \"xaxis\": {\"automargin\": true, \"gridcolor\": \"#283442\", \"linecolor\": \"#506784\", \"ticks\": \"\", \"title\": {\"standoff\": 15}, \"zerolinecolor\": \"#283442\", \"zerolinewidth\": 2}, \"yaxis\": {\"automargin\": true, \"gridcolor\": \"#283442\", \"linecolor\": \"#506784\", \"ticks\": \"\", \"title\": {\"standoff\": 15}, \"zerolinecolor\": \"#283442\", \"zerolinewidth\": 2}}}, \"xaxis\": {\"anchor\": \"y\", \"domain\": [0.0, 1.0], \"title\": {\"text\": \"Country\"}}, \"yaxis\": {\"anchor\": \"x\", \"domain\": [0.0, 1.0], \"title\": {\"text\": \"value\"}}},                        {\"responsive\": true}                    ).then(function(){\n",
       "                            \n",
       "var gd = document.getElementById('a6cff1c0-7bae-4242-9b53-414143e92ed4');\n",
       "var x = new MutationObserver(function (mutations, observer) {{\n",
       "        var display = window.getComputedStyle(gd).display;\n",
       "        if (!display || display === 'none') {{\n",
       "            console.log([gd, 'removed!']);\n",
       "            Plotly.purge(gd);\n",
       "            observer.disconnect();\n",
       "        }}\n",
       "}});\n",
       "\n",
       "// Listen for the removal of the full notebook cells\n",
       "var notebookContainer = gd.closest('#notebook-container');\n",
       "if (notebookContainer) {{\n",
       "    x.observe(notebookContainer, {childList: true});\n",
       "}}\n",
       "\n",
       "// Listen for the clearing of the current output cell\n",
       "var outputEl = gd.closest('.output');\n",
       "if (outputEl) {{\n",
       "    x.observe(outputEl, {childList: true});\n",
       "}}\n",
       "\n",
       "                        })                };                });            </script>        </div>"
      ]
     },
     "metadata": {},
     "output_type": "display_data"
    }
   ],
   "source": [
    "import pandas as pd\n",
    "import numpy as np\n",
    "import plotly.express as px\n",
    "import plotly.graph_objects as go\n",
    "import plotly.io as pio\n",
    "\n",
    "import plotly.io as pio\n",
    "\n",
    "# sample dataframe of a wide format\n",
    "np.random.seed(5); cols = ['Canada', 'France', 'Germany']\n",
    "X = np.random.randn(6,len(cols))  \n",
    "df=pd.DataFrame(X, columns=cols)\n",
    "df.iloc[0]=0;df=df.cumsum()\n",
    "df['Year'] =  pd.date_range('2020', freq='Y', periods=len(df)).year.astype(str)\n",
    "df = df.T\n",
    "df.columns = df.iloc[-1]\n",
    "df = df.head(-1)\n",
    "df.index.name = 'Country'\n",
    "\n",
    "# Want time on the x-axis? ###\n",
    "# just include:\n",
    "# df = df.T\n",
    "##############################\n",
    "\n",
    "# plotly\n",
    "fig = px.line(df, x=df.index, y = df.columns)\n",
    "fig.update_layout(template=\"plotly_dark\")\n",
    "\n"
   ]
  },
  {
   "cell_type": "code",
   "execution_count": 65,
   "id": "c5b1e3ee-f181-4881-8766-c960d99f0f03",
   "metadata": {},
   "outputs": [
    {
     "data": {
      "text/html": [
       "<div>\n",
       "<style scoped>\n",
       "    .dataframe tbody tr th:only-of-type {\n",
       "        vertical-align: middle;\n",
       "    }\n",
       "\n",
       "    .dataframe tbody tr th {\n",
       "        vertical-align: top;\n",
       "    }\n",
       "\n",
       "    .dataframe thead th {\n",
       "        text-align: right;\n",
       "    }\n",
       "</style>\n",
       "<table border=\"1\" class=\"dataframe\">\n",
       "  <thead>\n",
       "    <tr style=\"text-align: right;\">\n",
       "      <th>Year</th>\n",
       "      <th>2020</th>\n",
       "      <th>2021</th>\n",
       "      <th>2022</th>\n",
       "      <th>2023</th>\n",
       "      <th>2024</th>\n",
       "      <th>2025</th>\n",
       "    </tr>\n",
       "    <tr>\n",
       "      <th>Country</th>\n",
       "      <th></th>\n",
       "      <th></th>\n",
       "      <th></th>\n",
       "      <th></th>\n",
       "      <th></th>\n",
       "      <th></th>\n",
       "    </tr>\n",
       "  </thead>\n",
       "  <tbody>\n",
       "    <tr>\n",
       "      <th>Canada</th>\n",
       "      <td>0.0</td>\n",
       "      <td>-0.252092</td>\n",
       "      <td>-1.161325</td>\n",
       "      <td>-1.491194</td>\n",
       "      <td>-1.850023</td>\n",
       "      <td>-2.550202</td>\n",
       "    </tr>\n",
       "    <tr>\n",
       "      <th>France</th>\n",
       "      <td>0.0</td>\n",
       "      <td>0.10961</td>\n",
       "      <td>-0.482027</td>\n",
       "      <td>-1.674791</td>\n",
       "      <td>-1.07132</td>\n",
       "      <td>0.080071</td>\n",
       "    </tr>\n",
       "    <tr>\n",
       "      <th>Germany</th>\n",
       "      <td>0.0</td>\n",
       "      <td>1.582481</td>\n",
       "      <td>1.770084</td>\n",
       "      <td>1.565208</td>\n",
       "      <td>-0.099581</td>\n",
       "      <td>1.75775</td>\n",
       "    </tr>\n",
       "  </tbody>\n",
       "</table>\n",
       "</div>"
      ],
      "text/plain": [
       "Year    2020      2021      2022      2023      2024      2025\n",
       "Country                                                       \n",
       "Canada   0.0 -0.252092 -1.161325 -1.491194 -1.850023 -2.550202\n",
       "France   0.0   0.10961 -0.482027 -1.674791  -1.07132  0.080071\n",
       "Germany  0.0  1.582481  1.770084  1.565208 -0.099581   1.75775"
      ]
     },
     "execution_count": 65,
     "metadata": {},
     "output_type": "execute_result"
    }
   ],
   "source": [
    "df"
   ]
  },
  {
   "cell_type": "code",
   "execution_count": null,
   "id": "faab96d4-f31a-4753-b532-3fb6a8e6701e",
   "metadata": {},
   "outputs": [],
   "source": []
  }
 ],
 "metadata": {
  "kernelspec": {
   "display_name": "Python 3",
   "language": "python",
   "name": "python3"
  },
  "language_info": {
   "codemirror_mode": {
    "name": "ipython",
    "version": 3
   },
   "file_extension": ".py",
   "mimetype": "text/x-python",
   "name": "python",
   "nbconvert_exporter": "python",
   "pygments_lexer": "ipython3",
   "version": "3.7.13"
  }
 },
 "nbformat": 4,
 "nbformat_minor": 5
}
