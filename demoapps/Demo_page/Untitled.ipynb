{
 "cells": [
  {
   "cell_type": "code",
   "execution_count": 5,
   "id": "d690ad88-daf9-4679-9e20-b439355ea049",
   "metadata": {
    "pycharm": {
     "name": "#%%\n"
    }
   },
   "outputs": [],
   "source": [
    "import numpy as np\n",
    "import pandas as pd\n",
    "#import random\n",
    "# import time\n",
    "import matplotlib.pyplot as plt\n",
    "\n",
    "plt.style.reload_library()\n",
    "\n",
    "# from sktime.classification.interval_based import RandomIntervalSpectralEnsemble\n",
    "# from sktime.classification.dictionary_based import ContractableBOSS, BOSSEnsemble\n",
    "# from sktime.datatypes._panel._convert import from_2d_array_to_nested\n",
    "import sklearn\n",
    "\n",
    "from sklearn.model_selection import train_test_split\n",
    "# from sklearn.ensemble import ExtraTreesClassifier\n",
    "# from sklearn.preprocessing import StandardScaler, normalize\n",
    "from sklearn.neighbors import KNeighborsClassifier\n",
    "# from sklearn.pipeline import make_pipeline\n",
    "# from sklearn.linear_model import RidgeClassifierCV\n",
    "from sklearn.neighbors import KNeighborsClassifier\n",
    "from wildboar.datasets import list_datasets, load_dataset\n",
    "from wildboar.ensemble import ShapeletForestClassifier\n",
    "\n",
    "# import pywt\n",
    "# from pywt import wavedec, waverec\n",
    "\n",
    "from tqdm.notebook import tqdm\n",
    "\n",
    "# import pickle\n",
    "\n",
    "# UCR time series datasets: https://www.cs.ucr.edu/%7Eeamonn/time_series_data_2018/\n",
    "\n",
    "# UCR time series datasets: https://www.cs.ucr.edu/%7Eeamonn/time_series_data_2018/"
   ]
  },
  {
   "cell_type": "code",
   "execution_count": 6,
   "outputs": [
    {
     "name": "stdout",
     "output_type": "stream",
     "text": [
      "['cityblock', 'cosine', 'euclidean', 'haversine', 'l2', 'l1', 'manhattan', 'precomputed', 'nan_euclidean', 'braycurtis', 'canberra', 'chebyshev', 'correlation', 'cosine', 'dice', 'hamming', 'jaccard', 'kulsinski', 'mahalanobis', 'matching', 'minkowski', 'rogerstanimoto', 'russellrao', 'seuclidean', 'sokalmichener', 'sokalsneath', 'sqeuclidean', 'yule', 'wminkowski']\n",
      "euclidean\n"
     ]
    }
   ],
   "source": [
    "knn_metrics = sklearn.neighbors.VALID_METRICS['brute']\n",
    "print(knn_metrics)\n",
    "knn_metrics = ['cityblock', 'cosine', 'euclidean', 'nan_euclidean']\n",
    "knn_metric = 'euclidean'\n",
    "print(knn_metric)"
   ],
   "metadata": {
    "collapsed": false,
    "pycharm": {
     "name": "#%%\n"
    }
   }
  },
  {
   "cell_type": "code",
   "execution_count": 7,
   "outputs": [
    {
     "name": "stdout",
     "output_type": "stream",
     "text": [
      "KNeighborsClassifier(metric='euclidean')\n"
     ]
    }
   ],
   "source": [
    "clf_kNN = KNeighborsClassifier(metric=knn_metric)\n",
    "print(clf_kNN)"
   ],
   "metadata": {
    "collapsed": false,
    "pycharm": {
     "name": "#%%\n"
    }
   }
  },
  {
   "cell_type": "code",
   "execution_count": 8,
   "id": "c205aff3-e140-4806-b966-d2f011aaf406",
   "metadata": {
    "pycharm": {
     "name": "#%%\n"
    }
   },
   "outputs": [],
   "source": [
    "UCR_datasets = list_datasets(repository='wildboar/ucr')"
   ]
  },
  {
   "cell_type": "code",
   "execution_count": 9,
   "id": "d60f0190-aee1-4d88-b28a-1d193a9d17c0",
   "metadata": {
    "pycharm": {
     "name": "#%%\n"
    }
   },
   "outputs": [
    {
     "data": {
      "text/plain": "  0%|          | 0/128 [00:00<?, ?it/s]",
      "application/vnd.jupyter.widget-view+json": {
       "version_major": 2,
       "version_minor": 0,
       "model_id": "50d7751ad48142ec8b4e0a1b256da30d"
      }
     },
     "metadata": {},
     "output_type": "display_data"
    }
   ],
   "source": [
    "dataset_info = pd.DataFrame(columns=['size', 'classes', 'length'], index=UCR_datasets, dtype=float)\n",
    "\n",
    "for dataset in tqdm(UCR_datasets):\n",
    "    x_all, y_all = load_dataset(dataset, repository='wildboar/ucr')\n",
    "\n",
    "    # remove rows wirandomth missing values\n",
    "    x = x_all[~np.isnan(x_all).any(axis=1)]\n",
    "    y = y_all[~np.isnan(x_all).any(axis=1)]\n",
    "\n",
    "    classes = np.unique(y)  # all class labels\n",
    "    total_examples, ts_length = x.shape\n",
    "\n",
    "    dataset_info.loc[dataset] = [total_examples, len(classes), ts_length]\n",
    "\n",
    "## Drop rows that have a value of zero in a column\n",
    "dataset_info = dataset_info.loc[~(dataset_info == 0).any(axis=1)]\n",
    "dataset_info = dataset_info.loc[~(dataset_info == 1).any(axis=1)]\n",
    "\n",
    "dataset_info.to_pickle('data/datasets_information.pkl')"
   ]
  },
  {
   "cell_type": "code",
   "execution_count": 10,
   "id": "f56e79ae-f3f0-4535-8f7d-b9716be9d851",
   "metadata": {
    "pycharm": {
     "name": "#%%\n"
    }
   },
   "outputs": [],
   "source": [
    "dataset_info = pd.read_pickle('data/datasets_information.pkl')"
   ]
  },
  {
   "cell_type": "code",
   "execution_count": 11,
   "id": "761b266e-e579-4bfc-b96d-5d58e1cbf1ee",
   "metadata": {
    "pycharm": {
     "name": "#%%\n"
    }
   },
   "outputs": [
    {
     "data": {
      "text/plain": "                 size  classes  length\nACSF1           200.0     10.0  1460.0\nAdiac           781.0     37.0   176.0\nArrowHead       211.0      3.0   251.0\nBME             180.0      3.0   128.0\nBeef             60.0      5.0   470.0\n...               ...      ...     ...\nWine            111.0      2.0   234.0\nWordSynonyms    905.0     25.0   270.0\nWorms           258.0      5.0   900.0\nWormsTwoClass   258.0      2.0   900.0\nYoga           3300.0      2.0   426.0\n\n[117 rows x 3 columns]",
      "text/html": "<div>\n<style scoped>\n    .dataframe tbody tr th:only-of-type {\n        vertical-align: middle;\n    }\n\n    .dataframe tbody tr th {\n        vertical-align: top;\n    }\n\n    .dataframe thead th {\n        text-align: right;\n    }\n</style>\n<table border=\"1\" class=\"dataframe\">\n  <thead>\n    <tr style=\"text-align: right;\">\n      <th></th>\n      <th>size</th>\n      <th>classes</th>\n      <th>length</th>\n    </tr>\n  </thead>\n  <tbody>\n    <tr>\n      <th>ACSF1</th>\n      <td>200.0</td>\n      <td>10.0</td>\n      <td>1460.0</td>\n    </tr>\n    <tr>\n      <th>Adiac</th>\n      <td>781.0</td>\n      <td>37.0</td>\n      <td>176.0</td>\n    </tr>\n    <tr>\n      <th>ArrowHead</th>\n      <td>211.0</td>\n      <td>3.0</td>\n      <td>251.0</td>\n    </tr>\n    <tr>\n      <th>BME</th>\n      <td>180.0</td>\n      <td>3.0</td>\n      <td>128.0</td>\n    </tr>\n    <tr>\n      <th>Beef</th>\n      <td>60.0</td>\n      <td>5.0</td>\n      <td>470.0</td>\n    </tr>\n    <tr>\n      <th>...</th>\n      <td>...</td>\n      <td>...</td>\n      <td>...</td>\n    </tr>\n    <tr>\n      <th>Wine</th>\n      <td>111.0</td>\n      <td>2.0</td>\n      <td>234.0</td>\n    </tr>\n    <tr>\n      <th>WordSynonyms</th>\n      <td>905.0</td>\n      <td>25.0</td>\n      <td>270.0</td>\n    </tr>\n    <tr>\n      <th>Worms</th>\n      <td>258.0</td>\n      <td>5.0</td>\n      <td>900.0</td>\n    </tr>\n    <tr>\n      <th>WormsTwoClass</th>\n      <td>258.0</td>\n      <td>2.0</td>\n      <td>900.0</td>\n    </tr>\n    <tr>\n      <th>Yoga</th>\n      <td>3300.0</td>\n      <td>2.0</td>\n      <td>426.0</td>\n    </tr>\n  </tbody>\n</table>\n<p>117 rows × 3 columns</p>\n</div>"
     },
     "execution_count": 11,
     "metadata": {},
     "output_type": "execute_result"
    }
   ],
   "source": [
    "dataset_info"
   ]
  },
  {
   "cell_type": "code",
   "execution_count": 12,
   "id": "773142d3-9107-4832-81d1-a7a9a2169fb9",
   "metadata": {
    "pycharm": {
     "name": "#%%\n"
    }
   },
   "outputs": [
    {
     "data": {
      "text/plain": "               size     classes       length\ncount    117.000000  117.000000   117.000000\nmean    1581.572650    8.264957   537.102564\nstd     2996.395773   12.256872   583.137433\nmin       40.000000    2.000000    15.000000\n25%      258.000000    2.000000   136.000000\n50%      724.000000    3.000000   301.000000\n75%     1272.000000    7.000000   720.000000\nmax    24000.000000   60.000000  2844.000000",
      "text/html": "<div>\n<style scoped>\n    .dataframe tbody tr th:only-of-type {\n        vertical-align: middle;\n    }\n\n    .dataframe tbody tr th {\n        vertical-align: top;\n    }\n\n    .dataframe thead th {\n        text-align: right;\n    }\n</style>\n<table border=\"1\" class=\"dataframe\">\n  <thead>\n    <tr style=\"text-align: right;\">\n      <th></th>\n      <th>size</th>\n      <th>classes</th>\n      <th>length</th>\n    </tr>\n  </thead>\n  <tbody>\n    <tr>\n      <th>count</th>\n      <td>117.000000</td>\n      <td>117.000000</td>\n      <td>117.000000</td>\n    </tr>\n    <tr>\n      <th>mean</th>\n      <td>1581.572650</td>\n      <td>8.264957</td>\n      <td>537.102564</td>\n    </tr>\n    <tr>\n      <th>std</th>\n      <td>2996.395773</td>\n      <td>12.256872</td>\n      <td>583.137433</td>\n    </tr>\n    <tr>\n      <th>min</th>\n      <td>40.000000</td>\n      <td>2.000000</td>\n      <td>15.000000</td>\n    </tr>\n    <tr>\n      <th>25%</th>\n      <td>258.000000</td>\n      <td>2.000000</td>\n      <td>136.000000</td>\n    </tr>\n    <tr>\n      <th>50%</th>\n      <td>724.000000</td>\n      <td>3.000000</td>\n      <td>301.000000</td>\n    </tr>\n    <tr>\n      <th>75%</th>\n      <td>1272.000000</td>\n      <td>7.000000</td>\n      <td>720.000000</td>\n    </tr>\n    <tr>\n      <th>max</th>\n      <td>24000.000000</td>\n      <td>60.000000</td>\n      <td>2844.000000</td>\n    </tr>\n  </tbody>\n</table>\n</div>"
     },
     "execution_count": 12,
     "metadata": {},
     "output_type": "execute_result"
    }
   ],
   "source": [
    "dataset_info.describe()"
   ]
  },
  {
   "cell_type": "code",
   "execution_count": 13,
   "id": "f35fac45-2114-433a-bd70-a5733e87ecfa",
   "metadata": {
    "pycharm": {
     "name": "#%%\n"
    }
   },
   "outputs": [
    {
     "data": {
      "text/plain": "size       1035.2\nclasses       6.2\nlength      571.4\nName: 0.7, dtype: float64"
     },
     "execution_count": 13,
     "metadata": {},
     "output_type": "execute_result"
    }
   ],
   "source": [
    "dataset_info.quantile(.70)"
   ]
  },
  {
   "cell_type": "code",
   "execution_count": 14,
   "id": "47f9d9c7-11e4-443e-8cd3-ff89aa0764f9",
   "metadata": {
    "pycharm": {
     "name": "#%%\n"
    }
   },
   "outputs": [],
   "source": [
    "# # select subset of all datasets\n",
    "# lb_size = 1\n",
    "# up_size = 200\n",
    "# lb_length = 10\n",
    "# up_length = 1000\n",
    "# lb_class = 2\n",
    "# up_class = 8\n",
    "#\n",
    "# dataset_info = pd.read_pickle('data/datasets_information.pkl')\n",
    "#\n",
    "# selected = dataset_info.loc[\n",
    "#     (dataset_info['size'] >= lb_size) & (dataset_info['size'] <= up_size) & (dataset_info['classes'] >= lb_class) & (\n",
    "#             dataset_info['classes'] <= up_class) & (dataset_info['length'] >= lb_length) & (\n",
    "#             dataset_info['length'] <= up_length)]\n",
    "#\n",
    "#\n",
    "#\n",
    "# # condition = (dataset_info['classes'] <= classes_ub) & (dataset_info['classes'] >= classes_lb)\n",
    "# # selected = dataset_info.loc[condition]\n"
   ]
  },
  {
   "cell_type": "code",
   "execution_count": 91,
   "outputs": [
    {
     "data": {
      "text/plain": "'Chinatown'"
     },
     "execution_count": 91,
     "metadata": {},
     "output_type": "execute_result"
    }
   ],
   "source": [
    "dataset_info\n",
    "\n",
    "selected_datasets = dataset_info.index.to_list()\n",
    "\n",
    "index_dataset = 9\n",
    "\n",
    "dataset = selected_datasets[index_dataset]\n",
    "dataset"
   ],
   "metadata": {
    "collapsed": false,
    "pycharm": {
     "name": "#%%\n"
    }
   }
  },
  {
   "cell_type": "code",
   "execution_count": 15,
   "id": "f817978b-5fb6-46a8-a462-c1eda50168b3",
   "metadata": {
    "pycharm": {
     "name": "#%%\n"
    }
   },
   "outputs": [],
   "source": [
    "from wildboar.explain.counterfactual import counterfactuals"
   ]
  },
  {
   "cell_type": "code",
   "execution_count": 16,
   "id": "23cb157b-40cd-4157-a63d-e89b93011034",
   "metadata": {
    "pycharm": {
     "name": "#%%\n"
    }
   },
   "outputs": [],
   "source": [
    "import plotly.express as px\n",
    "\n",
    "# df = px.data.stocks()\n"
   ]
  },
  {
   "cell_type": "code",
   "execution_count": 93,
   "id": "ba774ccb-f415-4cf6-aac5-88084a7d7299",
   "metadata": {
    "pycharm": {
     "name": "#%%\n"
    }
   },
   "outputs": [
    {
     "name": "stdout",
     "output_type": "stream",
     "text": [
      "[ 1.  2.  3.  4.  5.  6.  7.  8.  9. 10. 11. 12. 13. 14. 15. 16. 17. 18.\n",
      " 19. 20. 21. 22. 23. 24. 25. 26. 27. 28. 29. 30. 31. 32. 33. 34. 35. 36.\n",
      " 37.]\n",
      "[{'label': 1.0, 'value': 1.0}, {'label': 2.0, 'value': 2.0}, {'label': 3.0, 'value': 3.0}, {'label': 4.0, 'value': 4.0}, {'label': 5.0, 'value': 5.0}, {'label': 6.0, 'value': 6.0}, {'label': 7.0, 'value': 7.0}, {'label': 8.0, 'value': 8.0}, {'label': 9.0, 'value': 9.0}, {'label': 10.0, 'value': 10.0}, {'label': 11.0, 'value': 11.0}, {'label': 12.0, 'value': 12.0}, {'label': 13.0, 'value': 13.0}, {'label': 14.0, 'value': 14.0}, {'label': 15.0, 'value': 15.0}, {'label': 16.0, 'value': 16.0}, {'label': 17.0, 'value': 17.0}, {'label': 18.0, 'value': 18.0}, {'label': 19.0, 'value': 19.0}, {'label': 20.0, 'value': 20.0}, {'label': 21.0, 'value': 21.0}, {'label': 22.0, 'value': 22.0}, {'label': 23.0, 'value': 23.0}, {'label': 24.0, 'value': 24.0}, {'label': 25.0, 'value': 25.0}, {'label': 26.0, 'value': 26.0}, {'label': 27.0, 'value': 27.0}, {'label': 28.0, 'value': 28.0}, {'label': 29.0, 'value': 29.0}, {'label': 30.0, 'value': 30.0}, {'label': 31.0, 'value': 31.0}, {'label': 32.0, 'value': 32.0}, {'label': 33.0, 'value': 33.0}, {'label': 34.0, 'value': 34.0}, {'label': 35.0, 'value': 35.0}, {'label': 36.0, 'value': 36.0}, {'label': 37.0, 'value': 37.0}]\n"
     ]
    }
   ],
   "source": [
    "selected_datasets = dataset_info.index.to_list()\n",
    "\n",
    "index_dataset = 1\n",
    "\n",
    "dataset = selected_datasets[index_dataset]\n",
    "\n",
    "x_all, y_all = load_dataset(dataset, repository='wildboar/ucr')\n",
    "\n",
    "# remove rows wirandomth missing values\n",
    "x = x_all[~np.isnan(x_all).any(axis=1)]\n",
    "y = y_all[~np.isnan(x_all).any(axis=1)]\n",
    "\n",
    "classes = np.unique(y)  # all class labels\n",
    "total_examples, ts_length = x.shape\n",
    "print(classes)\n",
    "print([{\"label\": i, \"value\": i} for i in classes])\n",
    "x_ind = np.arange(total_examples)\n",
    "\n",
    "x_train_ind, x_test_ind, y_train, y_test = train_test_split(x_ind, y, test_size=.30, random_state=0, shuffle=True,\n",
    "                                                            stratify=None)\n",
    "\n",
    "x_train = x[x_train_ind, :]\n",
    "x_test = x[x_test_ind, :]\n",
    "# print(\"x_train\")\n",
    "# print(x_train)\n",
    "# print(\"x_test\")\n",
    "# print(x_test)\n",
    "desired_class = 1.0\n",
    "example_class = 2.0\n",
    "temp_example_class = example_class\n",
    "# y_train[y_train != example_class] = -1.0\n",
    "# y_test[y_test != example_class] = -1.0\n",
    "# print(len(y_train))\n",
    "# print(len(y_test))\n",
    "# print(\"len(x_train)\")\n",
    "# print(len(x_train))\n",
    "# print(\"len(x_test)\")\n",
    "# print(len(x_test))\n",
    "y_train[y_train == example_class] = -2.0\n",
    "y_test[y_test == example_class] = -2.0\n",
    "example_class = -2.0\n",
    "\n",
    "y_train[(y_train == desired_class) & (y_train != example_class)] = -1.0\n",
    "y_test[(y_test == desired_class) & (y_test != example_class)] = -1.0\n",
    "\n",
    "x_train = np.delete(x_train, np.argwhere((y_train != -1.0) & (y_train != example_class)), axis=0)\n",
    "x_test = np.delete(x_test, np.argwhere((y_test != -1.0) & (y_test != example_class)), axis=0)\n",
    "\n",
    "y_train = np.delete(y_train, np.argwhere((y_train != -1.0) & (y_train != example_class)))\n",
    "y_test = np.delete(y_test, np.argwhere((y_test != -1.0) & (y_test != example_class)))\n",
    "\n",
    "y_train[y_train == example_class] = 1.0\n",
    "y_test[y_test == example_class] = 1.0\n",
    "# arr[(arr > 180) & (arr < 240) | (arr == 170)] = 1\n",
    "# print(y_train)\n",
    "# print(y_test)\n",
    "# Delete values from x based on indexes from y and delete values from y that we do not want\n",
    "# print(len(y_train))\n",
    "# print(len(y_test))\n",
    "# print(\"len(x_train)\")\n",
    "# print(len(x_train))\n",
    "# print(\"len(x_test)\")\n",
    "# print(len(x_test))\n",
    "\n",
    "# y_train = [x for x in xs if x != 'b']\n",
    "# y_test = [x for x in xs if x != 'b']\n",
    "\n",
    "clf_kNN = KNeighborsClassifier(metric=\"euclidean\")\n",
    "clf_kNN.fit(x_train, y_train)\n",
    "\n",
    "#clf_RSF = ShapeletForestClassifier(n_estimators=50, metric='scaled_euclidean')\n",
    "clf_RSF = ShapeletForestClassifier(\n",
    "    n_estimators=20,\n",
    "    metric='euclidean',\n",
    "    max_depth=5,\n",
    "    max_shapelet_size=.4,  # INTERACTION: Make this as input from user\n",
    "    random_state=1,\n",
    ")\n",
    "clf_RSF.n_features_in_ = x_train.shape[-1]\n",
    "clf_RSF.fit(x_train, y_train)\n",
    "\n",
    "x_counterfactual_RSF, x_valid_RSF, x_score_RSF = counterfactuals(\n",
    "    clf_RSF,\n",
    "    x_test,\n",
    "    -y_test,  # invert the classes, i.e., transform 1 -> -1 and -1 -> 1\n",
    "    scoring=\"euclidean\",\n",
    "    valid_scoring=False,\n",
    "    random_state=2,\n",
    "    epsilon=1,\n",
    ")\n",
    "x_counterfactual_kNN, x_valid_kNN, x_score_kNN = counterfactuals(\n",
    "    clf_kNN,\n",
    "    x_test,\n",
    "    -y_test,  # invert the classes, i.e., transform 1 -> -1 and -1 -> 1\n",
    "    scoring=\"euclidean\",\n",
    "    valid_scoring=False,\n",
    ")\n"
   ]
  },
  {
   "cell_type": "code",
   "execution_count": 97,
   "outputs": [
    {
     "data": {
      "text/plain": "(20, 176)"
     },
     "execution_count": 97,
     "metadata": {},
     "output_type": "execute_result"
    }
   ],
   "source": [
    "x_counterfactual_RSF.shape[0]\n",
    "x_test.shape"
   ],
   "metadata": {
    "collapsed": false,
    "pycharm": {
     "name": "#%%\n"
    }
   }
  },
  {
   "cell_type": "code",
   "execution_count": 94,
   "id": "bcfce990-d0ac-4397-a2bd-2892388f28b1",
   "metadata": {
    "pycharm": {
     "name": "#%%\n"
    }
   },
   "outputs": [
    {
     "data": {
      "application/vnd.plotly.v1+json": {
       "data": [
        {
         "hovertemplate": "variable=RSF_counter<br>length=%{x}<br>value=%{y}<extra></extra>",
         "legendgroup": "RSF_counter",
         "line": {
          "color": "#636efa",
          "dash": "solid"
         },
         "marker": {
          "symbol": "circle"
         },
         "mode": "lines",
         "name": "RSF_counter",
         "orientation": "v",
         "showlegend": true,
         "x": [
          0,
          1,
          2,
          3,
          4,
          5,
          6,
          7,
          8,
          9,
          10,
          11,
          12,
          13,
          14,
          15,
          16,
          17,
          18,
          19,
          20,
          21,
          22,
          23,
          24,
          25,
          26,
          27,
          28,
          29,
          30,
          31,
          32,
          33,
          34,
          35,
          36,
          37,
          38,
          39,
          40,
          41,
          42,
          43,
          44,
          45,
          46,
          47,
          48,
          49,
          50,
          51,
          52,
          53,
          54,
          55,
          56,
          57,
          58,
          59,
          60,
          61,
          62,
          63,
          64,
          65,
          66,
          67,
          68,
          69,
          70,
          71,
          72,
          73,
          74,
          75,
          76,
          77,
          78,
          79,
          80,
          81,
          82,
          83,
          84,
          85,
          86,
          87,
          88,
          89,
          90,
          91,
          92,
          93,
          94,
          95,
          96,
          97,
          98,
          99,
          100,
          101,
          102,
          103,
          104,
          105,
          106,
          107,
          108,
          109,
          110,
          111,
          112,
          113,
          114,
          115,
          116,
          117,
          118,
          119,
          120,
          121,
          122,
          123,
          124,
          125,
          126,
          127,
          128,
          129,
          130,
          131,
          132,
          133,
          134,
          135,
          136,
          137,
          138,
          139,
          140,
          141,
          142,
          143,
          144,
          145,
          146,
          147,
          148,
          149,
          150,
          151,
          152,
          153,
          154,
          155,
          156,
          157,
          158,
          159,
          160,
          161,
          162,
          163,
          164,
          165,
          166,
          167,
          168,
          169,
          170,
          171,
          172,
          173,
          174,
          175
         ],
         "xaxis": "x",
         "y": [
          1.773163080215454,
          1.7753336429595947,
          1.7353929281234741,
          1.682909607887268,
          1.617501974105835,
          1.5299073457717896,
          1.4126514196395874,
          1.2921222448349,
          1.171648383140564,
          1.0512373447418213,
          0.9345877766609192,
          0.8183914422988892,
          0.7081863284111023,
          0.626927375793457,
          0.529173731803894,
          0.4605613648891449,
          0.377259761095047,
          0.29277709126472473,
          0.20442672073841095,
          0.12847013771533966,
          0.05113690719008446,
          -0.0416838638484478,
          -0.11950024962425232,
          -0.2044227421283722,
          -0.27983400225639343,
          -0.3658936023712158,
          -0.449083149433136,
          -0.529005765914917,
          -0.6054911613464355,
          -0.6781794428825378,
          -0.7466771602630615,
          -0.8125187754631042,
          -0.86988365650177,
          -0.944318413734436,
          -0.9791940450668335,
          -1.035330057144165,
          -1.0835959911346436,
          -1.1384642124176025,
          -1.1874442100524902,
          -1.1978497505187988,
          -1.2347172498703003,
          -1.264787197113037,
          -1.2624266147613525,
          -1.2773689031600952,
          -1.2848893404006958,
          -1.2845184803009033,
          -1.2765064239501953,
          -1.2622954845428467,
          -1.262709140777588,
          -1.2321833372116089,
          -1.1946682929992676,
          -1.1740432977676392,
          -1.1234122514724731,
          -1.089064598083496,
          -1.026685357093811,
          -0.980312705039978,
          -0.9279986619949341,
          -0.851004421710968,
          -0.7889611124992371,
          -0.7161113023757935,
          -0.6512979865074158,
          -0.5668259263038635,
          -0.4947099983692169,
          -0.41865232586860657,
          -0.3389769494533539,
          -0.25613439083099365,
          -0.1701095551252365,
          -0.08469493687152863,
          -0.0016149268485605717,
          0.0819389596581459,
          0.16881975531578064,
          0.24984708428382874,
          0.33528950810432434,
          0.4172842800617218,
          0.50287264585495,
          0.5941745042800903,
          0.6961351037025452,
          0.8059579133987427,
          0.920697033405304,
          1.0123226642608643,
          1.1328121423721313,
          1.2533587217330933,
          1.3739590644836426,
          1.4919962882995605,
          1.6063401699066162,
          1.7184470891952515,
          1.754862666130066,
          1.774909257888794,
          1.7731504440307617,
          1.774381160736084,
          1.7641973495483398,
          1.7361390590667725,
          1.6496429443359375,
          1.5366301536560059,
          1.416986346244812,
          1.2990820407867432,
          1.1785138845443726,
          1.058002233505249,
          0.9398180246353149,
          0.829224705696106,
          0.739753007888794,
          0.6402934789657593,
          0.5487260222434998,
          0.46300846338272095,
          0.3833286762237549,
          0.2983357906341553,
          0.21722370386123657,
          0.14076772332191467,
          0.05785929784178734,
          -0.033662427216768265,
          -0.10981658846139908,
          -0.19540895521640778,
          -0.2781316637992859,
          -0.35743048787117004,
          -0.44565290212631226,
          -0.5218047499656677,
          -0.5999453663825989,
          -0.6715155243873596,
          -0.7388041019439697,
          -0.8015866875648499,
          -0.8594934344291687,
          -0.9327148795127869,
          -0.9804097414016724,
          -1.044039249420166,
          -1.0798722505569458,
          -1.1090662479400635,
          -1.1548339128494263,
          -1.1944278478622437,
          -1.2025500535964966,
          -1.2279433012008667,
          -1.246274709701538,
          -1.256934642791748,
          -1.260116457939148,
          -1.2557709217071533,
          -1.2436543703079224,
          -1.224304437637329,
          -1.222317099571228,
          -1.1883059740066528,
          -1.147807002067566,
          -1.123997449874878,
          -1.0880247354507446,
          -1.0338847637176514,
          -0.9947179555892944,
          -0.9359424710273743,
          -0.8688461780548096,
          -0.8051207661628723,
          -0.743907630443573,
          -0.6753432154655457,
          -0.603991687297821,
          -0.5287313461303711,
          -0.4622271955013275,
          -0.3885122239589691,
          -0.30925488471984863,
          -0.22692108154296875,
          -0.1415630578994751,
          -0.06557204574346542,
          0.014273202046751976,
          0.0948110893368721,
          0.17507606744766235,
          0.2563679814338684,
          0.3397618532180786,
          0.40021902322769165,
          0.48317545652389526,
          0.5789545774459839,
          0.6824488043785095,
          0.78889399766922,
          0.903539776802063,
          1.0209155082702637,
          1.1415927410125732,
          1.2623157501220703,
          1.3830833435058594,
          1.5011943578720093,
          1.5939637422561646,
          1.69395112991333,
          1.7478350400924683,
          1.7739770412445068
         ],
         "yaxis": "y",
         "type": "scatter"
        },
        {
         "hovertemplate": "variable=kNN_counter<br>length=%{x}<br>value=%{y}<extra></extra>",
         "legendgroup": "kNN_counter",
         "line": {
          "color": "#EF553B",
          "dash": "solid"
         },
         "marker": {
          "symbol": "circle"
         },
         "mode": "lines",
         "name": "kNN_counter",
         "orientation": "v",
         "showlegend": true,
         "x": [
          0,
          1,
          2,
          3,
          4,
          5,
          6,
          7,
          8,
          9,
          10,
          11,
          12,
          13,
          14,
          15,
          16,
          17,
          18,
          19,
          20,
          21,
          22,
          23,
          24,
          25,
          26,
          27,
          28,
          29,
          30,
          31,
          32,
          33,
          34,
          35,
          36,
          37,
          38,
          39,
          40,
          41,
          42,
          43,
          44,
          45,
          46,
          47,
          48,
          49,
          50,
          51,
          52,
          53,
          54,
          55,
          56,
          57,
          58,
          59,
          60,
          61,
          62,
          63,
          64,
          65,
          66,
          67,
          68,
          69,
          70,
          71,
          72,
          73,
          74,
          75,
          76,
          77,
          78,
          79,
          80,
          81,
          82,
          83,
          84,
          85,
          86,
          87,
          88,
          89,
          90,
          91,
          92,
          93,
          94,
          95,
          96,
          97,
          98,
          99,
          100,
          101,
          102,
          103,
          104,
          105,
          106,
          107,
          108,
          109,
          110,
          111,
          112,
          113,
          114,
          115,
          116,
          117,
          118,
          119,
          120,
          121,
          122,
          123,
          124,
          125,
          126,
          127,
          128,
          129,
          130,
          131,
          132,
          133,
          134,
          135,
          136,
          137,
          138,
          139,
          140,
          141,
          142,
          143,
          144,
          145,
          146,
          147,
          148,
          149,
          150,
          151,
          152,
          153,
          154,
          155,
          156,
          157,
          158,
          159,
          160,
          161,
          162,
          163,
          164,
          165,
          166,
          167,
          168,
          169,
          170,
          171,
          172,
          173,
          174,
          175
         ],
         "xaxis": "x",
         "y": [
          1.7881501648161147,
          1.7740178505579631,
          1.734130581219991,
          1.6796836720572577,
          1.610789073838128,
          1.5003105004628499,
          1.3815401924981012,
          1.2596231831444635,
          1.1392805178960164,
          1.0234460367096796,
          0.9094559881422255,
          0.7974023752742343,
          0.692322724395328,
          0.5957888762156168,
          0.5041937463813357,
          0.4205029375023312,
          0.33837898241149056,
          0.2557261652416653,
          0.17232763601673973,
          0.09251969928542772,
          0.008724799509056747,
          -0.07392971538421181,
          -0.1548306792974472,
          -0.23280036780569288,
          -0.3132711847623189,
          -0.39312511020236546,
          -0.4644412100315094,
          -0.5394485029909346,
          -0.6112573080592685,
          -0.6842059625519646,
          -0.750214245584276,
          -0.813811288939582,
          -0.871908015675015,
          -0.9332053065299988,
          -0.9837206602096558,
          -1.0383868747287326,
          -1.084982646836175,
          -1.1299525101979573,
          -1.1652917199664645,
          -1.1936562061309814,
          -1.217734866672092,
          -1.2357801463868883,
          -1.2423667112986247,
          -1.2544689840740628,
          -1.259626070658366,
          -1.255001081360711,
          -1.2493800587124295,
          -1.229229940308465,
          -1.2040549649132624,
          -1.1745687855614557,
          -1.1416186094284058,
          -1.106670167711046,
          -1.0618469847573175,
          -1.0135030349095662,
          -0.9641212622324625,
          -0.9056332839859856,
          -0.8492514822218153,
          -0.7849704027175903,
          -0.713607649008433,
          -0.6510499980714586,
          -0.5808822711308798,
          -0.5060085455576578,
          -0.43155644999610054,
          -0.35484659009509617,
          -0.2724970330794652,
          -0.19799316426118216,
          -0.11241484557588895,
          -0.03309097596340709,
          0.04864670858821935,
          0.12863330211904314,
          0.20681115322642857,
          0.28763069874710506,
          0.3705854184097714,
          0.4510688516828749,
          0.5341618955135345,
          0.6316342022683885,
          0.7374207576115926,
          0.8492383625772264,
          0.9628449744648404,
          1.0761947234471638,
          1.1945991781022813,
          1.3166002962324355,
          1.4340721236334906,
          1.545750962363349,
          1.6569084193971422,
          1.7334028747346666,
          1.7657212151421442,
          1.7768893241882324,
          1.7740677330229018,
          1.768002404106988,
          1.7477410501903958,
          1.6811230315102472,
          1.5795876847373114,
          1.4650440745883517,
          1.3485727839999728,
          1.227829999393887,
          1.1094464328553941,
          0.9934347338146634,
          0.8791856103473239,
          0.7695018119282193,
          0.668229447470771,
          0.5706389778190188,
          0.48181132475535077,
          0.39704103933440316,
          0.31126669049263,
          0.23033181660705143,
          0.1484244308537907,
          0.06789595385392508,
          -0.015447289527704314,
          -0.10279208049178122,
          -0.17903647737370595,
          -0.26204372114605373,
          -0.3416857322057088,
          -0.41919663548469543,
          -0.49649943908055627,
          -0.5741548935572306,
          -0.6499102910359701,
          -0.7211062047216628,
          -0.7926724553108215,
          -0.8540506296687655,
          -0.912411285771264,
          -0.9735300408469306,
          -1.0264738268322415,
          -1.0758688847223918,
          -1.1254359086354573,
          -1.1604559024175007,
          -1.1973416937722101,
          -1.232304784986708,
          -1.251753807067871,
          -1.2722354200151231,
          -1.283349461025662,
          -1.2866989639070299,
          -1.291126463148329,
          -1.2862304978900485,
          -1.273632327715556,
          -1.2558777332305908,
          -1.2400212685267131,
          -1.2091914150449965,
          -1.1735394265916612,
          -1.13145203060574,
          -1.0864191982481215,
          -1.0421476231680975,
          -0.9830150538020663,
          -0.9323477546374003,
          -0.8681858645545112,
          -0.8082542220751444,
          -0.7375131646792094,
          -0.6696980131997002,
          -0.5914703673786588,
          -0.5215819941626655,
          -0.4423947234948476,
          -0.36631109648280674,
          -0.28519797490702736,
          -0.2032549712393019,
          -0.11879263694087665,
          -0.041372662306659744,
          0.04489751760330465,
          0.12634416669607162,
          0.20210258993837568,
          0.2860643118619919,
          0.3697255618042416,
          0.4493391944302453,
          0.5367356240749359,
          0.6333532333374023,
          0.735162529680464,
          0.8449884586864047,
          0.9587535791926913,
          1.0707270171907213,
          1.1882761187023587,
          1.3099770810869005,
          1.4265477392408583,
          1.5381739404466417,
          1.6420475641886394,
          1.70846246348487,
          1.7553244829177856,
          1.7683868673112657
         ],
         "yaxis": "y",
         "type": "scatter"
        },
        {
         "hovertemplate": "variable=Data_Point<br>length=%{x}<br>value=%{y}<extra></extra>",
         "legendgroup": "Data_Point",
         "line": {
          "color": "#00cc96",
          "dash": "solid"
         },
         "marker": {
          "symbol": "circle"
         },
         "mode": "lines",
         "name": "Data_Point",
         "orientation": "v",
         "showlegend": true,
         "x": [
          0,
          1,
          2,
          3,
          4,
          5,
          6,
          7,
          8,
          9,
          10,
          11,
          12,
          13,
          14,
          15,
          16,
          17,
          18,
          19,
          20,
          21,
          22,
          23,
          24,
          25,
          26,
          27,
          28,
          29,
          30,
          31,
          32,
          33,
          34,
          35,
          36,
          37,
          38,
          39,
          40,
          41,
          42,
          43,
          44,
          45,
          46,
          47,
          48,
          49,
          50,
          51,
          52,
          53,
          54,
          55,
          56,
          57,
          58,
          59,
          60,
          61,
          62,
          63,
          64,
          65,
          66,
          67,
          68,
          69,
          70,
          71,
          72,
          73,
          74,
          75,
          76,
          77,
          78,
          79,
          80,
          81,
          82,
          83,
          84,
          85,
          86,
          87,
          88,
          89,
          90,
          91,
          92,
          93,
          94,
          95,
          96,
          97,
          98,
          99,
          100,
          101,
          102,
          103,
          104,
          105,
          106,
          107,
          108,
          109,
          110,
          111,
          112,
          113,
          114,
          115,
          116,
          117,
          118,
          119,
          120,
          121,
          122,
          123,
          124,
          125,
          126,
          127,
          128,
          129,
          130,
          131,
          132,
          133,
          134,
          135,
          136,
          137,
          138,
          139,
          140,
          141,
          142,
          143,
          144,
          145,
          146,
          147,
          148,
          149,
          150,
          151,
          152,
          153,
          154,
          155,
          156,
          157,
          158,
          159,
          160,
          161,
          162,
          163,
          164,
          165,
          166,
          167,
          168,
          169,
          170,
          171,
          172,
          173,
          174,
          175
         ],
         "xaxis": "x",
         "y": [
          1.7150675058364868,
          1.7114849090576172,
          1.6678905487060547,
          1.5978538990020752,
          1.517617106437683,
          1.4273847341537476,
          1.3367695808410645,
          1.2469075918197632,
          1.1571259498596191,
          1.0686055421829224,
          0.9824506640434265,
          0.8963972330093384,
          0.818042516708374,
          0.7340201735496521,
          0.6489012837409973,
          0.5624954700469971,
          0.4765567481517792,
          0.38929930329322815,
          0.31168702244758606,
          0.2255370169878006,
          0.13935905694961548,
          0.053602397441864014,
          -0.03128090128302574,
          -0.1169758290052414,
          -0.2005903273820877,
          -0.2763957679271698,
          -0.35913804173469543,
          -0.4409938454627991,
          -0.5225600004196167,
          -0.6014599800109863,
          -0.6833640336990356,
          -0.7602384686470032,
          -0.8282459378242493,
          -0.9022171497344971,
          -0.976222574710846,
          -1.0437352657318115,
          -1.1129443645477295,
          -1.1726207733154297,
          -1.2284249067306519,
          -1.2815014123916626,
          -1.3293853998184204,
          -1.3691951036453247,
          -1.391888976097107,
          -1.4195772409439087,
          -1.4279661178588867,
          -1.4244810342788696,
          -1.4091870784759521,
          -1.3905586004257202,
          -1.3540363311767578,
          -1.3201192617416382,
          -1.273976445198059,
          -1.2155791521072388,
          -1.1574177742004395,
          -1.0943938493728638,
          -1.0339237451553345,
          -0.9638264179229736,
          -0.8909252285957336,
          -0.8157101273536682,
          -0.7349419593811035,
          -0.6563838124275208,
          -0.5764225125312805,
          -0.499271959066391,
          -0.4206995964050293,
          -0.33503758907318115,
          -0.25389349460601807,
          -0.17720581591129303,
          -0.09218475222587585,
          -0.006639819126576185,
          0.07937024533748627,
          0.1572917401790619,
          0.24288204312324524,
          0.32841119170188904,
          0.41347983479499817,
          0.4943251609802246,
          0.5716847777366638,
          0.6564836502075195,
          0.7354220747947693,
          0.8207635879516602,
          0.9068974852561951,
          0.9944980144500732,
          1.0831589698791504,
          1.172516942024231,
          1.2626135349273682,
          1.3533343076705933,
          1.4446314573287964,
          1.5343290567398071,
          1.6220948696136475,
          1.6766948699951172,
          1.6988438367843628,
          1.6996175050735474,
          1.6709264516830444,
          1.6012779474258423,
          1.51478111743927,
          1.4241498708724976,
          1.3335351943969727,
          1.242938756942749,
          1.1531182527542114,
          1.0633827447891235,
          0.9835613965988159,
          0.8963228464126587,
          0.8110029101371765,
          0.7265270948410034,
          0.6415616869926453,
          0.5562785863876343,
          0.47057580947875977,
          0.3859226703643799,
          0.2991780936717987,
          0.22045302391052246,
          0.1341836303472519,
          0.05675874650478363,
          -0.020461443811655045,
          -0.10526511818170547,
          -0.1907573640346527,
          -0.27445530891418457,
          -0.34977447986602783,
          -0.43191567063331604,
          -0.509881854057312,
          -0.5930653214454651,
          -0.6717222929000854,
          -0.7488111257553101,
          -0.8246055841445923,
          -0.9014981389045715,
          -0.9722645282745361,
          -1.0399245023727417,
          -1.1093242168426514,
          -1.1635719537734985,
          -1.218624234199524,
          -1.2741016149520874,
          -1.3159246444702148,
          -1.3566144704818726,
          -1.3881957530975342,
          -1.4094125032424927,
          -1.4190088510513306,
          -1.4042476415634155,
          -1.4060940742492676,
          -1.3873294591903687,
          -1.3524950742721558,
          -1.309239387512207,
          -1.2643986940383911,
          -1.2128411531448364,
          -1.1553676128387451,
          -1.0877354145050049,
          -1.021647572517395,
          -0.9521344304084778,
          -0.8797968029975891,
          -0.8050921559333801,
          -0.7283996939659119,
          -0.6500392556190491,
          -0.5702524185180664,
          -0.4892582893371582,
          -0.40722453594207764,
          -0.32541385293006897,
          -0.25080248713493347,
          -0.1686333268880844,
          -0.08173289149999619,
          0.0022798688150942326,
          0.08844070881605148,
          0.1652555763721466,
          0.2522440254688263,
          0.3408358097076416,
          0.42558616399765015,
          0.5106405019760132,
          0.5962954163551331,
          0.6824967861175537,
          0.7689691781997681,
          0.8546167016029358,
          0.9410281181335449,
          1.0281342267990112,
          1.1087452173233032,
          1.1982903480529785,
          1.280395269393921,
          1.3709591627120972,
          1.4619375467300415,
          1.5517874956130981,
          1.632043719291687,
          1.6912755966186523
         ],
         "yaxis": "y",
         "type": "scatter"
        }
       ],
       "layout": {
        "template": {
         "data": {
          "histogram2dcontour": [
           {
            "type": "histogram2dcontour",
            "colorbar": {
             "outlinewidth": 0,
             "ticks": ""
            },
            "colorscale": [
             [
              0.0,
              "#0d0887"
             ],
             [
              0.1111111111111111,
              "#46039f"
             ],
             [
              0.2222222222222222,
              "#7201a8"
             ],
             [
              0.3333333333333333,
              "#9c179e"
             ],
             [
              0.4444444444444444,
              "#bd3786"
             ],
             [
              0.5555555555555556,
              "#d8576b"
             ],
             [
              0.6666666666666666,
              "#ed7953"
             ],
             [
              0.7777777777777778,
              "#fb9f3a"
             ],
             [
              0.8888888888888888,
              "#fdca26"
             ],
             [
              1.0,
              "#f0f921"
             ]
            ]
           }
          ],
          "choropleth": [
           {
            "type": "choropleth",
            "colorbar": {
             "outlinewidth": 0,
             "ticks": ""
            }
           }
          ],
          "histogram2d": [
           {
            "type": "histogram2d",
            "colorbar": {
             "outlinewidth": 0,
             "ticks": ""
            },
            "colorscale": [
             [
              0.0,
              "#0d0887"
             ],
             [
              0.1111111111111111,
              "#46039f"
             ],
             [
              0.2222222222222222,
              "#7201a8"
             ],
             [
              0.3333333333333333,
              "#9c179e"
             ],
             [
              0.4444444444444444,
              "#bd3786"
             ],
             [
              0.5555555555555556,
              "#d8576b"
             ],
             [
              0.6666666666666666,
              "#ed7953"
             ],
             [
              0.7777777777777778,
              "#fb9f3a"
             ],
             [
              0.8888888888888888,
              "#fdca26"
             ],
             [
              1.0,
              "#f0f921"
             ]
            ]
           }
          ],
          "heatmap": [
           {
            "type": "heatmap",
            "colorbar": {
             "outlinewidth": 0,
             "ticks": ""
            },
            "colorscale": [
             [
              0.0,
              "#0d0887"
             ],
             [
              0.1111111111111111,
              "#46039f"
             ],
             [
              0.2222222222222222,
              "#7201a8"
             ],
             [
              0.3333333333333333,
              "#9c179e"
             ],
             [
              0.4444444444444444,
              "#bd3786"
             ],
             [
              0.5555555555555556,
              "#d8576b"
             ],
             [
              0.6666666666666666,
              "#ed7953"
             ],
             [
              0.7777777777777778,
              "#fb9f3a"
             ],
             [
              0.8888888888888888,
              "#fdca26"
             ],
             [
              1.0,
              "#f0f921"
             ]
            ]
           }
          ],
          "heatmapgl": [
           {
            "type": "heatmapgl",
            "colorbar": {
             "outlinewidth": 0,
             "ticks": ""
            },
            "colorscale": [
             [
              0.0,
              "#0d0887"
             ],
             [
              0.1111111111111111,
              "#46039f"
             ],
             [
              0.2222222222222222,
              "#7201a8"
             ],
             [
              0.3333333333333333,
              "#9c179e"
             ],
             [
              0.4444444444444444,
              "#bd3786"
             ],
             [
              0.5555555555555556,
              "#d8576b"
             ],
             [
              0.6666666666666666,
              "#ed7953"
             ],
             [
              0.7777777777777778,
              "#fb9f3a"
             ],
             [
              0.8888888888888888,
              "#fdca26"
             ],
             [
              1.0,
              "#f0f921"
             ]
            ]
           }
          ],
          "contourcarpet": [
           {
            "type": "contourcarpet",
            "colorbar": {
             "outlinewidth": 0,
             "ticks": ""
            }
           }
          ],
          "contour": [
           {
            "type": "contour",
            "colorbar": {
             "outlinewidth": 0,
             "ticks": ""
            },
            "colorscale": [
             [
              0.0,
              "#0d0887"
             ],
             [
              0.1111111111111111,
              "#46039f"
             ],
             [
              0.2222222222222222,
              "#7201a8"
             ],
             [
              0.3333333333333333,
              "#9c179e"
             ],
             [
              0.4444444444444444,
              "#bd3786"
             ],
             [
              0.5555555555555556,
              "#d8576b"
             ],
             [
              0.6666666666666666,
              "#ed7953"
             ],
             [
              0.7777777777777778,
              "#fb9f3a"
             ],
             [
              0.8888888888888888,
              "#fdca26"
             ],
             [
              1.0,
              "#f0f921"
             ]
            ]
           }
          ],
          "surface": [
           {
            "type": "surface",
            "colorbar": {
             "outlinewidth": 0,
             "ticks": ""
            },
            "colorscale": [
             [
              0.0,
              "#0d0887"
             ],
             [
              0.1111111111111111,
              "#46039f"
             ],
             [
              0.2222222222222222,
              "#7201a8"
             ],
             [
              0.3333333333333333,
              "#9c179e"
             ],
             [
              0.4444444444444444,
              "#bd3786"
             ],
             [
              0.5555555555555556,
              "#d8576b"
             ],
             [
              0.6666666666666666,
              "#ed7953"
             ],
             [
              0.7777777777777778,
              "#fb9f3a"
             ],
             [
              0.8888888888888888,
              "#fdca26"
             ],
             [
              1.0,
              "#f0f921"
             ]
            ]
           }
          ],
          "mesh3d": [
           {
            "type": "mesh3d",
            "colorbar": {
             "outlinewidth": 0,
             "ticks": ""
            }
           }
          ],
          "scatter": [
           {
            "marker": {
             "line": {
              "color": "#283442"
             }
            },
            "type": "scatter"
           }
          ],
          "parcoords": [
           {
            "type": "parcoords",
            "line": {
             "colorbar": {
              "outlinewidth": 0,
              "ticks": ""
             }
            }
           }
          ],
          "scatterpolargl": [
           {
            "type": "scatterpolargl",
            "marker": {
             "colorbar": {
              "outlinewidth": 0,
              "ticks": ""
             }
            }
           }
          ],
          "bar": [
           {
            "error_x": {
             "color": "#f2f5fa"
            },
            "error_y": {
             "color": "#f2f5fa"
            },
            "marker": {
             "line": {
              "color": "rgb(17,17,17)",
              "width": 0.5
             },
             "pattern": {
              "fillmode": "overlay",
              "size": 10,
              "solidity": 0.2
             }
            },
            "type": "bar"
           }
          ],
          "scattergeo": [
           {
            "type": "scattergeo",
            "marker": {
             "colorbar": {
              "outlinewidth": 0,
              "ticks": ""
             }
            }
           }
          ],
          "scatterpolar": [
           {
            "type": "scatterpolar",
            "marker": {
             "colorbar": {
              "outlinewidth": 0,
              "ticks": ""
             }
            }
           }
          ],
          "histogram": [
           {
            "marker": {
             "pattern": {
              "fillmode": "overlay",
              "size": 10,
              "solidity": 0.2
             }
            },
            "type": "histogram"
           }
          ],
          "scattergl": [
           {
            "marker": {
             "line": {
              "color": "#283442"
             }
            },
            "type": "scattergl"
           }
          ],
          "scatter3d": [
           {
            "type": "scatter3d",
            "line": {
             "colorbar": {
              "outlinewidth": 0,
              "ticks": ""
             }
            },
            "marker": {
             "colorbar": {
              "outlinewidth": 0,
              "ticks": ""
             }
            }
           }
          ],
          "scattermapbox": [
           {
            "type": "scattermapbox",
            "marker": {
             "colorbar": {
              "outlinewidth": 0,
              "ticks": ""
             }
            }
           }
          ],
          "scatterternary": [
           {
            "type": "scatterternary",
            "marker": {
             "colorbar": {
              "outlinewidth": 0,
              "ticks": ""
             }
            }
           }
          ],
          "scattercarpet": [
           {
            "type": "scattercarpet",
            "marker": {
             "colorbar": {
              "outlinewidth": 0,
              "ticks": ""
             }
            }
           }
          ],
          "carpet": [
           {
            "aaxis": {
             "endlinecolor": "#A2B1C6",
             "gridcolor": "#506784",
             "linecolor": "#506784",
             "minorgridcolor": "#506784",
             "startlinecolor": "#A2B1C6"
            },
            "baxis": {
             "endlinecolor": "#A2B1C6",
             "gridcolor": "#506784",
             "linecolor": "#506784",
             "minorgridcolor": "#506784",
             "startlinecolor": "#A2B1C6"
            },
            "type": "carpet"
           }
          ],
          "table": [
           {
            "cells": {
             "fill": {
              "color": "#506784"
             },
             "line": {
              "color": "rgb(17,17,17)"
             }
            },
            "header": {
             "fill": {
              "color": "#2a3f5f"
             },
             "line": {
              "color": "rgb(17,17,17)"
             }
            },
            "type": "table"
           }
          ],
          "barpolar": [
           {
            "marker": {
             "line": {
              "color": "rgb(17,17,17)",
              "width": 0.5
             },
             "pattern": {
              "fillmode": "overlay",
              "size": 10,
              "solidity": 0.2
             }
            },
            "type": "barpolar"
           }
          ],
          "pie": [
           {
            "automargin": true,
            "type": "pie"
           }
          ]
         },
         "layout": {
          "autotypenumbers": "strict",
          "colorway": [
           "#636efa",
           "#EF553B",
           "#00cc96",
           "#ab63fa",
           "#FFA15A",
           "#19d3f3",
           "#FF6692",
           "#B6E880",
           "#FF97FF",
           "#FECB52"
          ],
          "font": {
           "color": "#f2f5fa"
          },
          "hovermode": "closest",
          "hoverlabel": {
           "align": "left"
          },
          "paper_bgcolor": "rgb(17,17,17)",
          "plot_bgcolor": "rgb(17,17,17)",
          "polar": {
           "bgcolor": "rgb(17,17,17)",
           "angularaxis": {
            "gridcolor": "#506784",
            "linecolor": "#506784",
            "ticks": ""
           },
           "radialaxis": {
            "gridcolor": "#506784",
            "linecolor": "#506784",
            "ticks": ""
           }
          },
          "ternary": {
           "bgcolor": "rgb(17,17,17)",
           "aaxis": {
            "gridcolor": "#506784",
            "linecolor": "#506784",
            "ticks": ""
           },
           "baxis": {
            "gridcolor": "#506784",
            "linecolor": "#506784",
            "ticks": ""
           },
           "caxis": {
            "gridcolor": "#506784",
            "linecolor": "#506784",
            "ticks": ""
           }
          },
          "coloraxis": {
           "colorbar": {
            "outlinewidth": 0,
            "ticks": ""
           }
          },
          "colorscale": {
           "sequential": [
            [
             0.0,
             "#0d0887"
            ],
            [
             0.1111111111111111,
             "#46039f"
            ],
            [
             0.2222222222222222,
             "#7201a8"
            ],
            [
             0.3333333333333333,
             "#9c179e"
            ],
            [
             0.4444444444444444,
             "#bd3786"
            ],
            [
             0.5555555555555556,
             "#d8576b"
            ],
            [
             0.6666666666666666,
             "#ed7953"
            ],
            [
             0.7777777777777778,
             "#fb9f3a"
            ],
            [
             0.8888888888888888,
             "#fdca26"
            ],
            [
             1.0,
             "#f0f921"
            ]
           ],
           "sequentialminus": [
            [
             0.0,
             "#0d0887"
            ],
            [
             0.1111111111111111,
             "#46039f"
            ],
            [
             0.2222222222222222,
             "#7201a8"
            ],
            [
             0.3333333333333333,
             "#9c179e"
            ],
            [
             0.4444444444444444,
             "#bd3786"
            ],
            [
             0.5555555555555556,
             "#d8576b"
            ],
            [
             0.6666666666666666,
             "#ed7953"
            ],
            [
             0.7777777777777778,
             "#fb9f3a"
            ],
            [
             0.8888888888888888,
             "#fdca26"
            ],
            [
             1.0,
             "#f0f921"
            ]
           ],
           "diverging": [
            [
             0,
             "#8e0152"
            ],
            [
             0.1,
             "#c51b7d"
            ],
            [
             0.2,
             "#de77ae"
            ],
            [
             0.3,
             "#f1b6da"
            ],
            [
             0.4,
             "#fde0ef"
            ],
            [
             0.5,
             "#f7f7f7"
            ],
            [
             0.6,
             "#e6f5d0"
            ],
            [
             0.7,
             "#b8e186"
            ],
            [
             0.8,
             "#7fbc41"
            ],
            [
             0.9,
             "#4d9221"
            ],
            [
             1,
             "#276419"
            ]
           ]
          },
          "xaxis": {
           "gridcolor": "#283442",
           "linecolor": "#506784",
           "ticks": "",
           "title": {
            "standoff": 15
           },
           "zerolinecolor": "#283442",
           "automargin": true,
           "zerolinewidth": 2
          },
          "yaxis": {
           "gridcolor": "#283442",
           "linecolor": "#506784",
           "ticks": "",
           "title": {
            "standoff": 15
           },
           "zerolinecolor": "#283442",
           "automargin": true,
           "zerolinewidth": 2
          },
          "scene": {
           "xaxis": {
            "backgroundcolor": "rgb(17,17,17)",
            "gridcolor": "#506784",
            "linecolor": "#506784",
            "showbackground": true,
            "ticks": "",
            "zerolinecolor": "#C8D4E3",
            "gridwidth": 2
           },
           "yaxis": {
            "backgroundcolor": "rgb(17,17,17)",
            "gridcolor": "#506784",
            "linecolor": "#506784",
            "showbackground": true,
            "ticks": "",
            "zerolinecolor": "#C8D4E3",
            "gridwidth": 2
           },
           "zaxis": {
            "backgroundcolor": "rgb(17,17,17)",
            "gridcolor": "#506784",
            "linecolor": "#506784",
            "showbackground": true,
            "ticks": "",
            "zerolinecolor": "#C8D4E3",
            "gridwidth": 2
           }
          },
          "shapedefaults": {
           "line": {
            "color": "#f2f5fa"
           }
          },
          "annotationdefaults": {
           "arrowcolor": "#f2f5fa",
           "arrowhead": 0,
           "arrowwidth": 1
          },
          "geo": {
           "bgcolor": "rgb(17,17,17)",
           "landcolor": "rgb(17,17,17)",
           "subunitcolor": "#506784",
           "showland": true,
           "showlakes": true,
           "lakecolor": "rgb(17,17,17)"
          },
          "title": {
           "x": 0.05
          },
          "updatemenudefaults": {
           "bgcolor": "#506784",
           "borderwidth": 0
          },
          "sliderdefaults": {
           "bgcolor": "#C8D4E3",
           "borderwidth": 1,
           "bordercolor": "rgb(17,17,17)",
           "tickwidth": 0
          },
          "mapbox": {
           "style": "dark"
          }
         }
        },
        "xaxis": {
         "anchor": "y",
         "domain": [
          0.0,
          1.0
         ],
         "title": {
          "text": "length"
         }
        },
        "yaxis": {
         "anchor": "x",
         "domain": [
          0.0,
          1.0
         ],
         "title": {
          "text": "value"
         }
        },
        "legend": {
         "title": {
          "text": "variable"
         },
         "tracegroupgap": 0
        },
        "margin": {
         "t": 60
        }
       },
       "config": {
        "plotlyServerURL": "https://plot.ly"
       }
      },
      "text/html": "<div>                            <div id=\"283bb18e-0dad-42fb-8bbf-da680b0548bb\" class=\"plotly-graph-div\" style=\"height:525px; width:100%;\"></div>            <script type=\"text/javascript\">                require([\"plotly\"], function(Plotly) {                    window.PLOTLYENV=window.PLOTLYENV || {};                                    if (document.getElementById(\"283bb18e-0dad-42fb-8bbf-da680b0548bb\")) {                    Plotly.newPlot(                        \"283bb18e-0dad-42fb-8bbf-da680b0548bb\",                        [{\"hovertemplate\":\"variable=RSF_counter<br>length=%{x}<br>value=%{y}<extra></extra>\",\"legendgroup\":\"RSF_counter\",\"line\":{\"color\":\"#636efa\",\"dash\":\"solid\"},\"marker\":{\"symbol\":\"circle\"},\"mode\":\"lines\",\"name\":\"RSF_counter\",\"orientation\":\"v\",\"showlegend\":true,\"x\":[0,1,2,3,4,5,6,7,8,9,10,11,12,13,14,15,16,17,18,19,20,21,22,23,24,25,26,27,28,29,30,31,32,33,34,35,36,37,38,39,40,41,42,43,44,45,46,47,48,49,50,51,52,53,54,55,56,57,58,59,60,61,62,63,64,65,66,67,68,69,70,71,72,73,74,75,76,77,78,79,80,81,82,83,84,85,86,87,88,89,90,91,92,93,94,95,96,97,98,99,100,101,102,103,104,105,106,107,108,109,110,111,112,113,114,115,116,117,118,119,120,121,122,123,124,125,126,127,128,129,130,131,132,133,134,135,136,137,138,139,140,141,142,143,144,145,146,147,148,149,150,151,152,153,154,155,156,157,158,159,160,161,162,163,164,165,166,167,168,169,170,171,172,173,174,175],\"xaxis\":\"x\",\"y\":[1.773163080215454,1.7753336429595947,1.7353929281234741,1.682909607887268,1.617501974105835,1.5299073457717896,1.4126514196395874,1.2921222448349,1.171648383140564,1.0512373447418213,0.9345877766609192,0.8183914422988892,0.7081863284111023,0.626927375793457,0.529173731803894,0.4605613648891449,0.377259761095047,0.29277709126472473,0.20442672073841095,0.12847013771533966,0.05113690719008446,-0.0416838638484478,-0.11950024962425232,-0.2044227421283722,-0.27983400225639343,-0.3658936023712158,-0.449083149433136,-0.529005765914917,-0.6054911613464355,-0.6781794428825378,-0.7466771602630615,-0.8125187754631042,-0.86988365650177,-0.944318413734436,-0.9791940450668335,-1.035330057144165,-1.0835959911346436,-1.1384642124176025,-1.1874442100524902,-1.1978497505187988,-1.2347172498703003,-1.264787197113037,-1.2624266147613525,-1.2773689031600952,-1.2848893404006958,-1.2845184803009033,-1.2765064239501953,-1.2622954845428467,-1.262709140777588,-1.2321833372116089,-1.1946682929992676,-1.1740432977676392,-1.1234122514724731,-1.089064598083496,-1.026685357093811,-0.980312705039978,-0.9279986619949341,-0.851004421710968,-0.7889611124992371,-0.7161113023757935,-0.6512979865074158,-0.5668259263038635,-0.4947099983692169,-0.41865232586860657,-0.3389769494533539,-0.25613439083099365,-0.1701095551252365,-0.08469493687152863,-0.0016149268485605717,0.0819389596581459,0.16881975531578064,0.24984708428382874,0.33528950810432434,0.4172842800617218,0.50287264585495,0.5941745042800903,0.6961351037025452,0.8059579133987427,0.920697033405304,1.0123226642608643,1.1328121423721313,1.2533587217330933,1.3739590644836426,1.4919962882995605,1.6063401699066162,1.7184470891952515,1.754862666130066,1.774909257888794,1.7731504440307617,1.774381160736084,1.7641973495483398,1.7361390590667725,1.6496429443359375,1.5366301536560059,1.416986346244812,1.2990820407867432,1.1785138845443726,1.058002233505249,0.9398180246353149,0.829224705696106,0.739753007888794,0.6402934789657593,0.5487260222434998,0.46300846338272095,0.3833286762237549,0.2983357906341553,0.21722370386123657,0.14076772332191467,0.05785929784178734,-0.033662427216768265,-0.10981658846139908,-0.19540895521640778,-0.2781316637992859,-0.35743048787117004,-0.44565290212631226,-0.5218047499656677,-0.5999453663825989,-0.6715155243873596,-0.7388041019439697,-0.8015866875648499,-0.8594934344291687,-0.9327148795127869,-0.9804097414016724,-1.044039249420166,-1.0798722505569458,-1.1090662479400635,-1.1548339128494263,-1.1944278478622437,-1.2025500535964966,-1.2279433012008667,-1.246274709701538,-1.256934642791748,-1.260116457939148,-1.2557709217071533,-1.2436543703079224,-1.224304437637329,-1.222317099571228,-1.1883059740066528,-1.147807002067566,-1.123997449874878,-1.0880247354507446,-1.0338847637176514,-0.9947179555892944,-0.9359424710273743,-0.8688461780548096,-0.8051207661628723,-0.743907630443573,-0.6753432154655457,-0.603991687297821,-0.5287313461303711,-0.4622271955013275,-0.3885122239589691,-0.30925488471984863,-0.22692108154296875,-0.1415630578994751,-0.06557204574346542,0.014273202046751976,0.0948110893368721,0.17507606744766235,0.2563679814338684,0.3397618532180786,0.40021902322769165,0.48317545652389526,0.5789545774459839,0.6824488043785095,0.78889399766922,0.903539776802063,1.0209155082702637,1.1415927410125732,1.2623157501220703,1.3830833435058594,1.5011943578720093,1.5939637422561646,1.69395112991333,1.7478350400924683,1.7739770412445068],\"yaxis\":\"y\",\"type\":\"scatter\"},{\"hovertemplate\":\"variable=kNN_counter<br>length=%{x}<br>value=%{y}<extra></extra>\",\"legendgroup\":\"kNN_counter\",\"line\":{\"color\":\"#EF553B\",\"dash\":\"solid\"},\"marker\":{\"symbol\":\"circle\"},\"mode\":\"lines\",\"name\":\"kNN_counter\",\"orientation\":\"v\",\"showlegend\":true,\"x\":[0,1,2,3,4,5,6,7,8,9,10,11,12,13,14,15,16,17,18,19,20,21,22,23,24,25,26,27,28,29,30,31,32,33,34,35,36,37,38,39,40,41,42,43,44,45,46,47,48,49,50,51,52,53,54,55,56,57,58,59,60,61,62,63,64,65,66,67,68,69,70,71,72,73,74,75,76,77,78,79,80,81,82,83,84,85,86,87,88,89,90,91,92,93,94,95,96,97,98,99,100,101,102,103,104,105,106,107,108,109,110,111,112,113,114,115,116,117,118,119,120,121,122,123,124,125,126,127,128,129,130,131,132,133,134,135,136,137,138,139,140,141,142,143,144,145,146,147,148,149,150,151,152,153,154,155,156,157,158,159,160,161,162,163,164,165,166,167,168,169,170,171,172,173,174,175],\"xaxis\":\"x\",\"y\":[1.7881501648161147,1.7740178505579631,1.734130581219991,1.6796836720572577,1.610789073838128,1.5003105004628499,1.3815401924981012,1.2596231831444635,1.1392805178960164,1.0234460367096796,0.9094559881422255,0.7974023752742343,0.692322724395328,0.5957888762156168,0.5041937463813357,0.4205029375023312,0.33837898241149056,0.2557261652416653,0.17232763601673973,0.09251969928542772,0.008724799509056747,-0.07392971538421181,-0.1548306792974472,-0.23280036780569288,-0.3132711847623189,-0.39312511020236546,-0.4644412100315094,-0.5394485029909346,-0.6112573080592685,-0.6842059625519646,-0.750214245584276,-0.813811288939582,-0.871908015675015,-0.9332053065299988,-0.9837206602096558,-1.0383868747287326,-1.084982646836175,-1.1299525101979573,-1.1652917199664645,-1.1936562061309814,-1.217734866672092,-1.2357801463868883,-1.2423667112986247,-1.2544689840740628,-1.259626070658366,-1.255001081360711,-1.2493800587124295,-1.229229940308465,-1.2040549649132624,-1.1745687855614557,-1.1416186094284058,-1.106670167711046,-1.0618469847573175,-1.0135030349095662,-0.9641212622324625,-0.9056332839859856,-0.8492514822218153,-0.7849704027175903,-0.713607649008433,-0.6510499980714586,-0.5808822711308798,-0.5060085455576578,-0.43155644999610054,-0.35484659009509617,-0.2724970330794652,-0.19799316426118216,-0.11241484557588895,-0.03309097596340709,0.04864670858821935,0.12863330211904314,0.20681115322642857,0.28763069874710506,0.3705854184097714,0.4510688516828749,0.5341618955135345,0.6316342022683885,0.7374207576115926,0.8492383625772264,0.9628449744648404,1.0761947234471638,1.1945991781022813,1.3166002962324355,1.4340721236334906,1.545750962363349,1.6569084193971422,1.7334028747346666,1.7657212151421442,1.7768893241882324,1.7740677330229018,1.768002404106988,1.7477410501903958,1.6811230315102472,1.5795876847373114,1.4650440745883517,1.3485727839999728,1.227829999393887,1.1094464328553941,0.9934347338146634,0.8791856103473239,0.7695018119282193,0.668229447470771,0.5706389778190188,0.48181132475535077,0.39704103933440316,0.31126669049263,0.23033181660705143,0.1484244308537907,0.06789595385392508,-0.015447289527704314,-0.10279208049178122,-0.17903647737370595,-0.26204372114605373,-0.3416857322057088,-0.41919663548469543,-0.49649943908055627,-0.5741548935572306,-0.6499102910359701,-0.7211062047216628,-0.7926724553108215,-0.8540506296687655,-0.912411285771264,-0.9735300408469306,-1.0264738268322415,-1.0758688847223918,-1.1254359086354573,-1.1604559024175007,-1.1973416937722101,-1.232304784986708,-1.251753807067871,-1.2722354200151231,-1.283349461025662,-1.2866989639070299,-1.291126463148329,-1.2862304978900485,-1.273632327715556,-1.2558777332305908,-1.2400212685267131,-1.2091914150449965,-1.1735394265916612,-1.13145203060574,-1.0864191982481215,-1.0421476231680975,-0.9830150538020663,-0.9323477546374003,-0.8681858645545112,-0.8082542220751444,-0.7375131646792094,-0.6696980131997002,-0.5914703673786588,-0.5215819941626655,-0.4423947234948476,-0.36631109648280674,-0.28519797490702736,-0.2032549712393019,-0.11879263694087665,-0.041372662306659744,0.04489751760330465,0.12634416669607162,0.20210258993837568,0.2860643118619919,0.3697255618042416,0.4493391944302453,0.5367356240749359,0.6333532333374023,0.735162529680464,0.8449884586864047,0.9587535791926913,1.0707270171907213,1.1882761187023587,1.3099770810869005,1.4265477392408583,1.5381739404466417,1.6420475641886394,1.70846246348487,1.7553244829177856,1.7683868673112657],\"yaxis\":\"y\",\"type\":\"scatter\"},{\"hovertemplate\":\"variable=Data_Point<br>length=%{x}<br>value=%{y}<extra></extra>\",\"legendgroup\":\"Data_Point\",\"line\":{\"color\":\"#00cc96\",\"dash\":\"solid\"},\"marker\":{\"symbol\":\"circle\"},\"mode\":\"lines\",\"name\":\"Data_Point\",\"orientation\":\"v\",\"showlegend\":true,\"x\":[0,1,2,3,4,5,6,7,8,9,10,11,12,13,14,15,16,17,18,19,20,21,22,23,24,25,26,27,28,29,30,31,32,33,34,35,36,37,38,39,40,41,42,43,44,45,46,47,48,49,50,51,52,53,54,55,56,57,58,59,60,61,62,63,64,65,66,67,68,69,70,71,72,73,74,75,76,77,78,79,80,81,82,83,84,85,86,87,88,89,90,91,92,93,94,95,96,97,98,99,100,101,102,103,104,105,106,107,108,109,110,111,112,113,114,115,116,117,118,119,120,121,122,123,124,125,126,127,128,129,130,131,132,133,134,135,136,137,138,139,140,141,142,143,144,145,146,147,148,149,150,151,152,153,154,155,156,157,158,159,160,161,162,163,164,165,166,167,168,169,170,171,172,173,174,175],\"xaxis\":\"x\",\"y\":[1.7150675058364868,1.7114849090576172,1.6678905487060547,1.5978538990020752,1.517617106437683,1.4273847341537476,1.3367695808410645,1.2469075918197632,1.1571259498596191,1.0686055421829224,0.9824506640434265,0.8963972330093384,0.818042516708374,0.7340201735496521,0.6489012837409973,0.5624954700469971,0.4765567481517792,0.38929930329322815,0.31168702244758606,0.2255370169878006,0.13935905694961548,0.053602397441864014,-0.03128090128302574,-0.1169758290052414,-0.2005903273820877,-0.2763957679271698,-0.35913804173469543,-0.4409938454627991,-0.5225600004196167,-0.6014599800109863,-0.6833640336990356,-0.7602384686470032,-0.8282459378242493,-0.9022171497344971,-0.976222574710846,-1.0437352657318115,-1.1129443645477295,-1.1726207733154297,-1.2284249067306519,-1.2815014123916626,-1.3293853998184204,-1.3691951036453247,-1.391888976097107,-1.4195772409439087,-1.4279661178588867,-1.4244810342788696,-1.4091870784759521,-1.3905586004257202,-1.3540363311767578,-1.3201192617416382,-1.273976445198059,-1.2155791521072388,-1.1574177742004395,-1.0943938493728638,-1.0339237451553345,-0.9638264179229736,-0.8909252285957336,-0.8157101273536682,-0.7349419593811035,-0.6563838124275208,-0.5764225125312805,-0.499271959066391,-0.4206995964050293,-0.33503758907318115,-0.25389349460601807,-0.17720581591129303,-0.09218475222587585,-0.006639819126576185,0.07937024533748627,0.1572917401790619,0.24288204312324524,0.32841119170188904,0.41347983479499817,0.4943251609802246,0.5716847777366638,0.6564836502075195,0.7354220747947693,0.8207635879516602,0.9068974852561951,0.9944980144500732,1.0831589698791504,1.172516942024231,1.2626135349273682,1.3533343076705933,1.4446314573287964,1.5343290567398071,1.6220948696136475,1.6766948699951172,1.6988438367843628,1.6996175050735474,1.6709264516830444,1.6012779474258423,1.51478111743927,1.4241498708724976,1.3335351943969727,1.242938756942749,1.1531182527542114,1.0633827447891235,0.9835613965988159,0.8963228464126587,0.8110029101371765,0.7265270948410034,0.6415616869926453,0.5562785863876343,0.47057580947875977,0.3859226703643799,0.2991780936717987,0.22045302391052246,0.1341836303472519,0.05675874650478363,-0.020461443811655045,-0.10526511818170547,-0.1907573640346527,-0.27445530891418457,-0.34977447986602783,-0.43191567063331604,-0.509881854057312,-0.5930653214454651,-0.6717222929000854,-0.7488111257553101,-0.8246055841445923,-0.9014981389045715,-0.9722645282745361,-1.0399245023727417,-1.1093242168426514,-1.1635719537734985,-1.218624234199524,-1.2741016149520874,-1.3159246444702148,-1.3566144704818726,-1.3881957530975342,-1.4094125032424927,-1.4190088510513306,-1.4042476415634155,-1.4060940742492676,-1.3873294591903687,-1.3524950742721558,-1.309239387512207,-1.2643986940383911,-1.2128411531448364,-1.1553676128387451,-1.0877354145050049,-1.021647572517395,-0.9521344304084778,-0.8797968029975891,-0.8050921559333801,-0.7283996939659119,-0.6500392556190491,-0.5702524185180664,-0.4892582893371582,-0.40722453594207764,-0.32541385293006897,-0.25080248713493347,-0.1686333268880844,-0.08173289149999619,0.0022798688150942326,0.08844070881605148,0.1652555763721466,0.2522440254688263,0.3408358097076416,0.42558616399765015,0.5106405019760132,0.5962954163551331,0.6824967861175537,0.7689691781997681,0.8546167016029358,0.9410281181335449,1.0281342267990112,1.1087452173233032,1.1982903480529785,1.280395269393921,1.3709591627120972,1.4619375467300415,1.5517874956130981,1.632043719291687,1.6912755966186523],\"yaxis\":\"y\",\"type\":\"scatter\"}],                        {\"template\":{\"data\":{\"histogram2dcontour\":[{\"type\":\"histogram2dcontour\",\"colorbar\":{\"outlinewidth\":0,\"ticks\":\"\"},\"colorscale\":[[0.0,\"#0d0887\"],[0.1111111111111111,\"#46039f\"],[0.2222222222222222,\"#7201a8\"],[0.3333333333333333,\"#9c179e\"],[0.4444444444444444,\"#bd3786\"],[0.5555555555555556,\"#d8576b\"],[0.6666666666666666,\"#ed7953\"],[0.7777777777777778,\"#fb9f3a\"],[0.8888888888888888,\"#fdca26\"],[1.0,\"#f0f921\"]]}],\"choropleth\":[{\"type\":\"choropleth\",\"colorbar\":{\"outlinewidth\":0,\"ticks\":\"\"}}],\"histogram2d\":[{\"type\":\"histogram2d\",\"colorbar\":{\"outlinewidth\":0,\"ticks\":\"\"},\"colorscale\":[[0.0,\"#0d0887\"],[0.1111111111111111,\"#46039f\"],[0.2222222222222222,\"#7201a8\"],[0.3333333333333333,\"#9c179e\"],[0.4444444444444444,\"#bd3786\"],[0.5555555555555556,\"#d8576b\"],[0.6666666666666666,\"#ed7953\"],[0.7777777777777778,\"#fb9f3a\"],[0.8888888888888888,\"#fdca26\"],[1.0,\"#f0f921\"]]}],\"heatmap\":[{\"type\":\"heatmap\",\"colorbar\":{\"outlinewidth\":0,\"ticks\":\"\"},\"colorscale\":[[0.0,\"#0d0887\"],[0.1111111111111111,\"#46039f\"],[0.2222222222222222,\"#7201a8\"],[0.3333333333333333,\"#9c179e\"],[0.4444444444444444,\"#bd3786\"],[0.5555555555555556,\"#d8576b\"],[0.6666666666666666,\"#ed7953\"],[0.7777777777777778,\"#fb9f3a\"],[0.8888888888888888,\"#fdca26\"],[1.0,\"#f0f921\"]]}],\"heatmapgl\":[{\"type\":\"heatmapgl\",\"colorbar\":{\"outlinewidth\":0,\"ticks\":\"\"},\"colorscale\":[[0.0,\"#0d0887\"],[0.1111111111111111,\"#46039f\"],[0.2222222222222222,\"#7201a8\"],[0.3333333333333333,\"#9c179e\"],[0.4444444444444444,\"#bd3786\"],[0.5555555555555556,\"#d8576b\"],[0.6666666666666666,\"#ed7953\"],[0.7777777777777778,\"#fb9f3a\"],[0.8888888888888888,\"#fdca26\"],[1.0,\"#f0f921\"]]}],\"contourcarpet\":[{\"type\":\"contourcarpet\",\"colorbar\":{\"outlinewidth\":0,\"ticks\":\"\"}}],\"contour\":[{\"type\":\"contour\",\"colorbar\":{\"outlinewidth\":0,\"ticks\":\"\"},\"colorscale\":[[0.0,\"#0d0887\"],[0.1111111111111111,\"#46039f\"],[0.2222222222222222,\"#7201a8\"],[0.3333333333333333,\"#9c179e\"],[0.4444444444444444,\"#bd3786\"],[0.5555555555555556,\"#d8576b\"],[0.6666666666666666,\"#ed7953\"],[0.7777777777777778,\"#fb9f3a\"],[0.8888888888888888,\"#fdca26\"],[1.0,\"#f0f921\"]]}],\"surface\":[{\"type\":\"surface\",\"colorbar\":{\"outlinewidth\":0,\"ticks\":\"\"},\"colorscale\":[[0.0,\"#0d0887\"],[0.1111111111111111,\"#46039f\"],[0.2222222222222222,\"#7201a8\"],[0.3333333333333333,\"#9c179e\"],[0.4444444444444444,\"#bd3786\"],[0.5555555555555556,\"#d8576b\"],[0.6666666666666666,\"#ed7953\"],[0.7777777777777778,\"#fb9f3a\"],[0.8888888888888888,\"#fdca26\"],[1.0,\"#f0f921\"]]}],\"mesh3d\":[{\"type\":\"mesh3d\",\"colorbar\":{\"outlinewidth\":0,\"ticks\":\"\"}}],\"scatter\":[{\"marker\":{\"line\":{\"color\":\"#283442\"}},\"type\":\"scatter\"}],\"parcoords\":[{\"type\":\"parcoords\",\"line\":{\"colorbar\":{\"outlinewidth\":0,\"ticks\":\"\"}}}],\"scatterpolargl\":[{\"type\":\"scatterpolargl\",\"marker\":{\"colorbar\":{\"outlinewidth\":0,\"ticks\":\"\"}}}],\"bar\":[{\"error_x\":{\"color\":\"#f2f5fa\"},\"error_y\":{\"color\":\"#f2f5fa\"},\"marker\":{\"line\":{\"color\":\"rgb(17,17,17)\",\"width\":0.5},\"pattern\":{\"fillmode\":\"overlay\",\"size\":10,\"solidity\":0.2}},\"type\":\"bar\"}],\"scattergeo\":[{\"type\":\"scattergeo\",\"marker\":{\"colorbar\":{\"outlinewidth\":0,\"ticks\":\"\"}}}],\"scatterpolar\":[{\"type\":\"scatterpolar\",\"marker\":{\"colorbar\":{\"outlinewidth\":0,\"ticks\":\"\"}}}],\"histogram\":[{\"marker\":{\"pattern\":{\"fillmode\":\"overlay\",\"size\":10,\"solidity\":0.2}},\"type\":\"histogram\"}],\"scattergl\":[{\"marker\":{\"line\":{\"color\":\"#283442\"}},\"type\":\"scattergl\"}],\"scatter3d\":[{\"type\":\"scatter3d\",\"line\":{\"colorbar\":{\"outlinewidth\":0,\"ticks\":\"\"}},\"marker\":{\"colorbar\":{\"outlinewidth\":0,\"ticks\":\"\"}}}],\"scattermapbox\":[{\"type\":\"scattermapbox\",\"marker\":{\"colorbar\":{\"outlinewidth\":0,\"ticks\":\"\"}}}],\"scatterternary\":[{\"type\":\"scatterternary\",\"marker\":{\"colorbar\":{\"outlinewidth\":0,\"ticks\":\"\"}}}],\"scattercarpet\":[{\"type\":\"scattercarpet\",\"marker\":{\"colorbar\":{\"outlinewidth\":0,\"ticks\":\"\"}}}],\"carpet\":[{\"aaxis\":{\"endlinecolor\":\"#A2B1C6\",\"gridcolor\":\"#506784\",\"linecolor\":\"#506784\",\"minorgridcolor\":\"#506784\",\"startlinecolor\":\"#A2B1C6\"},\"baxis\":{\"endlinecolor\":\"#A2B1C6\",\"gridcolor\":\"#506784\",\"linecolor\":\"#506784\",\"minorgridcolor\":\"#506784\",\"startlinecolor\":\"#A2B1C6\"},\"type\":\"carpet\"}],\"table\":[{\"cells\":{\"fill\":{\"color\":\"#506784\"},\"line\":{\"color\":\"rgb(17,17,17)\"}},\"header\":{\"fill\":{\"color\":\"#2a3f5f\"},\"line\":{\"color\":\"rgb(17,17,17)\"}},\"type\":\"table\"}],\"barpolar\":[{\"marker\":{\"line\":{\"color\":\"rgb(17,17,17)\",\"width\":0.5},\"pattern\":{\"fillmode\":\"overlay\",\"size\":10,\"solidity\":0.2}},\"type\":\"barpolar\"}],\"pie\":[{\"automargin\":true,\"type\":\"pie\"}]},\"layout\":{\"autotypenumbers\":\"strict\",\"colorway\":[\"#636efa\",\"#EF553B\",\"#00cc96\",\"#ab63fa\",\"#FFA15A\",\"#19d3f3\",\"#FF6692\",\"#B6E880\",\"#FF97FF\",\"#FECB52\"],\"font\":{\"color\":\"#f2f5fa\"},\"hovermode\":\"closest\",\"hoverlabel\":{\"align\":\"left\"},\"paper_bgcolor\":\"rgb(17,17,17)\",\"plot_bgcolor\":\"rgb(17,17,17)\",\"polar\":{\"bgcolor\":\"rgb(17,17,17)\",\"angularaxis\":{\"gridcolor\":\"#506784\",\"linecolor\":\"#506784\",\"ticks\":\"\"},\"radialaxis\":{\"gridcolor\":\"#506784\",\"linecolor\":\"#506784\",\"ticks\":\"\"}},\"ternary\":{\"bgcolor\":\"rgb(17,17,17)\",\"aaxis\":{\"gridcolor\":\"#506784\",\"linecolor\":\"#506784\",\"ticks\":\"\"},\"baxis\":{\"gridcolor\":\"#506784\",\"linecolor\":\"#506784\",\"ticks\":\"\"},\"caxis\":{\"gridcolor\":\"#506784\",\"linecolor\":\"#506784\",\"ticks\":\"\"}},\"coloraxis\":{\"colorbar\":{\"outlinewidth\":0,\"ticks\":\"\"}},\"colorscale\":{\"sequential\":[[0.0,\"#0d0887\"],[0.1111111111111111,\"#46039f\"],[0.2222222222222222,\"#7201a8\"],[0.3333333333333333,\"#9c179e\"],[0.4444444444444444,\"#bd3786\"],[0.5555555555555556,\"#d8576b\"],[0.6666666666666666,\"#ed7953\"],[0.7777777777777778,\"#fb9f3a\"],[0.8888888888888888,\"#fdca26\"],[1.0,\"#f0f921\"]],\"sequentialminus\":[[0.0,\"#0d0887\"],[0.1111111111111111,\"#46039f\"],[0.2222222222222222,\"#7201a8\"],[0.3333333333333333,\"#9c179e\"],[0.4444444444444444,\"#bd3786\"],[0.5555555555555556,\"#d8576b\"],[0.6666666666666666,\"#ed7953\"],[0.7777777777777778,\"#fb9f3a\"],[0.8888888888888888,\"#fdca26\"],[1.0,\"#f0f921\"]],\"diverging\":[[0,\"#8e0152\"],[0.1,\"#c51b7d\"],[0.2,\"#de77ae\"],[0.3,\"#f1b6da\"],[0.4,\"#fde0ef\"],[0.5,\"#f7f7f7\"],[0.6,\"#e6f5d0\"],[0.7,\"#b8e186\"],[0.8,\"#7fbc41\"],[0.9,\"#4d9221\"],[1,\"#276419\"]]},\"xaxis\":{\"gridcolor\":\"#283442\",\"linecolor\":\"#506784\",\"ticks\":\"\",\"title\":{\"standoff\":15},\"zerolinecolor\":\"#283442\",\"automargin\":true,\"zerolinewidth\":2},\"yaxis\":{\"gridcolor\":\"#283442\",\"linecolor\":\"#506784\",\"ticks\":\"\",\"title\":{\"standoff\":15},\"zerolinecolor\":\"#283442\",\"automargin\":true,\"zerolinewidth\":2},\"scene\":{\"xaxis\":{\"backgroundcolor\":\"rgb(17,17,17)\",\"gridcolor\":\"#506784\",\"linecolor\":\"#506784\",\"showbackground\":true,\"ticks\":\"\",\"zerolinecolor\":\"#C8D4E3\",\"gridwidth\":2},\"yaxis\":{\"backgroundcolor\":\"rgb(17,17,17)\",\"gridcolor\":\"#506784\",\"linecolor\":\"#506784\",\"showbackground\":true,\"ticks\":\"\",\"zerolinecolor\":\"#C8D4E3\",\"gridwidth\":2},\"zaxis\":{\"backgroundcolor\":\"rgb(17,17,17)\",\"gridcolor\":\"#506784\",\"linecolor\":\"#506784\",\"showbackground\":true,\"ticks\":\"\",\"zerolinecolor\":\"#C8D4E3\",\"gridwidth\":2}},\"shapedefaults\":{\"line\":{\"color\":\"#f2f5fa\"}},\"annotationdefaults\":{\"arrowcolor\":\"#f2f5fa\",\"arrowhead\":0,\"arrowwidth\":1},\"geo\":{\"bgcolor\":\"rgb(17,17,17)\",\"landcolor\":\"rgb(17,17,17)\",\"subunitcolor\":\"#506784\",\"showland\":true,\"showlakes\":true,\"lakecolor\":\"rgb(17,17,17)\"},\"title\":{\"x\":0.05},\"updatemenudefaults\":{\"bgcolor\":\"#506784\",\"borderwidth\":0},\"sliderdefaults\":{\"bgcolor\":\"#C8D4E3\",\"borderwidth\":1,\"bordercolor\":\"rgb(17,17,17)\",\"tickwidth\":0},\"mapbox\":{\"style\":\"dark\"}}},\"xaxis\":{\"anchor\":\"y\",\"domain\":[0.0,1.0],\"title\":{\"text\":\"length\"}},\"yaxis\":{\"anchor\":\"x\",\"domain\":[0.0,1.0],\"title\":{\"text\":\"value\"}},\"legend\":{\"title\":{\"text\":\"variable\"},\"tracegroupgap\":0},\"margin\":{\"t\":60}},                        {\"responsive\": true}                    ).then(function(){\n                            \nvar gd = document.getElementById('283bb18e-0dad-42fb-8bbf-da680b0548bb');\nvar x = new MutationObserver(function (mutations, observer) {{\n        var display = window.getComputedStyle(gd).display;\n        if (!display || display === 'none') {{\n            console.log([gd, 'removed!']);\n            Plotly.purge(gd);\n            observer.disconnect();\n        }}\n}});\n\n// Listen for the removal of the full notebook cells\nvar notebookContainer = gd.closest('#notebook-container');\nif (notebookContainer) {{\n    x.observe(notebookContainer, {childList: true});\n}}\n\n// Listen for the clearing of the current output cell\nvar outputEl = gd.closest('.output');\nif (outputEl) {{\n    x.observe(outputEl, {childList: true});\n}}\n\n                        })                };                });            </script>        </div>"
     },
     "metadata": {},
     "output_type": "display_data"
    }
   ],
   "source": [
    "sel_instance_idx = 10\n",
    "x_counter_RSF = x_counterfactual_RSF[sel_instance_idx, :]\n",
    "x_counter_kNN = x_counterfactual_kNN[sel_instance_idx, :]\n",
    "x_counter_test = x_test[sel_instance_idx, :]\n",
    "y1 = x_counter_RSF\n",
    "y2 = x_counter_kNN\n",
    "y3 = x_counter_test\n",
    "\n",
    "df = pd.DataFrame(dict(\n",
    "    length=np.arange(y1.shape[0]),\n",
    "    RSF_counter=y1,\n",
    "    kNN_counter=y2,\n",
    "    Data_Point=y3))\n",
    "\n",
    "fig = px.line(df, x=df[\"length\"], y=df.columns)\n",
    "fig.show()"
   ]
  },
  {
   "cell_type": "code",
   "execution_count": 72,
   "outputs": [],
   "source": [
    "sel_instance_idx = 10\n",
    "x_counter_RSF = x_counterfactual_RSF[sel_instance_idx, :]\n",
    "x_counter_kNN = x_counterfactual_kNN[sel_instance_idx, :]\n",
    "x_counter_test = x_test[sel_instance_idx, :]\n",
    "y1 = x_counter_RSF\n",
    "y2 = x_counter_kNN\n",
    "y3 = x_counter_test\n"
   ],
   "metadata": {
    "collapsed": false,
    "pycharm": {
     "name": "#%%\n"
    }
   }
  },
  {
   "cell_type": "code",
   "execution_count": null,
   "outputs": [],
   "source": [
    "x_counter_RSF"
   ],
   "metadata": {
    "collapsed": false,
    "pycharm": {
     "name": "#%%\n"
    }
   }
  },
  {
   "cell_type": "code",
   "execution_count": null,
   "outputs": [],
   "source": [
    "df = pd.DataFrame(dict(\n",
    "    length=np.arange(y1.shape[0]),\n",
    "    x_counter_RSF=y1,\n",
    "    x_counter_kNN=y2,\n",
    "    x_test=y3\n",
    "))"
   ],
   "metadata": {
    "collapsed": false,
    "pycharm": {
     "name": "#%%\n"
    }
   }
  },
  {
   "cell_type": "code",
   "execution_count": 73,
   "id": "97c4d5ca-80e1-419e-b768-4d3b173ec3b9",
   "metadata": {
    "pycharm": {
     "name": "#%%\n"
    }
   },
   "outputs": [
    {
     "data": {
      "text/plain": "                    0         1         2         3         4         5    \\\nx_counter_RSF  0.019997  0.013389  0.050173  0.031110  0.017921  0.050113   \nx_counter_kNN  0.030718  0.022954  0.033256  0.024429  0.026811  0.023753   \nx_test         0.019997  0.013389  0.050173  0.031110  0.017921  0.050113   \n\n                    6         7         8         9    ...       118  \\\nx_counter_RSF  0.040883  0.047123  0.044335  0.007570  ...  0.044135   \nx_counter_kNN  0.087344  0.178649  0.358125  0.612625  ...  0.027433   \nx_test         0.040883  0.047123  0.044335  0.007570  ...  0.044135   \n\n                    119       120       121       122       123       124  \\\nx_counter_RSF  0.038880  0.047283  0.026936  0.007765  0.012871  0.039896   \nx_counter_kNN  0.028144  0.017094  0.017391  0.023043  0.023368  0.022835   \nx_test         0.038880  0.047283  0.026936  0.007765  0.012871  0.039896   \n\n                    125       126       127  \nx_counter_RSF  0.010400  0.046678  0.006963  \nx_counter_kNN  0.018562  0.025615  0.025141  \nx_test         0.010400  0.046678  0.006963  \n\n[3 rows x 128 columns]",
      "text/html": "<div>\n<style scoped>\n    .dataframe tbody tr th:only-of-type {\n        vertical-align: middle;\n    }\n\n    .dataframe tbody tr th {\n        vertical-align: top;\n    }\n\n    .dataframe thead th {\n        text-align: right;\n    }\n</style>\n<table border=\"1\" class=\"dataframe\">\n  <thead>\n    <tr style=\"text-align: right;\">\n      <th></th>\n      <th>0</th>\n      <th>1</th>\n      <th>2</th>\n      <th>3</th>\n      <th>4</th>\n      <th>5</th>\n      <th>6</th>\n      <th>7</th>\n      <th>8</th>\n      <th>9</th>\n      <th>...</th>\n      <th>118</th>\n      <th>119</th>\n      <th>120</th>\n      <th>121</th>\n      <th>122</th>\n      <th>123</th>\n      <th>124</th>\n      <th>125</th>\n      <th>126</th>\n      <th>127</th>\n    </tr>\n  </thead>\n  <tbody>\n    <tr>\n      <th>x_counter_RSF</th>\n      <td>0.019997</td>\n      <td>0.013389</td>\n      <td>0.050173</td>\n      <td>0.031110</td>\n      <td>0.017921</td>\n      <td>0.050113</td>\n      <td>0.040883</td>\n      <td>0.047123</td>\n      <td>0.044335</td>\n      <td>0.007570</td>\n      <td>...</td>\n      <td>0.044135</td>\n      <td>0.038880</td>\n      <td>0.047283</td>\n      <td>0.026936</td>\n      <td>0.007765</td>\n      <td>0.012871</td>\n      <td>0.039896</td>\n      <td>0.010400</td>\n      <td>0.046678</td>\n      <td>0.006963</td>\n    </tr>\n    <tr>\n      <th>x_counter_kNN</th>\n      <td>0.030718</td>\n      <td>0.022954</td>\n      <td>0.033256</td>\n      <td>0.024429</td>\n      <td>0.026811</td>\n      <td>0.023753</td>\n      <td>0.087344</td>\n      <td>0.178649</td>\n      <td>0.358125</td>\n      <td>0.612625</td>\n      <td>...</td>\n      <td>0.027433</td>\n      <td>0.028144</td>\n      <td>0.017094</td>\n      <td>0.017391</td>\n      <td>0.023043</td>\n      <td>0.023368</td>\n      <td>0.022835</td>\n      <td>0.018562</td>\n      <td>0.025615</td>\n      <td>0.025141</td>\n    </tr>\n    <tr>\n      <th>x_test</th>\n      <td>0.019997</td>\n      <td>0.013389</td>\n      <td>0.050173</td>\n      <td>0.031110</td>\n      <td>0.017921</td>\n      <td>0.050113</td>\n      <td>0.040883</td>\n      <td>0.047123</td>\n      <td>0.044335</td>\n      <td>0.007570</td>\n      <td>...</td>\n      <td>0.044135</td>\n      <td>0.038880</td>\n      <td>0.047283</td>\n      <td>0.026936</td>\n      <td>0.007765</td>\n      <td>0.012871</td>\n      <td>0.039896</td>\n      <td>0.010400</td>\n      <td>0.046678</td>\n      <td>0.006963</td>\n    </tr>\n  </tbody>\n</table>\n<p>3 rows × 128 columns</p>\n</div>"
     },
     "metadata": {},
     "output_type": "display_data"
    },
    {
     "name": "stderr",
     "output_type": "stream",
     "text": [
      "/Users/arvinrastegar/opt/anaconda3/envs/Extremum/lib/python3.7/site-packages/plotly/express/_core.py:1222: PerformanceWarning:\n",
      "\n",
      "DataFrame is highly fragmented.  This is usually the result of calling `frame.insert` many times, which has poor performance.  Consider joining all columns at once using pd.concat(axis=1) instead.  To get a de-fragmented frame, use `newframe = frame.copy()`\n",
      "\n"
     ]
    },
    {
     "data": {
      "application/vnd.plotly.v1+json": {
       "data": [
        {
         "hovertemplate": "variable=0<br>index=%{x}<br>value=%{y}<extra></extra>",
         "legendgroup": "0",
         "line": {
          "color": "#636efa",
          "dash": "solid"
         },
         "marker": {
          "symbol": "circle"
         },
         "mode": "lines",
         "name": "0",
         "orientation": "v",
         "showlegend": true,
         "x": [
          "x_counter_RSF",
          "x_counter_kNN",
          "x_test"
         ],
         "xaxis": "x",
         "y": [
          0.019996842369437218,
          0.030717918241862208,
          0.019996842369437218
         ],
         "yaxis": "y",
         "type": "scatter"
        },
        {
         "hovertemplate": "variable=1<br>index=%{x}<br>value=%{y}<extra></extra>",
         "legendgroup": "1",
         "line": {
          "color": "#EF553B",
          "dash": "solid"
         },
         "marker": {
          "symbol": "circle"
         },
         "mode": "lines",
         "name": "1",
         "orientation": "v",
         "showlegend": true,
         "x": [
          "x_counter_RSF",
          "x_counter_kNN",
          "x_test"
         ],
         "xaxis": "x",
         "y": [
          0.01338891126215458,
          0.02295408837380819,
          0.01338891126215458
         ],
         "yaxis": "y",
         "type": "scatter"
        },
        {
         "hovertemplate": "variable=2<br>index=%{x}<br>value=%{y}<extra></extra>",
         "legendgroup": "2",
         "line": {
          "color": "#00cc96",
          "dash": "solid"
         },
         "marker": {
          "symbol": "circle"
         },
         "mode": "lines",
         "name": "2",
         "orientation": "v",
         "showlegend": true,
         "x": [
          "x_counter_RSF",
          "x_counter_kNN",
          "x_test"
         ],
         "xaxis": "x",
         "y": [
          0.050172965973615646,
          0.033255839603953063,
          0.050172965973615646
         ],
         "yaxis": "y",
         "type": "scatter"
        },
        {
         "hovertemplate": "variable=3<br>index=%{x}<br>value=%{y}<extra></extra>",
         "legendgroup": "3",
         "line": {
          "color": "#ab63fa",
          "dash": "solid"
         },
         "marker": {
          "symbol": "circle"
         },
         "mode": "lines",
         "name": "3",
         "orientation": "v",
         "showlegend": true,
         "x": [
          "x_counter_RSF",
          "x_counter_kNN",
          "x_test"
         ],
         "xaxis": "x",
         "y": [
          0.031109778210520744,
          0.024428925360552967,
          0.031109778210520744
         ],
         "yaxis": "y",
         "type": "scatter"
        },
        {
         "hovertemplate": "variable=4<br>index=%{x}<br>value=%{y}<extra></extra>",
         "legendgroup": "4",
         "line": {
          "color": "#FFA15A",
          "dash": "solid"
         },
         "marker": {
          "symbol": "circle"
         },
         "mode": "lines",
         "name": "4",
         "orientation": "v",
         "showlegend": true,
         "x": [
          "x_counter_RSF",
          "x_counter_kNN",
          "x_test"
         ],
         "xaxis": "x",
         "y": [
          0.017921093851327896,
          0.02681080947513692,
          0.017921093851327896
         ],
         "yaxis": "y",
         "type": "scatter"
        },
        {
         "hovertemplate": "variable=5<br>index=%{x}<br>value=%{y}<extra></extra>",
         "legendgroup": "5",
         "line": {
          "color": "#19d3f3",
          "dash": "solid"
         },
         "marker": {
          "symbol": "circle"
         },
         "mode": "lines",
         "name": "5",
         "orientation": "v",
         "showlegend": true,
         "x": [
          "x_counter_RSF",
          "x_counter_kNN",
          "x_test"
         ],
         "xaxis": "x",
         "y": [
          0.050113022327423096,
          0.02375253280479228,
          0.050113022327423096
         ],
         "yaxis": "y",
         "type": "scatter"
        },
        {
         "hovertemplate": "variable=6<br>index=%{x}<br>value=%{y}<extra></extra>",
         "legendgroup": "6",
         "line": {
          "color": "#FF6692",
          "dash": "solid"
         },
         "marker": {
          "symbol": "circle"
         },
         "mode": "lines",
         "name": "6",
         "orientation": "v",
         "showlegend": true,
         "x": [
          "x_counter_RSF",
          "x_counter_kNN",
          "x_test"
         ],
         "xaxis": "x",
         "y": [
          0.0408826507627964,
          0.08734449959592894,
          0.0408826507627964
         ],
         "yaxis": "y",
         "type": "scatter"
        },
        {
         "hovertemplate": "variable=7<br>index=%{x}<br>value=%{y}<extra></extra>",
         "legendgroup": "7",
         "line": {
          "color": "#B6E880",
          "dash": "solid"
         },
         "marker": {
          "symbol": "circle"
         },
         "mode": "lines",
         "name": "7",
         "orientation": "v",
         "showlegend": true,
         "x": [
          "x_counter_RSF",
          "x_counter_kNN",
          "x_test"
         ],
         "xaxis": "x",
         "y": [
          0.047123026102781296,
          0.17864942189771682,
          0.047123026102781296
         ],
         "yaxis": "y",
         "type": "scatter"
        },
        {
         "hovertemplate": "variable=8<br>index=%{x}<br>value=%{y}<extra></extra>",
         "legendgroup": "8",
         "line": {
          "color": "#FF97FF",
          "dash": "solid"
         },
         "marker": {
          "symbol": "circle"
         },
         "mode": "lines",
         "name": "8",
         "orientation": "v",
         "showlegend": true,
         "x": [
          "x_counter_RSF",
          "x_counter_kNN",
          "x_test"
         ],
         "xaxis": "x",
         "y": [
          0.04433491826057434,
          0.35812500305473804,
          0.04433491826057434
         ],
         "yaxis": "y",
         "type": "scatter"
        },
        {
         "hovertemplate": "variable=9<br>index=%{x}<br>value=%{y}<extra></extra>",
         "legendgroup": "9",
         "line": {
          "color": "#FECB52",
          "dash": "solid"
         },
         "marker": {
          "symbol": "circle"
         },
         "mode": "lines",
         "name": "9",
         "orientation": "v",
         "showlegend": true,
         "x": [
          "x_counter_RSF",
          "x_counter_kNN",
          "x_test"
         ],
         "xaxis": "x",
         "y": [
          0.007570188958197832,
          0.612624991685152,
          0.007570188958197832
         ],
         "yaxis": "y",
         "type": "scatter"
        },
        {
         "hovertemplate": "variable=10<br>index=%{x}<br>value=%{y}<extra></extra>",
         "legendgroup": "10",
         "line": {
          "color": "#636efa",
          "dash": "solid"
         },
         "marker": {
          "symbol": "circle"
         },
         "mode": "lines",
         "name": "10",
         "orientation": "v",
         "showlegend": true,
         "x": [
          "x_counter_RSF",
          "x_counter_kNN",
          "x_test"
         ],
         "xaxis": "x",
         "y": [
          0.053850434720516205,
          0.8195000141859056,
          0.053850434720516205
         ],
         "yaxis": "y",
         "type": "scatter"
        },
        {
         "hovertemplate": "variable=11<br>index=%{x}<br>value=%{y}<extra></extra>",
         "legendgroup": "11",
         "line": {
          "color": "#EF553B",
          "dash": "solid"
         },
         "marker": {
          "symbol": "circle"
         },
         "mode": "lines",
         "name": "11",
         "orientation": "v",
         "showlegend": true,
         "x": [
          "x_counter_RSF",
          "x_counter_kNN",
          "x_test"
         ],
         "xaxis": "x",
         "y": [
          0.03924356773495674,
          0.9281250014901161,
          0.03924356773495674
         ],
         "yaxis": "y",
         "type": "scatter"
        },
        {
         "hovertemplate": "variable=12<br>index=%{x}<br>value=%{y}<extra></extra>",
         "legendgroup": "12",
         "line": {
          "color": "#00cc96",
          "dash": "solid"
         },
         "marker": {
          "symbol": "circle"
         },
         "mode": "lines",
         "name": "12",
         "orientation": "v",
         "showlegend": true,
         "x": [
          "x_counter_RSF",
          "x_counter_kNN",
          "x_test"
         ],
         "xaxis": "x",
         "y": [
          -0.2164898085733734,
          0.9623750001192093,
          0.02420962229371071
         ],
         "yaxis": "y",
         "type": "scatter"
        },
        {
         "hovertemplate": "variable=13<br>index=%{x}<br>value=%{y}<extra></extra>",
         "legendgroup": "13",
         "line": {
          "color": "#ab63fa",
          "dash": "solid"
         },
         "marker": {
          "symbol": "circle"
         },
         "mode": "lines",
         "name": "13",
         "orientation": "v",
         "showlegend": true,
         "x": [
          "x_counter_RSF",
          "x_counter_kNN",
          "x_test"
         ],
         "xaxis": "x",
         "y": [
          -0.22508182665420529,
          0.8982500210404397,
          0.013899706304073334
         ],
         "yaxis": "y",
         "type": "scatter"
        },
        {
         "hovertemplate": "variable=14<br>index=%{x}<br>value=%{y}<extra></extra>",
         "legendgroup": "14",
         "line": {
          "color": "#FFA15A",
          "dash": "solid"
         },
         "marker": {
          "symbol": "circle"
         },
         "mode": "lines",
         "name": "14",
         "orientation": "v",
         "showlegend": true,
         "x": [
          "x_counter_RSF",
          "x_counter_kNN",
          "x_test"
         ],
         "xaxis": "x",
         "y": [
          -0.22870139363037145,
          0.7092499993741512,
          0.008553779684007168
         ],
         "yaxis": "y",
         "type": "scatter"
        },
        {
         "hovertemplate": "variable=15<br>index=%{x}<br>value=%{y}<extra></extra>",
         "legendgroup": "15",
         "line": {
          "color": "#19d3f3",
          "dash": "solid"
         },
         "marker": {
          "symbol": "circle"
         },
         "mode": "lines",
         "name": "15",
         "orientation": "v",
         "showlegend": true,
         "x": [
          "x_counter_RSF",
          "x_counter_kNN",
          "x_test"
         ],
         "xaxis": "x",
         "y": [
          -0.2138956620719792,
          0.47112499363720417,
          0.027600707486271858
         ],
         "yaxis": "y",
         "type": "scatter"
        },
        {
         "hovertemplate": "variable=16<br>index=%{x}<br>value=%{y}<extra></extra>",
         "legendgroup": "16",
         "line": {
          "color": "#FF6692",
          "dash": "solid"
         },
         "marker": {
          "symbol": "circle"
         },
         "mode": "lines",
         "name": "16",
         "orientation": "v",
         "showlegend": true,
         "x": [
          "x_counter_RSF",
          "x_counter_kNN",
          "x_test"
         ],
         "xaxis": "x",
         "y": [
          -0.2246963428947626,
          0.28862676303833723,
          0.014096392318606377
         ],
         "yaxis": "y",
         "type": "scatter"
        },
        {
         "hovertemplate": "variable=17<br>index=%{x}<br>value=%{y}<extra></extra>",
         "legendgroup": "17",
         "line": {
          "color": "#B6E880",
          "dash": "solid"
         },
         "marker": {
          "symbol": "circle"
         },
         "mode": "lines",
         "name": "17",
         "orientation": "v",
         "showlegend": true,
         "x": [
          "x_counter_RSF",
          "x_counter_kNN",
          "x_test"
         ],
         "xaxis": "x",
         "y": [
          -0.22764101428338823,
          0.15857468452304602,
          0.009632693603634834
         ],
         "yaxis": "y",
         "type": "scatter"
        },
        {
         "hovertemplate": "variable=18<br>index=%{x}<br>value=%{y}<extra></extra>",
         "legendgroup": "18",
         "line": {
          "color": "#FF97FF",
          "dash": "solid"
         },
         "marker": {
          "symbol": "circle"
         },
         "mode": "lines",
         "name": "18",
         "orientation": "v",
         "showlegend": true,
         "x": [
          "x_counter_RSF",
          "x_counter_kNN",
          "x_test"
         ],
         "xaxis": "x",
         "y": [
          -0.2092395750492162,
          0.08809538371860981,
          0.03307276964187622
         ],
         "yaxis": "y",
         "type": "scatter"
        },
        {
         "hovertemplate": "variable=19<br>index=%{x}<br>value=%{y}<extra></extra>",
         "legendgroup": "19",
         "line": {
          "color": "#FECB52",
          "dash": "solid"
         },
         "marker": {
          "symbol": "circle"
         },
         "mode": "lines",
         "name": "19",
         "orientation": "v",
         "showlegend": true,
         "x": [
          "x_counter_RSF",
          "x_counter_kNN",
          "x_test"
         ],
         "xaxis": "x",
         "y": [
          -0.2033209643165782,
          0.04124185477849096,
          0.04173124209046364
         ],
         "yaxis": "y",
         "type": "scatter"
        },
        {
         "hovertemplate": "variable=20<br>index=%{x}<br>value=%{y}<extra></extra>",
         "legendgroup": "20",
         "line": {
          "color": "#636efa",
          "dash": "solid"
         },
         "marker": {
          "symbol": "circle"
         },
         "mode": "lines",
         "name": "20",
         "orientation": "v",
         "showlegend": true,
         "x": [
          "x_counter_RSF",
          "x_counter_kNN",
          "x_test"
         ],
         "xaxis": "x",
         "y": [
          -0.21590993414880033,
          0.03445183043368161,
          0.026196448132395744
         ],
         "yaxis": "y",
         "type": "scatter"
        },
        {
         "hovertemplate": "variable=21<br>index=%{x}<br>value=%{y}<extra></extra>",
         "legendgroup": "21",
         "line": {
          "color": "#EF553B",
          "dash": "solid"
         },
         "marker": {
          "symbol": "circle"
         },
         "mode": "lines",
         "name": "21",
         "orientation": "v",
         "showlegend": true,
         "x": [
          "x_counter_RSF",
          "x_counter_kNN",
          "x_test"
         ],
         "xaxis": "x",
         "y": [
          -0.21317732947030876,
          0.030939967837184668,
          0.030382968485355377
         ],
         "yaxis": "y",
         "type": "scatter"
        },
        {
         "hovertemplate": "variable=22<br>index=%{x}<br>value=%{y}<extra></extra>",
         "legendgroup": "22",
         "line": {
          "color": "#00cc96",
          "dash": "solid"
         },
         "marker": {
          "symbol": "circle"
         },
         "mode": "lines",
         "name": "22",
         "orientation": "v",
         "showlegend": true,
         "x": [
          "x_counter_RSF",
          "x_counter_kNN",
          "x_test"
         ],
         "xaxis": "x",
         "y": [
          -0.20348197949607882,
          0.015269148745574057,
          0.043671198189258575
         ],
         "yaxis": "y",
         "type": "scatter"
        },
        {
         "hovertemplate": "variable=23<br>index=%{x}<br>value=%{y}<extra></extra>",
         "legendgroup": "23",
         "line": {
          "color": "#ab63fa",
          "dash": "solid"
         },
         "marker": {
          "symbol": "circle"
         },
         "mode": "lines",
         "name": "23",
         "orientation": "v",
         "showlegend": true,
         "x": [
          "x_counter_RSF",
          "x_counter_kNN",
          "x_test"
         ],
         "xaxis": "x",
         "y": [
          -0.230594677984166,
          0.01788890507305041,
          0.008229302242398262
         ],
         "yaxis": "y",
         "type": "scatter"
        },
        {
         "hovertemplate": "variable=24<br>index=%{x}<br>value=%{y}<extra></extra>",
         "legendgroup": "24",
         "line": {
          "color": "#FFA15A",
          "dash": "solid"
         },
         "marker": {
          "symbol": "circle"
         },
         "mode": "lines",
         "name": "24",
         "orientation": "v",
         "showlegend": true,
         "x": [
          "x_counter_RSF",
          "x_counter_kNN",
          "x_test"
         ],
         "xaxis": "x",
         "y": [
          -0.22861938064470588,
          0.019736259819183033,
          0.010504202917218208
         ],
         "yaxis": "y",
         "type": "scatter"
        },
        {
         "hovertemplate": "variable=25<br>index=%{x}<br>value=%{y}<extra></extra>",
         "legendgroup": "25",
         "line": {
          "color": "#19d3f3",
          "dash": "solid"
         },
         "marker": {
          "symbol": "circle"
         },
         "mode": "lines",
         "name": "25",
         "orientation": "v",
         "showlegend": true,
         "x": [
          "x_counter_RSF",
          "x_counter_kNN",
          "x_test"
         ],
         "xaxis": "x",
         "y": [
          -0.21615360675468798,
          0.029977864352986217,
          0.025570733472704887
         ],
         "yaxis": "y",
         "type": "scatter"
        },
        {
         "hovertemplate": "variable=26<br>index=%{x}<br>value=%{y}<extra></extra>",
         "legendgroup": "26",
         "line": {
          "color": "#FF6692",
          "dash": "solid"
         },
         "marker": {
          "symbol": "circle"
         },
         "mode": "lines",
         "name": "26",
         "orientation": "v",
         "showlegend": true,
         "x": [
          "x_counter_RSF",
          "x_counter_kNN",
          "x_test"
         ],
         "xaxis": "x",
         "y": [
          -0.21766523814102445,
          0.013147618681387032,
          0.021751467138528824
         ],
         "yaxis": "y",
         "type": "scatter"
        },
        {
         "hovertemplate": "variable=27<br>index=%{x}<br>value=%{y}<extra></extra>",
         "legendgroup": "27",
         "line": {
          "color": "#B6E880",
          "dash": "solid"
         },
         "marker": {
          "symbol": "circle"
         },
         "mode": "lines",
         "name": "27",
         "orientation": "v",
         "showlegend": true,
         "x": [
          "x_counter_RSF",
          "x_counter_kNN",
          "x_test"
         ],
         "xaxis": "x",
         "y": [
          -0.20078860278352495,
          0.024507563386578113,
          0.04350551217794418
         ],
         "yaxis": "y",
         "type": "scatter"
        },
        {
         "hovertemplate": "variable=28<br>index=%{x}<br>value=%{y}<extra></extra>",
         "legendgroup": "28",
         "line": {
          "color": "#FF97FF",
          "dash": "solid"
         },
         "marker": {
          "symbol": "circle"
         },
         "mode": "lines",
         "name": "28",
         "orientation": "v",
         "showlegend": true,
         "x": [
          "x_counter_RSF",
          "x_counter_kNN",
          "x_test"
         ],
         "xaxis": "x",
         "y": [
          -0.23442613337357765,
          0.029255065717734396,
          -1.5848421026021242E-4
         ],
         "yaxis": "y",
         "type": "scatter"
        },
        {
         "hovertemplate": "variable=29<br>index=%{x}<br>value=%{y}<extra></extra>",
         "legendgroup": "29",
         "line": {
          "color": "#FECB52",
          "dash": "solid"
         },
         "marker": {
          "symbol": "circle"
         },
         "mode": "lines",
         "name": "29",
         "orientation": "v",
         "showlegend": true,
         "x": [
          "x_counter_RSF",
          "x_counter_kNN",
          "x_test"
         ],
         "xaxis": "x",
         "y": [
          -0.22439021823534,
          0.01826178109331522,
          0.012346124276518822
         ],
         "yaxis": "y",
         "type": "scatter"
        },
        {
         "hovertemplate": "variable=30<br>index=%{x}<br>value=%{y}<extra></extra>",
         "legendgroup": "30",
         "line": {
          "color": "#636efa",
          "dash": "solid"
         },
         "marker": {
          "symbol": "circle"
         },
         "mode": "lines",
         "name": "30",
         "orientation": "v",
         "showlegend": true,
         "x": [
          "x_counter_RSF",
          "x_counter_kNN",
          "x_test"
         ],
         "xaxis": "x",
         "y": [
          0.04250909388065338,
          0.01825661995098926,
          0.04250909388065338
         ],
         "yaxis": "y",
         "type": "scatter"
        },
        {
         "hovertemplate": "variable=31<br>index=%{x}<br>value=%{y}<extra></extra>",
         "legendgroup": "31",
         "line": {
          "color": "#EF553B",
          "dash": "solid"
         },
         "marker": {
          "symbol": "circle"
         },
         "mode": "lines",
         "name": "31",
         "orientation": "v",
         "showlegend": true,
         "x": [
          "x_counter_RSF",
          "x_counter_kNN",
          "x_test"
         ],
         "xaxis": "x",
         "y": [
          0.03914467245340347,
          0.025006777832459193,
          0.03914467245340347
         ],
         "yaxis": "y",
         "type": "scatter"
        },
        {
         "hovertemplate": "variable=32<br>index=%{x}<br>value=%{y}<extra></extra>",
         "legendgroup": "32",
         "line": {
          "color": "#00cc96",
          "dash": "solid"
         },
         "marker": {
          "symbol": "circle"
         },
         "mode": "lines",
         "name": "32",
         "orientation": "v",
         "showlegend": true,
         "x": [
          "x_counter_RSF",
          "x_counter_kNN",
          "x_test"
         ],
         "xaxis": "x",
         "y": [
          0.018022878095507622,
          0.020490055670961738,
          0.018022878095507622
         ],
         "yaxis": "y",
         "type": "scatter"
        },
        {
         "hovertemplate": "variable=33<br>index=%{x}<br>value=%{y}<extra></extra>",
         "legendgroup": "33",
         "line": {
          "color": "#ab63fa",
          "dash": "solid"
         },
         "marker": {
          "symbol": "circle"
         },
         "mode": "lines",
         "name": "33",
         "orientation": "v",
         "showlegend": true,
         "x": [
          "x_counter_RSF",
          "x_counter_kNN",
          "x_test"
         ],
         "xaxis": "x",
         "y": [
          0.04916190356016159,
          0.022588727733818814,
          0.04916190356016159
         ],
         "yaxis": "y",
         "type": "scatter"
        },
        {
         "hovertemplate": "variable=34<br>index=%{x}<br>value=%{y}<extra></extra>",
         "legendgroup": "34",
         "line": {
          "color": "#FFA15A",
          "dash": "solid"
         },
         "marker": {
          "symbol": "circle"
         },
         "mode": "lines",
         "name": "34",
         "orientation": "v",
         "showlegend": true,
         "x": [
          "x_counter_RSF",
          "x_counter_kNN",
          "x_test"
         ],
         "xaxis": "x",
         "y": [
          0.03285343572497368,
          0.030906985575995805,
          0.03285343572497368
         ],
         "yaxis": "y",
         "type": "scatter"
        },
        {
         "hovertemplate": "variable=35<br>index=%{x}<br>value=%{y}<extra></extra>",
         "legendgroup": "35",
         "line": {
          "color": "#19d3f3",
          "dash": "solid"
         },
         "marker": {
          "symbol": "circle"
         },
         "mode": "lines",
         "name": "35",
         "orientation": "v",
         "showlegend": true,
         "x": [
          "x_counter_RSF",
          "x_counter_kNN",
          "x_test"
         ],
         "xaxis": "x",
         "y": [
          0.04732823744416237,
          0.07119532767683269,
          0.04732823744416237
         ],
         "yaxis": "y",
         "type": "scatter"
        },
        {
         "hovertemplate": "variable=36<br>index=%{x}<br>value=%{y}<extra></extra>",
         "legendgroup": "36",
         "line": {
          "color": "#FF6692",
          "dash": "solid"
         },
         "marker": {
          "symbol": "circle"
         },
         "mode": "lines",
         "name": "36",
         "orientation": "v",
         "showlegend": true,
         "x": [
          "x_counter_RSF",
          "x_counter_kNN",
          "x_test"
         ],
         "xaxis": "x",
         "y": [
          0.040260735899209976,
          0.10715758558944796,
          0.040260735899209976
         ],
         "yaxis": "y",
         "type": "scatter"
        },
        {
         "hovertemplate": "variable=37<br>index=%{x}<br>value=%{y}<extra></extra>",
         "legendgroup": "37",
         "line": {
          "color": "#B6E880",
          "dash": "solid"
         },
         "marker": {
          "symbol": "circle"
         },
         "mode": "lines",
         "name": "37",
         "orientation": "v",
         "showlegend": true,
         "x": [
          "x_counter_RSF",
          "x_counter_kNN",
          "x_test"
         ],
         "xaxis": "x",
         "y": [
          0.022541120648384094,
          0.1367001879552845,
          0.022541120648384094
         ],
         "yaxis": "y",
         "type": "scatter"
        },
        {
         "hovertemplate": "variable=38<br>index=%{x}<br>value=%{y}<extra></extra>",
         "legendgroup": "38",
         "line": {
          "color": "#FF97FF",
          "dash": "solid"
         },
         "marker": {
          "symbol": "circle"
         },
         "mode": "lines",
         "name": "38",
         "orientation": "v",
         "showlegend": true,
         "x": [
          "x_counter_RSF",
          "x_counter_kNN",
          "x_test"
         ],
         "xaxis": "x",
         "y": [
          0.0024417780805379152,
          0.18780536568374373,
          0.0024417780805379152
         ],
         "yaxis": "y",
         "type": "scatter"
        },
        {
         "hovertemplate": "variable=39<br>index=%{x}<br>value=%{y}<extra></extra>",
         "legendgroup": "39",
         "line": {
          "color": "#FECB52",
          "dash": "solid"
         },
         "marker": {
          "symbol": "circle"
         },
         "mode": "lines",
         "name": "39",
         "orientation": "v",
         "showlegend": true,
         "x": [
          "x_counter_RSF",
          "x_counter_kNN",
          "x_test"
         ],
         "xaxis": "x",
         "y": [
          0.01731340028345585,
          0.29586868174374104,
          0.01731340028345585
         ],
         "yaxis": "y",
         "type": "scatter"
        },
        {
         "hovertemplate": "variable=40<br>index=%{x}<br>value=%{y}<extra></extra>",
         "legendgroup": "40",
         "line": {
          "color": "#636efa",
          "dash": "solid"
         },
         "marker": {
          "symbol": "circle"
         },
         "mode": "lines",
         "name": "40",
         "orientation": "v",
         "showlegend": true,
         "x": [
          "x_counter_RSF",
          "x_counter_kNN",
          "x_test"
         ],
         "xaxis": "x",
         "y": [
          0.10199999809265137,
          0.4279100396670401,
          0.10199999809265137
         ],
         "yaxis": "y",
         "type": "scatter"
        },
        {
         "hovertemplate": "variable=41<br>index=%{x}<br>value=%{y}<extra></extra>",
         "legendgroup": "41",
         "line": {
          "color": "#EF553B",
          "dash": "solid"
         },
         "marker": {
          "symbol": "circle"
         },
         "mode": "lines",
         "name": "41",
         "orientation": "v",
         "showlegend": true,
         "x": [
          "x_counter_RSF",
          "x_counter_kNN",
          "x_test"
         ],
         "xaxis": "x",
         "y": [
          0.37299999594688416,
          0.5731433265609667,
          0.37299999594688416
         ],
         "yaxis": "y",
         "type": "scatter"
        },
        {
         "hovertemplate": "variable=42<br>index=%{x}<br>value=%{y}<extra></extra>",
         "legendgroup": "42",
         "line": {
          "color": "#00cc96",
          "dash": "solid"
         },
         "marker": {
          "symbol": "circle"
         },
         "mode": "lines",
         "name": "42",
         "orientation": "v",
         "showlegend": true,
         "x": [
          "x_counter_RSF",
          "x_counter_kNN",
          "x_test"
         ],
         "xaxis": "x",
         "y": [
          0.6420000195503235,
          0.7111249873414636,
          0.6420000195503235
         ],
         "yaxis": "y",
         "type": "scatter"
        },
        {
         "hovertemplate": "variable=43<br>index=%{x}<br>value=%{y}<extra></extra>",
         "legendgroup": "43",
         "line": {
          "color": "#ab63fa",
          "dash": "solid"
         },
         "marker": {
          "symbol": "circle"
         },
         "mode": "lines",
         "name": "43",
         "orientation": "v",
         "showlegend": true,
         "x": [
          "x_counter_RSF",
          "x_counter_kNN",
          "x_test"
         ],
         "xaxis": "x",
         "y": [
          0.7889999747276306,
          0.8303750045597553,
          0.7889999747276306
         ],
         "yaxis": "y",
         "type": "scatter"
        },
        {
         "hovertemplate": "variable=44<br>index=%{x}<br>value=%{y}<extra></extra>",
         "legendgroup": "44",
         "line": {
          "color": "#FFA15A",
          "dash": "solid"
         },
         "marker": {
          "symbol": "circle"
         },
         "mode": "lines",
         "name": "44",
         "orientation": "v",
         "showlegend": true,
         "x": [
          "x_counter_RSF",
          "x_counter_kNN",
          "x_test"
         ],
         "xaxis": "x",
         "y": [
          0.8579999804496765,
          0.9078750014305115,
          0.8579999804496765
         ],
         "yaxis": "y",
         "type": "scatter"
        },
        {
         "hovertemplate": "variable=45<br>index=%{x}<br>value=%{y}<extra></extra>",
         "legendgroup": "45",
         "line": {
          "color": "#19d3f3",
          "dash": "solid"
         },
         "marker": {
          "symbol": "circle"
         },
         "mode": "lines",
         "name": "45",
         "orientation": "v",
         "showlegend": true,
         "x": [
          "x_counter_RSF",
          "x_counter_kNN",
          "x_test"
         ],
         "xaxis": "x",
         "y": [
          0.8899999856948853,
          0.9450000002980232,
          0.8899999856948853
         ],
         "yaxis": "y",
         "type": "scatter"
        },
        {
         "hovertemplate": "variable=46<br>index=%{x}<br>value=%{y}<extra></extra>",
         "legendgroup": "46",
         "line": {
          "color": "#FF6692",
          "dash": "solid"
         },
         "marker": {
          "symbol": "circle"
         },
         "mode": "lines",
         "name": "46",
         "orientation": "v",
         "showlegend": true,
         "x": [
          "x_counter_RSF",
          "x_counter_kNN",
          "x_test"
         ],
         "xaxis": "x",
         "y": [
          0.902999997138977,
          0.960499994456768,
          0.902999997138977
         ],
         "yaxis": "y",
         "type": "scatter"
        },
        {
         "hovertemplate": "variable=47<br>index=%{x}<br>value=%{y}<extra></extra>",
         "legendgroup": "47",
         "line": {
          "color": "#B6E880",
          "dash": "solid"
         },
         "marker": {
          "symbol": "circle"
         },
         "mode": "lines",
         "name": "47",
         "orientation": "v",
         "showlegend": true,
         "x": [
          "x_counter_RSF",
          "x_counter_kNN",
          "x_test"
         ],
         "xaxis": "x",
         "y": [
          0.9049999713897705,
          0.9668750092387199,
          0.9049999713897705
         ],
         "yaxis": "y",
         "type": "scatter"
        },
        {
         "hovertemplate": "variable=48<br>index=%{x}<br>value=%{y}<extra></extra>",
         "legendgroup": "48",
         "line": {
          "color": "#FF97FF",
          "dash": "solid"
         },
         "marker": {
          "symbol": "circle"
         },
         "mode": "lines",
         "name": "48",
         "orientation": "v",
         "showlegend": true,
         "x": [
          "x_counter_RSF",
          "x_counter_kNN",
          "x_test"
         ],
         "xaxis": "x",
         "y": [
          0.9070000052452087,
          0.9702499955892564,
          0.9070000052452087
         ],
         "yaxis": "y",
         "type": "scatter"
        },
        {
         "hovertemplate": "variable=49<br>index=%{x}<br>value=%{y}<extra></extra>",
         "legendgroup": "49",
         "line": {
          "color": "#FECB52",
          "dash": "solid"
         },
         "marker": {
          "symbol": "circle"
         },
         "mode": "lines",
         "name": "49",
         "orientation": "v",
         "showlegend": true,
         "x": [
          "x_counter_RSF",
          "x_counter_kNN",
          "x_test"
         ],
         "xaxis": "x",
         "y": [
          0.9120000004768372,
          0.9721250087022781,
          0.9120000004768372
         ],
         "yaxis": "y",
         "type": "scatter"
        },
        {
         "hovertemplate": "variable=50<br>index=%{x}<br>value=%{y}<extra></extra>",
         "legendgroup": "50",
         "line": {
          "color": "#636efa",
          "dash": "solid"
         },
         "marker": {
          "symbol": "circle"
         },
         "mode": "lines",
         "name": "50",
         "orientation": "v",
         "showlegend": true,
         "x": [
          "x_counter_RSF",
          "x_counter_kNN",
          "x_test"
         ],
         "xaxis": "x",
         "y": [
          0.9210000038146973,
          0.9723749980330467,
          0.9210000038146973
         ],
         "yaxis": "y",
         "type": "scatter"
        },
        {
         "hovertemplate": "variable=51<br>index=%{x}<br>value=%{y}<extra></extra>",
         "legendgroup": "51",
         "line": {
          "color": "#EF553B",
          "dash": "solid"
         },
         "marker": {
          "symbol": "circle"
         },
         "mode": "lines",
         "name": "51",
         "orientation": "v",
         "showlegend": true,
         "x": [
          "x_counter_RSF",
          "x_counter_kNN",
          "x_test"
         ],
         "xaxis": "x",
         "y": [
          0.9259999990463257,
          0.9722499996423721,
          0.9259999990463257
         ],
         "yaxis": "y",
         "type": "scatter"
        },
        {
         "hovertemplate": "variable=52<br>index=%{x}<br>value=%{y}<extra></extra>",
         "legendgroup": "52",
         "line": {
          "color": "#00cc96",
          "dash": "solid"
         },
         "marker": {
          "symbol": "circle"
         },
         "mode": "lines",
         "name": "52",
         "orientation": "v",
         "showlegend": true,
         "x": [
          "x_counter_RSF",
          "x_counter_kNN",
          "x_test"
         ],
         "xaxis": "x",
         "y": [
          0.9240000247955322,
          0.9729999899864196,
          0.9240000247955322
         ],
         "yaxis": "y",
         "type": "scatter"
        },
        {
         "hovertemplate": "variable=53<br>index=%{x}<br>value=%{y}<extra></extra>",
         "legendgroup": "53",
         "line": {
          "color": "#ab63fa",
          "dash": "solid"
         },
         "marker": {
          "symbol": "circle"
         },
         "mode": "lines",
         "name": "53",
         "orientation": "v",
         "showlegend": true,
         "x": [
          "x_counter_RSF",
          "x_counter_kNN",
          "x_test"
         ],
         "xaxis": "x",
         "y": [
          0.9229999780654907,
          0.9731250181794167,
          0.9229999780654907
         ],
         "yaxis": "y",
         "type": "scatter"
        },
        {
         "hovertemplate": "variable=54<br>index=%{x}<br>value=%{y}<extra></extra>",
         "legendgroup": "54",
         "line": {
          "color": "#FFA15A",
          "dash": "solid"
         },
         "marker": {
          "symbol": "circle"
         },
         "mode": "lines",
         "name": "54",
         "orientation": "v",
         "showlegend": true,
         "x": [
          "x_counter_RSF",
          "x_counter_kNN",
          "x_test"
         ],
         "xaxis": "x",
         "y": [
          0.925000011920929,
          0.9728749915957451,
          0.925000011920929
         ],
         "yaxis": "y",
         "type": "scatter"
        },
        {
         "hovertemplate": "variable=55<br>index=%{x}<br>value=%{y}<extra></extra>",
         "legendgroup": "55",
         "line": {
          "color": "#19d3f3",
          "dash": "solid"
         },
         "marker": {
          "symbol": "circle"
         },
         "mode": "lines",
         "name": "55",
         "orientation": "v",
         "showlegend": true,
         "x": [
          "x_counter_RSF",
          "x_counter_kNN",
          "x_test"
         ],
         "xaxis": "x",
         "y": [
          0.925000011920929,
          0.9733750075101852,
          0.925000011920929
         ],
         "yaxis": "y",
         "type": "scatter"
        },
        {
         "hovertemplate": "variable=56<br>index=%{x}<br>value=%{y}<extra></extra>",
         "legendgroup": "56",
         "line": {
          "color": "#FF6692",
          "dash": "solid"
         },
         "marker": {
          "symbol": "circle"
         },
         "mode": "lines",
         "name": "56",
         "orientation": "v",
         "showlegend": true,
         "x": [
          "x_counter_RSF",
          "x_counter_kNN",
          "x_test"
         ],
         "xaxis": "x",
         "y": [
          0.921999990940094,
          0.9741250127553941,
          0.921999990940094
         ],
         "yaxis": "y",
         "type": "scatter"
        },
        {
         "hovertemplate": "variable=57<br>index=%{x}<br>value=%{y}<extra></extra>",
         "legendgroup": "57",
         "line": {
          "color": "#B6E880",
          "dash": "solid"
         },
         "marker": {
          "symbol": "circle"
         },
         "mode": "lines",
         "name": "57",
         "orientation": "v",
         "showlegend": true,
         "x": [
          "x_counter_RSF",
          "x_counter_kNN",
          "x_test"
         ],
         "xaxis": "x",
         "y": [
          0.9160000085830688,
          0.974374994635582,
          0.9160000085830688
         ],
         "yaxis": "y",
         "type": "scatter"
        },
        {
         "hovertemplate": "variable=58<br>index=%{x}<br>value=%{y}<extra></extra>",
         "legendgroup": "58",
         "line": {
          "color": "#FF97FF",
          "dash": "solid"
         },
         "marker": {
          "symbol": "circle"
         },
         "mode": "lines",
         "name": "58",
         "orientation": "v",
         "showlegend": true,
         "x": [
          "x_counter_RSF",
          "x_counter_kNN",
          "x_test"
         ],
         "xaxis": "x",
         "y": [
          0.9100000262260437,
          0.9738750085234642,
          0.9100000262260437
         ],
         "yaxis": "y",
         "type": "scatter"
        },
        {
         "hovertemplate": "variable=59<br>index=%{x}<br>value=%{y}<extra></extra>",
         "legendgroup": "59",
         "line": {
          "color": "#FECB52",
          "dash": "solid"
         },
         "marker": {
          "symbol": "circle"
         },
         "mode": "lines",
         "name": "59",
         "orientation": "v",
         "showlegend": true,
         "x": [
          "x_counter_RSF",
          "x_counter_kNN",
          "x_test"
         ],
         "xaxis": "x",
         "y": [
          0.9079999923706055,
          0.9731250107288361,
          0.9079999923706055
         ],
         "yaxis": "y",
         "type": "scatter"
        },
        {
         "hovertemplate": "variable=60<br>index=%{x}<br>value=%{y}<extra></extra>",
         "legendgroup": "60",
         "line": {
          "color": "#636efa",
          "dash": "solid"
         },
         "marker": {
          "symbol": "circle"
         },
         "mode": "lines",
         "name": "60",
         "orientation": "v",
         "showlegend": true,
         "x": [
          "x_counter_RSF",
          "x_counter_kNN",
          "x_test"
         ],
         "xaxis": "x",
         "y": [
          0.9110000133514404,
          0.9715000092983245,
          0.9110000133514404
         ],
         "yaxis": "y",
         "type": "scatter"
        },
        {
         "hovertemplate": "variable=61<br>index=%{x}<br>value=%{y}<extra></extra>",
         "legendgroup": "61",
         "line": {
          "color": "#EF553B",
          "dash": "solid"
         },
         "marker": {
          "symbol": "circle"
         },
         "mode": "lines",
         "name": "61",
         "orientation": "v",
         "showlegend": true,
         "x": [
          "x_counter_RSF",
          "x_counter_kNN",
          "x_test"
         ],
         "xaxis": "x",
         "y": [
          0.9160000085830688,
          0.97087499499321,
          0.9160000085830688
         ],
         "yaxis": "y",
         "type": "scatter"
        },
        {
         "hovertemplate": "variable=62<br>index=%{x}<br>value=%{y}<extra></extra>",
         "legendgroup": "62",
         "line": {
          "color": "#00cc96",
          "dash": "solid"
         },
         "marker": {
          "symbol": "circle"
         },
         "mode": "lines",
         "name": "62",
         "orientation": "v",
         "showlegend": true,
         "x": [
          "x_counter_RSF",
          "x_counter_kNN",
          "x_test"
         ],
         "xaxis": "x",
         "y": [
          0.9190000295639038,
          0.9717499986290932,
          0.9190000295639038
         ],
         "yaxis": "y",
         "type": "scatter"
        },
        {
         "hovertemplate": "variable=63<br>index=%{x}<br>value=%{y}<extra></extra>",
         "legendgroup": "63",
         "line": {
          "color": "#ab63fa",
          "dash": "solid"
         },
         "marker": {
          "symbol": "circle"
         },
         "mode": "lines",
         "name": "63",
         "orientation": "v",
         "showlegend": true,
         "x": [
          "x_counter_RSF",
          "x_counter_kNN",
          "x_test"
         ],
         "xaxis": "x",
         "y": [
          0.9210000038146973,
          0.9732499867677689,
          0.9210000038146973
         ],
         "yaxis": "y",
         "type": "scatter"
        },
        {
         "hovertemplate": "variable=64<br>index=%{x}<br>value=%{y}<extra></extra>",
         "legendgroup": "64",
         "line": {
          "color": "#FFA15A",
          "dash": "solid"
         },
         "marker": {
          "symbol": "circle"
         },
         "mode": "lines",
         "name": "64",
         "orientation": "v",
         "showlegend": true,
         "x": [
          "x_counter_RSF",
          "x_counter_kNN",
          "x_test"
         ],
         "xaxis": "x",
         "y": [
          0.921999990940094,
          0.9747500047087668,
          0.921999990940094
         ],
         "yaxis": "y",
         "type": "scatter"
        },
        {
         "hovertemplate": "variable=65<br>index=%{x}<br>value=%{y}<extra></extra>",
         "legendgroup": "65",
         "line": {
          "color": "#19d3f3",
          "dash": "solid"
         },
         "marker": {
          "symbol": "circle"
         },
         "mode": "lines",
         "name": "65",
         "orientation": "v",
         "showlegend": true,
         "x": [
          "x_counter_RSF",
          "x_counter_kNN",
          "x_test"
         ],
         "xaxis": "x",
         "y": [
          0.9200000166893005,
          0.9756250008940697,
          0.9200000166893005
         ],
         "yaxis": "y",
         "type": "scatter"
        },
        {
         "hovertemplate": "variable=66<br>index=%{x}<br>value=%{y}<extra></extra>",
         "legendgroup": "66",
         "line": {
          "color": "#FF6692",
          "dash": "solid"
         },
         "marker": {
          "symbol": "circle"
         },
         "mode": "lines",
         "name": "66",
         "orientation": "v",
         "showlegend": true,
         "x": [
          "x_counter_RSF",
          "x_counter_kNN",
          "x_test"
         ],
         "xaxis": "x",
         "y": [
          0.9179999828338623,
          0.9736250042915344,
          0.9179999828338623
         ],
         "yaxis": "y",
         "type": "scatter"
        },
        {
         "hovertemplate": "variable=67<br>index=%{x}<br>value=%{y}<extra></extra>",
         "legendgroup": "67",
         "line": {
          "color": "#B6E880",
          "dash": "solid"
         },
         "marker": {
          "symbol": "circle"
         },
         "mode": "lines",
         "name": "67",
         "orientation": "v",
         "showlegend": true,
         "x": [
          "x_counter_RSF",
          "x_counter_kNN",
          "x_test"
         ],
         "xaxis": "x",
         "y": [
          0.9169999957084656,
          0.9718749821186066,
          0.9169999957084656
         ],
         "yaxis": "y",
         "type": "scatter"
        },
        {
         "hovertemplate": "variable=68<br>index=%{x}<br>value=%{y}<extra></extra>",
         "legendgroup": "68",
         "line": {
          "color": "#FF97FF",
          "dash": "solid"
         },
         "marker": {
          "symbol": "circle"
         },
         "mode": "lines",
         "name": "68",
         "orientation": "v",
         "showlegend": true,
         "x": [
          "x_counter_RSF",
          "x_counter_kNN",
          "x_test"
         ],
         "xaxis": "x",
         "y": [
          0.9169999957084656,
          0.9714999943971633,
          0.9169999957084656
         ],
         "yaxis": "y",
         "type": "scatter"
        },
        {
         "hovertemplate": "variable=69<br>index=%{x}<br>value=%{y}<extra></extra>",
         "legendgroup": "69",
         "line": {
          "color": "#FECB52",
          "dash": "solid"
         },
         "marker": {
          "symbol": "circle"
         },
         "mode": "lines",
         "name": "69",
         "orientation": "v",
         "showlegend": true,
         "x": [
          "x_counter_RSF",
          "x_counter_kNN",
          "x_test"
         ],
         "xaxis": "x",
         "y": [
          0.9150000214576721,
          0.9715000092983247,
          0.9150000214576721
         ],
         "yaxis": "y",
         "type": "scatter"
        },
        {
         "hovertemplate": "variable=70<br>index=%{x}<br>value=%{y}<extra></extra>",
         "legendgroup": "70",
         "line": {
          "color": "#636efa",
          "dash": "solid"
         },
         "marker": {
          "symbol": "circle"
         },
         "mode": "lines",
         "name": "70",
         "orientation": "v",
         "showlegend": true,
         "x": [
          "x_counter_RSF",
          "x_counter_kNN",
          "x_test"
         ],
         "xaxis": "x",
         "y": [
          0.9160000085830688,
          0.9722499847412109,
          0.9160000085830688
         ],
         "yaxis": "y",
         "type": "scatter"
        },
        {
         "hovertemplate": "variable=71<br>index=%{x}<br>value=%{y}<extra></extra>",
         "legendgroup": "71",
         "line": {
          "color": "#EF553B",
          "dash": "solid"
         },
         "marker": {
          "symbol": "circle"
         },
         "mode": "lines",
         "name": "71",
         "orientation": "v",
         "showlegend": true,
         "x": [
          "x_counter_RSF",
          "x_counter_kNN",
          "x_test"
         ],
         "xaxis": "x",
         "y": [
          0.9160000085830688,
          0.9721250012516975,
          0.9160000085830688
         ],
         "yaxis": "y",
         "type": "scatter"
        },
        {
         "hovertemplate": "variable=72<br>index=%{x}<br>value=%{y}<extra></extra>",
         "legendgroup": "72",
         "line": {
          "color": "#00cc96",
          "dash": "solid"
         },
         "marker": {
          "symbol": "circle"
         },
         "mode": "lines",
         "name": "72",
         "orientation": "v",
         "showlegend": true,
         "x": [
          "x_counter_RSF",
          "x_counter_kNN",
          "x_test"
         ],
         "xaxis": "x",
         "y": [
          0.9150000214576721,
          0.9714999943971634,
          0.9150000214576721
         ],
         "yaxis": "y",
         "type": "scatter"
        },
        {
         "hovertemplate": "variable=73<br>index=%{x}<br>value=%{y}<extra></extra>",
         "legendgroup": "73",
         "line": {
          "color": "#ab63fa",
          "dash": "solid"
         },
         "marker": {
          "symbol": "circle"
         },
         "mode": "lines",
         "name": "73",
         "orientation": "v",
         "showlegend": true,
         "x": [
          "x_counter_RSF",
          "x_counter_kNN",
          "x_test"
         ],
         "xaxis": "x",
         "y": [
          0.9139999747276306,
          0.9721249863505363,
          0.9139999747276306
         ],
         "yaxis": "y",
         "type": "scatter"
        },
        {
         "hovertemplate": "variable=74<br>index=%{x}<br>value=%{y}<extra></extra>",
         "legendgroup": "74",
         "line": {
          "color": "#FFA15A",
          "dash": "solid"
         },
         "marker": {
          "symbol": "circle"
         },
         "mode": "lines",
         "name": "74",
         "orientation": "v",
         "showlegend": true,
         "x": [
          "x_counter_RSF",
          "x_counter_kNN",
          "x_test"
         ],
         "xaxis": "x",
         "y": [
          0.9110000133514404,
          0.9732499867677689,
          0.9110000133514404
         ],
         "yaxis": "y",
         "type": "scatter"
        },
        {
         "hovertemplate": "variable=75<br>index=%{x}<br>value=%{y}<extra></extra>",
         "legendgroup": "75",
         "line": {
          "color": "#19d3f3",
          "dash": "solid"
         },
         "marker": {
          "symbol": "circle"
         },
         "mode": "lines",
         "name": "75",
         "orientation": "v",
         "showlegend": true,
         "x": [
          "x_counter_RSF",
          "x_counter_kNN",
          "x_test"
         ],
         "xaxis": "x",
         "y": [
          0.9079999923706055,
          0.97325000166893,
          0.9079999923706055
         ],
         "yaxis": "y",
         "type": "scatter"
        },
        {
         "hovertemplate": "variable=76<br>index=%{x}<br>value=%{y}<extra></extra>",
         "legendgroup": "76",
         "line": {
          "color": "#FF6692",
          "dash": "solid"
         },
         "marker": {
          "symbol": "circle"
         },
         "mode": "lines",
         "name": "76",
         "orientation": "v",
         "showlegend": true,
         "x": [
          "x_counter_RSF",
          "x_counter_kNN",
          "x_test"
         ],
         "xaxis": "x",
         "y": [
          0.9070000052452087,
          0.9721250087022781,
          0.9070000052452087
         ],
         "yaxis": "y",
         "type": "scatter"
        },
        {
         "hovertemplate": "variable=77<br>index=%{x}<br>value=%{y}<extra></extra>",
         "legendgroup": "77",
         "line": {
          "color": "#B6E880",
          "dash": "solid"
         },
         "marker": {
          "symbol": "circle"
         },
         "mode": "lines",
         "name": "77",
         "orientation": "v",
         "showlegend": true,
         "x": [
          "x_counter_RSF",
          "x_counter_kNN",
          "x_test"
         ],
         "xaxis": "x",
         "y": [
          0.9100000262260437,
          0.9710000082850455,
          0.9100000262260437
         ],
         "yaxis": "y",
         "type": "scatter"
        },
        {
         "hovertemplate": "variable=78<br>index=%{x}<br>value=%{y}<extra></extra>",
         "legendgroup": "78",
         "line": {
          "color": "#FF97FF",
          "dash": "solid"
         },
         "marker": {
          "symbol": "circle"
         },
         "mode": "lines",
         "name": "78",
         "orientation": "v",
         "showlegend": true,
         "x": [
          "x_counter_RSF",
          "x_counter_kNN",
          "x_test"
         ],
         "xaxis": "x",
         "y": [
          0.9139999747276306,
          0.9704999923706055,
          0.9139999747276306
         ],
         "yaxis": "y",
         "type": "scatter"
        },
        {
         "hovertemplate": "variable=79<br>index=%{x}<br>value=%{y}<extra></extra>",
         "legendgroup": "79",
         "line": {
          "color": "#FECB52",
          "dash": "solid"
         },
         "marker": {
          "symbol": "circle"
         },
         "mode": "lines",
         "name": "79",
         "orientation": "v",
         "showlegend": true,
         "x": [
          "x_counter_RSF",
          "x_counter_kNN",
          "x_test"
         ],
         "xaxis": "x",
         "y": [
          0.9150000214576721,
          0.9713750034570694,
          0.9150000214576721
         ],
         "yaxis": "y",
         "type": "scatter"
        },
        {
         "hovertemplate": "variable=80<br>index=%{x}<br>value=%{y}<extra></extra>",
         "legendgroup": "80",
         "line": {
          "color": "#636efa",
          "dash": "solid"
         },
         "marker": {
          "symbol": "circle"
         },
         "mode": "lines",
         "name": "80",
         "orientation": "v",
         "showlegend": true,
         "x": [
          "x_counter_RSF",
          "x_counter_kNN",
          "x_test"
         ],
         "xaxis": "x",
         "y": [
          0.9139999747276306,
          0.9723750054836274,
          0.9139999747276306
         ],
         "yaxis": "y",
         "type": "scatter"
        },
        {
         "hovertemplate": "variable=81<br>index=%{x}<br>value=%{y}<extra></extra>",
         "legendgroup": "81",
         "line": {
          "color": "#EF553B",
          "dash": "solid"
         },
         "marker": {
          "symbol": "circle"
         },
         "mode": "lines",
         "name": "81",
         "orientation": "v",
         "showlegend": true,
         "x": [
          "x_counter_RSF",
          "x_counter_kNN",
          "x_test"
         ],
         "xaxis": "x",
         "y": [
          0.9139999747276306,
          0.9724999964237213,
          0.9139999747276306
         ],
         "yaxis": "y",
         "type": "scatter"
        },
        {
         "hovertemplate": "variable=82<br>index=%{x}<br>value=%{y}<extra></extra>",
         "legendgroup": "82",
         "line": {
          "color": "#00cc96",
          "dash": "solid"
         },
         "marker": {
          "symbol": "circle"
         },
         "mode": "lines",
         "name": "82",
         "orientation": "v",
         "showlegend": true,
         "x": [
          "x_counter_RSF",
          "x_counter_kNN",
          "x_test"
         ],
         "xaxis": "x",
         "y": [
          0.9110000133514404,
          0.9723749905824661,
          0.9110000133514404
         ],
         "yaxis": "y",
         "type": "scatter"
        },
        {
         "hovertemplate": "variable=83<br>index=%{x}<br>value=%{y}<extra></extra>",
         "legendgroup": "83",
         "line": {
          "color": "#ab63fa",
          "dash": "solid"
         },
         "marker": {
          "symbol": "circle"
         },
         "mode": "lines",
         "name": "83",
         "orientation": "v",
         "showlegend": true,
         "x": [
          "x_counter_RSF",
          "x_counter_kNN",
          "x_test"
         ],
         "xaxis": "x",
         "y": [
          0.9079999923706055,
          0.971124991774559,
          0.9079999923706055
         ],
         "yaxis": "y",
         "type": "scatter"
        },
        {
         "hovertemplate": "variable=84<br>index=%{x}<br>value=%{y}<extra></extra>",
         "legendgroup": "84",
         "line": {
          "color": "#FFA15A",
          "dash": "solid"
         },
         "marker": {
          "symbol": "circle"
         },
         "mode": "lines",
         "name": "84",
         "orientation": "v",
         "showlegend": true,
         "x": [
          "x_counter_RSF",
          "x_counter_kNN",
          "x_test"
         ],
         "xaxis": "x",
         "y": [
          0.9089999794960022,
          0.9712500050663948,
          0.9089999794960022
         ],
         "yaxis": "y",
         "type": "scatter"
        },
        {
         "hovertemplate": "variable=85<br>index=%{x}<br>value=%{y}<extra></extra>",
         "legendgroup": "85",
         "line": {
          "color": "#19d3f3",
          "dash": "solid"
         },
         "marker": {
          "symbol": "circle"
         },
         "mode": "lines",
         "name": "85",
         "orientation": "v",
         "showlegend": true,
         "x": [
          "x_counter_RSF",
          "x_counter_kNN",
          "x_test"
         ],
         "xaxis": "x",
         "y": [
          0.9139999747276306,
          0.9723750054836273,
          0.9139999747276306
         ],
         "yaxis": "y",
         "type": "scatter"
        },
        {
         "hovertemplate": "variable=86<br>index=%{x}<br>value=%{y}<extra></extra>",
         "legendgroup": "86",
         "line": {
          "color": "#FF6692",
          "dash": "solid"
         },
         "marker": {
          "symbol": "circle"
         },
         "mode": "lines",
         "name": "86",
         "orientation": "v",
         "showlegend": true,
         "x": [
          "x_counter_RSF",
          "x_counter_kNN",
          "x_test"
         ],
         "xaxis": "x",
         "y": [
          0.9200000166893005,
          0.9455000162124634,
          0.9200000166893005
         ],
         "yaxis": "y",
         "type": "scatter"
        },
        {
         "hovertemplate": "variable=87<br>index=%{x}<br>value=%{y}<extra></extra>",
         "legendgroup": "87",
         "line": {
          "color": "#B6E880",
          "dash": "solid"
         },
         "marker": {
          "symbol": "circle"
         },
         "mode": "lines",
         "name": "87",
         "orientation": "v",
         "showlegend": true,
         "x": [
          "x_counter_RSF",
          "x_counter_kNN",
          "x_test"
         ],
         "xaxis": "x",
         "y": [
          0.9229999780654907,
          0.8568750098347663,
          0.9229999780654907
         ],
         "yaxis": "y",
         "type": "scatter"
        },
        {
         "hovertemplate": "variable=88<br>index=%{x}<br>value=%{y}<extra></extra>",
         "legendgroup": "88",
         "line": {
          "color": "#FF97FF",
          "dash": "solid"
         },
         "marker": {
          "symbol": "circle"
         },
         "mode": "lines",
         "name": "88",
         "orientation": "v",
         "showlegend": true,
         "x": [
          "x_counter_RSF",
          "x_counter_kNN",
          "x_test"
         ],
         "xaxis": "x",
         "y": [
          0.921999990940094,
          0.7201249934732914,
          0.921999990940094
         ],
         "yaxis": "y",
         "type": "scatter"
        },
        {
         "hovertemplate": "variable=89<br>index=%{x}<br>value=%{y}<extra></extra>",
         "legendgroup": "89",
         "line": {
          "color": "#FECB52",
          "dash": "solid"
         },
         "marker": {
          "symbol": "circle"
         },
         "mode": "lines",
         "name": "89",
         "orientation": "v",
         "showlegend": true,
         "x": [
          "x_counter_RSF",
          "x_counter_kNN",
          "x_test"
         ],
         "xaxis": "x",
         "y": [
          0.9190000295639038,
          0.5593750067055225,
          0.9190000295639038
         ],
         "yaxis": "y",
         "type": "scatter"
        },
        {
         "hovertemplate": "variable=90<br>index=%{x}<br>value=%{y}<extra></extra>",
         "legendgroup": "90",
         "line": {
          "color": "#636efa",
          "dash": "solid"
         },
         "marker": {
          "symbol": "circle"
         },
         "mode": "lines",
         "name": "90",
         "orientation": "v",
         "showlegend": true,
         "x": [
          "x_counter_RSF",
          "x_counter_kNN",
          "x_test"
         ],
         "xaxis": "x",
         "y": [
          0.9139999747276306,
          0.41462499974295497,
          0.9139999747276306
         ],
         "yaxis": "y",
         "type": "scatter"
        },
        {
         "hovertemplate": "variable=91<br>index=%{x}<br>value=%{y}<extra></extra>",
         "legendgroup": "91",
         "line": {
          "color": "#EF553B",
          "dash": "solid"
         },
         "marker": {
          "symbol": "circle"
         },
         "mode": "lines",
         "name": "91",
         "orientation": "v",
         "showlegend": true,
         "x": [
          "x_counter_RSF",
          "x_counter_kNN",
          "x_test"
         ],
         "xaxis": "x",
         "y": [
          0.9129999876022339,
          0.3185145938768983,
          0.9129999876022339
         ],
         "yaxis": "y",
         "type": "scatter"
        },
        {
         "hovertemplate": "variable=92<br>index=%{x}<br>value=%{y}<extra></extra>",
         "legendgroup": "92",
         "line": {
          "color": "#00cc96",
          "dash": "solid"
         },
         "marker": {
          "symbol": "circle"
         },
         "mode": "lines",
         "name": "92",
         "orientation": "v",
         "showlegend": true,
         "x": [
          "x_counter_RSF",
          "x_counter_kNN",
          "x_test"
         ],
         "xaxis": "x",
         "y": [
          0.9150000214576721,
          0.22737889835843816,
          0.9150000214576721
         ],
         "yaxis": "y",
         "type": "scatter"
        },
        {
         "hovertemplate": "variable=93<br>index=%{x}<br>value=%{y}<extra></extra>",
         "legendgroup": "93",
         "line": {
          "color": "#ab63fa",
          "dash": "solid"
         },
         "marker": {
          "symbol": "circle"
         },
         "mode": "lines",
         "name": "93",
         "orientation": "v",
         "showlegend": true,
         "x": [
          "x_counter_RSF",
          "x_counter_kNN",
          "x_test"
         ],
         "xaxis": "x",
         "y": [
          0.9179999828338623,
          0.14805751712992787,
          0.9179999828338623
         ],
         "yaxis": "y",
         "type": "scatter"
        },
        {
         "hovertemplate": "variable=94<br>index=%{x}<br>value=%{y}<extra></extra>",
         "legendgroup": "94",
         "line": {
          "color": "#FFA15A",
          "dash": "solid"
         },
         "marker": {
          "symbol": "circle"
         },
         "mode": "lines",
         "name": "94",
         "orientation": "v",
         "showlegend": true,
         "x": [
          "x_counter_RSF",
          "x_counter_kNN",
          "x_test"
         ],
         "xaxis": "x",
         "y": [
          0.9179999828338623,
          0.07965210732072595,
          0.9179999828338623
         ],
         "yaxis": "y",
         "type": "scatter"
        },
        {
         "hovertemplate": "variable=95<br>index=%{x}<br>value=%{y}<extra></extra>",
         "legendgroup": "95",
         "line": {
          "color": "#19d3f3",
          "dash": "solid"
         },
         "marker": {
          "symbol": "circle"
         },
         "mode": "lines",
         "name": "95",
         "orientation": "v",
         "showlegend": true,
         "x": [
          "x_counter_RSF",
          "x_counter_kNN",
          "x_test"
         ],
         "xaxis": "x",
         "y": [
          0.9150000214576721,
          0.03695315725781257,
          0.9150000214576721
         ],
         "yaxis": "y",
         "type": "scatter"
        },
        {
         "hovertemplate": "variable=96<br>index=%{x}<br>value=%{y}<extra></extra>",
         "legendgroup": "96",
         "line": {
          "color": "#FF6692",
          "dash": "solid"
         },
         "marker": {
          "symbol": "circle"
         },
         "mode": "lines",
         "name": "96",
         "orientation": "v",
         "showlegend": true,
         "x": [
          "x_counter_RSF",
          "x_counter_kNN",
          "x_test"
         ],
         "xaxis": "x",
         "y": [
          0.9110000133514404,
          0.033544355270350934,
          0.9110000133514404
         ],
         "yaxis": "y",
         "type": "scatter"
        },
        {
         "hovertemplate": "variable=97<br>index=%{x}<br>value=%{y}<extra></extra>",
         "legendgroup": "97",
         "line": {
          "color": "#B6E880",
          "dash": "solid"
         },
         "marker": {
          "symbol": "circle"
         },
         "mode": "lines",
         "name": "97",
         "orientation": "v",
         "showlegend": true,
         "x": [
          "x_counter_RSF",
          "x_counter_kNN",
          "x_test"
         ],
         "xaxis": "x",
         "y": [
          0.8090000152587891,
          0.029668800154468045,
          0.8090000152587891
         ],
         "yaxis": "y",
         "type": "scatter"
        },
        {
         "hovertemplate": "variable=98<br>index=%{x}<br>value=%{y}<extra></extra>",
         "legendgroup": "98",
         "line": {
          "color": "#FF97FF",
          "dash": "solid"
         },
         "marker": {
          "symbol": "circle"
         },
         "mode": "lines",
         "name": "98",
         "orientation": "v",
         "showlegend": true,
         "x": [
          "x_counter_RSF",
          "x_counter_kNN",
          "x_test"
         ],
         "xaxis": "x",
         "y": [
          0.5410000085830688,
          0.027743271872168403,
          0.5410000085830688
         ],
         "yaxis": "y",
         "type": "scatter"
        },
        {
         "hovertemplate": "variable=99<br>index=%{x}<br>value=%{y}<extra></extra>",
         "legendgroup": "99",
         "line": {
          "color": "#FECB52",
          "dash": "solid"
         },
         "marker": {
          "symbol": "circle"
         },
         "mode": "lines",
         "name": "99",
         "orientation": "v",
         "showlegend": true,
         "x": [
          "x_counter_RSF",
          "x_counter_kNN",
          "x_test"
         ],
         "xaxis": "x",
         "y": [
          0.27399998903274536,
          0.026413318191771396,
          0.27399998903274536
         ],
         "yaxis": "y",
         "type": "scatter"
        },
        {
         "hovertemplate": "variable=100<br>index=%{x}<br>value=%{y}<extra></extra>",
         "legendgroup": "100",
         "line": {
          "color": "#636efa",
          "dash": "solid"
         },
         "marker": {
          "symbol": "circle"
         },
         "mode": "lines",
         "name": "100",
         "orientation": "v",
         "showlegend": true,
         "x": [
          "x_counter_RSF",
          "x_counter_kNN",
          "x_test"
         ],
         "xaxis": "x",
         "y": [
          0.12700000405311584,
          0.030551186762750152,
          0.12700000405311584
         ],
         "yaxis": "y",
         "type": "scatter"
        },
        {
         "hovertemplate": "variable=101<br>index=%{x}<br>value=%{y}<extra></extra>",
         "legendgroup": "101",
         "line": {
          "color": "#EF553B",
          "dash": "solid"
         },
         "marker": {
          "symbol": "circle"
         },
         "mode": "lines",
         "name": "101",
         "orientation": "v",
         "showlegend": true,
         "x": [
          "x_counter_RSF",
          "x_counter_kNN",
          "x_test"
         ],
         "xaxis": "x",
         "y": [
          0.054999999701976776,
          0.01937039526819717,
          0.054999999701976776
         ],
         "yaxis": "y",
         "type": "scatter"
        },
        {
         "hovertemplate": "variable=102<br>index=%{x}<br>value=%{y}<extra></extra>",
         "legendgroup": "102",
         "line": {
          "color": "#00cc96",
          "dash": "solid"
         },
         "marker": {
          "symbol": "circle"
         },
         "mode": "lines",
         "name": "102",
         "orientation": "v",
         "showlegend": true,
         "x": [
          "x_counter_RSF",
          "x_counter_kNN",
          "x_test"
         ],
         "xaxis": "x",
         "y": [
          0.05889460816979408,
          0.03353935087216087,
          0.05889460816979408
         ],
         "yaxis": "y",
         "type": "scatter"
        },
        {
         "hovertemplate": "variable=103<br>index=%{x}<br>value=%{y}<extra></extra>",
         "legendgroup": "103",
         "line": {
          "color": "#ab63fa",
          "dash": "solid"
         },
         "marker": {
          "symbol": "circle"
         },
         "mode": "lines",
         "name": "103",
         "orientation": "v",
         "showlegend": true,
         "x": [
          "x_counter_RSF",
          "x_counter_kNN",
          "x_test"
         ],
         "xaxis": "x",
         "y": [
          0.03138934075832367,
          0.029620346380397677,
          0.03138934075832367
         ],
         "yaxis": "y",
         "type": "scatter"
        },
        {
         "hovertemplate": "variable=104<br>index=%{x}<br>value=%{y}<extra></extra>",
         "legendgroup": "104",
         "line": {
          "color": "#FFA15A",
          "dash": "solid"
         },
         "marker": {
          "symbol": "circle"
         },
         "mode": "lines",
         "name": "104",
         "orientation": "v",
         "showlegend": true,
         "x": [
          "x_counter_RSF",
          "x_counter_kNN",
          "x_test"
         ],
         "xaxis": "x",
         "y": [
          0.009824372828006744,
          0.016533752022951372,
          0.009824372828006744
         ],
         "yaxis": "y",
         "type": "scatter"
        },
        {
         "hovertemplate": "variable=105<br>index=%{x}<br>value=%{y}<extra></extra>",
         "legendgroup": "105",
         "line": {
          "color": "#19d3f3",
          "dash": "solid"
         },
         "marker": {
          "symbol": "circle"
         },
         "mode": "lines",
         "name": "105",
         "orientation": "v",
         "showlegend": true,
         "x": [
          "x_counter_RSF",
          "x_counter_kNN",
          "x_test"
         ],
         "xaxis": "x",
         "y": [
          0.03464415669441223,
          0.020853015288594175,
          0.03464415669441223
         ],
         "yaxis": "y",
         "type": "scatter"
        },
        {
         "hovertemplate": "variable=106<br>index=%{x}<br>value=%{y}<extra></extra>",
         "legendgroup": "106",
         "line": {
          "color": "#FF6692",
          "dash": "solid"
         },
         "marker": {
          "symbol": "circle"
         },
         "mode": "lines",
         "name": "106",
         "orientation": "v",
         "showlegend": true,
         "x": [
          "x_counter_RSF",
          "x_counter_kNN",
          "x_test"
         ],
         "xaxis": "x",
         "y": [
          0.01756187342107296,
          0.021605372661724687,
          0.01756187342107296
         ],
         "yaxis": "y",
         "type": "scatter"
        },
        {
         "hovertemplate": "variable=107<br>index=%{x}<br>value=%{y}<extra></extra>",
         "legendgroup": "107",
         "line": {
          "color": "#B6E880",
          "dash": "solid"
         },
         "marker": {
          "symbol": "circle"
         },
         "mode": "lines",
         "name": "107",
         "orientation": "v",
         "showlegend": true,
         "x": [
          "x_counter_RSF",
          "x_counter_kNN",
          "x_test"
         ],
         "xaxis": "x",
         "y": [
          0.021315298974514008,
          0.02299472547019832,
          0.021315298974514008
         ],
         "yaxis": "y",
         "type": "scatter"
        },
        {
         "hovertemplate": "variable=108<br>index=%{x}<br>value=%{y}<extra></extra>",
         "legendgroup": "108",
         "line": {
          "color": "#FF97FF",
          "dash": "solid"
         },
         "marker": {
          "symbol": "circle"
         },
         "mode": "lines",
         "name": "108",
         "orientation": "v",
         "showlegend": true,
         "x": [
          "x_counter_RSF",
          "x_counter_kNN",
          "x_test"
         ],
         "xaxis": "x",
         "y": [
          0.02178342267870903,
          0.028211049851961434,
          0.02178342267870903
         ],
         "yaxis": "y",
         "type": "scatter"
        },
        {
         "hovertemplate": "variable=109<br>index=%{x}<br>value=%{y}<extra></extra>",
         "legendgroup": "109",
         "line": {
          "color": "#FECB52",
          "dash": "solid"
         },
         "marker": {
          "symbol": "circle"
         },
         "mode": "lines",
         "name": "109",
         "orientation": "v",
         "showlegend": true,
         "x": [
          "x_counter_RSF",
          "x_counter_kNN",
          "x_test"
         ],
         "xaxis": "x",
         "y": [
          0.049491073936223984,
          0.02514680498279631,
          0.049491073936223984
         ],
         "yaxis": "y",
         "type": "scatter"
        },
        {
         "hovertemplate": "variable=110<br>index=%{x}<br>value=%{y}<extra></extra>",
         "legendgroup": "110",
         "line": {
          "color": "#636efa",
          "dash": "solid"
         },
         "marker": {
          "symbol": "circle"
         },
         "mode": "lines",
         "name": "110",
         "orientation": "v",
         "showlegend": true,
         "x": [
          "x_counter_RSF",
          "x_counter_kNN",
          "x_test"
         ],
         "xaxis": "x",
         "y": [
          0.014034238643944263,
          0.013542841967137065,
          0.014034238643944263
         ],
         "yaxis": "y",
         "type": "scatter"
        },
        {
         "hovertemplate": "variable=111<br>index=%{x}<br>value=%{y}<extra></extra>",
         "legendgroup": "111",
         "line": {
          "color": "#EF553B",
          "dash": "solid"
         },
         "marker": {
          "symbol": "circle"
         },
         "mode": "lines",
         "name": "111",
         "orientation": "v",
         "showlegend": true,
         "x": [
          "x_counter_RSF",
          "x_counter_kNN",
          "x_test"
         ],
         "xaxis": "x",
         "y": [
          0.018091393634676933,
          0.027131577691761777,
          0.018091393634676933
         ],
         "yaxis": "y",
         "type": "scatter"
        },
        {
         "hovertemplate": "variable=112<br>index=%{x}<br>value=%{y}<extra></extra>",
         "legendgroup": "112",
         "line": {
          "color": "#00cc96",
          "dash": "solid"
         },
         "marker": {
          "symbol": "circle"
         },
         "mode": "lines",
         "name": "112",
         "orientation": "v",
         "showlegend": true,
         "x": [
          "x_counter_RSF",
          "x_counter_kNN",
          "x_test"
         ],
         "xaxis": "x",
         "y": [
          0.00833831075578928,
          0.026038925512693822,
          0.00833831075578928
         ],
         "yaxis": "y",
         "type": "scatter"
        },
        {
         "hovertemplate": "variable=113<br>index=%{x}<br>value=%{y}<extra></extra>",
         "legendgroup": "113",
         "line": {
          "color": "#ab63fa",
          "dash": "solid"
         },
         "marker": {
          "symbol": "circle"
         },
         "mode": "lines",
         "name": "113",
         "orientation": "v",
         "showlegend": true,
         "x": [
          "x_counter_RSF",
          "x_counter_kNN",
          "x_test"
         ],
         "xaxis": "x",
         "y": [
          0.016276659443974495,
          0.024039847368840128,
          0.016276659443974495
         ],
         "yaxis": "y",
         "type": "scatter"
        },
        {
         "hovertemplate": "variable=114<br>index=%{x}<br>value=%{y}<extra></extra>",
         "legendgroup": "114",
         "line": {
          "color": "#FFA15A",
          "dash": "solid"
         },
         "marker": {
          "symbol": "circle"
         },
         "mode": "lines",
         "name": "114",
         "orientation": "v",
         "showlegend": true,
         "x": [
          "x_counter_RSF",
          "x_counter_kNN",
          "x_test"
         ],
         "xaxis": "x",
         "y": [
          -0.0025977601762861013,
          0.027109154383651912,
          -0.0025977601762861013
         ],
         "yaxis": "y",
         "type": "scatter"
        },
        {
         "hovertemplate": "variable=115<br>index=%{x}<br>value=%{y}<extra></extra>",
         "legendgroup": "115",
         "line": {
          "color": "#19d3f3",
          "dash": "solid"
         },
         "marker": {
          "symbol": "circle"
         },
         "mode": "lines",
         "name": "115",
         "orientation": "v",
         "showlegend": true,
         "x": [
          "x_counter_RSF",
          "x_counter_kNN",
          "x_test"
         ],
         "xaxis": "x",
         "y": [
          0.035024747252464294,
          0.02952189464122057,
          0.035024747252464294
         ],
         "yaxis": "y",
         "type": "scatter"
        },
        {
         "hovertemplate": "variable=116<br>index=%{x}<br>value=%{y}<extra></extra>",
         "legendgroup": "116",
         "line": {
          "color": "#FF6692",
          "dash": "solid"
         },
         "marker": {
          "symbol": "circle"
         },
         "mode": "lines",
         "name": "116",
         "orientation": "v",
         "showlegend": true,
         "x": [
          "x_counter_RSF",
          "x_counter_kNN",
          "x_test"
         ],
         "xaxis": "x",
         "y": [
          0.03040202707052231,
          0.034097421914339066,
          0.03040202707052231
         ],
         "yaxis": "y",
         "type": "scatter"
        },
        {
         "hovertemplate": "variable=117<br>index=%{x}<br>value=%{y}<extra></extra>",
         "legendgroup": "117",
         "line": {
          "color": "#B6E880",
          "dash": "solid"
         },
         "marker": {
          "symbol": "circle"
         },
         "mode": "lines",
         "name": "117",
         "orientation": "v",
         "showlegend": true,
         "x": [
          "x_counter_RSF",
          "x_counter_kNN",
          "x_test"
         ],
         "xaxis": "x",
         "y": [
          0.030374422669410706,
          0.01685212823213078,
          0.030374422669410706
         ],
         "yaxis": "y",
         "type": "scatter"
        },
        {
         "hovertemplate": "variable=118<br>index=%{x}<br>value=%{y}<extra></extra>",
         "legendgroup": "118",
         "line": {
          "color": "#FF97FF",
          "dash": "solid"
         },
         "marker": {
          "symbol": "circle"
         },
         "mode": "lines",
         "name": "118",
         "orientation": "v",
         "showlegend": true,
         "x": [
          "x_counter_RSF",
          "x_counter_kNN",
          "x_test"
         ],
         "xaxis": "x",
         "y": [
          0.04413498565554619,
          0.02743329608347267,
          0.04413498565554619
         ],
         "yaxis": "y",
         "type": "scatter"
        },
        {
         "hovertemplate": "variable=119<br>index=%{x}<br>value=%{y}<extra></extra>",
         "legendgroup": "119",
         "line": {
          "color": "#FECB52",
          "dash": "solid"
         },
         "marker": {
          "symbol": "circle"
         },
         "mode": "lines",
         "name": "119",
         "orientation": "v",
         "showlegend": true,
         "x": [
          "x_counter_RSF",
          "x_counter_kNN",
          "x_test"
         ],
         "xaxis": "x",
         "y": [
          0.038880422711372375,
          0.0281437958474271,
          0.038880422711372375
         ],
         "yaxis": "y",
         "type": "scatter"
        },
        {
         "hovertemplate": "variable=120<br>index=%{x}<br>value=%{y}<extra></extra>",
         "legendgroup": "120",
         "line": {
          "color": "#636efa",
          "dash": "solid"
         },
         "marker": {
          "symbol": "circle"
         },
         "mode": "lines",
         "name": "120",
         "orientation": "v",
         "showlegend": true,
         "x": [
          "x_counter_RSF",
          "x_counter_kNN",
          "x_test"
         ],
         "xaxis": "x",
         "y": [
          0.04728321358561516,
          0.01709411173942499,
          0.04728321358561516
         ],
         "yaxis": "y",
         "type": "scatter"
        },
        {
         "hovertemplate": "variable=121<br>index=%{x}<br>value=%{y}<extra></extra>",
         "legendgroup": "121",
         "line": {
          "color": "#EF553B",
          "dash": "solid"
         },
         "marker": {
          "symbol": "circle"
         },
         "mode": "lines",
         "name": "121",
         "orientation": "v",
         "showlegend": true,
         "x": [
          "x_counter_RSF",
          "x_counter_kNN",
          "x_test"
         ],
         "xaxis": "x",
         "y": [
          0.026936259120702744,
          0.01739070778819496,
          0.026936259120702744
         ],
         "yaxis": "y",
         "type": "scatter"
        },
        {
         "hovertemplate": "variable=122<br>index=%{x}<br>value=%{y}<extra></extra>",
         "legendgroup": "122",
         "line": {
          "color": "#00cc96",
          "dash": "solid"
         },
         "marker": {
          "symbol": "circle"
         },
         "mode": "lines",
         "name": "122",
         "orientation": "v",
         "showlegend": true,
         "x": [
          "x_counter_RSF",
          "x_counter_kNN",
          "x_test"
         ],
         "xaxis": "x",
         "y": [
          0.007764769252389669,
          0.02304278829251416,
          0.007764769252389669
         ],
         "yaxis": "y",
         "type": "scatter"
        },
        {
         "hovertemplate": "variable=123<br>index=%{x}<br>value=%{y}<extra></extra>",
         "legendgroup": "123",
         "line": {
          "color": "#ab63fa",
          "dash": "solid"
         },
         "marker": {
          "symbol": "circle"
         },
         "mode": "lines",
         "name": "123",
         "orientation": "v",
         "showlegend": true,
         "x": [
          "x_counter_RSF",
          "x_counter_kNN",
          "x_test"
         ],
         "xaxis": "x",
         "y": [
          0.012871000915765762,
          0.02336846324033104,
          0.012871000915765762
         ],
         "yaxis": "y",
         "type": "scatter"
        },
        {
         "hovertemplate": "variable=124<br>index=%{x}<br>value=%{y}<extra></extra>",
         "legendgroup": "124",
         "line": {
          "color": "#FFA15A",
          "dash": "solid"
         },
         "marker": {
          "symbol": "circle"
         },
         "mode": "lines",
         "name": "124",
         "orientation": "v",
         "showlegend": true,
         "x": [
          "x_counter_RSF",
          "x_counter_kNN",
          "x_test"
         ],
         "xaxis": "x",
         "y": [
          0.03989579156041145,
          0.022835120966192335,
          0.03989579156041145
         ],
         "yaxis": "y",
         "type": "scatter"
        },
        {
         "hovertemplate": "variable=125<br>index=%{x}<br>value=%{y}<extra></extra>",
         "legendgroup": "125",
         "line": {
          "color": "#19d3f3",
          "dash": "solid"
         },
         "marker": {
          "symbol": "circle"
         },
         "mode": "lines",
         "name": "125",
         "orientation": "v",
         "showlegend": true,
         "x": [
          "x_counter_RSF",
          "x_counter_kNN",
          "x_test"
         ],
         "xaxis": "x",
         "y": [
          0.010400347411632538,
          0.018562429904704913,
          0.010400347411632538
         ],
         "yaxis": "y",
         "type": "scatter"
        },
        {
         "hovertemplate": "variable=126<br>index=%{x}<br>value=%{y}<extra></extra>",
         "legendgroup": "126",
         "line": {
          "color": "#FF6692",
          "dash": "solid"
         },
         "marker": {
          "symbol": "circle"
         },
         "mode": "lines",
         "name": "126",
         "orientation": "v",
         "showlegend": true,
         "x": [
          "x_counter_RSF",
          "x_counter_kNN",
          "x_test"
         ],
         "xaxis": "x",
         "y": [
          0.04667845740914345,
          0.02561463147867471,
          0.04667845740914345
         ],
         "yaxis": "y",
         "type": "scatter"
        },
        {
         "hovertemplate": "variable=127<br>index=%{x}<br>value=%{y}<extra></extra>",
         "legendgroup": "127",
         "line": {
          "color": "#B6E880",
          "dash": "solid"
         },
         "marker": {
          "symbol": "circle"
         },
         "mode": "lines",
         "name": "127",
         "orientation": "v",
         "showlegend": true,
         "x": [
          "x_counter_RSF",
          "x_counter_kNN",
          "x_test"
         ],
         "xaxis": "x",
         "y": [
          0.006963252555578947,
          0.025141048288787715,
          0.006963252555578947
         ],
         "yaxis": "y",
         "type": "scatter"
        }
       ],
       "layout": {
        "template": {
         "data": {
          "histogram2dcontour": [
           {
            "type": "histogram2dcontour",
            "colorbar": {
             "outlinewidth": 0,
             "ticks": ""
            },
            "colorscale": [
             [
              0.0,
              "#0d0887"
             ],
             [
              0.1111111111111111,
              "#46039f"
             ],
             [
              0.2222222222222222,
              "#7201a8"
             ],
             [
              0.3333333333333333,
              "#9c179e"
             ],
             [
              0.4444444444444444,
              "#bd3786"
             ],
             [
              0.5555555555555556,
              "#d8576b"
             ],
             [
              0.6666666666666666,
              "#ed7953"
             ],
             [
              0.7777777777777778,
              "#fb9f3a"
             ],
             [
              0.8888888888888888,
              "#fdca26"
             ],
             [
              1.0,
              "#f0f921"
             ]
            ]
           }
          ],
          "choropleth": [
           {
            "type": "choropleth",
            "colorbar": {
             "outlinewidth": 0,
             "ticks": ""
            }
           }
          ],
          "histogram2d": [
           {
            "type": "histogram2d",
            "colorbar": {
             "outlinewidth": 0,
             "ticks": ""
            },
            "colorscale": [
             [
              0.0,
              "#0d0887"
             ],
             [
              0.1111111111111111,
              "#46039f"
             ],
             [
              0.2222222222222222,
              "#7201a8"
             ],
             [
              0.3333333333333333,
              "#9c179e"
             ],
             [
              0.4444444444444444,
              "#bd3786"
             ],
             [
              0.5555555555555556,
              "#d8576b"
             ],
             [
              0.6666666666666666,
              "#ed7953"
             ],
             [
              0.7777777777777778,
              "#fb9f3a"
             ],
             [
              0.8888888888888888,
              "#fdca26"
             ],
             [
              1.0,
              "#f0f921"
             ]
            ]
           }
          ],
          "heatmap": [
           {
            "type": "heatmap",
            "colorbar": {
             "outlinewidth": 0,
             "ticks": ""
            },
            "colorscale": [
             [
              0.0,
              "#0d0887"
             ],
             [
              0.1111111111111111,
              "#46039f"
             ],
             [
              0.2222222222222222,
              "#7201a8"
             ],
             [
              0.3333333333333333,
              "#9c179e"
             ],
             [
              0.4444444444444444,
              "#bd3786"
             ],
             [
              0.5555555555555556,
              "#d8576b"
             ],
             [
              0.6666666666666666,
              "#ed7953"
             ],
             [
              0.7777777777777778,
              "#fb9f3a"
             ],
             [
              0.8888888888888888,
              "#fdca26"
             ],
             [
              1.0,
              "#f0f921"
             ]
            ]
           }
          ],
          "heatmapgl": [
           {
            "type": "heatmapgl",
            "colorbar": {
             "outlinewidth": 0,
             "ticks": ""
            },
            "colorscale": [
             [
              0.0,
              "#0d0887"
             ],
             [
              0.1111111111111111,
              "#46039f"
             ],
             [
              0.2222222222222222,
              "#7201a8"
             ],
             [
              0.3333333333333333,
              "#9c179e"
             ],
             [
              0.4444444444444444,
              "#bd3786"
             ],
             [
              0.5555555555555556,
              "#d8576b"
             ],
             [
              0.6666666666666666,
              "#ed7953"
             ],
             [
              0.7777777777777778,
              "#fb9f3a"
             ],
             [
              0.8888888888888888,
              "#fdca26"
             ],
             [
              1.0,
              "#f0f921"
             ]
            ]
           }
          ],
          "contourcarpet": [
           {
            "type": "contourcarpet",
            "colorbar": {
             "outlinewidth": 0,
             "ticks": ""
            }
           }
          ],
          "contour": [
           {
            "type": "contour",
            "colorbar": {
             "outlinewidth": 0,
             "ticks": ""
            },
            "colorscale": [
             [
              0.0,
              "#0d0887"
             ],
             [
              0.1111111111111111,
              "#46039f"
             ],
             [
              0.2222222222222222,
              "#7201a8"
             ],
             [
              0.3333333333333333,
              "#9c179e"
             ],
             [
              0.4444444444444444,
              "#bd3786"
             ],
             [
              0.5555555555555556,
              "#d8576b"
             ],
             [
              0.6666666666666666,
              "#ed7953"
             ],
             [
              0.7777777777777778,
              "#fb9f3a"
             ],
             [
              0.8888888888888888,
              "#fdca26"
             ],
             [
              1.0,
              "#f0f921"
             ]
            ]
           }
          ],
          "surface": [
           {
            "type": "surface",
            "colorbar": {
             "outlinewidth": 0,
             "ticks": ""
            },
            "colorscale": [
             [
              0.0,
              "#0d0887"
             ],
             [
              0.1111111111111111,
              "#46039f"
             ],
             [
              0.2222222222222222,
              "#7201a8"
             ],
             [
              0.3333333333333333,
              "#9c179e"
             ],
             [
              0.4444444444444444,
              "#bd3786"
             ],
             [
              0.5555555555555556,
              "#d8576b"
             ],
             [
              0.6666666666666666,
              "#ed7953"
             ],
             [
              0.7777777777777778,
              "#fb9f3a"
             ],
             [
              0.8888888888888888,
              "#fdca26"
             ],
             [
              1.0,
              "#f0f921"
             ]
            ]
           }
          ],
          "mesh3d": [
           {
            "type": "mesh3d",
            "colorbar": {
             "outlinewidth": 0,
             "ticks": ""
            }
           }
          ],
          "scatter": [
           {
            "marker": {
             "line": {
              "color": "#283442"
             }
            },
            "type": "scatter"
           }
          ],
          "parcoords": [
           {
            "type": "parcoords",
            "line": {
             "colorbar": {
              "outlinewidth": 0,
              "ticks": ""
             }
            }
           }
          ],
          "scatterpolargl": [
           {
            "type": "scatterpolargl",
            "marker": {
             "colorbar": {
              "outlinewidth": 0,
              "ticks": ""
             }
            }
           }
          ],
          "bar": [
           {
            "error_x": {
             "color": "#f2f5fa"
            },
            "error_y": {
             "color": "#f2f5fa"
            },
            "marker": {
             "line": {
              "color": "rgb(17,17,17)",
              "width": 0.5
             },
             "pattern": {
              "fillmode": "overlay",
              "size": 10,
              "solidity": 0.2
             }
            },
            "type": "bar"
           }
          ],
          "scattergeo": [
           {
            "type": "scattergeo",
            "marker": {
             "colorbar": {
              "outlinewidth": 0,
              "ticks": ""
             }
            }
           }
          ],
          "scatterpolar": [
           {
            "type": "scatterpolar",
            "marker": {
             "colorbar": {
              "outlinewidth": 0,
              "ticks": ""
             }
            }
           }
          ],
          "histogram": [
           {
            "marker": {
             "pattern": {
              "fillmode": "overlay",
              "size": 10,
              "solidity": 0.2
             }
            },
            "type": "histogram"
           }
          ],
          "scattergl": [
           {
            "marker": {
             "line": {
              "color": "#283442"
             }
            },
            "type": "scattergl"
           }
          ],
          "scatter3d": [
           {
            "type": "scatter3d",
            "line": {
             "colorbar": {
              "outlinewidth": 0,
              "ticks": ""
             }
            },
            "marker": {
             "colorbar": {
              "outlinewidth": 0,
              "ticks": ""
             }
            }
           }
          ],
          "scattermapbox": [
           {
            "type": "scattermapbox",
            "marker": {
             "colorbar": {
              "outlinewidth": 0,
              "ticks": ""
             }
            }
           }
          ],
          "scatterternary": [
           {
            "type": "scatterternary",
            "marker": {
             "colorbar": {
              "outlinewidth": 0,
              "ticks": ""
             }
            }
           }
          ],
          "scattercarpet": [
           {
            "type": "scattercarpet",
            "marker": {
             "colorbar": {
              "outlinewidth": 0,
              "ticks": ""
             }
            }
           }
          ],
          "carpet": [
           {
            "aaxis": {
             "endlinecolor": "#A2B1C6",
             "gridcolor": "#506784",
             "linecolor": "#506784",
             "minorgridcolor": "#506784",
             "startlinecolor": "#A2B1C6"
            },
            "baxis": {
             "endlinecolor": "#A2B1C6",
             "gridcolor": "#506784",
             "linecolor": "#506784",
             "minorgridcolor": "#506784",
             "startlinecolor": "#A2B1C6"
            },
            "type": "carpet"
           }
          ],
          "table": [
           {
            "cells": {
             "fill": {
              "color": "#506784"
             },
             "line": {
              "color": "rgb(17,17,17)"
             }
            },
            "header": {
             "fill": {
              "color": "#2a3f5f"
             },
             "line": {
              "color": "rgb(17,17,17)"
             }
            },
            "type": "table"
           }
          ],
          "barpolar": [
           {
            "marker": {
             "line": {
              "color": "rgb(17,17,17)",
              "width": 0.5
             },
             "pattern": {
              "fillmode": "overlay",
              "size": 10,
              "solidity": 0.2
             }
            },
            "type": "barpolar"
           }
          ],
          "pie": [
           {
            "automargin": true,
            "type": "pie"
           }
          ]
         },
         "layout": {
          "autotypenumbers": "strict",
          "colorway": [
           "#636efa",
           "#EF553B",
           "#00cc96",
           "#ab63fa",
           "#FFA15A",
           "#19d3f3",
           "#FF6692",
           "#B6E880",
           "#FF97FF",
           "#FECB52"
          ],
          "font": {
           "color": "#f2f5fa"
          },
          "hovermode": "closest",
          "hoverlabel": {
           "align": "left"
          },
          "paper_bgcolor": "rgb(17,17,17)",
          "plot_bgcolor": "rgb(17,17,17)",
          "polar": {
           "bgcolor": "rgb(17,17,17)",
           "angularaxis": {
            "gridcolor": "#506784",
            "linecolor": "#506784",
            "ticks": ""
           },
           "radialaxis": {
            "gridcolor": "#506784",
            "linecolor": "#506784",
            "ticks": ""
           }
          },
          "ternary": {
           "bgcolor": "rgb(17,17,17)",
           "aaxis": {
            "gridcolor": "#506784",
            "linecolor": "#506784",
            "ticks": ""
           },
           "baxis": {
            "gridcolor": "#506784",
            "linecolor": "#506784",
            "ticks": ""
           },
           "caxis": {
            "gridcolor": "#506784",
            "linecolor": "#506784",
            "ticks": ""
           }
          },
          "coloraxis": {
           "colorbar": {
            "outlinewidth": 0,
            "ticks": ""
           }
          },
          "colorscale": {
           "sequential": [
            [
             0.0,
             "#0d0887"
            ],
            [
             0.1111111111111111,
             "#46039f"
            ],
            [
             0.2222222222222222,
             "#7201a8"
            ],
            [
             0.3333333333333333,
             "#9c179e"
            ],
            [
             0.4444444444444444,
             "#bd3786"
            ],
            [
             0.5555555555555556,
             "#d8576b"
            ],
            [
             0.6666666666666666,
             "#ed7953"
            ],
            [
             0.7777777777777778,
             "#fb9f3a"
            ],
            [
             0.8888888888888888,
             "#fdca26"
            ],
            [
             1.0,
             "#f0f921"
            ]
           ],
           "sequentialminus": [
            [
             0.0,
             "#0d0887"
            ],
            [
             0.1111111111111111,
             "#46039f"
            ],
            [
             0.2222222222222222,
             "#7201a8"
            ],
            [
             0.3333333333333333,
             "#9c179e"
            ],
            [
             0.4444444444444444,
             "#bd3786"
            ],
            [
             0.5555555555555556,
             "#d8576b"
            ],
            [
             0.6666666666666666,
             "#ed7953"
            ],
            [
             0.7777777777777778,
             "#fb9f3a"
            ],
            [
             0.8888888888888888,
             "#fdca26"
            ],
            [
             1.0,
             "#f0f921"
            ]
           ],
           "diverging": [
            [
             0,
             "#8e0152"
            ],
            [
             0.1,
             "#c51b7d"
            ],
            [
             0.2,
             "#de77ae"
            ],
            [
             0.3,
             "#f1b6da"
            ],
            [
             0.4,
             "#fde0ef"
            ],
            [
             0.5,
             "#f7f7f7"
            ],
            [
             0.6,
             "#e6f5d0"
            ],
            [
             0.7,
             "#b8e186"
            ],
            [
             0.8,
             "#7fbc41"
            ],
            [
             0.9,
             "#4d9221"
            ],
            [
             1,
             "#276419"
            ]
           ]
          },
          "xaxis": {
           "gridcolor": "#283442",
           "linecolor": "#506784",
           "ticks": "",
           "title": {
            "standoff": 15
           },
           "zerolinecolor": "#283442",
           "automargin": true,
           "zerolinewidth": 2
          },
          "yaxis": {
           "gridcolor": "#283442",
           "linecolor": "#506784",
           "ticks": "",
           "title": {
            "standoff": 15
           },
           "zerolinecolor": "#283442",
           "automargin": true,
           "zerolinewidth": 2
          },
          "scene": {
           "xaxis": {
            "backgroundcolor": "rgb(17,17,17)",
            "gridcolor": "#506784",
            "linecolor": "#506784",
            "showbackground": true,
            "ticks": "",
            "zerolinecolor": "#C8D4E3",
            "gridwidth": 2
           },
           "yaxis": {
            "backgroundcolor": "rgb(17,17,17)",
            "gridcolor": "#506784",
            "linecolor": "#506784",
            "showbackground": true,
            "ticks": "",
            "zerolinecolor": "#C8D4E3",
            "gridwidth": 2
           },
           "zaxis": {
            "backgroundcolor": "rgb(17,17,17)",
            "gridcolor": "#506784",
            "linecolor": "#506784",
            "showbackground": true,
            "ticks": "",
            "zerolinecolor": "#C8D4E3",
            "gridwidth": 2
           }
          },
          "shapedefaults": {
           "line": {
            "color": "#f2f5fa"
           }
          },
          "annotationdefaults": {
           "arrowcolor": "#f2f5fa",
           "arrowhead": 0,
           "arrowwidth": 1
          },
          "geo": {
           "bgcolor": "rgb(17,17,17)",
           "landcolor": "rgb(17,17,17)",
           "subunitcolor": "#506784",
           "showland": true,
           "showlakes": true,
           "lakecolor": "rgb(17,17,17)"
          },
          "title": {
           "x": 0.05
          },
          "updatemenudefaults": {
           "bgcolor": "#506784",
           "borderwidth": 0
          },
          "sliderdefaults": {
           "bgcolor": "#C8D4E3",
           "borderwidth": 1,
           "bordercolor": "rgb(17,17,17)",
           "tickwidth": 0
          },
          "mapbox": {
           "style": "dark"
          }
         }
        },
        "xaxis": {
         "anchor": "y",
         "domain": [
          0.0,
          1.0
         ],
         "title": {
          "text": "index"
         }
        },
        "yaxis": {
         "anchor": "x",
         "domain": [
          0.0,
          1.0
         ],
         "title": {
          "text": "value"
         }
        },
        "legend": {
         "title": {
          "text": "variable"
         },
         "tracegroupgap": 0
        },
        "margin": {
         "t": 60
        }
       },
       "config": {
        "plotlyServerURL": "https://plot.ly"
       }
      },
      "text/html": "<div>                            <div id=\"df8add1a-b60d-486f-a59c-03fa7d8029c0\" class=\"plotly-graph-div\" style=\"height:525px; width:100%;\"></div>            <script type=\"text/javascript\">                require([\"plotly\"], function(Plotly) {                    window.PLOTLYENV=window.PLOTLYENV || {};                                    if (document.getElementById(\"df8add1a-b60d-486f-a59c-03fa7d8029c0\")) {                    Plotly.newPlot(                        \"df8add1a-b60d-486f-a59c-03fa7d8029c0\",                        [{\"hovertemplate\":\"variable=0<br>index=%{x}<br>value=%{y}<extra></extra>\",\"legendgroup\":\"0\",\"line\":{\"color\":\"#636efa\",\"dash\":\"solid\"},\"marker\":{\"symbol\":\"circle\"},\"mode\":\"lines\",\"name\":\"0\",\"orientation\":\"v\",\"showlegend\":true,\"x\":[\"x_counter_RSF\",\"x_counter_kNN\",\"x_test\"],\"xaxis\":\"x\",\"y\":[0.019996842369437218,0.030717918241862208,0.019996842369437218],\"yaxis\":\"y\",\"type\":\"scatter\"},{\"hovertemplate\":\"variable=1<br>index=%{x}<br>value=%{y}<extra></extra>\",\"legendgroup\":\"1\",\"line\":{\"color\":\"#EF553B\",\"dash\":\"solid\"},\"marker\":{\"symbol\":\"circle\"},\"mode\":\"lines\",\"name\":\"1\",\"orientation\":\"v\",\"showlegend\":true,\"x\":[\"x_counter_RSF\",\"x_counter_kNN\",\"x_test\"],\"xaxis\":\"x\",\"y\":[0.01338891126215458,0.02295408837380819,0.01338891126215458],\"yaxis\":\"y\",\"type\":\"scatter\"},{\"hovertemplate\":\"variable=2<br>index=%{x}<br>value=%{y}<extra></extra>\",\"legendgroup\":\"2\",\"line\":{\"color\":\"#00cc96\",\"dash\":\"solid\"},\"marker\":{\"symbol\":\"circle\"},\"mode\":\"lines\",\"name\":\"2\",\"orientation\":\"v\",\"showlegend\":true,\"x\":[\"x_counter_RSF\",\"x_counter_kNN\",\"x_test\"],\"xaxis\":\"x\",\"y\":[0.050172965973615646,0.033255839603953063,0.050172965973615646],\"yaxis\":\"y\",\"type\":\"scatter\"},{\"hovertemplate\":\"variable=3<br>index=%{x}<br>value=%{y}<extra></extra>\",\"legendgroup\":\"3\",\"line\":{\"color\":\"#ab63fa\",\"dash\":\"solid\"},\"marker\":{\"symbol\":\"circle\"},\"mode\":\"lines\",\"name\":\"3\",\"orientation\":\"v\",\"showlegend\":true,\"x\":[\"x_counter_RSF\",\"x_counter_kNN\",\"x_test\"],\"xaxis\":\"x\",\"y\":[0.031109778210520744,0.024428925360552967,0.031109778210520744],\"yaxis\":\"y\",\"type\":\"scatter\"},{\"hovertemplate\":\"variable=4<br>index=%{x}<br>value=%{y}<extra></extra>\",\"legendgroup\":\"4\",\"line\":{\"color\":\"#FFA15A\",\"dash\":\"solid\"},\"marker\":{\"symbol\":\"circle\"},\"mode\":\"lines\",\"name\":\"4\",\"orientation\":\"v\",\"showlegend\":true,\"x\":[\"x_counter_RSF\",\"x_counter_kNN\",\"x_test\"],\"xaxis\":\"x\",\"y\":[0.017921093851327896,0.02681080947513692,0.017921093851327896],\"yaxis\":\"y\",\"type\":\"scatter\"},{\"hovertemplate\":\"variable=5<br>index=%{x}<br>value=%{y}<extra></extra>\",\"legendgroup\":\"5\",\"line\":{\"color\":\"#19d3f3\",\"dash\":\"solid\"},\"marker\":{\"symbol\":\"circle\"},\"mode\":\"lines\",\"name\":\"5\",\"orientation\":\"v\",\"showlegend\":true,\"x\":[\"x_counter_RSF\",\"x_counter_kNN\",\"x_test\"],\"xaxis\":\"x\",\"y\":[0.050113022327423096,0.02375253280479228,0.050113022327423096],\"yaxis\":\"y\",\"type\":\"scatter\"},{\"hovertemplate\":\"variable=6<br>index=%{x}<br>value=%{y}<extra></extra>\",\"legendgroup\":\"6\",\"line\":{\"color\":\"#FF6692\",\"dash\":\"solid\"},\"marker\":{\"symbol\":\"circle\"},\"mode\":\"lines\",\"name\":\"6\",\"orientation\":\"v\",\"showlegend\":true,\"x\":[\"x_counter_RSF\",\"x_counter_kNN\",\"x_test\"],\"xaxis\":\"x\",\"y\":[0.0408826507627964,0.08734449959592894,0.0408826507627964],\"yaxis\":\"y\",\"type\":\"scatter\"},{\"hovertemplate\":\"variable=7<br>index=%{x}<br>value=%{y}<extra></extra>\",\"legendgroup\":\"7\",\"line\":{\"color\":\"#B6E880\",\"dash\":\"solid\"},\"marker\":{\"symbol\":\"circle\"},\"mode\":\"lines\",\"name\":\"7\",\"orientation\":\"v\",\"showlegend\":true,\"x\":[\"x_counter_RSF\",\"x_counter_kNN\",\"x_test\"],\"xaxis\":\"x\",\"y\":[0.047123026102781296,0.17864942189771682,0.047123026102781296],\"yaxis\":\"y\",\"type\":\"scatter\"},{\"hovertemplate\":\"variable=8<br>index=%{x}<br>value=%{y}<extra></extra>\",\"legendgroup\":\"8\",\"line\":{\"color\":\"#FF97FF\",\"dash\":\"solid\"},\"marker\":{\"symbol\":\"circle\"},\"mode\":\"lines\",\"name\":\"8\",\"orientation\":\"v\",\"showlegend\":true,\"x\":[\"x_counter_RSF\",\"x_counter_kNN\",\"x_test\"],\"xaxis\":\"x\",\"y\":[0.04433491826057434,0.35812500305473804,0.04433491826057434],\"yaxis\":\"y\",\"type\":\"scatter\"},{\"hovertemplate\":\"variable=9<br>index=%{x}<br>value=%{y}<extra></extra>\",\"legendgroup\":\"9\",\"line\":{\"color\":\"#FECB52\",\"dash\":\"solid\"},\"marker\":{\"symbol\":\"circle\"},\"mode\":\"lines\",\"name\":\"9\",\"orientation\":\"v\",\"showlegend\":true,\"x\":[\"x_counter_RSF\",\"x_counter_kNN\",\"x_test\"],\"xaxis\":\"x\",\"y\":[0.007570188958197832,0.612624991685152,0.007570188958197832],\"yaxis\":\"y\",\"type\":\"scatter\"},{\"hovertemplate\":\"variable=10<br>index=%{x}<br>value=%{y}<extra></extra>\",\"legendgroup\":\"10\",\"line\":{\"color\":\"#636efa\",\"dash\":\"solid\"},\"marker\":{\"symbol\":\"circle\"},\"mode\":\"lines\",\"name\":\"10\",\"orientation\":\"v\",\"showlegend\":true,\"x\":[\"x_counter_RSF\",\"x_counter_kNN\",\"x_test\"],\"xaxis\":\"x\",\"y\":[0.053850434720516205,0.8195000141859056,0.053850434720516205],\"yaxis\":\"y\",\"type\":\"scatter\"},{\"hovertemplate\":\"variable=11<br>index=%{x}<br>value=%{y}<extra></extra>\",\"legendgroup\":\"11\",\"line\":{\"color\":\"#EF553B\",\"dash\":\"solid\"},\"marker\":{\"symbol\":\"circle\"},\"mode\":\"lines\",\"name\":\"11\",\"orientation\":\"v\",\"showlegend\":true,\"x\":[\"x_counter_RSF\",\"x_counter_kNN\",\"x_test\"],\"xaxis\":\"x\",\"y\":[0.03924356773495674,0.9281250014901161,0.03924356773495674],\"yaxis\":\"y\",\"type\":\"scatter\"},{\"hovertemplate\":\"variable=12<br>index=%{x}<br>value=%{y}<extra></extra>\",\"legendgroup\":\"12\",\"line\":{\"color\":\"#00cc96\",\"dash\":\"solid\"},\"marker\":{\"symbol\":\"circle\"},\"mode\":\"lines\",\"name\":\"12\",\"orientation\":\"v\",\"showlegend\":true,\"x\":[\"x_counter_RSF\",\"x_counter_kNN\",\"x_test\"],\"xaxis\":\"x\",\"y\":[-0.2164898085733734,0.9623750001192093,0.02420962229371071],\"yaxis\":\"y\",\"type\":\"scatter\"},{\"hovertemplate\":\"variable=13<br>index=%{x}<br>value=%{y}<extra></extra>\",\"legendgroup\":\"13\",\"line\":{\"color\":\"#ab63fa\",\"dash\":\"solid\"},\"marker\":{\"symbol\":\"circle\"},\"mode\":\"lines\",\"name\":\"13\",\"orientation\":\"v\",\"showlegend\":true,\"x\":[\"x_counter_RSF\",\"x_counter_kNN\",\"x_test\"],\"xaxis\":\"x\",\"y\":[-0.22508182665420529,0.8982500210404397,0.013899706304073334],\"yaxis\":\"y\",\"type\":\"scatter\"},{\"hovertemplate\":\"variable=14<br>index=%{x}<br>value=%{y}<extra></extra>\",\"legendgroup\":\"14\",\"line\":{\"color\":\"#FFA15A\",\"dash\":\"solid\"},\"marker\":{\"symbol\":\"circle\"},\"mode\":\"lines\",\"name\":\"14\",\"orientation\":\"v\",\"showlegend\":true,\"x\":[\"x_counter_RSF\",\"x_counter_kNN\",\"x_test\"],\"xaxis\":\"x\",\"y\":[-0.22870139363037145,0.7092499993741512,0.008553779684007168],\"yaxis\":\"y\",\"type\":\"scatter\"},{\"hovertemplate\":\"variable=15<br>index=%{x}<br>value=%{y}<extra></extra>\",\"legendgroup\":\"15\",\"line\":{\"color\":\"#19d3f3\",\"dash\":\"solid\"},\"marker\":{\"symbol\":\"circle\"},\"mode\":\"lines\",\"name\":\"15\",\"orientation\":\"v\",\"showlegend\":true,\"x\":[\"x_counter_RSF\",\"x_counter_kNN\",\"x_test\"],\"xaxis\":\"x\",\"y\":[-0.2138956620719792,0.47112499363720417,0.027600707486271858],\"yaxis\":\"y\",\"type\":\"scatter\"},{\"hovertemplate\":\"variable=16<br>index=%{x}<br>value=%{y}<extra></extra>\",\"legendgroup\":\"16\",\"line\":{\"color\":\"#FF6692\",\"dash\":\"solid\"},\"marker\":{\"symbol\":\"circle\"},\"mode\":\"lines\",\"name\":\"16\",\"orientation\":\"v\",\"showlegend\":true,\"x\":[\"x_counter_RSF\",\"x_counter_kNN\",\"x_test\"],\"xaxis\":\"x\",\"y\":[-0.2246963428947626,0.28862676303833723,0.014096392318606377],\"yaxis\":\"y\",\"type\":\"scatter\"},{\"hovertemplate\":\"variable=17<br>index=%{x}<br>value=%{y}<extra></extra>\",\"legendgroup\":\"17\",\"line\":{\"color\":\"#B6E880\",\"dash\":\"solid\"},\"marker\":{\"symbol\":\"circle\"},\"mode\":\"lines\",\"name\":\"17\",\"orientation\":\"v\",\"showlegend\":true,\"x\":[\"x_counter_RSF\",\"x_counter_kNN\",\"x_test\"],\"xaxis\":\"x\",\"y\":[-0.22764101428338823,0.15857468452304602,0.009632693603634834],\"yaxis\":\"y\",\"type\":\"scatter\"},{\"hovertemplate\":\"variable=18<br>index=%{x}<br>value=%{y}<extra></extra>\",\"legendgroup\":\"18\",\"line\":{\"color\":\"#FF97FF\",\"dash\":\"solid\"},\"marker\":{\"symbol\":\"circle\"},\"mode\":\"lines\",\"name\":\"18\",\"orientation\":\"v\",\"showlegend\":true,\"x\":[\"x_counter_RSF\",\"x_counter_kNN\",\"x_test\"],\"xaxis\":\"x\",\"y\":[-0.2092395750492162,0.08809538371860981,0.03307276964187622],\"yaxis\":\"y\",\"type\":\"scatter\"},{\"hovertemplate\":\"variable=19<br>index=%{x}<br>value=%{y}<extra></extra>\",\"legendgroup\":\"19\",\"line\":{\"color\":\"#FECB52\",\"dash\":\"solid\"},\"marker\":{\"symbol\":\"circle\"},\"mode\":\"lines\",\"name\":\"19\",\"orientation\":\"v\",\"showlegend\":true,\"x\":[\"x_counter_RSF\",\"x_counter_kNN\",\"x_test\"],\"xaxis\":\"x\",\"y\":[-0.2033209643165782,0.04124185477849096,0.04173124209046364],\"yaxis\":\"y\",\"type\":\"scatter\"},{\"hovertemplate\":\"variable=20<br>index=%{x}<br>value=%{y}<extra></extra>\",\"legendgroup\":\"20\",\"line\":{\"color\":\"#636efa\",\"dash\":\"solid\"},\"marker\":{\"symbol\":\"circle\"},\"mode\":\"lines\",\"name\":\"20\",\"orientation\":\"v\",\"showlegend\":true,\"x\":[\"x_counter_RSF\",\"x_counter_kNN\",\"x_test\"],\"xaxis\":\"x\",\"y\":[-0.21590993414880033,0.03445183043368161,0.026196448132395744],\"yaxis\":\"y\",\"type\":\"scatter\"},{\"hovertemplate\":\"variable=21<br>index=%{x}<br>value=%{y}<extra></extra>\",\"legendgroup\":\"21\",\"line\":{\"color\":\"#EF553B\",\"dash\":\"solid\"},\"marker\":{\"symbol\":\"circle\"},\"mode\":\"lines\",\"name\":\"21\",\"orientation\":\"v\",\"showlegend\":true,\"x\":[\"x_counter_RSF\",\"x_counter_kNN\",\"x_test\"],\"xaxis\":\"x\",\"y\":[-0.21317732947030876,0.030939967837184668,0.030382968485355377],\"yaxis\":\"y\",\"type\":\"scatter\"},{\"hovertemplate\":\"variable=22<br>index=%{x}<br>value=%{y}<extra></extra>\",\"legendgroup\":\"22\",\"line\":{\"color\":\"#00cc96\",\"dash\":\"solid\"},\"marker\":{\"symbol\":\"circle\"},\"mode\":\"lines\",\"name\":\"22\",\"orientation\":\"v\",\"showlegend\":true,\"x\":[\"x_counter_RSF\",\"x_counter_kNN\",\"x_test\"],\"xaxis\":\"x\",\"y\":[-0.20348197949607882,0.015269148745574057,0.043671198189258575],\"yaxis\":\"y\",\"type\":\"scatter\"},{\"hovertemplate\":\"variable=23<br>index=%{x}<br>value=%{y}<extra></extra>\",\"legendgroup\":\"23\",\"line\":{\"color\":\"#ab63fa\",\"dash\":\"solid\"},\"marker\":{\"symbol\":\"circle\"},\"mode\":\"lines\",\"name\":\"23\",\"orientation\":\"v\",\"showlegend\":true,\"x\":[\"x_counter_RSF\",\"x_counter_kNN\",\"x_test\"],\"xaxis\":\"x\",\"y\":[-0.230594677984166,0.01788890507305041,0.008229302242398262],\"yaxis\":\"y\",\"type\":\"scatter\"},{\"hovertemplate\":\"variable=24<br>index=%{x}<br>value=%{y}<extra></extra>\",\"legendgroup\":\"24\",\"line\":{\"color\":\"#FFA15A\",\"dash\":\"solid\"},\"marker\":{\"symbol\":\"circle\"},\"mode\":\"lines\",\"name\":\"24\",\"orientation\":\"v\",\"showlegend\":true,\"x\":[\"x_counter_RSF\",\"x_counter_kNN\",\"x_test\"],\"xaxis\":\"x\",\"y\":[-0.22861938064470588,0.019736259819183033,0.010504202917218208],\"yaxis\":\"y\",\"type\":\"scatter\"},{\"hovertemplate\":\"variable=25<br>index=%{x}<br>value=%{y}<extra></extra>\",\"legendgroup\":\"25\",\"line\":{\"color\":\"#19d3f3\",\"dash\":\"solid\"},\"marker\":{\"symbol\":\"circle\"},\"mode\":\"lines\",\"name\":\"25\",\"orientation\":\"v\",\"showlegend\":true,\"x\":[\"x_counter_RSF\",\"x_counter_kNN\",\"x_test\"],\"xaxis\":\"x\",\"y\":[-0.21615360675468798,0.029977864352986217,0.025570733472704887],\"yaxis\":\"y\",\"type\":\"scatter\"},{\"hovertemplate\":\"variable=26<br>index=%{x}<br>value=%{y}<extra></extra>\",\"legendgroup\":\"26\",\"line\":{\"color\":\"#FF6692\",\"dash\":\"solid\"},\"marker\":{\"symbol\":\"circle\"},\"mode\":\"lines\",\"name\":\"26\",\"orientation\":\"v\",\"showlegend\":true,\"x\":[\"x_counter_RSF\",\"x_counter_kNN\",\"x_test\"],\"xaxis\":\"x\",\"y\":[-0.21766523814102445,0.013147618681387032,0.021751467138528824],\"yaxis\":\"y\",\"type\":\"scatter\"},{\"hovertemplate\":\"variable=27<br>index=%{x}<br>value=%{y}<extra></extra>\",\"legendgroup\":\"27\",\"line\":{\"color\":\"#B6E880\",\"dash\":\"solid\"},\"marker\":{\"symbol\":\"circle\"},\"mode\":\"lines\",\"name\":\"27\",\"orientation\":\"v\",\"showlegend\":true,\"x\":[\"x_counter_RSF\",\"x_counter_kNN\",\"x_test\"],\"xaxis\":\"x\",\"y\":[-0.20078860278352495,0.024507563386578113,0.04350551217794418],\"yaxis\":\"y\",\"type\":\"scatter\"},{\"hovertemplate\":\"variable=28<br>index=%{x}<br>value=%{y}<extra></extra>\",\"legendgroup\":\"28\",\"line\":{\"color\":\"#FF97FF\",\"dash\":\"solid\"},\"marker\":{\"symbol\":\"circle\"},\"mode\":\"lines\",\"name\":\"28\",\"orientation\":\"v\",\"showlegend\":true,\"x\":[\"x_counter_RSF\",\"x_counter_kNN\",\"x_test\"],\"xaxis\":\"x\",\"y\":[-0.23442613337357765,0.029255065717734396,-0.00015848421026021242],\"yaxis\":\"y\",\"type\":\"scatter\"},{\"hovertemplate\":\"variable=29<br>index=%{x}<br>value=%{y}<extra></extra>\",\"legendgroup\":\"29\",\"line\":{\"color\":\"#FECB52\",\"dash\":\"solid\"},\"marker\":{\"symbol\":\"circle\"},\"mode\":\"lines\",\"name\":\"29\",\"orientation\":\"v\",\"showlegend\":true,\"x\":[\"x_counter_RSF\",\"x_counter_kNN\",\"x_test\"],\"xaxis\":\"x\",\"y\":[-0.22439021823534,0.01826178109331522,0.012346124276518822],\"yaxis\":\"y\",\"type\":\"scatter\"},{\"hovertemplate\":\"variable=30<br>index=%{x}<br>value=%{y}<extra></extra>\",\"legendgroup\":\"30\",\"line\":{\"color\":\"#636efa\",\"dash\":\"solid\"},\"marker\":{\"symbol\":\"circle\"},\"mode\":\"lines\",\"name\":\"30\",\"orientation\":\"v\",\"showlegend\":true,\"x\":[\"x_counter_RSF\",\"x_counter_kNN\",\"x_test\"],\"xaxis\":\"x\",\"y\":[0.04250909388065338,0.01825661995098926,0.04250909388065338],\"yaxis\":\"y\",\"type\":\"scatter\"},{\"hovertemplate\":\"variable=31<br>index=%{x}<br>value=%{y}<extra></extra>\",\"legendgroup\":\"31\",\"line\":{\"color\":\"#EF553B\",\"dash\":\"solid\"},\"marker\":{\"symbol\":\"circle\"},\"mode\":\"lines\",\"name\":\"31\",\"orientation\":\"v\",\"showlegend\":true,\"x\":[\"x_counter_RSF\",\"x_counter_kNN\",\"x_test\"],\"xaxis\":\"x\",\"y\":[0.03914467245340347,0.025006777832459193,0.03914467245340347],\"yaxis\":\"y\",\"type\":\"scatter\"},{\"hovertemplate\":\"variable=32<br>index=%{x}<br>value=%{y}<extra></extra>\",\"legendgroup\":\"32\",\"line\":{\"color\":\"#00cc96\",\"dash\":\"solid\"},\"marker\":{\"symbol\":\"circle\"},\"mode\":\"lines\",\"name\":\"32\",\"orientation\":\"v\",\"showlegend\":true,\"x\":[\"x_counter_RSF\",\"x_counter_kNN\",\"x_test\"],\"xaxis\":\"x\",\"y\":[0.018022878095507622,0.020490055670961738,0.018022878095507622],\"yaxis\":\"y\",\"type\":\"scatter\"},{\"hovertemplate\":\"variable=33<br>index=%{x}<br>value=%{y}<extra></extra>\",\"legendgroup\":\"33\",\"line\":{\"color\":\"#ab63fa\",\"dash\":\"solid\"},\"marker\":{\"symbol\":\"circle\"},\"mode\":\"lines\",\"name\":\"33\",\"orientation\":\"v\",\"showlegend\":true,\"x\":[\"x_counter_RSF\",\"x_counter_kNN\",\"x_test\"],\"xaxis\":\"x\",\"y\":[0.04916190356016159,0.022588727733818814,0.04916190356016159],\"yaxis\":\"y\",\"type\":\"scatter\"},{\"hovertemplate\":\"variable=34<br>index=%{x}<br>value=%{y}<extra></extra>\",\"legendgroup\":\"34\",\"line\":{\"color\":\"#FFA15A\",\"dash\":\"solid\"},\"marker\":{\"symbol\":\"circle\"},\"mode\":\"lines\",\"name\":\"34\",\"orientation\":\"v\",\"showlegend\":true,\"x\":[\"x_counter_RSF\",\"x_counter_kNN\",\"x_test\"],\"xaxis\":\"x\",\"y\":[0.03285343572497368,0.030906985575995805,0.03285343572497368],\"yaxis\":\"y\",\"type\":\"scatter\"},{\"hovertemplate\":\"variable=35<br>index=%{x}<br>value=%{y}<extra></extra>\",\"legendgroup\":\"35\",\"line\":{\"color\":\"#19d3f3\",\"dash\":\"solid\"},\"marker\":{\"symbol\":\"circle\"},\"mode\":\"lines\",\"name\":\"35\",\"orientation\":\"v\",\"showlegend\":true,\"x\":[\"x_counter_RSF\",\"x_counter_kNN\",\"x_test\"],\"xaxis\":\"x\",\"y\":[0.04732823744416237,0.07119532767683269,0.04732823744416237],\"yaxis\":\"y\",\"type\":\"scatter\"},{\"hovertemplate\":\"variable=36<br>index=%{x}<br>value=%{y}<extra></extra>\",\"legendgroup\":\"36\",\"line\":{\"color\":\"#FF6692\",\"dash\":\"solid\"},\"marker\":{\"symbol\":\"circle\"},\"mode\":\"lines\",\"name\":\"36\",\"orientation\":\"v\",\"showlegend\":true,\"x\":[\"x_counter_RSF\",\"x_counter_kNN\",\"x_test\"],\"xaxis\":\"x\",\"y\":[0.040260735899209976,0.10715758558944796,0.040260735899209976],\"yaxis\":\"y\",\"type\":\"scatter\"},{\"hovertemplate\":\"variable=37<br>index=%{x}<br>value=%{y}<extra></extra>\",\"legendgroup\":\"37\",\"line\":{\"color\":\"#B6E880\",\"dash\":\"solid\"},\"marker\":{\"symbol\":\"circle\"},\"mode\":\"lines\",\"name\":\"37\",\"orientation\":\"v\",\"showlegend\":true,\"x\":[\"x_counter_RSF\",\"x_counter_kNN\",\"x_test\"],\"xaxis\":\"x\",\"y\":[0.022541120648384094,0.1367001879552845,0.022541120648384094],\"yaxis\":\"y\",\"type\":\"scatter\"},{\"hovertemplate\":\"variable=38<br>index=%{x}<br>value=%{y}<extra></extra>\",\"legendgroup\":\"38\",\"line\":{\"color\":\"#FF97FF\",\"dash\":\"solid\"},\"marker\":{\"symbol\":\"circle\"},\"mode\":\"lines\",\"name\":\"38\",\"orientation\":\"v\",\"showlegend\":true,\"x\":[\"x_counter_RSF\",\"x_counter_kNN\",\"x_test\"],\"xaxis\":\"x\",\"y\":[0.0024417780805379152,0.18780536568374373,0.0024417780805379152],\"yaxis\":\"y\",\"type\":\"scatter\"},{\"hovertemplate\":\"variable=39<br>index=%{x}<br>value=%{y}<extra></extra>\",\"legendgroup\":\"39\",\"line\":{\"color\":\"#FECB52\",\"dash\":\"solid\"},\"marker\":{\"symbol\":\"circle\"},\"mode\":\"lines\",\"name\":\"39\",\"orientation\":\"v\",\"showlegend\":true,\"x\":[\"x_counter_RSF\",\"x_counter_kNN\",\"x_test\"],\"xaxis\":\"x\",\"y\":[0.01731340028345585,0.29586868174374104,0.01731340028345585],\"yaxis\":\"y\",\"type\":\"scatter\"},{\"hovertemplate\":\"variable=40<br>index=%{x}<br>value=%{y}<extra></extra>\",\"legendgroup\":\"40\",\"line\":{\"color\":\"#636efa\",\"dash\":\"solid\"},\"marker\":{\"symbol\":\"circle\"},\"mode\":\"lines\",\"name\":\"40\",\"orientation\":\"v\",\"showlegend\":true,\"x\":[\"x_counter_RSF\",\"x_counter_kNN\",\"x_test\"],\"xaxis\":\"x\",\"y\":[0.10199999809265137,0.4279100396670401,0.10199999809265137],\"yaxis\":\"y\",\"type\":\"scatter\"},{\"hovertemplate\":\"variable=41<br>index=%{x}<br>value=%{y}<extra></extra>\",\"legendgroup\":\"41\",\"line\":{\"color\":\"#EF553B\",\"dash\":\"solid\"},\"marker\":{\"symbol\":\"circle\"},\"mode\":\"lines\",\"name\":\"41\",\"orientation\":\"v\",\"showlegend\":true,\"x\":[\"x_counter_RSF\",\"x_counter_kNN\",\"x_test\"],\"xaxis\":\"x\",\"y\":[0.37299999594688416,0.5731433265609667,0.37299999594688416],\"yaxis\":\"y\",\"type\":\"scatter\"},{\"hovertemplate\":\"variable=42<br>index=%{x}<br>value=%{y}<extra></extra>\",\"legendgroup\":\"42\",\"line\":{\"color\":\"#00cc96\",\"dash\":\"solid\"},\"marker\":{\"symbol\":\"circle\"},\"mode\":\"lines\",\"name\":\"42\",\"orientation\":\"v\",\"showlegend\":true,\"x\":[\"x_counter_RSF\",\"x_counter_kNN\",\"x_test\"],\"xaxis\":\"x\",\"y\":[0.6420000195503235,0.7111249873414636,0.6420000195503235],\"yaxis\":\"y\",\"type\":\"scatter\"},{\"hovertemplate\":\"variable=43<br>index=%{x}<br>value=%{y}<extra></extra>\",\"legendgroup\":\"43\",\"line\":{\"color\":\"#ab63fa\",\"dash\":\"solid\"},\"marker\":{\"symbol\":\"circle\"},\"mode\":\"lines\",\"name\":\"43\",\"orientation\":\"v\",\"showlegend\":true,\"x\":[\"x_counter_RSF\",\"x_counter_kNN\",\"x_test\"],\"xaxis\":\"x\",\"y\":[0.7889999747276306,0.8303750045597553,0.7889999747276306],\"yaxis\":\"y\",\"type\":\"scatter\"},{\"hovertemplate\":\"variable=44<br>index=%{x}<br>value=%{y}<extra></extra>\",\"legendgroup\":\"44\",\"line\":{\"color\":\"#FFA15A\",\"dash\":\"solid\"},\"marker\":{\"symbol\":\"circle\"},\"mode\":\"lines\",\"name\":\"44\",\"orientation\":\"v\",\"showlegend\":true,\"x\":[\"x_counter_RSF\",\"x_counter_kNN\",\"x_test\"],\"xaxis\":\"x\",\"y\":[0.8579999804496765,0.9078750014305115,0.8579999804496765],\"yaxis\":\"y\",\"type\":\"scatter\"},{\"hovertemplate\":\"variable=45<br>index=%{x}<br>value=%{y}<extra></extra>\",\"legendgroup\":\"45\",\"line\":{\"color\":\"#19d3f3\",\"dash\":\"solid\"},\"marker\":{\"symbol\":\"circle\"},\"mode\":\"lines\",\"name\":\"45\",\"orientation\":\"v\",\"showlegend\":true,\"x\":[\"x_counter_RSF\",\"x_counter_kNN\",\"x_test\"],\"xaxis\":\"x\",\"y\":[0.8899999856948853,0.9450000002980232,0.8899999856948853],\"yaxis\":\"y\",\"type\":\"scatter\"},{\"hovertemplate\":\"variable=46<br>index=%{x}<br>value=%{y}<extra></extra>\",\"legendgroup\":\"46\",\"line\":{\"color\":\"#FF6692\",\"dash\":\"solid\"},\"marker\":{\"symbol\":\"circle\"},\"mode\":\"lines\",\"name\":\"46\",\"orientation\":\"v\",\"showlegend\":true,\"x\":[\"x_counter_RSF\",\"x_counter_kNN\",\"x_test\"],\"xaxis\":\"x\",\"y\":[0.902999997138977,0.960499994456768,0.902999997138977],\"yaxis\":\"y\",\"type\":\"scatter\"},{\"hovertemplate\":\"variable=47<br>index=%{x}<br>value=%{y}<extra></extra>\",\"legendgroup\":\"47\",\"line\":{\"color\":\"#B6E880\",\"dash\":\"solid\"},\"marker\":{\"symbol\":\"circle\"},\"mode\":\"lines\",\"name\":\"47\",\"orientation\":\"v\",\"showlegend\":true,\"x\":[\"x_counter_RSF\",\"x_counter_kNN\",\"x_test\"],\"xaxis\":\"x\",\"y\":[0.9049999713897705,0.9668750092387199,0.9049999713897705],\"yaxis\":\"y\",\"type\":\"scatter\"},{\"hovertemplate\":\"variable=48<br>index=%{x}<br>value=%{y}<extra></extra>\",\"legendgroup\":\"48\",\"line\":{\"color\":\"#FF97FF\",\"dash\":\"solid\"},\"marker\":{\"symbol\":\"circle\"},\"mode\":\"lines\",\"name\":\"48\",\"orientation\":\"v\",\"showlegend\":true,\"x\":[\"x_counter_RSF\",\"x_counter_kNN\",\"x_test\"],\"xaxis\":\"x\",\"y\":[0.9070000052452087,0.9702499955892564,0.9070000052452087],\"yaxis\":\"y\",\"type\":\"scatter\"},{\"hovertemplate\":\"variable=49<br>index=%{x}<br>value=%{y}<extra></extra>\",\"legendgroup\":\"49\",\"line\":{\"color\":\"#FECB52\",\"dash\":\"solid\"},\"marker\":{\"symbol\":\"circle\"},\"mode\":\"lines\",\"name\":\"49\",\"orientation\":\"v\",\"showlegend\":true,\"x\":[\"x_counter_RSF\",\"x_counter_kNN\",\"x_test\"],\"xaxis\":\"x\",\"y\":[0.9120000004768372,0.9721250087022781,0.9120000004768372],\"yaxis\":\"y\",\"type\":\"scatter\"},{\"hovertemplate\":\"variable=50<br>index=%{x}<br>value=%{y}<extra></extra>\",\"legendgroup\":\"50\",\"line\":{\"color\":\"#636efa\",\"dash\":\"solid\"},\"marker\":{\"symbol\":\"circle\"},\"mode\":\"lines\",\"name\":\"50\",\"orientation\":\"v\",\"showlegend\":true,\"x\":[\"x_counter_RSF\",\"x_counter_kNN\",\"x_test\"],\"xaxis\":\"x\",\"y\":[0.9210000038146973,0.9723749980330467,0.9210000038146973],\"yaxis\":\"y\",\"type\":\"scatter\"},{\"hovertemplate\":\"variable=51<br>index=%{x}<br>value=%{y}<extra></extra>\",\"legendgroup\":\"51\",\"line\":{\"color\":\"#EF553B\",\"dash\":\"solid\"},\"marker\":{\"symbol\":\"circle\"},\"mode\":\"lines\",\"name\":\"51\",\"orientation\":\"v\",\"showlegend\":true,\"x\":[\"x_counter_RSF\",\"x_counter_kNN\",\"x_test\"],\"xaxis\":\"x\",\"y\":[0.9259999990463257,0.9722499996423721,0.9259999990463257],\"yaxis\":\"y\",\"type\":\"scatter\"},{\"hovertemplate\":\"variable=52<br>index=%{x}<br>value=%{y}<extra></extra>\",\"legendgroup\":\"52\",\"line\":{\"color\":\"#00cc96\",\"dash\":\"solid\"},\"marker\":{\"symbol\":\"circle\"},\"mode\":\"lines\",\"name\":\"52\",\"orientation\":\"v\",\"showlegend\":true,\"x\":[\"x_counter_RSF\",\"x_counter_kNN\",\"x_test\"],\"xaxis\":\"x\",\"y\":[0.9240000247955322,0.9729999899864196,0.9240000247955322],\"yaxis\":\"y\",\"type\":\"scatter\"},{\"hovertemplate\":\"variable=53<br>index=%{x}<br>value=%{y}<extra></extra>\",\"legendgroup\":\"53\",\"line\":{\"color\":\"#ab63fa\",\"dash\":\"solid\"},\"marker\":{\"symbol\":\"circle\"},\"mode\":\"lines\",\"name\":\"53\",\"orientation\":\"v\",\"showlegend\":true,\"x\":[\"x_counter_RSF\",\"x_counter_kNN\",\"x_test\"],\"xaxis\":\"x\",\"y\":[0.9229999780654907,0.9731250181794167,0.9229999780654907],\"yaxis\":\"y\",\"type\":\"scatter\"},{\"hovertemplate\":\"variable=54<br>index=%{x}<br>value=%{y}<extra></extra>\",\"legendgroup\":\"54\",\"line\":{\"color\":\"#FFA15A\",\"dash\":\"solid\"},\"marker\":{\"symbol\":\"circle\"},\"mode\":\"lines\",\"name\":\"54\",\"orientation\":\"v\",\"showlegend\":true,\"x\":[\"x_counter_RSF\",\"x_counter_kNN\",\"x_test\"],\"xaxis\":\"x\",\"y\":[0.925000011920929,0.9728749915957451,0.925000011920929],\"yaxis\":\"y\",\"type\":\"scatter\"},{\"hovertemplate\":\"variable=55<br>index=%{x}<br>value=%{y}<extra></extra>\",\"legendgroup\":\"55\",\"line\":{\"color\":\"#19d3f3\",\"dash\":\"solid\"},\"marker\":{\"symbol\":\"circle\"},\"mode\":\"lines\",\"name\":\"55\",\"orientation\":\"v\",\"showlegend\":true,\"x\":[\"x_counter_RSF\",\"x_counter_kNN\",\"x_test\"],\"xaxis\":\"x\",\"y\":[0.925000011920929,0.9733750075101852,0.925000011920929],\"yaxis\":\"y\",\"type\":\"scatter\"},{\"hovertemplate\":\"variable=56<br>index=%{x}<br>value=%{y}<extra></extra>\",\"legendgroup\":\"56\",\"line\":{\"color\":\"#FF6692\",\"dash\":\"solid\"},\"marker\":{\"symbol\":\"circle\"},\"mode\":\"lines\",\"name\":\"56\",\"orientation\":\"v\",\"showlegend\":true,\"x\":[\"x_counter_RSF\",\"x_counter_kNN\",\"x_test\"],\"xaxis\":\"x\",\"y\":[0.921999990940094,0.9741250127553941,0.921999990940094],\"yaxis\":\"y\",\"type\":\"scatter\"},{\"hovertemplate\":\"variable=57<br>index=%{x}<br>value=%{y}<extra></extra>\",\"legendgroup\":\"57\",\"line\":{\"color\":\"#B6E880\",\"dash\":\"solid\"},\"marker\":{\"symbol\":\"circle\"},\"mode\":\"lines\",\"name\":\"57\",\"orientation\":\"v\",\"showlegend\":true,\"x\":[\"x_counter_RSF\",\"x_counter_kNN\",\"x_test\"],\"xaxis\":\"x\",\"y\":[0.9160000085830688,0.974374994635582,0.9160000085830688],\"yaxis\":\"y\",\"type\":\"scatter\"},{\"hovertemplate\":\"variable=58<br>index=%{x}<br>value=%{y}<extra></extra>\",\"legendgroup\":\"58\",\"line\":{\"color\":\"#FF97FF\",\"dash\":\"solid\"},\"marker\":{\"symbol\":\"circle\"},\"mode\":\"lines\",\"name\":\"58\",\"orientation\":\"v\",\"showlegend\":true,\"x\":[\"x_counter_RSF\",\"x_counter_kNN\",\"x_test\"],\"xaxis\":\"x\",\"y\":[0.9100000262260437,0.9738750085234642,0.9100000262260437],\"yaxis\":\"y\",\"type\":\"scatter\"},{\"hovertemplate\":\"variable=59<br>index=%{x}<br>value=%{y}<extra></extra>\",\"legendgroup\":\"59\",\"line\":{\"color\":\"#FECB52\",\"dash\":\"solid\"},\"marker\":{\"symbol\":\"circle\"},\"mode\":\"lines\",\"name\":\"59\",\"orientation\":\"v\",\"showlegend\":true,\"x\":[\"x_counter_RSF\",\"x_counter_kNN\",\"x_test\"],\"xaxis\":\"x\",\"y\":[0.9079999923706055,0.9731250107288361,0.9079999923706055],\"yaxis\":\"y\",\"type\":\"scatter\"},{\"hovertemplate\":\"variable=60<br>index=%{x}<br>value=%{y}<extra></extra>\",\"legendgroup\":\"60\",\"line\":{\"color\":\"#636efa\",\"dash\":\"solid\"},\"marker\":{\"symbol\":\"circle\"},\"mode\":\"lines\",\"name\":\"60\",\"orientation\":\"v\",\"showlegend\":true,\"x\":[\"x_counter_RSF\",\"x_counter_kNN\",\"x_test\"],\"xaxis\":\"x\",\"y\":[0.9110000133514404,0.9715000092983245,0.9110000133514404],\"yaxis\":\"y\",\"type\":\"scatter\"},{\"hovertemplate\":\"variable=61<br>index=%{x}<br>value=%{y}<extra></extra>\",\"legendgroup\":\"61\",\"line\":{\"color\":\"#EF553B\",\"dash\":\"solid\"},\"marker\":{\"symbol\":\"circle\"},\"mode\":\"lines\",\"name\":\"61\",\"orientation\":\"v\",\"showlegend\":true,\"x\":[\"x_counter_RSF\",\"x_counter_kNN\",\"x_test\"],\"xaxis\":\"x\",\"y\":[0.9160000085830688,0.97087499499321,0.9160000085830688],\"yaxis\":\"y\",\"type\":\"scatter\"},{\"hovertemplate\":\"variable=62<br>index=%{x}<br>value=%{y}<extra></extra>\",\"legendgroup\":\"62\",\"line\":{\"color\":\"#00cc96\",\"dash\":\"solid\"},\"marker\":{\"symbol\":\"circle\"},\"mode\":\"lines\",\"name\":\"62\",\"orientation\":\"v\",\"showlegend\":true,\"x\":[\"x_counter_RSF\",\"x_counter_kNN\",\"x_test\"],\"xaxis\":\"x\",\"y\":[0.9190000295639038,0.9717499986290932,0.9190000295639038],\"yaxis\":\"y\",\"type\":\"scatter\"},{\"hovertemplate\":\"variable=63<br>index=%{x}<br>value=%{y}<extra></extra>\",\"legendgroup\":\"63\",\"line\":{\"color\":\"#ab63fa\",\"dash\":\"solid\"},\"marker\":{\"symbol\":\"circle\"},\"mode\":\"lines\",\"name\":\"63\",\"orientation\":\"v\",\"showlegend\":true,\"x\":[\"x_counter_RSF\",\"x_counter_kNN\",\"x_test\"],\"xaxis\":\"x\",\"y\":[0.9210000038146973,0.9732499867677689,0.9210000038146973],\"yaxis\":\"y\",\"type\":\"scatter\"},{\"hovertemplate\":\"variable=64<br>index=%{x}<br>value=%{y}<extra></extra>\",\"legendgroup\":\"64\",\"line\":{\"color\":\"#FFA15A\",\"dash\":\"solid\"},\"marker\":{\"symbol\":\"circle\"},\"mode\":\"lines\",\"name\":\"64\",\"orientation\":\"v\",\"showlegend\":true,\"x\":[\"x_counter_RSF\",\"x_counter_kNN\",\"x_test\"],\"xaxis\":\"x\",\"y\":[0.921999990940094,0.9747500047087668,0.921999990940094],\"yaxis\":\"y\",\"type\":\"scatter\"},{\"hovertemplate\":\"variable=65<br>index=%{x}<br>value=%{y}<extra></extra>\",\"legendgroup\":\"65\",\"line\":{\"color\":\"#19d3f3\",\"dash\":\"solid\"},\"marker\":{\"symbol\":\"circle\"},\"mode\":\"lines\",\"name\":\"65\",\"orientation\":\"v\",\"showlegend\":true,\"x\":[\"x_counter_RSF\",\"x_counter_kNN\",\"x_test\"],\"xaxis\":\"x\",\"y\":[0.9200000166893005,0.9756250008940697,0.9200000166893005],\"yaxis\":\"y\",\"type\":\"scatter\"},{\"hovertemplate\":\"variable=66<br>index=%{x}<br>value=%{y}<extra></extra>\",\"legendgroup\":\"66\",\"line\":{\"color\":\"#FF6692\",\"dash\":\"solid\"},\"marker\":{\"symbol\":\"circle\"},\"mode\":\"lines\",\"name\":\"66\",\"orientation\":\"v\",\"showlegend\":true,\"x\":[\"x_counter_RSF\",\"x_counter_kNN\",\"x_test\"],\"xaxis\":\"x\",\"y\":[0.9179999828338623,0.9736250042915344,0.9179999828338623],\"yaxis\":\"y\",\"type\":\"scatter\"},{\"hovertemplate\":\"variable=67<br>index=%{x}<br>value=%{y}<extra></extra>\",\"legendgroup\":\"67\",\"line\":{\"color\":\"#B6E880\",\"dash\":\"solid\"},\"marker\":{\"symbol\":\"circle\"},\"mode\":\"lines\",\"name\":\"67\",\"orientation\":\"v\",\"showlegend\":true,\"x\":[\"x_counter_RSF\",\"x_counter_kNN\",\"x_test\"],\"xaxis\":\"x\",\"y\":[0.9169999957084656,0.9718749821186066,0.9169999957084656],\"yaxis\":\"y\",\"type\":\"scatter\"},{\"hovertemplate\":\"variable=68<br>index=%{x}<br>value=%{y}<extra></extra>\",\"legendgroup\":\"68\",\"line\":{\"color\":\"#FF97FF\",\"dash\":\"solid\"},\"marker\":{\"symbol\":\"circle\"},\"mode\":\"lines\",\"name\":\"68\",\"orientation\":\"v\",\"showlegend\":true,\"x\":[\"x_counter_RSF\",\"x_counter_kNN\",\"x_test\"],\"xaxis\":\"x\",\"y\":[0.9169999957084656,0.9714999943971633,0.9169999957084656],\"yaxis\":\"y\",\"type\":\"scatter\"},{\"hovertemplate\":\"variable=69<br>index=%{x}<br>value=%{y}<extra></extra>\",\"legendgroup\":\"69\",\"line\":{\"color\":\"#FECB52\",\"dash\":\"solid\"},\"marker\":{\"symbol\":\"circle\"},\"mode\":\"lines\",\"name\":\"69\",\"orientation\":\"v\",\"showlegend\":true,\"x\":[\"x_counter_RSF\",\"x_counter_kNN\",\"x_test\"],\"xaxis\":\"x\",\"y\":[0.9150000214576721,0.9715000092983247,0.9150000214576721],\"yaxis\":\"y\",\"type\":\"scatter\"},{\"hovertemplate\":\"variable=70<br>index=%{x}<br>value=%{y}<extra></extra>\",\"legendgroup\":\"70\",\"line\":{\"color\":\"#636efa\",\"dash\":\"solid\"},\"marker\":{\"symbol\":\"circle\"},\"mode\":\"lines\",\"name\":\"70\",\"orientation\":\"v\",\"showlegend\":true,\"x\":[\"x_counter_RSF\",\"x_counter_kNN\",\"x_test\"],\"xaxis\":\"x\",\"y\":[0.9160000085830688,0.9722499847412109,0.9160000085830688],\"yaxis\":\"y\",\"type\":\"scatter\"},{\"hovertemplate\":\"variable=71<br>index=%{x}<br>value=%{y}<extra></extra>\",\"legendgroup\":\"71\",\"line\":{\"color\":\"#EF553B\",\"dash\":\"solid\"},\"marker\":{\"symbol\":\"circle\"},\"mode\":\"lines\",\"name\":\"71\",\"orientation\":\"v\",\"showlegend\":true,\"x\":[\"x_counter_RSF\",\"x_counter_kNN\",\"x_test\"],\"xaxis\":\"x\",\"y\":[0.9160000085830688,0.9721250012516975,0.9160000085830688],\"yaxis\":\"y\",\"type\":\"scatter\"},{\"hovertemplate\":\"variable=72<br>index=%{x}<br>value=%{y}<extra></extra>\",\"legendgroup\":\"72\",\"line\":{\"color\":\"#00cc96\",\"dash\":\"solid\"},\"marker\":{\"symbol\":\"circle\"},\"mode\":\"lines\",\"name\":\"72\",\"orientation\":\"v\",\"showlegend\":true,\"x\":[\"x_counter_RSF\",\"x_counter_kNN\",\"x_test\"],\"xaxis\":\"x\",\"y\":[0.9150000214576721,0.9714999943971634,0.9150000214576721],\"yaxis\":\"y\",\"type\":\"scatter\"},{\"hovertemplate\":\"variable=73<br>index=%{x}<br>value=%{y}<extra></extra>\",\"legendgroup\":\"73\",\"line\":{\"color\":\"#ab63fa\",\"dash\":\"solid\"},\"marker\":{\"symbol\":\"circle\"},\"mode\":\"lines\",\"name\":\"73\",\"orientation\":\"v\",\"showlegend\":true,\"x\":[\"x_counter_RSF\",\"x_counter_kNN\",\"x_test\"],\"xaxis\":\"x\",\"y\":[0.9139999747276306,0.9721249863505363,0.9139999747276306],\"yaxis\":\"y\",\"type\":\"scatter\"},{\"hovertemplate\":\"variable=74<br>index=%{x}<br>value=%{y}<extra></extra>\",\"legendgroup\":\"74\",\"line\":{\"color\":\"#FFA15A\",\"dash\":\"solid\"},\"marker\":{\"symbol\":\"circle\"},\"mode\":\"lines\",\"name\":\"74\",\"orientation\":\"v\",\"showlegend\":true,\"x\":[\"x_counter_RSF\",\"x_counter_kNN\",\"x_test\"],\"xaxis\":\"x\",\"y\":[0.9110000133514404,0.9732499867677689,0.9110000133514404],\"yaxis\":\"y\",\"type\":\"scatter\"},{\"hovertemplate\":\"variable=75<br>index=%{x}<br>value=%{y}<extra></extra>\",\"legendgroup\":\"75\",\"line\":{\"color\":\"#19d3f3\",\"dash\":\"solid\"},\"marker\":{\"symbol\":\"circle\"},\"mode\":\"lines\",\"name\":\"75\",\"orientation\":\"v\",\"showlegend\":true,\"x\":[\"x_counter_RSF\",\"x_counter_kNN\",\"x_test\"],\"xaxis\":\"x\",\"y\":[0.9079999923706055,0.97325000166893,0.9079999923706055],\"yaxis\":\"y\",\"type\":\"scatter\"},{\"hovertemplate\":\"variable=76<br>index=%{x}<br>value=%{y}<extra></extra>\",\"legendgroup\":\"76\",\"line\":{\"color\":\"#FF6692\",\"dash\":\"solid\"},\"marker\":{\"symbol\":\"circle\"},\"mode\":\"lines\",\"name\":\"76\",\"orientation\":\"v\",\"showlegend\":true,\"x\":[\"x_counter_RSF\",\"x_counter_kNN\",\"x_test\"],\"xaxis\":\"x\",\"y\":[0.9070000052452087,0.9721250087022781,0.9070000052452087],\"yaxis\":\"y\",\"type\":\"scatter\"},{\"hovertemplate\":\"variable=77<br>index=%{x}<br>value=%{y}<extra></extra>\",\"legendgroup\":\"77\",\"line\":{\"color\":\"#B6E880\",\"dash\":\"solid\"},\"marker\":{\"symbol\":\"circle\"},\"mode\":\"lines\",\"name\":\"77\",\"orientation\":\"v\",\"showlegend\":true,\"x\":[\"x_counter_RSF\",\"x_counter_kNN\",\"x_test\"],\"xaxis\":\"x\",\"y\":[0.9100000262260437,0.9710000082850455,0.9100000262260437],\"yaxis\":\"y\",\"type\":\"scatter\"},{\"hovertemplate\":\"variable=78<br>index=%{x}<br>value=%{y}<extra></extra>\",\"legendgroup\":\"78\",\"line\":{\"color\":\"#FF97FF\",\"dash\":\"solid\"},\"marker\":{\"symbol\":\"circle\"},\"mode\":\"lines\",\"name\":\"78\",\"orientation\":\"v\",\"showlegend\":true,\"x\":[\"x_counter_RSF\",\"x_counter_kNN\",\"x_test\"],\"xaxis\":\"x\",\"y\":[0.9139999747276306,0.9704999923706055,0.9139999747276306],\"yaxis\":\"y\",\"type\":\"scatter\"},{\"hovertemplate\":\"variable=79<br>index=%{x}<br>value=%{y}<extra></extra>\",\"legendgroup\":\"79\",\"line\":{\"color\":\"#FECB52\",\"dash\":\"solid\"},\"marker\":{\"symbol\":\"circle\"},\"mode\":\"lines\",\"name\":\"79\",\"orientation\":\"v\",\"showlegend\":true,\"x\":[\"x_counter_RSF\",\"x_counter_kNN\",\"x_test\"],\"xaxis\":\"x\",\"y\":[0.9150000214576721,0.9713750034570694,0.9150000214576721],\"yaxis\":\"y\",\"type\":\"scatter\"},{\"hovertemplate\":\"variable=80<br>index=%{x}<br>value=%{y}<extra></extra>\",\"legendgroup\":\"80\",\"line\":{\"color\":\"#636efa\",\"dash\":\"solid\"},\"marker\":{\"symbol\":\"circle\"},\"mode\":\"lines\",\"name\":\"80\",\"orientation\":\"v\",\"showlegend\":true,\"x\":[\"x_counter_RSF\",\"x_counter_kNN\",\"x_test\"],\"xaxis\":\"x\",\"y\":[0.9139999747276306,0.9723750054836274,0.9139999747276306],\"yaxis\":\"y\",\"type\":\"scatter\"},{\"hovertemplate\":\"variable=81<br>index=%{x}<br>value=%{y}<extra></extra>\",\"legendgroup\":\"81\",\"line\":{\"color\":\"#EF553B\",\"dash\":\"solid\"},\"marker\":{\"symbol\":\"circle\"},\"mode\":\"lines\",\"name\":\"81\",\"orientation\":\"v\",\"showlegend\":true,\"x\":[\"x_counter_RSF\",\"x_counter_kNN\",\"x_test\"],\"xaxis\":\"x\",\"y\":[0.9139999747276306,0.9724999964237213,0.9139999747276306],\"yaxis\":\"y\",\"type\":\"scatter\"},{\"hovertemplate\":\"variable=82<br>index=%{x}<br>value=%{y}<extra></extra>\",\"legendgroup\":\"82\",\"line\":{\"color\":\"#00cc96\",\"dash\":\"solid\"},\"marker\":{\"symbol\":\"circle\"},\"mode\":\"lines\",\"name\":\"82\",\"orientation\":\"v\",\"showlegend\":true,\"x\":[\"x_counter_RSF\",\"x_counter_kNN\",\"x_test\"],\"xaxis\":\"x\",\"y\":[0.9110000133514404,0.9723749905824661,0.9110000133514404],\"yaxis\":\"y\",\"type\":\"scatter\"},{\"hovertemplate\":\"variable=83<br>index=%{x}<br>value=%{y}<extra></extra>\",\"legendgroup\":\"83\",\"line\":{\"color\":\"#ab63fa\",\"dash\":\"solid\"},\"marker\":{\"symbol\":\"circle\"},\"mode\":\"lines\",\"name\":\"83\",\"orientation\":\"v\",\"showlegend\":true,\"x\":[\"x_counter_RSF\",\"x_counter_kNN\",\"x_test\"],\"xaxis\":\"x\",\"y\":[0.9079999923706055,0.971124991774559,0.9079999923706055],\"yaxis\":\"y\",\"type\":\"scatter\"},{\"hovertemplate\":\"variable=84<br>index=%{x}<br>value=%{y}<extra></extra>\",\"legendgroup\":\"84\",\"line\":{\"color\":\"#FFA15A\",\"dash\":\"solid\"},\"marker\":{\"symbol\":\"circle\"},\"mode\":\"lines\",\"name\":\"84\",\"orientation\":\"v\",\"showlegend\":true,\"x\":[\"x_counter_RSF\",\"x_counter_kNN\",\"x_test\"],\"xaxis\":\"x\",\"y\":[0.9089999794960022,0.9712500050663948,0.9089999794960022],\"yaxis\":\"y\",\"type\":\"scatter\"},{\"hovertemplate\":\"variable=85<br>index=%{x}<br>value=%{y}<extra></extra>\",\"legendgroup\":\"85\",\"line\":{\"color\":\"#19d3f3\",\"dash\":\"solid\"},\"marker\":{\"symbol\":\"circle\"},\"mode\":\"lines\",\"name\":\"85\",\"orientation\":\"v\",\"showlegend\":true,\"x\":[\"x_counter_RSF\",\"x_counter_kNN\",\"x_test\"],\"xaxis\":\"x\",\"y\":[0.9139999747276306,0.9723750054836273,0.9139999747276306],\"yaxis\":\"y\",\"type\":\"scatter\"},{\"hovertemplate\":\"variable=86<br>index=%{x}<br>value=%{y}<extra></extra>\",\"legendgroup\":\"86\",\"line\":{\"color\":\"#FF6692\",\"dash\":\"solid\"},\"marker\":{\"symbol\":\"circle\"},\"mode\":\"lines\",\"name\":\"86\",\"orientation\":\"v\",\"showlegend\":true,\"x\":[\"x_counter_RSF\",\"x_counter_kNN\",\"x_test\"],\"xaxis\":\"x\",\"y\":[0.9200000166893005,0.9455000162124634,0.9200000166893005],\"yaxis\":\"y\",\"type\":\"scatter\"},{\"hovertemplate\":\"variable=87<br>index=%{x}<br>value=%{y}<extra></extra>\",\"legendgroup\":\"87\",\"line\":{\"color\":\"#B6E880\",\"dash\":\"solid\"},\"marker\":{\"symbol\":\"circle\"},\"mode\":\"lines\",\"name\":\"87\",\"orientation\":\"v\",\"showlegend\":true,\"x\":[\"x_counter_RSF\",\"x_counter_kNN\",\"x_test\"],\"xaxis\":\"x\",\"y\":[0.9229999780654907,0.8568750098347663,0.9229999780654907],\"yaxis\":\"y\",\"type\":\"scatter\"},{\"hovertemplate\":\"variable=88<br>index=%{x}<br>value=%{y}<extra></extra>\",\"legendgroup\":\"88\",\"line\":{\"color\":\"#FF97FF\",\"dash\":\"solid\"},\"marker\":{\"symbol\":\"circle\"},\"mode\":\"lines\",\"name\":\"88\",\"orientation\":\"v\",\"showlegend\":true,\"x\":[\"x_counter_RSF\",\"x_counter_kNN\",\"x_test\"],\"xaxis\":\"x\",\"y\":[0.921999990940094,0.7201249934732914,0.921999990940094],\"yaxis\":\"y\",\"type\":\"scatter\"},{\"hovertemplate\":\"variable=89<br>index=%{x}<br>value=%{y}<extra></extra>\",\"legendgroup\":\"89\",\"line\":{\"color\":\"#FECB52\",\"dash\":\"solid\"},\"marker\":{\"symbol\":\"circle\"},\"mode\":\"lines\",\"name\":\"89\",\"orientation\":\"v\",\"showlegend\":true,\"x\":[\"x_counter_RSF\",\"x_counter_kNN\",\"x_test\"],\"xaxis\":\"x\",\"y\":[0.9190000295639038,0.5593750067055225,0.9190000295639038],\"yaxis\":\"y\",\"type\":\"scatter\"},{\"hovertemplate\":\"variable=90<br>index=%{x}<br>value=%{y}<extra></extra>\",\"legendgroup\":\"90\",\"line\":{\"color\":\"#636efa\",\"dash\":\"solid\"},\"marker\":{\"symbol\":\"circle\"},\"mode\":\"lines\",\"name\":\"90\",\"orientation\":\"v\",\"showlegend\":true,\"x\":[\"x_counter_RSF\",\"x_counter_kNN\",\"x_test\"],\"xaxis\":\"x\",\"y\":[0.9139999747276306,0.41462499974295497,0.9139999747276306],\"yaxis\":\"y\",\"type\":\"scatter\"},{\"hovertemplate\":\"variable=91<br>index=%{x}<br>value=%{y}<extra></extra>\",\"legendgroup\":\"91\",\"line\":{\"color\":\"#EF553B\",\"dash\":\"solid\"},\"marker\":{\"symbol\":\"circle\"},\"mode\":\"lines\",\"name\":\"91\",\"orientation\":\"v\",\"showlegend\":true,\"x\":[\"x_counter_RSF\",\"x_counter_kNN\",\"x_test\"],\"xaxis\":\"x\",\"y\":[0.9129999876022339,0.3185145938768983,0.9129999876022339],\"yaxis\":\"y\",\"type\":\"scatter\"},{\"hovertemplate\":\"variable=92<br>index=%{x}<br>value=%{y}<extra></extra>\",\"legendgroup\":\"92\",\"line\":{\"color\":\"#00cc96\",\"dash\":\"solid\"},\"marker\":{\"symbol\":\"circle\"},\"mode\":\"lines\",\"name\":\"92\",\"orientation\":\"v\",\"showlegend\":true,\"x\":[\"x_counter_RSF\",\"x_counter_kNN\",\"x_test\"],\"xaxis\":\"x\",\"y\":[0.9150000214576721,0.22737889835843816,0.9150000214576721],\"yaxis\":\"y\",\"type\":\"scatter\"},{\"hovertemplate\":\"variable=93<br>index=%{x}<br>value=%{y}<extra></extra>\",\"legendgroup\":\"93\",\"line\":{\"color\":\"#ab63fa\",\"dash\":\"solid\"},\"marker\":{\"symbol\":\"circle\"},\"mode\":\"lines\",\"name\":\"93\",\"orientation\":\"v\",\"showlegend\":true,\"x\":[\"x_counter_RSF\",\"x_counter_kNN\",\"x_test\"],\"xaxis\":\"x\",\"y\":[0.9179999828338623,0.14805751712992787,0.9179999828338623],\"yaxis\":\"y\",\"type\":\"scatter\"},{\"hovertemplate\":\"variable=94<br>index=%{x}<br>value=%{y}<extra></extra>\",\"legendgroup\":\"94\",\"line\":{\"color\":\"#FFA15A\",\"dash\":\"solid\"},\"marker\":{\"symbol\":\"circle\"},\"mode\":\"lines\",\"name\":\"94\",\"orientation\":\"v\",\"showlegend\":true,\"x\":[\"x_counter_RSF\",\"x_counter_kNN\",\"x_test\"],\"xaxis\":\"x\",\"y\":[0.9179999828338623,0.07965210732072595,0.9179999828338623],\"yaxis\":\"y\",\"type\":\"scatter\"},{\"hovertemplate\":\"variable=95<br>index=%{x}<br>value=%{y}<extra></extra>\",\"legendgroup\":\"95\",\"line\":{\"color\":\"#19d3f3\",\"dash\":\"solid\"},\"marker\":{\"symbol\":\"circle\"},\"mode\":\"lines\",\"name\":\"95\",\"orientation\":\"v\",\"showlegend\":true,\"x\":[\"x_counter_RSF\",\"x_counter_kNN\",\"x_test\"],\"xaxis\":\"x\",\"y\":[0.9150000214576721,0.03695315725781257,0.9150000214576721],\"yaxis\":\"y\",\"type\":\"scatter\"},{\"hovertemplate\":\"variable=96<br>index=%{x}<br>value=%{y}<extra></extra>\",\"legendgroup\":\"96\",\"line\":{\"color\":\"#FF6692\",\"dash\":\"solid\"},\"marker\":{\"symbol\":\"circle\"},\"mode\":\"lines\",\"name\":\"96\",\"orientation\":\"v\",\"showlegend\":true,\"x\":[\"x_counter_RSF\",\"x_counter_kNN\",\"x_test\"],\"xaxis\":\"x\",\"y\":[0.9110000133514404,0.033544355270350934,0.9110000133514404],\"yaxis\":\"y\",\"type\":\"scatter\"},{\"hovertemplate\":\"variable=97<br>index=%{x}<br>value=%{y}<extra></extra>\",\"legendgroup\":\"97\",\"line\":{\"color\":\"#B6E880\",\"dash\":\"solid\"},\"marker\":{\"symbol\":\"circle\"},\"mode\":\"lines\",\"name\":\"97\",\"orientation\":\"v\",\"showlegend\":true,\"x\":[\"x_counter_RSF\",\"x_counter_kNN\",\"x_test\"],\"xaxis\":\"x\",\"y\":[0.8090000152587891,0.029668800154468045,0.8090000152587891],\"yaxis\":\"y\",\"type\":\"scatter\"},{\"hovertemplate\":\"variable=98<br>index=%{x}<br>value=%{y}<extra></extra>\",\"legendgroup\":\"98\",\"line\":{\"color\":\"#FF97FF\",\"dash\":\"solid\"},\"marker\":{\"symbol\":\"circle\"},\"mode\":\"lines\",\"name\":\"98\",\"orientation\":\"v\",\"showlegend\":true,\"x\":[\"x_counter_RSF\",\"x_counter_kNN\",\"x_test\"],\"xaxis\":\"x\",\"y\":[0.5410000085830688,0.027743271872168403,0.5410000085830688],\"yaxis\":\"y\",\"type\":\"scatter\"},{\"hovertemplate\":\"variable=99<br>index=%{x}<br>value=%{y}<extra></extra>\",\"legendgroup\":\"99\",\"line\":{\"color\":\"#FECB52\",\"dash\":\"solid\"},\"marker\":{\"symbol\":\"circle\"},\"mode\":\"lines\",\"name\":\"99\",\"orientation\":\"v\",\"showlegend\":true,\"x\":[\"x_counter_RSF\",\"x_counter_kNN\",\"x_test\"],\"xaxis\":\"x\",\"y\":[0.27399998903274536,0.026413318191771396,0.27399998903274536],\"yaxis\":\"y\",\"type\":\"scatter\"},{\"hovertemplate\":\"variable=100<br>index=%{x}<br>value=%{y}<extra></extra>\",\"legendgroup\":\"100\",\"line\":{\"color\":\"#636efa\",\"dash\":\"solid\"},\"marker\":{\"symbol\":\"circle\"},\"mode\":\"lines\",\"name\":\"100\",\"orientation\":\"v\",\"showlegend\":true,\"x\":[\"x_counter_RSF\",\"x_counter_kNN\",\"x_test\"],\"xaxis\":\"x\",\"y\":[0.12700000405311584,0.030551186762750152,0.12700000405311584],\"yaxis\":\"y\",\"type\":\"scatter\"},{\"hovertemplate\":\"variable=101<br>index=%{x}<br>value=%{y}<extra></extra>\",\"legendgroup\":\"101\",\"line\":{\"color\":\"#EF553B\",\"dash\":\"solid\"},\"marker\":{\"symbol\":\"circle\"},\"mode\":\"lines\",\"name\":\"101\",\"orientation\":\"v\",\"showlegend\":true,\"x\":[\"x_counter_RSF\",\"x_counter_kNN\",\"x_test\"],\"xaxis\":\"x\",\"y\":[0.054999999701976776,0.01937039526819717,0.054999999701976776],\"yaxis\":\"y\",\"type\":\"scatter\"},{\"hovertemplate\":\"variable=102<br>index=%{x}<br>value=%{y}<extra></extra>\",\"legendgroup\":\"102\",\"line\":{\"color\":\"#00cc96\",\"dash\":\"solid\"},\"marker\":{\"symbol\":\"circle\"},\"mode\":\"lines\",\"name\":\"102\",\"orientation\":\"v\",\"showlegend\":true,\"x\":[\"x_counter_RSF\",\"x_counter_kNN\",\"x_test\"],\"xaxis\":\"x\",\"y\":[0.05889460816979408,0.03353935087216087,0.05889460816979408],\"yaxis\":\"y\",\"type\":\"scatter\"},{\"hovertemplate\":\"variable=103<br>index=%{x}<br>value=%{y}<extra></extra>\",\"legendgroup\":\"103\",\"line\":{\"color\":\"#ab63fa\",\"dash\":\"solid\"},\"marker\":{\"symbol\":\"circle\"},\"mode\":\"lines\",\"name\":\"103\",\"orientation\":\"v\",\"showlegend\":true,\"x\":[\"x_counter_RSF\",\"x_counter_kNN\",\"x_test\"],\"xaxis\":\"x\",\"y\":[0.03138934075832367,0.029620346380397677,0.03138934075832367],\"yaxis\":\"y\",\"type\":\"scatter\"},{\"hovertemplate\":\"variable=104<br>index=%{x}<br>value=%{y}<extra></extra>\",\"legendgroup\":\"104\",\"line\":{\"color\":\"#FFA15A\",\"dash\":\"solid\"},\"marker\":{\"symbol\":\"circle\"},\"mode\":\"lines\",\"name\":\"104\",\"orientation\":\"v\",\"showlegend\":true,\"x\":[\"x_counter_RSF\",\"x_counter_kNN\",\"x_test\"],\"xaxis\":\"x\",\"y\":[0.009824372828006744,0.016533752022951372,0.009824372828006744],\"yaxis\":\"y\",\"type\":\"scatter\"},{\"hovertemplate\":\"variable=105<br>index=%{x}<br>value=%{y}<extra></extra>\",\"legendgroup\":\"105\",\"line\":{\"color\":\"#19d3f3\",\"dash\":\"solid\"},\"marker\":{\"symbol\":\"circle\"},\"mode\":\"lines\",\"name\":\"105\",\"orientation\":\"v\",\"showlegend\":true,\"x\":[\"x_counter_RSF\",\"x_counter_kNN\",\"x_test\"],\"xaxis\":\"x\",\"y\":[0.03464415669441223,0.020853015288594175,0.03464415669441223],\"yaxis\":\"y\",\"type\":\"scatter\"},{\"hovertemplate\":\"variable=106<br>index=%{x}<br>value=%{y}<extra></extra>\",\"legendgroup\":\"106\",\"line\":{\"color\":\"#FF6692\",\"dash\":\"solid\"},\"marker\":{\"symbol\":\"circle\"},\"mode\":\"lines\",\"name\":\"106\",\"orientation\":\"v\",\"showlegend\":true,\"x\":[\"x_counter_RSF\",\"x_counter_kNN\",\"x_test\"],\"xaxis\":\"x\",\"y\":[0.01756187342107296,0.021605372661724687,0.01756187342107296],\"yaxis\":\"y\",\"type\":\"scatter\"},{\"hovertemplate\":\"variable=107<br>index=%{x}<br>value=%{y}<extra></extra>\",\"legendgroup\":\"107\",\"line\":{\"color\":\"#B6E880\",\"dash\":\"solid\"},\"marker\":{\"symbol\":\"circle\"},\"mode\":\"lines\",\"name\":\"107\",\"orientation\":\"v\",\"showlegend\":true,\"x\":[\"x_counter_RSF\",\"x_counter_kNN\",\"x_test\"],\"xaxis\":\"x\",\"y\":[0.021315298974514008,0.02299472547019832,0.021315298974514008],\"yaxis\":\"y\",\"type\":\"scatter\"},{\"hovertemplate\":\"variable=108<br>index=%{x}<br>value=%{y}<extra></extra>\",\"legendgroup\":\"108\",\"line\":{\"color\":\"#FF97FF\",\"dash\":\"solid\"},\"marker\":{\"symbol\":\"circle\"},\"mode\":\"lines\",\"name\":\"108\",\"orientation\":\"v\",\"showlegend\":true,\"x\":[\"x_counter_RSF\",\"x_counter_kNN\",\"x_test\"],\"xaxis\":\"x\",\"y\":[0.02178342267870903,0.028211049851961434,0.02178342267870903],\"yaxis\":\"y\",\"type\":\"scatter\"},{\"hovertemplate\":\"variable=109<br>index=%{x}<br>value=%{y}<extra></extra>\",\"legendgroup\":\"109\",\"line\":{\"color\":\"#FECB52\",\"dash\":\"solid\"},\"marker\":{\"symbol\":\"circle\"},\"mode\":\"lines\",\"name\":\"109\",\"orientation\":\"v\",\"showlegend\":true,\"x\":[\"x_counter_RSF\",\"x_counter_kNN\",\"x_test\"],\"xaxis\":\"x\",\"y\":[0.049491073936223984,0.02514680498279631,0.049491073936223984],\"yaxis\":\"y\",\"type\":\"scatter\"},{\"hovertemplate\":\"variable=110<br>index=%{x}<br>value=%{y}<extra></extra>\",\"legendgroup\":\"110\",\"line\":{\"color\":\"#636efa\",\"dash\":\"solid\"},\"marker\":{\"symbol\":\"circle\"},\"mode\":\"lines\",\"name\":\"110\",\"orientation\":\"v\",\"showlegend\":true,\"x\":[\"x_counter_RSF\",\"x_counter_kNN\",\"x_test\"],\"xaxis\":\"x\",\"y\":[0.014034238643944263,0.013542841967137065,0.014034238643944263],\"yaxis\":\"y\",\"type\":\"scatter\"},{\"hovertemplate\":\"variable=111<br>index=%{x}<br>value=%{y}<extra></extra>\",\"legendgroup\":\"111\",\"line\":{\"color\":\"#EF553B\",\"dash\":\"solid\"},\"marker\":{\"symbol\":\"circle\"},\"mode\":\"lines\",\"name\":\"111\",\"orientation\":\"v\",\"showlegend\":true,\"x\":[\"x_counter_RSF\",\"x_counter_kNN\",\"x_test\"],\"xaxis\":\"x\",\"y\":[0.018091393634676933,0.027131577691761777,0.018091393634676933],\"yaxis\":\"y\",\"type\":\"scatter\"},{\"hovertemplate\":\"variable=112<br>index=%{x}<br>value=%{y}<extra></extra>\",\"legendgroup\":\"112\",\"line\":{\"color\":\"#00cc96\",\"dash\":\"solid\"},\"marker\":{\"symbol\":\"circle\"},\"mode\":\"lines\",\"name\":\"112\",\"orientation\":\"v\",\"showlegend\":true,\"x\":[\"x_counter_RSF\",\"x_counter_kNN\",\"x_test\"],\"xaxis\":\"x\",\"y\":[0.00833831075578928,0.026038925512693822,0.00833831075578928],\"yaxis\":\"y\",\"type\":\"scatter\"},{\"hovertemplate\":\"variable=113<br>index=%{x}<br>value=%{y}<extra></extra>\",\"legendgroup\":\"113\",\"line\":{\"color\":\"#ab63fa\",\"dash\":\"solid\"},\"marker\":{\"symbol\":\"circle\"},\"mode\":\"lines\",\"name\":\"113\",\"orientation\":\"v\",\"showlegend\":true,\"x\":[\"x_counter_RSF\",\"x_counter_kNN\",\"x_test\"],\"xaxis\":\"x\",\"y\":[0.016276659443974495,0.024039847368840128,0.016276659443974495],\"yaxis\":\"y\",\"type\":\"scatter\"},{\"hovertemplate\":\"variable=114<br>index=%{x}<br>value=%{y}<extra></extra>\",\"legendgroup\":\"114\",\"line\":{\"color\":\"#FFA15A\",\"dash\":\"solid\"},\"marker\":{\"symbol\":\"circle\"},\"mode\":\"lines\",\"name\":\"114\",\"orientation\":\"v\",\"showlegend\":true,\"x\":[\"x_counter_RSF\",\"x_counter_kNN\",\"x_test\"],\"xaxis\":\"x\",\"y\":[-0.0025977601762861013,0.027109154383651912,-0.0025977601762861013],\"yaxis\":\"y\",\"type\":\"scatter\"},{\"hovertemplate\":\"variable=115<br>index=%{x}<br>value=%{y}<extra></extra>\",\"legendgroup\":\"115\",\"line\":{\"color\":\"#19d3f3\",\"dash\":\"solid\"},\"marker\":{\"symbol\":\"circle\"},\"mode\":\"lines\",\"name\":\"115\",\"orientation\":\"v\",\"showlegend\":true,\"x\":[\"x_counter_RSF\",\"x_counter_kNN\",\"x_test\"],\"xaxis\":\"x\",\"y\":[0.035024747252464294,0.02952189464122057,0.035024747252464294],\"yaxis\":\"y\",\"type\":\"scatter\"},{\"hovertemplate\":\"variable=116<br>index=%{x}<br>value=%{y}<extra></extra>\",\"legendgroup\":\"116\",\"line\":{\"color\":\"#FF6692\",\"dash\":\"solid\"},\"marker\":{\"symbol\":\"circle\"},\"mode\":\"lines\",\"name\":\"116\",\"orientation\":\"v\",\"showlegend\":true,\"x\":[\"x_counter_RSF\",\"x_counter_kNN\",\"x_test\"],\"xaxis\":\"x\",\"y\":[0.03040202707052231,0.034097421914339066,0.03040202707052231],\"yaxis\":\"y\",\"type\":\"scatter\"},{\"hovertemplate\":\"variable=117<br>index=%{x}<br>value=%{y}<extra></extra>\",\"legendgroup\":\"117\",\"line\":{\"color\":\"#B6E880\",\"dash\":\"solid\"},\"marker\":{\"symbol\":\"circle\"},\"mode\":\"lines\",\"name\":\"117\",\"orientation\":\"v\",\"showlegend\":true,\"x\":[\"x_counter_RSF\",\"x_counter_kNN\",\"x_test\"],\"xaxis\":\"x\",\"y\":[0.030374422669410706,0.01685212823213078,0.030374422669410706],\"yaxis\":\"y\",\"type\":\"scatter\"},{\"hovertemplate\":\"variable=118<br>index=%{x}<br>value=%{y}<extra></extra>\",\"legendgroup\":\"118\",\"line\":{\"color\":\"#FF97FF\",\"dash\":\"solid\"},\"marker\":{\"symbol\":\"circle\"},\"mode\":\"lines\",\"name\":\"118\",\"orientation\":\"v\",\"showlegend\":true,\"x\":[\"x_counter_RSF\",\"x_counter_kNN\",\"x_test\"],\"xaxis\":\"x\",\"y\":[0.04413498565554619,0.02743329608347267,0.04413498565554619],\"yaxis\":\"y\",\"type\":\"scatter\"},{\"hovertemplate\":\"variable=119<br>index=%{x}<br>value=%{y}<extra></extra>\",\"legendgroup\":\"119\",\"line\":{\"color\":\"#FECB52\",\"dash\":\"solid\"},\"marker\":{\"symbol\":\"circle\"},\"mode\":\"lines\",\"name\":\"119\",\"orientation\":\"v\",\"showlegend\":true,\"x\":[\"x_counter_RSF\",\"x_counter_kNN\",\"x_test\"],\"xaxis\":\"x\",\"y\":[0.038880422711372375,0.0281437958474271,0.038880422711372375],\"yaxis\":\"y\",\"type\":\"scatter\"},{\"hovertemplate\":\"variable=120<br>index=%{x}<br>value=%{y}<extra></extra>\",\"legendgroup\":\"120\",\"line\":{\"color\":\"#636efa\",\"dash\":\"solid\"},\"marker\":{\"symbol\":\"circle\"},\"mode\":\"lines\",\"name\":\"120\",\"orientation\":\"v\",\"showlegend\":true,\"x\":[\"x_counter_RSF\",\"x_counter_kNN\",\"x_test\"],\"xaxis\":\"x\",\"y\":[0.04728321358561516,0.01709411173942499,0.04728321358561516],\"yaxis\":\"y\",\"type\":\"scatter\"},{\"hovertemplate\":\"variable=121<br>index=%{x}<br>value=%{y}<extra></extra>\",\"legendgroup\":\"121\",\"line\":{\"color\":\"#EF553B\",\"dash\":\"solid\"},\"marker\":{\"symbol\":\"circle\"},\"mode\":\"lines\",\"name\":\"121\",\"orientation\":\"v\",\"showlegend\":true,\"x\":[\"x_counter_RSF\",\"x_counter_kNN\",\"x_test\"],\"xaxis\":\"x\",\"y\":[0.026936259120702744,0.01739070778819496,0.026936259120702744],\"yaxis\":\"y\",\"type\":\"scatter\"},{\"hovertemplate\":\"variable=122<br>index=%{x}<br>value=%{y}<extra></extra>\",\"legendgroup\":\"122\",\"line\":{\"color\":\"#00cc96\",\"dash\":\"solid\"},\"marker\":{\"symbol\":\"circle\"},\"mode\":\"lines\",\"name\":\"122\",\"orientation\":\"v\",\"showlegend\":true,\"x\":[\"x_counter_RSF\",\"x_counter_kNN\",\"x_test\"],\"xaxis\":\"x\",\"y\":[0.007764769252389669,0.02304278829251416,0.007764769252389669],\"yaxis\":\"y\",\"type\":\"scatter\"},{\"hovertemplate\":\"variable=123<br>index=%{x}<br>value=%{y}<extra></extra>\",\"legendgroup\":\"123\",\"line\":{\"color\":\"#ab63fa\",\"dash\":\"solid\"},\"marker\":{\"symbol\":\"circle\"},\"mode\":\"lines\",\"name\":\"123\",\"orientation\":\"v\",\"showlegend\":true,\"x\":[\"x_counter_RSF\",\"x_counter_kNN\",\"x_test\"],\"xaxis\":\"x\",\"y\":[0.012871000915765762,0.02336846324033104,0.012871000915765762],\"yaxis\":\"y\",\"type\":\"scatter\"},{\"hovertemplate\":\"variable=124<br>index=%{x}<br>value=%{y}<extra></extra>\",\"legendgroup\":\"124\",\"line\":{\"color\":\"#FFA15A\",\"dash\":\"solid\"},\"marker\":{\"symbol\":\"circle\"},\"mode\":\"lines\",\"name\":\"124\",\"orientation\":\"v\",\"showlegend\":true,\"x\":[\"x_counter_RSF\",\"x_counter_kNN\",\"x_test\"],\"xaxis\":\"x\",\"y\":[0.03989579156041145,0.022835120966192335,0.03989579156041145],\"yaxis\":\"y\",\"type\":\"scatter\"},{\"hovertemplate\":\"variable=125<br>index=%{x}<br>value=%{y}<extra></extra>\",\"legendgroup\":\"125\",\"line\":{\"color\":\"#19d3f3\",\"dash\":\"solid\"},\"marker\":{\"symbol\":\"circle\"},\"mode\":\"lines\",\"name\":\"125\",\"orientation\":\"v\",\"showlegend\":true,\"x\":[\"x_counter_RSF\",\"x_counter_kNN\",\"x_test\"],\"xaxis\":\"x\",\"y\":[0.010400347411632538,0.018562429904704913,0.010400347411632538],\"yaxis\":\"y\",\"type\":\"scatter\"},{\"hovertemplate\":\"variable=126<br>index=%{x}<br>value=%{y}<extra></extra>\",\"legendgroup\":\"126\",\"line\":{\"color\":\"#FF6692\",\"dash\":\"solid\"},\"marker\":{\"symbol\":\"circle\"},\"mode\":\"lines\",\"name\":\"126\",\"orientation\":\"v\",\"showlegend\":true,\"x\":[\"x_counter_RSF\",\"x_counter_kNN\",\"x_test\"],\"xaxis\":\"x\",\"y\":[0.04667845740914345,0.02561463147867471,0.04667845740914345],\"yaxis\":\"y\",\"type\":\"scatter\"},{\"hovertemplate\":\"variable=127<br>index=%{x}<br>value=%{y}<extra></extra>\",\"legendgroup\":\"127\",\"line\":{\"color\":\"#B6E880\",\"dash\":\"solid\"},\"marker\":{\"symbol\":\"circle\"},\"mode\":\"lines\",\"name\":\"127\",\"orientation\":\"v\",\"showlegend\":true,\"x\":[\"x_counter_RSF\",\"x_counter_kNN\",\"x_test\"],\"xaxis\":\"x\",\"y\":[0.006963252555578947,0.025141048288787715,0.006963252555578947],\"yaxis\":\"y\",\"type\":\"scatter\"}],                        {\"template\":{\"data\":{\"histogram2dcontour\":[{\"type\":\"histogram2dcontour\",\"colorbar\":{\"outlinewidth\":0,\"ticks\":\"\"},\"colorscale\":[[0.0,\"#0d0887\"],[0.1111111111111111,\"#46039f\"],[0.2222222222222222,\"#7201a8\"],[0.3333333333333333,\"#9c179e\"],[0.4444444444444444,\"#bd3786\"],[0.5555555555555556,\"#d8576b\"],[0.6666666666666666,\"#ed7953\"],[0.7777777777777778,\"#fb9f3a\"],[0.8888888888888888,\"#fdca26\"],[1.0,\"#f0f921\"]]}],\"choropleth\":[{\"type\":\"choropleth\",\"colorbar\":{\"outlinewidth\":0,\"ticks\":\"\"}}],\"histogram2d\":[{\"type\":\"histogram2d\",\"colorbar\":{\"outlinewidth\":0,\"ticks\":\"\"},\"colorscale\":[[0.0,\"#0d0887\"],[0.1111111111111111,\"#46039f\"],[0.2222222222222222,\"#7201a8\"],[0.3333333333333333,\"#9c179e\"],[0.4444444444444444,\"#bd3786\"],[0.5555555555555556,\"#d8576b\"],[0.6666666666666666,\"#ed7953\"],[0.7777777777777778,\"#fb9f3a\"],[0.8888888888888888,\"#fdca26\"],[1.0,\"#f0f921\"]]}],\"heatmap\":[{\"type\":\"heatmap\",\"colorbar\":{\"outlinewidth\":0,\"ticks\":\"\"},\"colorscale\":[[0.0,\"#0d0887\"],[0.1111111111111111,\"#46039f\"],[0.2222222222222222,\"#7201a8\"],[0.3333333333333333,\"#9c179e\"],[0.4444444444444444,\"#bd3786\"],[0.5555555555555556,\"#d8576b\"],[0.6666666666666666,\"#ed7953\"],[0.7777777777777778,\"#fb9f3a\"],[0.8888888888888888,\"#fdca26\"],[1.0,\"#f0f921\"]]}],\"heatmapgl\":[{\"type\":\"heatmapgl\",\"colorbar\":{\"outlinewidth\":0,\"ticks\":\"\"},\"colorscale\":[[0.0,\"#0d0887\"],[0.1111111111111111,\"#46039f\"],[0.2222222222222222,\"#7201a8\"],[0.3333333333333333,\"#9c179e\"],[0.4444444444444444,\"#bd3786\"],[0.5555555555555556,\"#d8576b\"],[0.6666666666666666,\"#ed7953\"],[0.7777777777777778,\"#fb9f3a\"],[0.8888888888888888,\"#fdca26\"],[1.0,\"#f0f921\"]]}],\"contourcarpet\":[{\"type\":\"contourcarpet\",\"colorbar\":{\"outlinewidth\":0,\"ticks\":\"\"}}],\"contour\":[{\"type\":\"contour\",\"colorbar\":{\"outlinewidth\":0,\"ticks\":\"\"},\"colorscale\":[[0.0,\"#0d0887\"],[0.1111111111111111,\"#46039f\"],[0.2222222222222222,\"#7201a8\"],[0.3333333333333333,\"#9c179e\"],[0.4444444444444444,\"#bd3786\"],[0.5555555555555556,\"#d8576b\"],[0.6666666666666666,\"#ed7953\"],[0.7777777777777778,\"#fb9f3a\"],[0.8888888888888888,\"#fdca26\"],[1.0,\"#f0f921\"]]}],\"surface\":[{\"type\":\"surface\",\"colorbar\":{\"outlinewidth\":0,\"ticks\":\"\"},\"colorscale\":[[0.0,\"#0d0887\"],[0.1111111111111111,\"#46039f\"],[0.2222222222222222,\"#7201a8\"],[0.3333333333333333,\"#9c179e\"],[0.4444444444444444,\"#bd3786\"],[0.5555555555555556,\"#d8576b\"],[0.6666666666666666,\"#ed7953\"],[0.7777777777777778,\"#fb9f3a\"],[0.8888888888888888,\"#fdca26\"],[1.0,\"#f0f921\"]]}],\"mesh3d\":[{\"type\":\"mesh3d\",\"colorbar\":{\"outlinewidth\":0,\"ticks\":\"\"}}],\"scatter\":[{\"marker\":{\"line\":{\"color\":\"#283442\"}},\"type\":\"scatter\"}],\"parcoords\":[{\"type\":\"parcoords\",\"line\":{\"colorbar\":{\"outlinewidth\":0,\"ticks\":\"\"}}}],\"scatterpolargl\":[{\"type\":\"scatterpolargl\",\"marker\":{\"colorbar\":{\"outlinewidth\":0,\"ticks\":\"\"}}}],\"bar\":[{\"error_x\":{\"color\":\"#f2f5fa\"},\"error_y\":{\"color\":\"#f2f5fa\"},\"marker\":{\"line\":{\"color\":\"rgb(17,17,17)\",\"width\":0.5},\"pattern\":{\"fillmode\":\"overlay\",\"size\":10,\"solidity\":0.2}},\"type\":\"bar\"}],\"scattergeo\":[{\"type\":\"scattergeo\",\"marker\":{\"colorbar\":{\"outlinewidth\":0,\"ticks\":\"\"}}}],\"scatterpolar\":[{\"type\":\"scatterpolar\",\"marker\":{\"colorbar\":{\"outlinewidth\":0,\"ticks\":\"\"}}}],\"histogram\":[{\"marker\":{\"pattern\":{\"fillmode\":\"overlay\",\"size\":10,\"solidity\":0.2}},\"type\":\"histogram\"}],\"scattergl\":[{\"marker\":{\"line\":{\"color\":\"#283442\"}},\"type\":\"scattergl\"}],\"scatter3d\":[{\"type\":\"scatter3d\",\"line\":{\"colorbar\":{\"outlinewidth\":0,\"ticks\":\"\"}},\"marker\":{\"colorbar\":{\"outlinewidth\":0,\"ticks\":\"\"}}}],\"scattermapbox\":[{\"type\":\"scattermapbox\",\"marker\":{\"colorbar\":{\"outlinewidth\":0,\"ticks\":\"\"}}}],\"scatterternary\":[{\"type\":\"scatterternary\",\"marker\":{\"colorbar\":{\"outlinewidth\":0,\"ticks\":\"\"}}}],\"scattercarpet\":[{\"type\":\"scattercarpet\",\"marker\":{\"colorbar\":{\"outlinewidth\":0,\"ticks\":\"\"}}}],\"carpet\":[{\"aaxis\":{\"endlinecolor\":\"#A2B1C6\",\"gridcolor\":\"#506784\",\"linecolor\":\"#506784\",\"minorgridcolor\":\"#506784\",\"startlinecolor\":\"#A2B1C6\"},\"baxis\":{\"endlinecolor\":\"#A2B1C6\",\"gridcolor\":\"#506784\",\"linecolor\":\"#506784\",\"minorgridcolor\":\"#506784\",\"startlinecolor\":\"#A2B1C6\"},\"type\":\"carpet\"}],\"table\":[{\"cells\":{\"fill\":{\"color\":\"#506784\"},\"line\":{\"color\":\"rgb(17,17,17)\"}},\"header\":{\"fill\":{\"color\":\"#2a3f5f\"},\"line\":{\"color\":\"rgb(17,17,17)\"}},\"type\":\"table\"}],\"barpolar\":[{\"marker\":{\"line\":{\"color\":\"rgb(17,17,17)\",\"width\":0.5},\"pattern\":{\"fillmode\":\"overlay\",\"size\":10,\"solidity\":0.2}},\"type\":\"barpolar\"}],\"pie\":[{\"automargin\":true,\"type\":\"pie\"}]},\"layout\":{\"autotypenumbers\":\"strict\",\"colorway\":[\"#636efa\",\"#EF553B\",\"#00cc96\",\"#ab63fa\",\"#FFA15A\",\"#19d3f3\",\"#FF6692\",\"#B6E880\",\"#FF97FF\",\"#FECB52\"],\"font\":{\"color\":\"#f2f5fa\"},\"hovermode\":\"closest\",\"hoverlabel\":{\"align\":\"left\"},\"paper_bgcolor\":\"rgb(17,17,17)\",\"plot_bgcolor\":\"rgb(17,17,17)\",\"polar\":{\"bgcolor\":\"rgb(17,17,17)\",\"angularaxis\":{\"gridcolor\":\"#506784\",\"linecolor\":\"#506784\",\"ticks\":\"\"},\"radialaxis\":{\"gridcolor\":\"#506784\",\"linecolor\":\"#506784\",\"ticks\":\"\"}},\"ternary\":{\"bgcolor\":\"rgb(17,17,17)\",\"aaxis\":{\"gridcolor\":\"#506784\",\"linecolor\":\"#506784\",\"ticks\":\"\"},\"baxis\":{\"gridcolor\":\"#506784\",\"linecolor\":\"#506784\",\"ticks\":\"\"},\"caxis\":{\"gridcolor\":\"#506784\",\"linecolor\":\"#506784\",\"ticks\":\"\"}},\"coloraxis\":{\"colorbar\":{\"outlinewidth\":0,\"ticks\":\"\"}},\"colorscale\":{\"sequential\":[[0.0,\"#0d0887\"],[0.1111111111111111,\"#46039f\"],[0.2222222222222222,\"#7201a8\"],[0.3333333333333333,\"#9c179e\"],[0.4444444444444444,\"#bd3786\"],[0.5555555555555556,\"#d8576b\"],[0.6666666666666666,\"#ed7953\"],[0.7777777777777778,\"#fb9f3a\"],[0.8888888888888888,\"#fdca26\"],[1.0,\"#f0f921\"]],\"sequentialminus\":[[0.0,\"#0d0887\"],[0.1111111111111111,\"#46039f\"],[0.2222222222222222,\"#7201a8\"],[0.3333333333333333,\"#9c179e\"],[0.4444444444444444,\"#bd3786\"],[0.5555555555555556,\"#d8576b\"],[0.6666666666666666,\"#ed7953\"],[0.7777777777777778,\"#fb9f3a\"],[0.8888888888888888,\"#fdca26\"],[1.0,\"#f0f921\"]],\"diverging\":[[0,\"#8e0152\"],[0.1,\"#c51b7d\"],[0.2,\"#de77ae\"],[0.3,\"#f1b6da\"],[0.4,\"#fde0ef\"],[0.5,\"#f7f7f7\"],[0.6,\"#e6f5d0\"],[0.7,\"#b8e186\"],[0.8,\"#7fbc41\"],[0.9,\"#4d9221\"],[1,\"#276419\"]]},\"xaxis\":{\"gridcolor\":\"#283442\",\"linecolor\":\"#506784\",\"ticks\":\"\",\"title\":{\"standoff\":15},\"zerolinecolor\":\"#283442\",\"automargin\":true,\"zerolinewidth\":2},\"yaxis\":{\"gridcolor\":\"#283442\",\"linecolor\":\"#506784\",\"ticks\":\"\",\"title\":{\"standoff\":15},\"zerolinecolor\":\"#283442\",\"automargin\":true,\"zerolinewidth\":2},\"scene\":{\"xaxis\":{\"backgroundcolor\":\"rgb(17,17,17)\",\"gridcolor\":\"#506784\",\"linecolor\":\"#506784\",\"showbackground\":true,\"ticks\":\"\",\"zerolinecolor\":\"#C8D4E3\",\"gridwidth\":2},\"yaxis\":{\"backgroundcolor\":\"rgb(17,17,17)\",\"gridcolor\":\"#506784\",\"linecolor\":\"#506784\",\"showbackground\":true,\"ticks\":\"\",\"zerolinecolor\":\"#C8D4E3\",\"gridwidth\":2},\"zaxis\":{\"backgroundcolor\":\"rgb(17,17,17)\",\"gridcolor\":\"#506784\",\"linecolor\":\"#506784\",\"showbackground\":true,\"ticks\":\"\",\"zerolinecolor\":\"#C8D4E3\",\"gridwidth\":2}},\"shapedefaults\":{\"line\":{\"color\":\"#f2f5fa\"}},\"annotationdefaults\":{\"arrowcolor\":\"#f2f5fa\",\"arrowhead\":0,\"arrowwidth\":1},\"geo\":{\"bgcolor\":\"rgb(17,17,17)\",\"landcolor\":\"rgb(17,17,17)\",\"subunitcolor\":\"#506784\",\"showland\":true,\"showlakes\":true,\"lakecolor\":\"rgb(17,17,17)\"},\"title\":{\"x\":0.05},\"updatemenudefaults\":{\"bgcolor\":\"#506784\",\"borderwidth\":0},\"sliderdefaults\":{\"bgcolor\":\"#C8D4E3\",\"borderwidth\":1,\"bordercolor\":\"rgb(17,17,17)\",\"tickwidth\":0},\"mapbox\":{\"style\":\"dark\"}}},\"xaxis\":{\"anchor\":\"y\",\"domain\":[0.0,1.0],\"title\":{\"text\":\"index\"}},\"yaxis\":{\"anchor\":\"x\",\"domain\":[0.0,1.0],\"title\":{\"text\":\"value\"}},\"legend\":{\"title\":{\"text\":\"variable\"},\"tracegroupgap\":0},\"margin\":{\"t\":60}},                        {\"responsive\": true}                    ).then(function(){\n                            \nvar gd = document.getElementById('df8add1a-b60d-486f-a59c-03fa7d8029c0');\nvar x = new MutationObserver(function (mutations, observer) {{\n        var display = window.getComputedStyle(gd).display;\n        if (!display || display === 'none') {{\n            console.log([gd, 'removed!']);\n            Plotly.purge(gd);\n            observer.disconnect();\n        }}\n}});\n\n// Listen for the removal of the full notebook cells\nvar notebookContainer = gd.closest('#notebook-container');\nif (notebookContainer) {{\n    x.observe(notebookContainer, {childList: true});\n}}\n\n// Listen for the clearing of the current output cell\nvar outputEl = gd.closest('.output');\nif (outputEl) {{\n    x.observe(outputEl, {childList: true});\n}}\n\n                        })                };                });            </script>        </div>"
     },
     "metadata": {},
     "output_type": "display_data"
    }
   ],
   "source": [
    "sel_instance_idx = 5\n",
    "x_counter_RSF = x_counterfactual_RSF[sel_instance_idx, :]\n",
    "x_counter_kNN = x_counterfactual_kNN[sel_instance_idx, :]\n",
    "y1 = x_counterfactual_RSF[sel_instance_idx, :]\n",
    "y2 = x_counterfactual_kNN[sel_instance_idx, :]\n",
    "y3 = x_test[sel_instance_idx, :]\n",
    "X = np.array([y1, y2, y3])\n",
    "X = X.T\n",
    "cols = [\"x_counter_RSF\", \"x_counter_kNN\", \"x_test\"]\n",
    "df = pd.DataFrame(X, columns=cols)\n",
    "df = df.T\n",
    "display(df)\n",
    "# df.columns = df.iloc[-1]\n",
    "# print(df)\n",
    "# df = df.head(-1)\n",
    "\n",
    "# df.index.name = 'Country'\n",
    "\n",
    "# Want time on the x-axis? ###\n",
    "# just include:\n",
    "# df = df.T\n",
    "##############################\n",
    "\n",
    "# plotly\n",
    "fig = px.line(df, x=df.index, y=df.columns)\n",
    "fig.update_layout(template=\"plotly_dark\")\n",
    "fig.show()"
   ]
  },
  {
   "cell_type": "code",
   "execution_count": 55,
   "id": "4d6d8594-dfe3-4784-a98c-a3085ea04c5c",
   "metadata": {
    "pycharm": {
     "name": "#%%\n"
    }
   },
   "outputs": [
    {
     "data": {
      "text/html": [
       "<div>\n",
       "<style scoped>\n",
       "    .dataframe tbody tr th:only-of-type {\n",
       "        vertical-align: middle;\n",
       "    }\n",
       "\n",
       "    .dataframe tbody tr th {\n",
       "        vertical-align: top;\n",
       "    }\n",
       "\n",
       "    .dataframe thead th {\n",
       "        text-align: right;\n",
       "    }\n",
       "</style>\n",
       "<table border=\"1\" class=\"dataframe\">\n",
       "  <thead>\n",
       "    <tr style=\"text-align: right;\">\n",
       "      <th>x_test</th>\n",
       "      <th>0.023094</th>\n",
       "      <th>0.039898</th>\n",
       "      <th>0.011821</th>\n",
       "      <th>0.002965</th>\n",
       "      <th>-0.000747</th>\n",
       "      <th>0.023448</th>\n",
       "      <th>0.009273</th>\n",
       "      <th>0.123000</th>\n",
       "      <th>0.455000</th>\n",
       "      <th>0.792000</th>\n",
       "      <th>...</th>\n",
       "      <th>0.023289</th>\n",
       "      <th>0.017181</th>\n",
       "      <th>0.003925</th>\n",
       "      <th>0.010830</th>\n",
       "      <th>0.025278</th>\n",
       "      <th>0.032108</th>\n",
       "      <th>0.036226</th>\n",
       "      <th>0.030195</th>\n",
       "      <th>0.017082</th>\n",
       "      <th>0.014414</th>\n",
       "    </tr>\n",
       "    <tr>\n",
       "      <th>Country</th>\n",
       "      <th></th>\n",
       "      <th></th>\n",
       "      <th></th>\n",
       "      <th></th>\n",
       "      <th></th>\n",
       "      <th></th>\n",
       "      <th></th>\n",
       "      <th></th>\n",
       "      <th></th>\n",
       "      <th></th>\n",
       "      <th></th>\n",
       "      <th></th>\n",
       "      <th></th>\n",
       "      <th></th>\n",
       "      <th></th>\n",
       "      <th></th>\n",
       "      <th></th>\n",
       "      <th></th>\n",
       "      <th></th>\n",
       "      <th></th>\n",
       "      <th></th>\n",
       "    </tr>\n",
       "  </thead>\n",
       "  <tbody>\n",
       "    <tr>\n",
       "      <th>x_counter_RSF</th>\n",
       "      <td>0.023094</td>\n",
       "      <td>0.039898</td>\n",
       "      <td>0.011821</td>\n",
       "      <td>0.002965</td>\n",
       "      <td>-0.000747</td>\n",
       "      <td>0.023448</td>\n",
       "      <td>0.009273</td>\n",
       "      <td>0.12300</td>\n",
       "      <td>0.455000</td>\n",
       "      <td>0.792000</td>\n",
       "      <td>...</td>\n",
       "      <td>0.376414</td>\n",
       "      <td>0.373038</td>\n",
       "      <td>0.364174</td>\n",
       "      <td>0.369213</td>\n",
       "      <td>0.378946</td>\n",
       "      <td>0.384471</td>\n",
       "      <td>0.389368</td>\n",
       "      <td>0.386318</td>\n",
       "      <td>0.377019</td>\n",
       "      <td>0.374531</td>\n",
       "    </tr>\n",
       "    <tr>\n",
       "      <th>x_counter_kNN</th>\n",
       "      <td>0.021178</td>\n",
       "      <td>0.023945</td>\n",
       "      <td>0.032206</td>\n",
       "      <td>0.020446</td>\n",
       "      <td>0.031415</td>\n",
       "      <td>0.012058</td>\n",
       "      <td>0.031515</td>\n",
       "      <td>0.01636</td>\n",
       "      <td>0.013733</td>\n",
       "      <td>0.032101</td>\n",
       "      <td>...</td>\n",
       "      <td>0.284500</td>\n",
       "      <td>0.132750</td>\n",
       "      <td>0.077906</td>\n",
       "      <td>0.056329</td>\n",
       "      <td>0.036121</td>\n",
       "      <td>0.036203</td>\n",
       "      <td>0.017755</td>\n",
       "      <td>0.025897</td>\n",
       "      <td>0.028528</td>\n",
       "      <td>0.016795</td>\n",
       "    </tr>\n",
       "  </tbody>\n",
       "</table>\n",
       "<p>2 rows × 128 columns</p>\n",
       "</div>"
      ],
      "text/plain": [
       "x_test          0.023094   0.039898   0.011821   0.002965  -0.000747  \\\n",
       "Country                                                                \n",
       "x_counter_RSF   0.023094   0.039898   0.011821   0.002965  -0.000747   \n",
       "x_counter_kNN   0.021178   0.023945   0.032206   0.020446   0.031415   \n",
       "\n",
       "x_test          0.023448   0.009273   0.123000   0.455000   0.792000  ...  \\\n",
       "Country                                                               ...   \n",
       "x_counter_RSF   0.023448   0.009273    0.12300   0.455000   0.792000  ...   \n",
       "x_counter_kNN   0.012058   0.031515    0.01636   0.013733   0.032101  ...   \n",
       "\n",
       "x_test          0.023289   0.017181   0.003925   0.010830   0.025278  \\\n",
       "Country                                                                \n",
       "x_counter_RSF   0.376414   0.373038   0.364174   0.369213   0.378946   \n",
       "x_counter_kNN   0.284500   0.132750   0.077906   0.056329   0.036121   \n",
       "\n",
       "x_test          0.032108   0.036226   0.030195   0.017082   0.014414  \n",
       "Country                                                               \n",
       "x_counter_RSF   0.384471   0.389368   0.386318   0.377019   0.374531  \n",
       "x_counter_kNN   0.036203   0.017755   0.025897   0.028528   0.016795  \n",
       "\n",
       "[2 rows x 128 columns]"
      ]
     },
     "execution_count": 55,
     "metadata": {},
     "output_type": "execute_result"
    }
   ],
   "source": [
    "df"
   ]
  },
  {
   "cell_type": "code",
   "execution_count": 38,
   "id": "c05a8896-06fe-4240-bbb9-3834b66e9871",
   "metadata": {
    "pycharm": {
     "name": "#%%\n"
    }
   },
   "outputs": [],
   "source": [
    "X = X.T"
   ]
  },
  {
   "cell_type": "code",
   "execution_count": null,
   "id": "32e28527-d35e-4d0f-a673-27983ecf8238",
   "metadata": {
    "pycharm": {
     "name": "#%%\n",
     "is_executing": true
    }
   },
   "outputs": [],
   "source": [
    "X.shape"
   ]
  },
  {
   "cell_type": "code",
   "execution_count": 65,
   "id": "c5b1e3ee-f181-4881-8766-c960d99f0f03",
   "metadata": {
    "pycharm": {
     "name": "#%%\n"
    }
   },
   "outputs": [
    {
     "data": {
      "text/html": [
       "<div>\n",
       "<style scoped>\n",
       "    .dataframe tbody tr th:only-of-type {\n",
       "        vertical-align: middle;\n",
       "    }\n",
       "\n",
       "    .dataframe tbody tr th {\n",
       "        vertical-align: top;\n",
       "    }\n",
       "\n",
       "    .dataframe thead th {\n",
       "        text-align: right;\n",
       "    }\n",
       "</style>\n",
       "<table border=\"1\" class=\"dataframe\">\n",
       "  <thead>\n",
       "    <tr style=\"text-align: right;\">\n",
       "      <th>Year</th>\n",
       "      <th>2020</th>\n",
       "      <th>2021</th>\n",
       "      <th>2022</th>\n",
       "      <th>2023</th>\n",
       "      <th>2024</th>\n",
       "      <th>2025</th>\n",
       "    </tr>\n",
       "    <tr>\n",
       "      <th>Country</th>\n",
       "      <th></th>\n",
       "      <th></th>\n",
       "      <th></th>\n",
       "      <th></th>\n",
       "      <th></th>\n",
       "      <th></th>\n",
       "    </tr>\n",
       "  </thead>\n",
       "  <tbody>\n",
       "    <tr>\n",
       "      <th>Canada</th>\n",
       "      <td>0.0</td>\n",
       "      <td>-0.252092</td>\n",
       "      <td>-1.161325</td>\n",
       "      <td>-1.491194</td>\n",
       "      <td>-1.850023</td>\n",
       "      <td>-2.550202</td>\n",
       "    </tr>\n",
       "    <tr>\n",
       "      <th>France</th>\n",
       "      <td>0.0</td>\n",
       "      <td>0.10961</td>\n",
       "      <td>-0.482027</td>\n",
       "      <td>-1.674791</td>\n",
       "      <td>-1.07132</td>\n",
       "      <td>0.080071</td>\n",
       "    </tr>\n",
       "    <tr>\n",
       "      <th>Germany</th>\n",
       "      <td>0.0</td>\n",
       "      <td>1.582481</td>\n",
       "      <td>1.770084</td>\n",
       "      <td>1.565208</td>\n",
       "      <td>-0.099581</td>\n",
       "      <td>1.75775</td>\n",
       "    </tr>\n",
       "  </tbody>\n",
       "</table>\n",
       "</div>"
      ],
      "text/plain": [
       "Year    2020      2021      2022      2023      2024      2025\n",
       "Country                                                       \n",
       "Canada   0.0 -0.252092 -1.161325 -1.491194 -1.850023 -2.550202\n",
       "France   0.0   0.10961 -0.482027 -1.674791  -1.07132  0.080071\n",
       "Germany  0.0  1.582481  1.770084  1.565208 -0.099581   1.75775"
      ]
     },
     "execution_count": 65,
     "metadata": {},
     "output_type": "execute_result"
    }
   ],
   "source": [
    "df"
   ]
  },
  {
   "cell_type": "code",
   "execution_count": null,
   "id": "faab96d4-f31a-4753-b532-3fb6a8e6701e",
   "metadata": {
    "pycharm": {
     "name": "#%%\n"
    }
   },
   "outputs": [],
   "source": []
  }
 ],
 "metadata": {
  "kernelspec": {
   "display_name": "Python 3",
   "language": "python",
   "name": "python3"
  },
  "language_info": {
   "codemirror_mode": {
    "name": "ipython",
    "version": 3
   },
   "file_extension": ".py",
   "mimetype": "text/x-python",
   "name": "python",
   "nbconvert_exporter": "python",
   "pygments_lexer": "ipython3",
   "version": "3.7.13"
  }
 },
 "nbformat": 4,
 "nbformat_minor": 5
}