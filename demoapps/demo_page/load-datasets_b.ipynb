{
 "cells": [
  {
   "cell_type": "markdown",
   "metadata": {
    "id": "rWpMU50JH2M7",
    "pycharm": {
     "name": "#%% md\n"
    }
   },
   "source": [
    "## Load libraries"
   ]
  },
  {
   "cell_type": "code",
   "execution_count": 65,
   "metadata": {
    "pycharm": {
     "name": "#%%\n"
    }
   },
   "outputs": [],
   "source": [
    "import numpy as np\n",
    "import pandas as pd\n",
    "#import random\n",
    "import time\n",
    "import matplotlib.pyplot as plt\n",
    "\n",
    "plt.style.reload_library()\n",
    "\n",
    "from sktime.classification.interval_based import RandomIntervalSpectralEnsemble\n",
    "from sktime.classification.dictionary_based import ContractableBOSS, BOSSEnsemble\n",
    "from sktime.datatypes._panel._convert import from_2d_array_to_nested\n",
    "\n",
    "from sklearn.model_selection import train_test_split\n",
    "from sklearn.ensemble import ExtraTreesClassifier\n",
    "from sklearn.preprocessing import StandardScaler, normalize\n",
    "from sklearn.neighbors import KNeighborsClassifier\n",
    "from sklearn.pipeline import make_pipeline\n",
    "from sklearn.linear_model import RidgeClassifierCV\n",
    "\n",
    "from wildboar.explain.counterfactual import counterfactuals\n",
    "from wildboar.explain._importance import IntervalImportance\n",
    "from wildboar.datasets import list_datasets, load_dataset\n",
    "from wildboar.ensemble import ShapeletForestClassifier\n",
    "\n",
    "import pywt\n",
    "from pywt import wavedec, waverec\n",
    "\n",
    "from tqdm.notebook import tqdm\n",
    "\n",
    "import pickle\n",
    "\n",
    "# UCR time series datasets: https://www.cs.ucr.edu/%7Eeamonn/time_series_data_2018/"
   ]
  },
  {
   "cell_type": "code",
   "execution_count": 7,
   "outputs": [],
   "source": [],
   "metadata": {
    "collapsed": false,
    "pycharm": {
     "name": "#%%\n"
    }
   }
  },
  {
   "cell_type": "code",
   "execution_count": null,
   "outputs": [],
   "source": [
    "from sktime.transformations.panel.rocket import Rocket"
   ],
   "metadata": {
    "collapsed": false,
    "pycharm": {
     "name": "#%%\n"
    }
   }
  },
  {
   "cell_type": "markdown",
   "metadata": {
    "id": "SX2tjX_qE5lV",
    "pycharm": {
     "name": "#%% md\n"
    }
   },
   "source": [
    "## Load dataset"
   ]
  },
  {
   "cell_type": "code",
   "execution_count": 8,
   "metadata": {
    "tags": [],
    "pycharm": {
     "name": "#%%\n"
    }
   },
   "outputs": [
    {
     "data": {
      "text/plain": "  0%|          | 0/128 [00:00<?, ?it/s]",
      "application/vnd.jupyter.widget-view+json": {
       "version_major": 2,
       "version_minor": 0,
       "model_id": "718b3f859cd44278be8734c955a8c752"
      }
     },
     "metadata": {},
     "output_type": "display_data"
    }
   ],
   "source": [
    "UCR_datasets = list_datasets(repository='wildboar/ucr')\n",
    "\n",
    "dataset_info = pd.DataFrame(columns=['size', 'classes', 'length'], index=UCR_datasets, dtype=float)\n",
    "\n",
    "for dataset in tqdm(UCR_datasets):\n",
    "    x_all, y_all = load_dataset(dataset, repository='wildboar/ucr')\n",
    "\n",
    "    # remove rows wirandomth missing values\n",
    "    x = x_all[~np.isnan(x_all).any(axis=1)]\n",
    "    y = y_all[~np.isnan(x_all).any(axis=1)]\n",
    "\n",
    "    classes = np.unique(y)  # all class labels\n",
    "    total_examples, ts_length = x.shape\n",
    "\n",
    "    dataset_info.loc[dataset] = [total_examples, len(classes), ts_length]\n",
    "\n",
    "## Drop rows that have a value of zero in a column\n",
    "dataset_info = dataset_info.loc[~(dataset_info == 0).any(axis=1)]\n",
    "dataset_info = dataset_info.loc[~(dataset_info == 1).any(axis=1)]\n",
    "\n",
    "dataset_info.to_pickle('data/datasets_information.pkl')"
   ]
  },
  {
   "cell_type": "code",
   "execution_count": 9,
   "metadata": {
    "pycharm": {
     "name": "#%%\n"
    }
   },
   "outputs": [],
   "source": [
    "#pickle.dump(UCR_datasets, 'data/UCR_datasets.pkl', protocol = 2)"
   ]
  },
  {
   "cell_type": "code",
   "execution_count": 10,
   "metadata": {
    "pycharm": {
     "name": "#%%\n"
    }
   },
   "outputs": [],
   "source": [
    "dataset_info = pd.read_pickle('data/datasets_information.pkl')"
   ]
  },
  {
   "cell_type": "code",
   "execution_count": 11,
   "metadata": {
    "pycharm": {
     "name": "#%%\n"
    }
   },
   "outputs": [
    {
     "data": {
      "text/plain": "                 size  classes  length\nACSF1           200.0     10.0  1460.0\nAdiac           781.0     37.0   176.0\nArrowHead       211.0      3.0   251.0\nBME             180.0      3.0   128.0\nBeef             60.0      5.0   470.0\n...               ...      ...     ...\nWine            111.0      2.0   234.0\nWordSynonyms    905.0     25.0   270.0\nWorms           258.0      5.0   900.0\nWormsTwoClass   258.0      2.0   900.0\nYoga           3300.0      2.0   426.0\n\n[117 rows x 3 columns]",
      "text/html": "<div>\n<style scoped>\n    .dataframe tbody tr th:only-of-type {\n        vertical-align: middle;\n    }\n\n    .dataframe tbody tr th {\n        vertical-align: top;\n    }\n\n    .dataframe thead th {\n        text-align: right;\n    }\n</style>\n<table border=\"1\" class=\"dataframe\">\n  <thead>\n    <tr style=\"text-align: right;\">\n      <th></th>\n      <th>size</th>\n      <th>classes</th>\n      <th>length</th>\n    </tr>\n  </thead>\n  <tbody>\n    <tr>\n      <th>ACSF1</th>\n      <td>200.0</td>\n      <td>10.0</td>\n      <td>1460.0</td>\n    </tr>\n    <tr>\n      <th>Adiac</th>\n      <td>781.0</td>\n      <td>37.0</td>\n      <td>176.0</td>\n    </tr>\n    <tr>\n      <th>ArrowHead</th>\n      <td>211.0</td>\n      <td>3.0</td>\n      <td>251.0</td>\n    </tr>\n    <tr>\n      <th>BME</th>\n      <td>180.0</td>\n      <td>3.0</td>\n      <td>128.0</td>\n    </tr>\n    <tr>\n      <th>Beef</th>\n      <td>60.0</td>\n      <td>5.0</td>\n      <td>470.0</td>\n    </tr>\n    <tr>\n      <th>...</th>\n      <td>...</td>\n      <td>...</td>\n      <td>...</td>\n    </tr>\n    <tr>\n      <th>Wine</th>\n      <td>111.0</td>\n      <td>2.0</td>\n      <td>234.0</td>\n    </tr>\n    <tr>\n      <th>WordSynonyms</th>\n      <td>905.0</td>\n      <td>25.0</td>\n      <td>270.0</td>\n    </tr>\n    <tr>\n      <th>Worms</th>\n      <td>258.0</td>\n      <td>5.0</td>\n      <td>900.0</td>\n    </tr>\n    <tr>\n      <th>WormsTwoClass</th>\n      <td>258.0</td>\n      <td>2.0</td>\n      <td>900.0</td>\n    </tr>\n    <tr>\n      <th>Yoga</th>\n      <td>3300.0</td>\n      <td>2.0</td>\n      <td>426.0</td>\n    </tr>\n  </tbody>\n</table>\n<p>117 rows × 3 columns</p>\n</div>"
     },
     "execution_count": 11,
     "metadata": {},
     "output_type": "execute_result"
    }
   ],
   "source": [
    "dataset_info"
   ]
  },
  {
   "cell_type": "code",
   "execution_count": 12,
   "metadata": {
    "pycharm": {
     "name": "#%%\n"
    }
   },
   "outputs": [
    {
     "data": {
      "text/plain": "               size     classes       length\ncount    117.000000  117.000000   117.000000\nmean    1581.572650    8.264957   537.102564\nstd     2996.395773   12.256872   583.137433\nmin       40.000000    2.000000    15.000000\n25%      258.000000    2.000000   136.000000\n50%      724.000000    3.000000   301.000000\n75%     1272.000000    7.000000   720.000000\nmax    24000.000000   60.000000  2844.000000",
      "text/html": "<div>\n<style scoped>\n    .dataframe tbody tr th:only-of-type {\n        vertical-align: middle;\n    }\n\n    .dataframe tbody tr th {\n        vertical-align: top;\n    }\n\n    .dataframe thead th {\n        text-align: right;\n    }\n</style>\n<table border=\"1\" class=\"dataframe\">\n  <thead>\n    <tr style=\"text-align: right;\">\n      <th></th>\n      <th>size</th>\n      <th>classes</th>\n      <th>length</th>\n    </tr>\n  </thead>\n  <tbody>\n    <tr>\n      <th>count</th>\n      <td>117.000000</td>\n      <td>117.000000</td>\n      <td>117.000000</td>\n    </tr>\n    <tr>\n      <th>mean</th>\n      <td>1581.572650</td>\n      <td>8.264957</td>\n      <td>537.102564</td>\n    </tr>\n    <tr>\n      <th>std</th>\n      <td>2996.395773</td>\n      <td>12.256872</td>\n      <td>583.137433</td>\n    </tr>\n    <tr>\n      <th>min</th>\n      <td>40.000000</td>\n      <td>2.000000</td>\n      <td>15.000000</td>\n    </tr>\n    <tr>\n      <th>25%</th>\n      <td>258.000000</td>\n      <td>2.000000</td>\n      <td>136.000000</td>\n    </tr>\n    <tr>\n      <th>50%</th>\n      <td>724.000000</td>\n      <td>3.000000</td>\n      <td>301.000000</td>\n    </tr>\n    <tr>\n      <th>75%</th>\n      <td>1272.000000</td>\n      <td>7.000000</td>\n      <td>720.000000</td>\n    </tr>\n    <tr>\n      <th>max</th>\n      <td>24000.000000</td>\n      <td>60.000000</td>\n      <td>2844.000000</td>\n    </tr>\n  </tbody>\n</table>\n</div>"
     },
     "execution_count": 12,
     "metadata": {},
     "output_type": "execute_result"
    }
   ],
   "source": [
    "dataset_info.describe()"
   ]
  },
  {
   "cell_type": "code",
   "execution_count": 13,
   "metadata": {
    "pycharm": {
     "name": "#%%\n"
    }
   },
   "outputs": [
    {
     "data": {
      "text/plain": "size       1035.2\nclasses       6.2\nlength      571.4\nName: 0.7, dtype: float64"
     },
     "execution_count": 13,
     "metadata": {},
     "output_type": "execute_result"
    }
   ],
   "source": [
    "dataset_info.quantile(.70)"
   ]
  },
  {
   "cell_type": "code",
   "execution_count": 14,
   "metadata": {
    "pycharm": {
     "name": "#%%\n"
    }
   },
   "outputs": [],
   "source": [
    "# select subset of all datasets\n",
    "lb_size = 1\n",
    "up_size = 200\n",
    "lb_length = 10\n",
    "up_length = 1000\n",
    "lb_class = 2\n",
    "up_class = 8\n",
    "\n",
    "dataset_info = pd.read_pickle('data/datasets_information.pkl')\n",
    "\n",
    "selected = dataset_info.loc[\n",
    "    (dataset_info['size'] >= lb_size) & (dataset_info['size'] <= up_size) & (dataset_info['classes'] >= lb_class) & (\n",
    "            dataset_info['classes'] <= up_class) & (dataset_info['length'] >= lb_length) & (\n",
    "            dataset_info['length'] <= up_length)]\n",
    "\n",
    "\n",
    "\n",
    "# condition = (dataset_info['classes'] <= classes_ub) & (dataset_info['classes'] >= classes_lb) \n",
    "# selected = dataset_info.loc[condition]\n"
   ]
  },
  {
   "cell_type": "code",
   "execution_count": 15,
   "metadata": {
    "pycharm": {
     "name": "#%%\n"
    }
   },
   "outputs": [
    {
     "data": {
      "text/plain": "                    size  classes  length\nBME                180.0      3.0   128.0\nBeef                60.0      5.0   470.0\nBeetleFly           40.0      2.0   512.0\nBirdChicken         40.0      2.0   512.0\nCar                120.0      4.0   577.0\nCoffee              56.0      2.0   286.0\nDodgerLoopDay      144.0      7.0   288.0\nDodgerLoopGame     144.0      2.0   288.0\nDodgerLoopWeekend  144.0      2.0   288.0\nECG200             200.0      2.0    96.0\nFaceFour           112.0      4.0   350.0\nGunPoint           200.0      2.0   150.0\nHerring            128.0      2.0   512.0\nLightning2         121.0      2.0   637.0\nLightning7         143.0      7.0   319.0\nMeat               120.0      3.0   448.0\nOliveOil            60.0      4.0   570.0\nShapeletSim        200.0      2.0   500.0\nToeSegmentation2   166.0      2.0   343.0\nTrace              200.0      4.0   275.0\nUMD                180.0      3.0   150.0\nWine               111.0      2.0   234.0",
      "text/html": "<div>\n<style scoped>\n    .dataframe tbody tr th:only-of-type {\n        vertical-align: middle;\n    }\n\n    .dataframe tbody tr th {\n        vertical-align: top;\n    }\n\n    .dataframe thead th {\n        text-align: right;\n    }\n</style>\n<table border=\"1\" class=\"dataframe\">\n  <thead>\n    <tr style=\"text-align: right;\">\n      <th></th>\n      <th>size</th>\n      <th>classes</th>\n      <th>length</th>\n    </tr>\n  </thead>\n  <tbody>\n    <tr>\n      <th>BME</th>\n      <td>180.0</td>\n      <td>3.0</td>\n      <td>128.0</td>\n    </tr>\n    <tr>\n      <th>Beef</th>\n      <td>60.0</td>\n      <td>5.0</td>\n      <td>470.0</td>\n    </tr>\n    <tr>\n      <th>BeetleFly</th>\n      <td>40.0</td>\n      <td>2.0</td>\n      <td>512.0</td>\n    </tr>\n    <tr>\n      <th>BirdChicken</th>\n      <td>40.0</td>\n      <td>2.0</td>\n      <td>512.0</td>\n    </tr>\n    <tr>\n      <th>Car</th>\n      <td>120.0</td>\n      <td>4.0</td>\n      <td>577.0</td>\n    </tr>\n    <tr>\n      <th>Coffee</th>\n      <td>56.0</td>\n      <td>2.0</td>\n      <td>286.0</td>\n    </tr>\n    <tr>\n      <th>DodgerLoopDay</th>\n      <td>144.0</td>\n      <td>7.0</td>\n      <td>288.0</td>\n    </tr>\n    <tr>\n      <th>DodgerLoopGame</th>\n      <td>144.0</td>\n      <td>2.0</td>\n      <td>288.0</td>\n    </tr>\n    <tr>\n      <th>DodgerLoopWeekend</th>\n      <td>144.0</td>\n      <td>2.0</td>\n      <td>288.0</td>\n    </tr>\n    <tr>\n      <th>ECG200</th>\n      <td>200.0</td>\n      <td>2.0</td>\n      <td>96.0</td>\n    </tr>\n    <tr>\n      <th>FaceFour</th>\n      <td>112.0</td>\n      <td>4.0</td>\n      <td>350.0</td>\n    </tr>\n    <tr>\n      <th>GunPoint</th>\n      <td>200.0</td>\n      <td>2.0</td>\n      <td>150.0</td>\n    </tr>\n    <tr>\n      <th>Herring</th>\n      <td>128.0</td>\n      <td>2.0</td>\n      <td>512.0</td>\n    </tr>\n    <tr>\n      <th>Lightning2</th>\n      <td>121.0</td>\n      <td>2.0</td>\n      <td>637.0</td>\n    </tr>\n    <tr>\n      <th>Lightning7</th>\n      <td>143.0</td>\n      <td>7.0</td>\n      <td>319.0</td>\n    </tr>\n    <tr>\n      <th>Meat</th>\n      <td>120.0</td>\n      <td>3.0</td>\n      <td>448.0</td>\n    </tr>\n    <tr>\n      <th>OliveOil</th>\n      <td>60.0</td>\n      <td>4.0</td>\n      <td>570.0</td>\n    </tr>\n    <tr>\n      <th>ShapeletSim</th>\n      <td>200.0</td>\n      <td>2.0</td>\n      <td>500.0</td>\n    </tr>\n    <tr>\n      <th>ToeSegmentation2</th>\n      <td>166.0</td>\n      <td>2.0</td>\n      <td>343.0</td>\n    </tr>\n    <tr>\n      <th>Trace</th>\n      <td>200.0</td>\n      <td>4.0</td>\n      <td>275.0</td>\n    </tr>\n    <tr>\n      <th>UMD</th>\n      <td>180.0</td>\n      <td>3.0</td>\n      <td>150.0</td>\n    </tr>\n    <tr>\n      <th>Wine</th>\n      <td>111.0</td>\n      <td>2.0</td>\n      <td>234.0</td>\n    </tr>\n  </tbody>\n</table>\n</div>"
     },
     "execution_count": 15,
     "metadata": {},
     "output_type": "execute_result"
    }
   ],
   "source": [
    "selected"
   ]
  },
  {
   "cell_type": "code",
   "execution_count": 16,
   "metadata": {
    "pycharm": {
     "name": "#%%\n"
    }
   },
   "outputs": [
    {
     "name": "stdout",
     "output_type": "stream",
     "text": [
      "BirdChicken\n",
      "<class 'str'>\n"
     ]
    },
    {
     "data": {
      "text/plain": "BirdChicken:   0%|          | 0/2 [00:00<?, ?it/s]",
      "application/vnd.jupyter.widget-view+json": {
       "version_major": 2,
       "version_minor": 0,
       "model_id": "4ddc0bae58f347c79d079e04d90911bb"
      }
     },
     "metadata": {},
     "output_type": "display_data"
    }
   ],
   "source": [
    "selected_datasets = selected.index.to_list()\n",
    "\n",
    "#classifiers = [\"kNN\",\"RSF\",\"Rocket\",\"RISE\",\"BOSS\",\"DFT\",\"DWT\"]\n",
    "classifiers = [\"kNN\", \"RSF\", \"Rocket\", \"DFT\", \"DWT\"]\n",
    "classifiers = [\"DFT\", \"DWT\"]\n",
    "\n",
    "index_dataset = 3\n",
    "splits = 2\n",
    "\n",
    "dataset = selected_datasets[index_dataset]\n",
    "\n",
    "print(dataset)\n",
    "print(type(dataset))\n",
    "iterables = [[dataset], np.arange(splits)]\n",
    "m_index = pd.MultiIndex.from_product(iterables, names=[\"dataset\", \"split\"])\n",
    "\n",
    "accuracies = pd.DataFrame(columns=classifiers, index=m_index, dtype=float)\n",
    "complexity = pd.DataFrame(columns=classifiers, index=m_index, dtype=float)\n",
    "\n",
    "x_all, y_all = load_dataset(dataset, repository='wildboar/ucr')\n",
    "\n",
    "# remove rows wirandomth missing values\n",
    "x = x_all[~np.isnan(x_all).any(axis=1)]\n",
    "y = y_all[~np.isnan(x_all).any(axis=1)]\n",
    "\n",
    "classes = np.unique(y)  # all class labels\n",
    "total_examples, ts_length = x.shape\n",
    "\n",
    "x_ind = np.arange(total_examples)\n",
    "\n",
    "max_len_coef_DFT = int(ts_length / 2 + 1)  # maximum number of DFT coefficients\n",
    "max_len_coef_DWT = ts_length  # maximum number of DWT coefficients\n",
    "\n",
    "for i in tqdm(range(splits), desc=dataset, leave=False):\n",
    "\n",
    "    # implement same split across all\n",
    "\n",
    "    x_train_ind, x_test_ind, y_train, y_test = train_test_split(x_ind, y, test_size=.30, random_state=i, shuffle=True,\n",
    "                                                                stratify=None)\n",
    "    x_train2_ind, x_val_ind, y_train2, y_val = train_test_split(x_train_ind, y_train, test_size=.20, random_state=i,\n",
    "                                                                shuffle=True, stratify=None)\n",
    "\n",
    "    x_train = x[x_train_ind, :]\n",
    "    x_test = x[x_test_ind, :]\n",
    "    # x_train.to_csv('out.csv', index=False)\n",
    "    np.random.seed(i)\n",
    "\n",
    "    ## kNN\n",
    "    if 'kNN' in classifiers:\n",
    "        knn_time_start = time.time()\n",
    "\n",
    "        clf_kNN = KNeighborsClassifier(metric=\"euclidean\")\n",
    "        clf_kNN.fit(x_train, y_train)\n",
    "        acc = clf_kNN.score(x_test, y_test)\n",
    "\n",
    "        knn_time_end = time.time()\n",
    "\n",
    "        accuracies.loc[(dataset, i), \"kNN\"] = acc\n",
    "        complexity.loc[(dataset, i), \"kNN\"] = knn_time_end - knn_time_start\n",
    "    # ----------\n",
    "\n",
    "    ## RSF\n",
    "    if 'RSF' in classifiers:\n",
    "        rsf_time_start = time.time()\n",
    "\n",
    "        clf_RSF = ShapeletForestClassifier(n_estimators=50, metric='scaled_euclidean')\n",
    "        clf_RSF.n_features_in_ = x_train.shape[-1]\n",
    "        clf_RSF.fit(x_train, y_train)\n",
    "        acc = clf_RSF.score(x_test, y_test)\n",
    "\n",
    "        rsf_time_end = time.time()\n",
    "        accuracies.loc[(dataset, i), \"RSF\"] = acc\n",
    "        complexity.loc[(dataset, i), \"RSF\"] = rsf_time_end - rsf_time_start\n",
    "\n",
    "    # ----------\n",
    "\n",
    "    ## ROCKET\n",
    "    if 'Rocket' in classifiers:\n",
    "        rocket_time_start = time.time()\n",
    "\n",
    "        rocket = Rocket(num_kernels=20000, normalise=False, n_jobs=1,\n",
    "                        random_state=None)  # by default, ROCKET uses 10,000 kernels\n",
    "        rocket.fit(np.expand_dims(x_train, axis=1))\n",
    "\n",
    "        # transform training set and train classifier\n",
    "        x_training_transform = rocket.transform(np.expand_dims(x_train, axis=1))\n",
    "\n",
    "        classifierRocket = make_pipeline(StandardScaler(), RidgeClassifierCV(alphas=np.logspace(-3, 3, 10)))\n",
    "\n",
    "        classifierRocket.fit(x_training_transform, y_train)\n",
    "\n",
    "        # transform test set and predict\n",
    "        x_test_transform = rocket.transform(np.expand_dims(x_test, axis=1))\n",
    "        # predictions = classifierRocket.predict(x_test_transform)\n",
    "        acc = classifierRocket.score(x_test_transform, y_test)\n",
    "\n",
    "        rocket_time_end = time.time()\n",
    "\n",
    "        accuracies.loc[(dataset, i), \"Rocket\"] = acc\n",
    "        complexity.loc[(dataset, i), \"Rocket\"] = rocket_time_end - rocket_time_start\n",
    "    # -------------\n",
    "\n",
    "    ## RISE\n",
    "    if 'RISE' in classifiers:\n",
    "        rise_time_start = time.time()\n",
    "        classifierRISE = RandomIntervalSpectralEnsemble(random_state=i)\n",
    "\n",
    "        x_train_nested = from_2d_array_to_nested(x_train)\n",
    "        x_test_nested = from_2d_array_to_nested(x_test)\n",
    "\n",
    "        classifierRISE.fit(x_train_nested, y_train)\n",
    "        # predictions = classifierRISE.predict(x_test_nested)\n",
    "        acc = classifierRISE.score(x_test_nested, y_test)\n",
    "        rise_time_end = time.time()\n",
    "\n",
    "        accuracies.loc[(dataset, i), \"RISE\"] = acc\n",
    "        complexity.loc[(dataset, i), \"RISE\"] = rise_time_end - rise_time_start\n",
    "    # --------------\n",
    "\n",
    "    ## BOSS\n",
    "    if 'BOSS' in classifiers:\n",
    "        boss_time_start = time.time()\n",
    "        classifierBOSS = BOSSEnsemble(random_state=i)\n",
    "\n",
    "        x_train_nested = from_2d_array_to_nested(x_train)\n",
    "        x_test_nested = from_2d_array_to_nested(x_test)\n",
    "\n",
    "        classifierBOSS.fit(x_train_nested, y_train)\n",
    "        # predictions = classifierBOSS.predict(x_test_nested)\n",
    "        acc = classifierBOSS.score(x_test_nested, y_test)\n",
    "        boss_time_end = time.time()\n",
    "\n",
    "        accuracies.loc[(dataset, i), \"BOSS\"] = acc\n",
    "        complexity.loc[(dataset, i), \"BOSS\"] = boss_time_end - boss_time_start\n",
    "    # --------------\n",
    "\n",
    "    ## DFT\n",
    "    ## Changing the number of lower frequencies features using a sliding bar\n",
    "    if 'DFT' in classifiers:\n",
    "\n",
    "        dft_time_start = time.time()\n",
    "\n",
    "        # Freq domain\n",
    "        X_F = np.fft.rfft(x)\n",
    "\n",
    "        # combine amp and phase into one array\n",
    "        X_F_train = np.empty((x_train2_ind.shape[0], 2 * max_len_coef_DFT))\n",
    "        X_F_val = np.empty((x_val_ind.shape[0], 2 * max_len_coef_DFT))\n",
    "        X_F_test = np.empty((x_test.shape[0], 2 * max_len_coef_DFT))\n",
    "\n",
    "        X_F_train[:, 0::2] = normalize(np.absolute(X_F[x_train2_ind, :]), axis=1)  # amplitude\n",
    "        X_F_train[:, 1::2] = normalize(np.angle(X_F[x_train2_ind, :]), axis=1)  # phase\n",
    "        X_F_val[:, 0::2] = normalize(np.absolute(X_F[x_val_ind, :]), axis=1)  # amplitude\n",
    "        X_F_val[:, 1::2] = normalize(np.angle(X_F[x_val_ind, :]), axis=1)  # phase\n",
    "        X_F_test[:, 0::2] = normalize(np.absolute(X_F[x_test_ind, :]), axis=1)  # amplitude\n",
    "        X_F_test[:, 1::2] = normalize(np.angle(X_F[x_test_ind, :]), axis=1)  # phase\n",
    "\n",
    "        fracs = [.1, .25, .5, .75, 1]\n",
    "        acc_val = np.empty(len(fracs))\n",
    "        acc_test = np.empty(len(fracs))\n",
    "\n",
    "        for idx, L_DFT_frac in enumerate(fracs):\n",
    "            L_DFT = int(L_DFT_frac * max_len_coef_DFT)\n",
    "            clf = ExtraTreesClassifier(random_state=1)\n",
    "            clf.fit(X_F_train[:, :2 * L_DFT], y_train2)\n",
    "            acc_val[idx] = clf.score(X_F_val[:, :2 * L_DFT], y_val)\n",
    "            acc_test[idx] = clf.score(X_F_test[:, :2 * L_DFT], y_test)\n",
    "\n",
    "        dft_time_end = time.time()\n",
    "\n",
    "        accuracies.loc[(dataset, i), \"DFT\"] = acc_test[np.argmax(acc_val)]\n",
    "        complexity.loc[(dataset, i), \"DFT\"] = dft_time_end - dft_time_start\n",
    "\n",
    "    # --------------\n",
    "    ## Changing the number of lower frequencies features using a sliding bar\n",
    "\n",
    "    if 'DWT' in classifiers:\n",
    "\n",
    "        dwt_time_start = time.time()\n",
    "\n",
    "        # Time-Freq domain\n",
    "        level = 3  # no of DWT decomposition levels\n",
    "        waveletname = 'db2'\n",
    "\n",
    "        X_TF = wavedec(x, waveletname, level=level)  ## If using DWT\n",
    "        X_TF_stacked = np.hstack(X_TF)\n",
    "\n",
    "        X_TF_train = X_TF_stacked[x_train2_ind, :]\n",
    "        X_TF_val = X_TF_stacked[x_val_ind, :]\n",
    "        X_TF_test = X_TF_stacked[x_test_ind, :]\n",
    "\n",
    "        fracs = [.1, .25, .5, .75, .1]\n",
    "        acc_val = np.empty(len(fracs))\n",
    "        acc_test = np.empty(len(fracs))\n",
    "        for idx, L_DWT_frac in enumerate(fracs):\n",
    "            L_DWT = int(L_DWT_frac * max_len_coef_DWT)\n",
    "            clf = ExtraTreesClassifier(random_state=1)\n",
    "\n",
    "            clf.fit(X_TF_train[:, :L_DWT], y_train2)\n",
    "            acc_val[idx] = clf.score(X_TF_val[:, :L_DWT], y_val)\n",
    "            acc_test[idx] = clf.score(X_TF_test[:, :L_DWT], y_test)\n",
    "\n",
    "        dwt_time_end = time.time()\n",
    "\n",
    "        accuracies.loc[(dataset, i), \"DWT\"] = acc_test[np.argmax(acc_val)]\n",
    "        complexity.loc[(dataset, i), \"DWT\"] = dwt_time_end - dwt_time_start\n",
    "        # --------------\n",
    "\n",
    "        # save results\n",
    "        #accuracies.to_pickle('data/accuracies_new.pkl')\n",
    "        #complexity.to_pickle('data/complexity_new.pkl')\n",
    "\n",
    "\n"
   ]
  },
  {
   "cell_type": "code",
   "execution_count": 17,
   "metadata": {
    "pycharm": {
     "name": "#%%\n"
    }
   },
   "outputs": [
    {
     "name": "stdout",
     "output_type": "stream",
     "text": [
      "                        DFT       DWT\n",
      "dataset     split                    \n",
      "BirdChicken 0      0.916667  0.750000\n",
      "            1      0.916667  0.916667\n"
     ]
    }
   ],
   "source": [
    "print(accuracies)"
   ]
  },
  {
   "cell_type": "code",
   "execution_count": null,
   "outputs": [],
   "source": [],
   "metadata": {
    "collapsed": false,
    "pycharm": {
     "name": "#%%\n"
    }
   }
  },
  {
   "cell_type": "code",
   "execution_count": 35,
   "outputs": [
    {
     "ename": "ImportError",
     "evalue": "cannot import name 'IntervalImportance' from 'wildboar.explain' (/Users/arvinrastegar/opt/anaconda3/envs/Extremum/lib/python3.7/site-packages/wildboar/explain/__init__.py)",
     "output_type": "error",
     "traceback": [
      "\u001B[0;31m---------------------------------------------------------------------------\u001B[0m",
      "\u001B[0;31mImportError\u001B[0m                               Traceback (most recent call last)",
      "\u001B[0;32m/var/folders/4z/zgb9sppj6gj5hpm65f1c_4v40000gn/T/ipykernel_15521/4046219828.py\u001B[0m in \u001B[0;36m<module>\u001B[0;34m\u001B[0m\n\u001B[0;32m----> 1\u001B[0;31m \u001B[0;32mfrom\u001B[0m \u001B[0mwildboar\u001B[0m\u001B[0;34m.\u001B[0m\u001B[0mexplain\u001B[0m \u001B[0;32mimport\u001B[0m \u001B[0mIntervalImportance\u001B[0m\u001B[0;34m\u001B[0m\u001B[0;34m\u001B[0m\u001B[0m\n\u001B[0m",
      "\u001B[0;31mImportError\u001B[0m: cannot import name 'IntervalImportance' from 'wildboar.explain' (/Users/arvinrastegar/opt/anaconda3/envs/Extremum/lib/python3.7/site-packages/wildboar/explain/__init__.py)"
     ]
    }
   ],
   "source": [
    "from wildboar.explain import IntervalImportance"
   ],
   "metadata": {
    "collapsed": false,
    "pycharm": {
     "name": "#%%\n"
    }
   }
  },
  {
   "cell_type": "code",
   "execution_count": 62,
   "outputs": [
    {
     "ename": "AttributeError",
     "evalue": "module 'wildboar' has no attribute 'iseos'",
     "output_type": "error",
     "traceback": [
      "\u001B[0;31m---------------------------------------------------------------------------\u001B[0m",
      "\u001B[0;31mAttributeError\u001B[0m                            Traceback (most recent call last)",
      "\u001B[0;32m/var/folders/4z/zgb9sppj6gj5hpm65f1c_4v40000gn/T/ipykernel_15521/1766648044.py\u001B[0m in \u001B[0;36m<module>\u001B[0;34m\u001B[0m\n\u001B[1;32m     15\u001B[0m     \u001B[0;31m# random_state=123,\u001B[0m\u001B[0;34m\u001B[0m\u001B[0;34m\u001B[0m\u001B[0;34m\u001B[0m\u001B[0m\n\u001B[1;32m     16\u001B[0m )\n\u001B[0;32m---> 17\u001B[0;31m \u001B[0mi_knn\u001B[0m\u001B[0;34m.\u001B[0m\u001B[0mfit\u001B[0m\u001B[0;34m(\u001B[0m\u001B[0mclf_kNN\u001B[0m\u001B[0;34m,\u001B[0m \u001B[0mx_train\u001B[0m\u001B[0;34m,\u001B[0m \u001B[0my_train\u001B[0m\u001B[0;34m)\u001B[0m\u001B[0;34m\u001B[0m\u001B[0;34m\u001B[0m\u001B[0m\n\u001B[0m\u001B[1;32m     18\u001B[0m \u001B[0mi_rsf\u001B[0m\u001B[0;34m.\u001B[0m\u001B[0mfit\u001B[0m\u001B[0;34m(\u001B[0m\u001B[0mclf_RSF\u001B[0m\u001B[0;34m,\u001B[0m \u001B[0mx_train\u001B[0m\u001B[0;34m,\u001B[0m \u001B[0my_train\u001B[0m\u001B[0;34m)\u001B[0m\u001B[0;34m\u001B[0m\u001B[0;34m\u001B[0m\u001B[0m\n\u001B[1;32m     19\u001B[0m ax = i_knn.plot(\n",
      "\u001B[0;32m~/opt/anaconda3/envs/Extremum/lib/python3.7/site-packages/wildboar/explain/_importance.py\u001B[0m in \u001B[0;36mfit\u001B[0;34m(self, estimator, x, y, sample_weight)\u001B[0m\n\u001B[1;32m    200\u001B[0m \u001B[0;34m\u001B[0m\u001B[0m\n\u001B[1;32m    201\u001B[0m     \u001B[0;32mdef\u001B[0m \u001B[0mfit\u001B[0m\u001B[0;34m(\u001B[0m\u001B[0mself\u001B[0m\u001B[0;34m,\u001B[0m \u001B[0mestimator\u001B[0m\u001B[0;34m,\u001B[0m \u001B[0mx\u001B[0m\u001B[0;34m,\u001B[0m \u001B[0my\u001B[0m\u001B[0;34m=\u001B[0m\u001B[0;32mNone\u001B[0m\u001B[0;34m,\u001B[0m \u001B[0msample_weight\u001B[0m\u001B[0;34m=\u001B[0m\u001B[0;32mNone\u001B[0m\u001B[0;34m)\u001B[0m\u001B[0;34m:\u001B[0m\u001B[0;34m\u001B[0m\u001B[0;34m\u001B[0m\u001B[0m\n\u001B[0;32m--> 202\u001B[0;31m         \u001B[0mx\u001B[0m \u001B[0;34m=\u001B[0m \u001B[0mcheck_array\u001B[0m\u001B[0;34m(\u001B[0m\u001B[0mx\u001B[0m\u001B[0;34m,\u001B[0m \u001B[0mallow_multivariate\u001B[0m\u001B[0;34m=\u001B[0m\u001B[0;32mFalse\u001B[0m\u001B[0;34m)\u001B[0m\u001B[0;34m\u001B[0m\u001B[0;34m\u001B[0m\u001B[0m\n\u001B[0m\u001B[1;32m    203\u001B[0m         \u001B[0my\u001B[0m \u001B[0;34m=\u001B[0m \u001B[0mcheck_array\u001B[0m\u001B[0;34m(\u001B[0m\u001B[0my\u001B[0m\u001B[0;34m,\u001B[0m \u001B[0mensure_2d\u001B[0m\u001B[0;34m=\u001B[0m\u001B[0;32mFalse\u001B[0m\u001B[0;34m)\u001B[0m\u001B[0;34m\u001B[0m\u001B[0;34m\u001B[0m\u001B[0m\n\u001B[1;32m    204\u001B[0m         \u001B[0mrandom_state\u001B[0m \u001B[0;34m=\u001B[0m \u001B[0mcheck_random_state\u001B[0m\u001B[0;34m(\u001B[0m\u001B[0mself\u001B[0m\u001B[0;34m.\u001B[0m\u001B[0mrandom_state\u001B[0m\u001B[0;34m)\u001B[0m\u001B[0;34m\u001B[0m\u001B[0;34m\u001B[0m\u001B[0m\n",
      "\u001B[0;32m~/opt/anaconda3/envs/Extremum/lib/python3.7/site-packages/wildboar/utils/__init__.py\u001B[0m in \u001B[0;36mcheck_array\u001B[0;34m(x, allow_multivariate, allow_eos, allow_nan, contiguous, **kwargs)\u001B[0m\n\u001B[1;32m    157\u001B[0m \u001B[0;34m\u001B[0m\u001B[0m\n\u001B[1;32m    158\u001B[0m     \u001B[0;32mif\u001B[0m \u001B[0mnp\u001B[0m\u001B[0;34m.\u001B[0m\u001B[0missubdtype\u001B[0m\u001B[0;34m(\u001B[0m\u001B[0mx\u001B[0m\u001B[0;34m.\u001B[0m\u001B[0mdtype\u001B[0m\u001B[0;34m,\u001B[0m \u001B[0mnp\u001B[0m\u001B[0;34m.\u001B[0m\u001B[0mdouble\u001B[0m\u001B[0;34m)\u001B[0m\u001B[0;34m:\u001B[0m\u001B[0;34m\u001B[0m\u001B[0;34m\u001B[0m\u001B[0m\n\u001B[0;32m--> 159\u001B[0;31m         \u001B[0;32mif\u001B[0m \u001B[0;32mnot\u001B[0m \u001B[0mallow_eos\u001B[0m \u001B[0;32mand\u001B[0m \u001B[0mwb\u001B[0m\u001B[0;34m.\u001B[0m\u001B[0miseos\u001B[0m\u001B[0;34m(\u001B[0m\u001B[0mx\u001B[0m\u001B[0;34m)\u001B[0m\u001B[0;34m.\u001B[0m\u001B[0many\u001B[0m\u001B[0;34m(\u001B[0m\u001B[0;34m)\u001B[0m\u001B[0;34m:\u001B[0m\u001B[0;34m\u001B[0m\u001B[0;34m\u001B[0m\u001B[0m\n\u001B[0m\u001B[1;32m    160\u001B[0m             \u001B[0;32mraise\u001B[0m \u001B[0mValueError\u001B[0m\u001B[0;34m(\u001B[0m\u001B[0;34m\"Expected time series of equal length.\"\u001B[0m\u001B[0;34m)\u001B[0m\u001B[0;34m\u001B[0m\u001B[0;34m\u001B[0m\u001B[0m\n\u001B[1;32m    161\u001B[0m \u001B[0;34m\u001B[0m\u001B[0m\n",
      "\u001B[0;31mAttributeError\u001B[0m: module 'wildboar' has no attribute 'iseos'"
     ]
    }
   ],
   "source": [
    "# int_kNN = IntervalImportance(clf_kNN, x_train, y_train)\n",
    "# int_RSF = IntervalImportance(clf_RSF, x_train, y_train)\n",
    "i_knn = IntervalImportance(\n",
    "    # n_interval=72,\n",
    "    # scoring=\"accuracy\",\n",
    "    # domain=\"frequency\",\n",
    "    # verbose=True,\n",
    "    # random_state=123,\n",
    ")\n",
    "i_rsf = IntervalImportance(\n",
    "    # n_interval=72,\n",
    "    # scoring=\"accuracy\",\n",
    "    # domain=\"frequency\",\n",
    "    # verbose=True,\n",
    "    # random_state=123,\n",
    ")\n",
    "i_knn.fit(clf_kNN, x_train, y_train)\n",
    "i_rsf.fit(clf_RSF, x_train, y_train)\n",
    "ax = i_knn.plot(\n",
    "    x_test,\n",
    "    y_test,\n",
    "    top_k=0.2,\n",
    "    n_samples=0.1,\n",
    "    jitter=True,\n",
    "    frequency=24 / 720,\n",
    "    show_frequency=True,\n",
    ")\n",
    "ax = i_rsf.plot(\n",
    "    x_train, y_train,\n",
    "    top_k=0.2,\n",
    "    n_samples=0.1,\n",
    "    jitter=True,\n",
    "    frequency=24 / 720,\n",
    "    show_frequency=True,\n",
    ")\n",
    "plt.show()\n"
   ],
   "metadata": {
    "collapsed": false,
    "pycharm": {
     "name": "#%%\n"
    }
   }
  },
  {
   "cell_type": "code",
   "execution_count": 61,
   "metadata": {
    "pycharm": {
     "name": "#%%\n"
    }
   },
   "outputs": [
    {
     "data": {
      "text/plain": "array([-1.,  1., -1., -1., -1.,  1.,  1., -1., -1., -1.,  1., -1., -1.,\n        1., -1., -1., -1., -1.,  1., -1., -1.,  1.,  1.,  1., -1., -1.,\n       -1., -1., -1.,  1.,  1., -1., -1., -1.,  1.,  1.,  1., -1.,  1.,\n       -1., -1., -1.,  1., -1.,  1., -1., -1., -1., -1., -1., -1.,  1.,\n       -1., -1.])"
     },
     "execution_count": 61,
     "metadata": {},
     "output_type": "execute_result"
    }
   ],
   "source": [
    "y_test"
   ]
  },
  {
   "cell_type": "code",
   "execution_count": 19,
   "metadata": {
    "pycharm": {
     "name": "#%%\n"
    }
   },
   "outputs": [],
   "source": [
    "## Counterfactual Explanations RSF and KNN"
   ]
  },
  {
   "cell_type": "code",
   "execution_count": 20,
   "metadata": {
    "pycharm": {
     "name": "#%%\n"
    }
   },
   "outputs": [],
   "source": [
    "selected_datasets = selected.index.to_list()\n",
    "\n",
    "index_dataset = 0\n",
    "\n",
    "dataset = selected_datasets[index_dataset]\n",
    "\n",
    "x_all, y_all = load_dataset(dataset, repository='wildboar/ucr')\n",
    "\n",
    "# remove rows wirandomth missing values\n",
    "x = x_all[~np.isnan(x_all).any(axis=1)]\n",
    "y = y_all[~np.isnan(x_all).any(axis=1)]\n",
    "\n",
    "classes = np.unique(y)  # all class labels\n",
    "total_examples, ts_length = x.shape\n",
    "\n",
    "x_ind = np.arange(total_examples)\n",
    "\n",
    "x_train_ind, x_test_ind, y_train, y_test = train_test_split(x_ind, y, test_size=.30, random_state=0, shuffle=True,\n",
    "                                                            stratify=None)\n",
    "\n",
    "x_train = x[x_train_ind, :]\n",
    "x_test = x[x_test_ind, :]\n",
    "\n",
    "y_train[y_train != 1.0] = -1.0\n",
    "y_test[y_test != 1.0] = -1.0\n",
    "\n",
    "clf_kNN = KNeighborsClassifier(metric=\"euclidean\")\n",
    "clf_kNN.fit(x_train, y_train)\n",
    "\n",
    "#clf_RSF = ShapeletForestClassifier(n_estimators=50, metric='scaled_euclidean')\n",
    "clf_RSF = ShapeletForestClassifier(\n",
    "    n_estimators=20,\n",
    "    metric='euclidean',\n",
    "    max_depth=5,\n",
    "    max_shapelet_size=.4,  # INTERACTION: Make this as input from user\n",
    "    random_state=1,\n",
    ")\n",
    "clf_RSF.n_features_in_ = x_train.shape[-1]\n",
    "clf_RSF.fit(x_train, y_train)\n",
    "\n",
    "x_counterfactual_RSF, x_valid_RSF, x_score_RSF = counterfactuals(\n",
    "    clf_RSF,\n",
    "    x_test,\n",
    "    -y_test,  # invert the classes, i.e., transform 1 -> -1 and -1 -> 1\n",
    "    scoring=\"euclidean\",\n",
    "    valid_scoring=False,\n",
    "    random_state=2,\n",
    "    epsilon=1,\n",
    ")\n",
    "x_counterfactual_kNN, x_valid_kNN, x_score_kNN = counterfactuals(\n",
    "    clf_kNN,\n",
    "    x_test,\n",
    "    -y_test,  # invert the classes, i.e., transform 1 -> -1 and -1 -> 1\n",
    "    scoring=\"euclidean\",\n",
    "    valid_scoring=False,\n",
    ")\n"
   ]
  },
  {
   "cell_type": "code",
   "execution_count": null,
   "outputs": [],
   "source": [],
   "metadata": {
    "collapsed": false,
    "pycharm": {
     "name": "#%%\n"
    }
   }
  },
  {
   "cell_type": "code",
   "execution_count": null,
   "metadata": {
    "tags": [],
    "pycharm": {
     "name": "#%%\n"
    }
   },
   "outputs": [],
   "source": [
    "sel_instance_idx = 5\n",
    "x_counter_RSF = x_counterfactual_RSF[sel_instance_idx, :]\n",
    "x_counter_kNN = x_counterfactual_kNN[sel_instance_idx, :]\n",
    "\n",
    "fig = plt.figure(figsize=(9, 6))\n",
    "ax = fig.add_subplot()\n",
    "\n",
    "ax.plot(x_counterfactual_RSF[sel_instance_idx, :], \"-\", c=\"tab:blue\", label=\"CE: RSF\")\n",
    "ax.plot(x_counterfactual_kNN[sel_instance_idx, :], \"-.\", c=\"tab:red\", label=\"CE: kNN\")\n",
    "ax.plot(x_test[sel_instance_idx, :], \"--\", c=\"k\", label=\"class 1 time series\")\n",
    "ax.set_ylabel('horizontal position of right hand')\n",
    "ax.set_xlabel('time index')\n",
    "ax.grid()\n",
    "ax.legend()\n",
    "#plt.savefig(\"GP_CE_RSF_kNN.pdf\", dpi=100, bbox_inches=\"tight\", format=\"pdf\")"
   ]
  },
  {
   "cell_type": "code",
   "execution_count": null,
   "outputs": [],
   "source": [
    "print(x_counterfactual_RSF[sel_instance_idx, :])"
   ],
   "metadata": {
    "collapsed": false,
    "pycharm": {
     "name": "#%%\n",
     "is_executing": true
    }
   }
  },
  {
   "cell_type": "code",
   "execution_count": null,
   "metadata": {
    "pycharm": {
     "name": "#%%\n"
    }
   },
   "outputs": [],
   "source": []
  },
  {
   "cell_type": "code",
   "execution_count": 106,
   "metadata": {
    "pycharm": {
     "name": "#%%\n"
    }
   },
   "outputs": [
    {
     "data": {
      "text/plain": [
       "array([1., 1., 1., 1., 1., 1., 1., 1., 1., 1., 2., 2., 2., 2., 2., 2., 2.,\n",
       "       2., 2., 2., 1., 1., 1., 1., 1., 1., 1., 1., 1., 1., 1., 1., 1., 1.,\n",
       "       1., 1., 1., 1., 1., 1., 1., 1., 1., 1., 1., 1., 1., 1., 1., 1., 1.,\n",
       "       1., 1., 1., 1., 1., 1., 1., 1., 1., 1., 1., 1., 1., 1., 1., 1., 1.,\n",
       "       1., 1., 1., 1., 1., 1., 1., 1., 1., 1., 1., 1., 1., 1., 1., 1., 1.,\n",
       "       1., 1., 1., 1., 1., 1., 1., 1., 1., 1., 1., 1., 1., 1., 1., 1., 1.,\n",
       "       1., 1., 1., 1., 1., 1., 1., 1., 1., 1., 1., 1., 2., 2., 2., 2., 2.,\n",
       "       2., 2., 2., 2., 2., 2., 2., 2., 2., 2., 2., 2., 2., 2., 2., 2., 2.,\n",
       "       2., 2., 2., 2., 2., 2., 2., 2., 2., 2., 2., 2., 2., 2., 2., 2., 2.,\n",
       "       2., 2., 2., 2., 2., 2., 2., 2., 2., 2., 2., 2., 2., 2., 2., 2., 2.,\n",
       "       2., 2., 2., 2., 2., 2., 2., 2., 2., 2., 2., 2., 2., 2., 2., 2., 2.,\n",
       "       2., 2., 2., 2., 2., 2., 2., 2., 2., 2., 2., 2., 2., 2., 2., 2., 2.,\n",
       "       2., 2., 2., 2., 2., 2., 2., 2., 2., 2., 2., 2., 2., 2., 2., 2., 2.,\n",
       "       2., 2., 2., 2., 2., 2., 2., 2., 2., 2., 2., 2., 2., 2., 2., 2., 2.,\n",
       "       2., 2., 2., 2., 2., 2., 2., 2., 2., 2., 2., 2., 2., 2., 2., 2., 2.,\n",
       "       2., 2., 2., 2., 2., 2., 2., 2., 2., 2., 2., 2., 2., 2., 2., 2., 2.,\n",
       "       2., 2., 2., 2., 2., 2., 2., 2., 2., 2., 2., 2., 2., 2., 2., 2., 2.,\n",
       "       2., 2., 2., 2., 2., 2., 2., 2., 2., 2., 2., 2., 2., 2., 2., 2., 2.,\n",
       "       2., 2., 2., 2., 2., 2., 2., 2., 2., 2., 2., 2., 2., 2., 2., 2., 2.,\n",
       "       2., 2., 2., 2., 2., 2., 2., 2., 2., 2., 2., 2., 2., 2., 2., 2., 2.,\n",
       "       2., 2., 2., 2., 2., 2., 2., 2., 2., 2., 2., 2., 2., 2., 2., 2., 2.,\n",
       "       2., 2., 2., 2., 2., 2.])"
      ]
     },
     "execution_count": 106,
     "metadata": {},
     "output_type": "execute_result"
    }
   ],
   "source": [
    "y"
   ]
  },
  {
   "cell_type": "code",
   "execution_count": 109,
   "metadata": {
    "tags": [],
    "pycharm": {
     "name": "#%%\n"
    }
   },
   "outputs": [
    {
     "name": "stdout",
     "output_type": "stream",
     "text": [
      "0.981651376146789\n"
     ]
    }
   ],
   "source": [
    "selected_datasets = selected.index.to_list()\n",
    "\n",
    "index_dataset = 0\n",
    "\n",
    "dataset = selected_datasets[index_dataset]\n",
    "\n",
    "x_all, y_all = load_dataset(dataset, repository='wildboar/ucr')\n",
    "\n",
    "# remove rows wirandomth missing values\n",
    "x = x_all[~np.isnan(x_all).any(axis=1)]\n",
    "y = y_all[~np.isnan(x_all).any(axis=1)]\n",
    "\n",
    "y = y - 1\n",
    "\n",
    "classes = np.unique(y)  # all class labels\n",
    "total_examples, ts_length = x.shape\n",
    "\n",
    "x_ind = np.arange(total_examples)\n",
    "\n",
    "x_train_ind, x_test_ind, y_train, y_test = train_test_split(x_ind, y, test_size=.30, random_state=0, shuffle=True,\n",
    "                                                            stratify=None)\n",
    "\n",
    "max_len_coef_DFT = int(ts_length / 2 + 1)  # maximum number of DFT coefficients\n",
    "max_len_coef_DWT = ts_length  # maximum number of DWT coefficients\n",
    "\n",
    "L_DFT_frac = .35  # INTERACTION: let the user select this fraction of features to have\n",
    "\n",
    "# Freq domain\n",
    "X_F = np.fft.rfft(x)\n",
    "\n",
    "# combine amp and phase into one array\n",
    "X_F_train = np.empty((x_train_ind.shape[0], 2 * max_len_coef_DFT))\n",
    "X_F_test = np.empty((x_test.shape[0], 2 * max_len_coef_DFT))\n",
    "\n",
    "X_F_train[:, 0::2] = normalize(np.absolute(X_F[x_train_ind, :]), axis=1)  # amplitude\n",
    "X_F_train[:, 1::2] = normalize(np.angle(X_F[x_train_ind, :]), axis=1)  # phase\n",
    "X_F_test[:, 0::2] = normalize(np.absolute(X_F[x_test_ind, :]), axis=1)  # amplitude\n",
    "X_F_test[:, 1::2] = normalize(np.angle(X_F[x_test_ind, :]), axis=1)  # phase\n",
    "\n",
    "L_DFT = int(L_DFT_frac * max_len_coef_DFT)\n",
    "\n",
    "clf = ExtraTreesClassifier(random_state=1)\n",
    "clf.fit(X_F_train[:, :2 * L_DFT], y_train)\n",
    "\n",
    "print(clf.score(X_F_test[:, :2 * L_DFT], y_test))\n"
   ]
  },
  {
   "cell_type": "markdown",
   "metadata": {
    "pycharm": {
     "name": "#%% md\n"
    }
   },
   "source": [
    "# Counterfactual Explanation using Growing Spheres"
   ]
  },
  {
   "cell_type": "code",
   "execution_count": 101,
   "metadata": {
    "pycharm": {
     "name": "#%%\n"
    }
   },
   "outputs": [],
   "source": [
    "#import sys\n",
    "#!git clone https://github.com/thibaultlaugel/growingspheres.git\n",
    "#sys.path.append('growingspheres')\n",
    "\n",
    "#from growingspheres import counterfactuals as counterfactuals_gs\n",
    "#from growingspheres import growingspheres\n",
    "#from growingspheres.utils import gs_utils"
   ]
  },
  {
   "cell_type": "code",
   "execution_count": 112,
   "metadata": {
    "pycharm": {
     "name": "#%%\n"
    }
   },
   "outputs": [],
   "source": [
    "\n",
    "#obs = data_point.reshape(1,-1)\n",
    "\n",
    "#CF = counterfactuals_gs.CounterfactualExplanation(obs, clf.predict, target_class = None, method='GS', random_state = 123)\n",
    "#CF.fit(n_in_layer=2000, first_radius=5, dicrease_radius=50, sparse=False, verbose=True)\n",
    "#CF.enemy\n",
    "\n",
    "#cex_amp_all = np.concatenate((test_norm_amp[data_idx]*CF.enemy, X_F_test_amp[data_idx,L:]), axis = 0)\n",
    "#cex_time_FD = np.fft.irfft(cex_amp_all*np.exp(1j*test_norm_ang[data_idx]*X_F_test_ang[data_idx,:]))\n"
   ]
  },
  {
   "cell_type": "markdown",
   "metadata": {
    "pycharm": {
     "name": "#%% md\n"
    }
   },
   "source": [
    "# Visualizing the aplitude and phases of the DFT coefficients"
   ]
  },
  {
   "cell_type": "code",
   "execution_count": 118,
   "metadata": {
    "pycharm": {
     "name": "#%%\n"
    }
   },
   "outputs": [
    {
     "data": {
      "image/png": "[encoded data removed]",
      "text/plain": [
       "<Figure size 648x432 with 1 Axes>"
      ]
     },
     "metadata": {
      "needs_background": "light"
     },
     "output_type": "display_data"
    }
   ],
   "source": [
    "L_DFT = 10  # TODO: sliding bar for user input (maximum : max_len_coef_DFT)\n",
    "x_labels = range(1, 2 * L_DFT + 1)\n",
    "intance = 4\n",
    "data_point = X_F_test[intance, :2 * L_DFT]\n",
    "data_point_class = y_test[intance]\n",
    "\n",
    "fig = plt.figure(figsize=(9, 6))\n",
    "ax = fig.add_subplot()\n",
    "#ax.plot(x_labels,changes.T)\n",
    "#ax.bar(x_labels,ce_change, width=0.5,facecolor=\"tab:orange\" )\n",
    "#ax.bar(x_labels, 100*np.nanmean(changes_dec - 1,axis=0).T, width=0.5,facecolor=\"tab:orange\")\n",
    "ax.bar(x_labels, data_point)\n",
    "ax.set_ylabel('counterfactual change [%]')\n",
    "ax.set_xlabel('feature index')\n",
    "plt.xticks(ticks=x_labels)\n",
    "ax.grid(1)\n",
    "#ax.set_ylim(-50,100)"
   ]
  },
  {
   "cell_type": "code",
   "execution_count": null,
   "metadata": {
    "pycharm": {
     "name": "#%%\n"
    }
   },
   "outputs": [],
   "source": []
  },
  {
   "cell_type": "code",
   "execution_count": null,
   "metadata": {
    "pycharm": {
     "name": "#%%\n"
    }
   },
   "outputs": [],
   "source": []
  },
  {
   "cell_type": "code",
   "execution_count": null,
   "metadata": {
    "pycharm": {
     "name": "#%%\n"
    }
   },
   "outputs": [],
   "source": []
  },
  {
   "cell_type": "code",
   "execution_count": null,
   "metadata": {
    "pycharm": {
     "name": "#%%\n"
    }
   },
   "outputs": [],
   "source": []
  },
  {
   "cell_type": "code",
   "execution_count": null,
   "metadata": {
    "pycharm": {
     "name": "#%%\n"
    }
   },
   "outputs": [],
   "source": []
  },
  {
   "cell_type": "code",
   "execution_count": null,
   "metadata": {
    "pycharm": {
     "name": "#%%\n"
    }
   },
   "outputs": [],
   "source": []
  },
  {
   "cell_type": "code",
   "execution_count": 52,
   "metadata": {
    "pycharm": {
     "name": "#%%\n"
    }
   },
   "outputs": [
    {
     "data": {
      "application/vnd.jupyter.widget-view+json": {
       "model_id": "02a455a6c13c4ff8b669fcccacbd752c",
       "version_major": 2,
       "version_minor": 0
      },
      "text/plain": [
       "overall progress:   0%|          | 0/49 [00:00<?, ?it/s]"
      ]
     },
     "metadata": {},
     "output_type": "display_data"
    },
    {
     "data": {
      "application/vnd.jupyter.widget-view+json": {
       "model_id": "0898693195d9407980268c04d3ec1ddf",
       "version_major": 2,
       "version_minor": 0
      },
      "text/plain": [
       "Adiac:   0%|          | 0/5 [00:00<?, ?it/s]"
      ]
     },
     "metadata": {},
     "output_type": "display_data"
    },
    {
     "ename": "KeyboardInterrupt",
     "evalue": "",
     "output_type": "error",
     "traceback": [
      "\u001B[0;31m---------------------------------------------------------------------------\u001B[0m",
      "\u001B[0;31mKeyboardInterrupt\u001B[0m                         Traceback (most recent call last)",
      "\u001B[0;32m/tmp/ipykernel_9643/1351313998.py\u001B[0m in \u001B[0;36m<module>\u001B[0;34m\u001B[0m\n\u001B[1;32m     92\u001B[0m \u001B[0;34m\u001B[0m\u001B[0m\n\u001B[1;32m     93\u001B[0m \u001B[0;34m\u001B[0m\u001B[0m\n\u001B[0;32m---> 94\u001B[0;31m             \u001B[0mclassifierRocket\u001B[0m\u001B[0;34m.\u001B[0m\u001B[0mfit\u001B[0m\u001B[0;34m(\u001B[0m\u001B[0mx_training_transform\u001B[0m\u001B[0;34m,\u001B[0m \u001B[0my_train\u001B[0m\u001B[0;34m)\u001B[0m\u001B[0;34m\u001B[0m\u001B[0;34m\u001B[0m\u001B[0m\n\u001B[0m\u001B[1;32m     95\u001B[0m \u001B[0;34m\u001B[0m\u001B[0m\n\u001B[1;32m     96\u001B[0m             \u001B[0;31m# transform test set and predict\u001B[0m\u001B[0;34m\u001B[0m\u001B[0;34m\u001B[0m\u001B[0;34m\u001B[0m\u001B[0m\n",
      "\u001B[0;32m~/.demo_internship/lib/python3.7/site-packages/sklearn/pipeline.py\u001B[0m in \u001B[0;36mfit\u001B[0;34m(self, X, y, **fit_params)\u001B[0m\n\u001B[1;32m    392\u001B[0m             \u001B[0;32mif\u001B[0m \u001B[0mself\u001B[0m\u001B[0;34m.\u001B[0m\u001B[0m_final_estimator\u001B[0m \u001B[0;34m!=\u001B[0m \u001B[0;34m\"passthrough\"\u001B[0m\u001B[0;34m:\u001B[0m\u001B[0;34m\u001B[0m\u001B[0;34m\u001B[0m\u001B[0m\n\u001B[1;32m    393\u001B[0m                 \u001B[0mfit_params_last_step\u001B[0m \u001B[0;34m=\u001B[0m \u001B[0mfit_params_steps\u001B[0m\u001B[0;34m[\u001B[0m\u001B[0mself\u001B[0m\u001B[0;34m.\u001B[0m\u001B[0msteps\u001B[0m\u001B[0;34m[\u001B[0m\u001B[0;34m-\u001B[0m\u001B[0;36m1\u001B[0m\u001B[0;34m]\u001B[0m\u001B[0;34m[\u001B[0m\u001B[0;36m0\u001B[0m\u001B[0;34m]\u001B[0m\u001B[0;34m]\u001B[0m\u001B[0;34m\u001B[0m\u001B[0;34m\u001B[0m\u001B[0m\n\u001B[0;32m--> 394\u001B[0;31m                 \u001B[0mself\u001B[0m\u001B[0;34m.\u001B[0m\u001B[0m_final_estimator\u001B[0m\u001B[0;34m.\u001B[0m\u001B[0mfit\u001B[0m\u001B[0;34m(\u001B[0m\u001B[0mXt\u001B[0m\u001B[0;34m,\u001B[0m \u001B[0my\u001B[0m\u001B[0;34m,\u001B[0m \u001B[0;34m**\u001B[0m\u001B[0mfit_params_last_step\u001B[0m\u001B[0;34m)\u001B[0m\u001B[0;34m\u001B[0m\u001B[0;34m\u001B[0m\u001B[0m\n\u001B[0m\u001B[1;32m    395\u001B[0m \u001B[0;34m\u001B[0m\u001B[0m\n\u001B[1;32m    396\u001B[0m         \u001B[0;32mreturn\u001B[0m \u001B[0mself\u001B[0m\u001B[0;34m\u001B[0m\u001B[0;34m\u001B[0m\u001B[0m\n",
      "\u001B[0;32m~/.demo_internship/lib/python3.7/site-packages/sklearn/linear_model/_ridge.py\u001B[0m in \u001B[0;36mfit\u001B[0;34m(self, X, y, sample_weight)\u001B[0m\n\u001B[1;32m   2393\u001B[0m         \u001B[0;31m# instead of the binarized Y.\u001B[0m\u001B[0;34m\u001B[0m\u001B[0;34m\u001B[0m\u001B[0;34m\u001B[0m\u001B[0m\n\u001B[1;32m   2394\u001B[0m         \u001B[0mtarget\u001B[0m \u001B[0;34m=\u001B[0m \u001B[0mY\u001B[0m \u001B[0;32mif\u001B[0m \u001B[0mself\u001B[0m\u001B[0;34m.\u001B[0m\u001B[0mcv\u001B[0m \u001B[0;32mis\u001B[0m \u001B[0;32mNone\u001B[0m \u001B[0;32melse\u001B[0m \u001B[0my\u001B[0m\u001B[0;34m\u001B[0m\u001B[0;34m\u001B[0m\u001B[0m\n\u001B[0;32m-> 2395\u001B[0;31m         \u001B[0msuper\u001B[0m\u001B[0;34m(\u001B[0m\u001B[0;34m)\u001B[0m\u001B[0;34m.\u001B[0m\u001B[0mfit\u001B[0m\u001B[0;34m(\u001B[0m\u001B[0mX\u001B[0m\u001B[0;34m,\u001B[0m \u001B[0mtarget\u001B[0m\u001B[0;34m,\u001B[0m \u001B[0msample_weight\u001B[0m\u001B[0;34m=\u001B[0m\u001B[0msample_weight\u001B[0m\u001B[0;34m)\u001B[0m\u001B[0;34m\u001B[0m\u001B[0;34m\u001B[0m\u001B[0m\n\u001B[0m\u001B[1;32m   2396\u001B[0m         \u001B[0;32mreturn\u001B[0m \u001B[0mself\u001B[0m\u001B[0;34m\u001B[0m\u001B[0;34m\u001B[0m\u001B[0m\n\u001B[1;32m   2397\u001B[0m \u001B[0;34m\u001B[0m\u001B[0m\n",
      "\u001B[0;32m~/.demo_internship/lib/python3.7/site-packages/sklearn/linear_model/_ridge.py\u001B[0m in \u001B[0;36mfit\u001B[0;34m(self, X, y, sample_weight)\u001B[0m\n\u001B[1;32m   2028\u001B[0m                 \u001B[0malpha_per_target\u001B[0m\u001B[0;34m=\u001B[0m\u001B[0mself\u001B[0m\u001B[0;34m.\u001B[0m\u001B[0malpha_per_target\u001B[0m\u001B[0;34m,\u001B[0m\u001B[0;34m\u001B[0m\u001B[0;34m\u001B[0m\u001B[0m\n\u001B[1;32m   2029\u001B[0m             )\n\u001B[0;32m-> 2030\u001B[0;31m             \u001B[0mestimator\u001B[0m\u001B[0;34m.\u001B[0m\u001B[0mfit\u001B[0m\u001B[0;34m(\u001B[0m\u001B[0mX\u001B[0m\u001B[0;34m,\u001B[0m \u001B[0my\u001B[0m\u001B[0;34m,\u001B[0m \u001B[0msample_weight\u001B[0m\u001B[0;34m=\u001B[0m\u001B[0msample_weight\u001B[0m\u001B[0;34m)\u001B[0m\u001B[0;34m\u001B[0m\u001B[0;34m\u001B[0m\u001B[0m\n\u001B[0m\u001B[1;32m   2031\u001B[0m             \u001B[0mself\u001B[0m\u001B[0;34m.\u001B[0m\u001B[0malpha_\u001B[0m \u001B[0;34m=\u001B[0m \u001B[0mestimator\u001B[0m\u001B[0;34m.\u001B[0m\u001B[0malpha_\u001B[0m\u001B[0;34m\u001B[0m\u001B[0;34m\u001B[0m\u001B[0m\n\u001B[1;32m   2032\u001B[0m             \u001B[0mself\u001B[0m\u001B[0;34m.\u001B[0m\u001B[0mbest_score_\u001B[0m \u001B[0;34m=\u001B[0m \u001B[0mestimator\u001B[0m\u001B[0;34m.\u001B[0m\u001B[0mbest_score_\u001B[0m\u001B[0;34m\u001B[0m\u001B[0;34m\u001B[0m\u001B[0m\n",
      "\u001B[0;32m~/.demo_internship/lib/python3.7/site-packages/sklearn/linear_model/_ridge.py\u001B[0m in \u001B[0;36mfit\u001B[0;34m(self, X, y, sample_weight)\u001B[0m\n\u001B[1;32m   1879\u001B[0m             \u001B[0msqrt_sw\u001B[0m \u001B[0;34m=\u001B[0m \u001B[0mnp\u001B[0m\u001B[0;34m.\u001B[0m\u001B[0mones\u001B[0m\u001B[0;34m(\u001B[0m\u001B[0mn_samples\u001B[0m\u001B[0;34m,\u001B[0m \u001B[0mdtype\u001B[0m\u001B[0;34m=\u001B[0m\u001B[0mX\u001B[0m\u001B[0;34m.\u001B[0m\u001B[0mdtype\u001B[0m\u001B[0;34m)\u001B[0m\u001B[0;34m\u001B[0m\u001B[0;34m\u001B[0m\u001B[0m\n\u001B[1;32m   1880\u001B[0m \u001B[0;34m\u001B[0m\u001B[0m\n\u001B[0;32m-> 1881\u001B[0;31m         \u001B[0mX_mean\u001B[0m\u001B[0;34m,\u001B[0m \u001B[0;34m*\u001B[0m\u001B[0mdecomposition\u001B[0m \u001B[0;34m=\u001B[0m \u001B[0mdecompose\u001B[0m\u001B[0;34m(\u001B[0m\u001B[0mX\u001B[0m\u001B[0;34m,\u001B[0m \u001B[0my\u001B[0m\u001B[0;34m,\u001B[0m \u001B[0msqrt_sw\u001B[0m\u001B[0;34m)\u001B[0m\u001B[0;34m\u001B[0m\u001B[0;34m\u001B[0m\u001B[0m\n\u001B[0m\u001B[1;32m   1882\u001B[0m \u001B[0;34m\u001B[0m\u001B[0m\n\u001B[1;32m   1883\u001B[0m         \u001B[0mscorer\u001B[0m \u001B[0;34m=\u001B[0m \u001B[0mcheck_scoring\u001B[0m\u001B[0;34m(\u001B[0m\u001B[0mself\u001B[0m\u001B[0;34m,\u001B[0m \u001B[0mscoring\u001B[0m\u001B[0;34m=\u001B[0m\u001B[0mself\u001B[0m\u001B[0;34m.\u001B[0m\u001B[0mscoring\u001B[0m\u001B[0;34m,\u001B[0m \u001B[0mallow_none\u001B[0m\u001B[0;34m=\u001B[0m\u001B[0;32mTrue\u001B[0m\u001B[0;34m)\u001B[0m\u001B[0;34m\u001B[0m\u001B[0;34m\u001B[0m\u001B[0m\n",
      "\u001B[0;32m~/.demo_internship/lib/python3.7/site-packages/sklearn/linear_model/_ridge.py\u001B[0m in \u001B[0;36m_eigen_decompose_gram\u001B[0;34m(self, X, y, sqrt_sw)\u001B[0m\n\u001B[1;32m   1654\u001B[0m             \u001B[0;31m# by centering, it is orthogonal to the other columns\u001B[0m\u001B[0;34m\u001B[0m\u001B[0;34m\u001B[0m\u001B[0;34m\u001B[0m\u001B[0m\n\u001B[1;32m   1655\u001B[0m             \u001B[0mK\u001B[0m \u001B[0;34m+=\u001B[0m \u001B[0mnp\u001B[0m\u001B[0;34m.\u001B[0m\u001B[0mouter\u001B[0m\u001B[0;34m(\u001B[0m\u001B[0msqrt_sw\u001B[0m\u001B[0;34m,\u001B[0m \u001B[0msqrt_sw\u001B[0m\u001B[0;34m)\u001B[0m\u001B[0;34m\u001B[0m\u001B[0;34m\u001B[0m\u001B[0m\n\u001B[0;32m-> 1656\u001B[0;31m         \u001B[0meigvals\u001B[0m\u001B[0;34m,\u001B[0m \u001B[0mQ\u001B[0m \u001B[0;34m=\u001B[0m \u001B[0mlinalg\u001B[0m\u001B[0;34m.\u001B[0m\u001B[0meigh\u001B[0m\u001B[0;34m(\u001B[0m\u001B[0mK\u001B[0m\u001B[0;34m)\u001B[0m\u001B[0;34m\u001B[0m\u001B[0;34m\u001B[0m\u001B[0m\n\u001B[0m\u001B[1;32m   1657\u001B[0m         \u001B[0mQT_y\u001B[0m \u001B[0;34m=\u001B[0m \u001B[0mnp\u001B[0m\u001B[0;34m.\u001B[0m\u001B[0mdot\u001B[0m\u001B[0;34m(\u001B[0m\u001B[0mQ\u001B[0m\u001B[0;34m.\u001B[0m\u001B[0mT\u001B[0m\u001B[0;34m,\u001B[0m \u001B[0my\u001B[0m\u001B[0;34m)\u001B[0m\u001B[0;34m\u001B[0m\u001B[0;34m\u001B[0m\u001B[0m\n\u001B[1;32m   1658\u001B[0m         \u001B[0;32mreturn\u001B[0m \u001B[0mX_mean\u001B[0m\u001B[0;34m,\u001B[0m \u001B[0meigvals\u001B[0m\u001B[0;34m,\u001B[0m \u001B[0mQ\u001B[0m\u001B[0;34m,\u001B[0m \u001B[0mQT_y\u001B[0m\u001B[0;34m\u001B[0m\u001B[0;34m\u001B[0m\u001B[0m\n",
      "\u001B[0;32m~/.demo_internship/lib/python3.7/site-packages/scipy/linalg/decomp.py\u001B[0m in \u001B[0;36meigh\u001B[0;34m(a, b, lower, eigvals_only, overwrite_a, overwrite_b, turbo, eigvals, type, check_finite, subset_by_index, subset_by_value, driver)\u001B[0m\n\u001B[1;32m    543\u001B[0m \u001B[0;34m\u001B[0m\u001B[0m\n\u001B[1;32m    544\u001B[0m         \u001B[0mdrv_args\u001B[0m\u001B[0;34m.\u001B[0m\u001B[0mupdate\u001B[0m\u001B[0;34m(\u001B[0m\u001B[0;34m{\u001B[0m\u001B[0;34m'lower'\u001B[0m\u001B[0;34m:\u001B[0m \u001B[0mlower\u001B[0m\u001B[0;34m,\u001B[0m \u001B[0;34m'compute_v'\u001B[0m\u001B[0;34m:\u001B[0m \u001B[0;36m0\u001B[0m \u001B[0;32mif\u001B[0m \u001B[0m_job\u001B[0m \u001B[0;34m==\u001B[0m \u001B[0;34m\"N\"\u001B[0m \u001B[0;32melse\u001B[0m \u001B[0;36m1\u001B[0m\u001B[0;34m}\u001B[0m\u001B[0;34m)\u001B[0m\u001B[0;34m\u001B[0m\u001B[0;34m\u001B[0m\u001B[0m\n\u001B[0;32m--> 545\u001B[0;31m         \u001B[0mw\u001B[0m\u001B[0;34m,\u001B[0m \u001B[0mv\u001B[0m\u001B[0;34m,\u001B[0m \u001B[0;34m*\u001B[0m\u001B[0mother_args\u001B[0m\u001B[0;34m,\u001B[0m \u001B[0minfo\u001B[0m \u001B[0;34m=\u001B[0m \u001B[0mdrv\u001B[0m\u001B[0;34m(\u001B[0m\u001B[0ma\u001B[0m\u001B[0;34m=\u001B[0m\u001B[0ma1\u001B[0m\u001B[0;34m,\u001B[0m \u001B[0;34m**\u001B[0m\u001B[0mdrv_args\u001B[0m\u001B[0;34m,\u001B[0m \u001B[0;34m**\u001B[0m\u001B[0mlwork_args\u001B[0m\u001B[0;34m)\u001B[0m\u001B[0;34m\u001B[0m\u001B[0;34m\u001B[0m\u001B[0m\n\u001B[0m\u001B[1;32m    546\u001B[0m \u001B[0;34m\u001B[0m\u001B[0m\n\u001B[1;32m    547\u001B[0m     \u001B[0;32melse\u001B[0m\u001B[0;34m:\u001B[0m  \u001B[0;31m# Generalized problem\u001B[0m\u001B[0;34m\u001B[0m\u001B[0;34m\u001B[0m\u001B[0m\n",
      "\u001B[0;31mKeyboardInterrupt\u001B[0m: "
     ]
    }
   ],
   "source": [
    "selected_datasets = selected.index.to_list()\n",
    "\n",
    "classifiers = [\"kNN\", \"RSF\", \"Rocket\", \"RISE\", \"BOSS\", \"DFT\", \"DWT\"]\n",
    "\n",
    "splits = 5\n",
    "\n",
    "iterables = [selected_datasets, np.arange(splits)]\n",
    "m_index = pd.MultiIndex.from_product(iterables, names=[\"dataset\", \"split\"])\n",
    "\n",
    "accuracies = pd.DataFrame(columns=classifiers, index=m_index, dtype=float)\n",
    "complexity = pd.DataFrame(columns=classifiers, index=m_index, dtype=float)\n",
    "\n",
    "for dataset in tqdm(selected_datasets, desc='overall progress'):\n",
    "    x_all, y_all = load_dataset(dataset, repository='wildboar/ucr')\n",
    "\n",
    "    # remove rows wirandomth missing values\n",
    "    x = x_all[~np.isnan(x_all).any(axis=1)]\n",
    "    y = y_all[~np.isnan(x_all).any(axis=1)]\n",
    "\n",
    "    classes = np.unique(y)  # all class labels\n",
    "    total_examples, ts_length = x.shape\n",
    "\n",
    "    x_ind = np.arange(total_examples)\n",
    "\n",
    "    max_len_coef_DFT = int(ts_length / 2 + 1)  # maximum number of DFT coefficients\n",
    "    max_len_coef_DWT = ts_length  # maximum number of DWT coefficients\n",
    "\n",
    "    for i in tqdm(range(splits), desc=dataset, leave=False):\n",
    "\n",
    "        # implement same split across all\n",
    "\n",
    "        x_train_ind, x_test_ind, y_train, y_test = train_test_split(x_ind, y, test_size=.30, random_state=i,\n",
    "                                                                    shuffle=True, stratify=None)\n",
    "        x_train2_ind, x_val_ind, y_train2, y_val = train_test_split(x_train_ind, y_train, test_size=.20, random_state=i,\n",
    "                                                                    shuffle=True, stratify=None)\n",
    "\n",
    "        x_train = x[x_train_ind, :]\n",
    "        x_test = x[x_test_ind, :]\n",
    "\n",
    "        np.random.seed(i)\n",
    "\n",
    "        ## kNN\n",
    "        if 'kNN' in classifiers:\n",
    "            knn_time_start = time.time()\n",
    "\n",
    "            f = KNeighborsClassifier(metric=\"euclidean\")\n",
    "            f.fit(x_train, y_train)\n",
    "            acc = f.score(x_test, y_test)\n",
    "\n",
    "            knn_time_end = time.time()\n",
    "\n",
    "            accuracies.loc[(dataset, i), \"kNN\"] = acc\n",
    "            complexity.loc[(dataset, i), \"kNN\"] = knn_time_end - knn_time_start\n",
    "        # ----------\n",
    "\n",
    "        ## RSF\n",
    "        if 'RSF' in classifiers:\n",
    "            rsf_time_start = time.time()\n",
    "\n",
    "            f = ShapeletForestClassifier(n_estimators=50, metric='scaled_euclidean')\n",
    "            f.n_features_in_ = x_train.shape[-1]\n",
    "            f.fit(x_train, y_train)\n",
    "            acc = f.score(x_test, y_test)\n",
    "\n",
    "            rsf_time_end = time.time()\n",
    "            accuracies.loc[(dataset, i), \"RSF\"] = acc\n",
    "            complexity.loc[(dataset, i), \"RSF\"] = rsf_time_end - rsf_time_start\n",
    "\n",
    "        # ----------\n",
    "\n",
    "        ## ROCKET\n",
    "        if 'Rocket' in classifiers:\n",
    "            rocket_time_start = time.time()\n",
    "\n",
    "            rocket = Rocket(num_kernels=20000, normalise=False, n_jobs=1,\n",
    "                            random_state=None)  # by default, ROCKET uses 10,000 kernels\n",
    "            rocket.fit(np.expand_dims(x_train, axis=1))\n",
    "\n",
    "            # transform training set and train classifier\n",
    "            x_training_transform = rocket.transform(np.expand_dims(x_train, axis=1))\n",
    "\n",
    "            classifierRocket = make_pipeline(StandardScaler(), RidgeClassifierCV(alphas=np.logspace(-3, 3, 10)))\n",
    "\n",
    "            classifierRocket.fit(x_training_transform, y_train)\n",
    "\n",
    "            # transform test set and predict\n",
    "            x_test_transform = rocket.transform(np.expand_dims(x_test, axis=1))\n",
    "            # predictions = classifierRocket.predict(x_test_transform)\n",
    "            acc = classifierRocket.score(x_test_transform, y_test)\n",
    "\n",
    "            rocket_time_end = time.time()\n",
    "\n",
    "            accuracies.loc[(dataset, i), \"Rocket\"] = acc\n",
    "            complexity.loc[(dataset, i), \"Rocket\"] = rocket_time_end - rocket_time_start\n",
    "        # -------------\n",
    "\n",
    "        ## RISE\n",
    "        if 'RISE' in classifiers:\n",
    "            rise_time_start = time.time()\n",
    "            classifierRISE = RandomIntervalSpectralEnsemble(random_state=i)\n",
    "\n",
    "            x_train_nested = from_2d_array_to_nested(x_train)\n",
    "            x_test_nested = from_2d_array_to_nested(x_test)\n",
    "\n",
    "            classifierRISE.fit(x_train_nested, y_train)\n",
    "            # predictions = classifierRISE.predict(x_test_nested)\n",
    "            acc = classifierRISE.score(x_test_nested, y_test)\n",
    "            rise_time_end = time.time()\n",
    "\n",
    "            accuracies.loc[(dataset, i), \"RISE\"] = acc\n",
    "            complexity.loc[(dataset, i), \"RISE\"] = rise_time_end - rise_time_start\n",
    "        # --------------\n",
    "\n",
    "        ## BOSS\n",
    "        if 'BOSS' in classifiers:\n",
    "            boss_time_start = time.time()\n",
    "            classifierBOSS = BOSSEnsemble(random_state=i)\n",
    "\n",
    "            x_train_nested = from_2d_array_to_nested(x_train)\n",
    "            x_test_nested = from_2d_array_to_nested(x_test)\n",
    "\n",
    "            classifierBOSS.fit(x_train_nested, y_train)\n",
    "            # predictions = classifierBOSS.predict(x_test_nested)\n",
    "            acc = classifierBOSS.score(x_test_nested, y_test)\n",
    "            boss_time_end = time.time()\n",
    "\n",
    "            accuracies.loc[(dataset, i), \"BOSS\"] = acc\n",
    "            complexity.loc[(dataset, i), \"BOSS\"] = boss_time_end - boss_time_start\n",
    "        # --------------\n",
    "\n",
    "        ## DFT\n",
    "        if 'DFT' in classifiers:\n",
    "\n",
    "            dft_time_start = time.time()\n",
    "\n",
    "            # Freq domain\n",
    "            X_F = np.fft.rfft(x)\n",
    "\n",
    "            # combine amp and phase into one array\n",
    "            X_F_train = np.empty((x_train2_ind.shape[0], 2 * max_len_coef_DFT))\n",
    "            X_F_val = np.empty((x_val_ind.shape[0], 2 * max_len_coef_DFT))\n",
    "            X_F_test = np.empty((x_test.shape[0], 2 * max_len_coef_DFT))\n",
    "\n",
    "            X_F_train[:, 0::2] = normalize(np.absolute(X_F[x_train2_ind, :]), axis=1)  # amplitude\n",
    "            X_F_train[:, 1::2] = normalize(np.angle(X_F[x_train2_ind, :]), axis=1)  # phase\n",
    "            X_F_val[:, 0::2] = normalize(np.absolute(X_F[x_val_ind, :]), axis=1)  # amplitude\n",
    "            X_F_val[:, 1::2] = normalize(np.angle(X_F[x_val_ind, :]), axis=1)  # phase\n",
    "            X_F_test[:, 0::2] = normalize(np.absolute(X_F[x_test_ind, :]), axis=1)  # amplitude\n",
    "            X_F_test[:, 1::2] = normalize(np.angle(X_F[x_test_ind, :]), axis=1)  # phase\n",
    "\n",
    "            fracs = [.1, .25, .5, .75, 1]\n",
    "            acc_val = np.empty(len(fracs))\n",
    "            acc_test = np.empty(len(fracs))\n",
    "\n",
    "            for idx, L_DFT_frac in enumerate(fracs):\n",
    "                L_DFT = int(L_DFT_frac * max_len_coef_DFT)\n",
    "                clf = ExtraTreesClassifier(random_state=1)\n",
    "                clf.fit(X_F_train[:, :2 * L_DFT], y_train2)\n",
    "                acc_val[idx] = clf.score(X_F_val[:, :2 * L_DFT], y_val)\n",
    "                acc_test[idx] = clf.score(X_F_test[:, :2 * L_DFT], y_test)\n",
    "\n",
    "            dft_time_end = time.time()\n",
    "\n",
    "            accuracies.loc[(dataset, i), \"DFT\"] = acc_test[np.argmax(acc_val)]\n",
    "            complexity.loc[(dataset, i), \"DFT\"] = dft_time_end - dft_time_start\n",
    "\n",
    "        # --------------\n",
    "\n",
    "        if 'DWT' in classifiers:\n",
    "\n",
    "            dwt_time_start = time.time()\n",
    "\n",
    "            # Time-Freq domain\n",
    "            level = 3  # no of DWT decomposition levels\n",
    "            waveletname = 'db2'\n",
    "\n",
    "            X_TF = wavedec(x, waveletname, level=level)  ## If using DWT\n",
    "            X_TF_stacked = np.hstack(X_TF)\n",
    "\n",
    "            X_TF_train = X_TF_stacked[x_train2_ind, :]\n",
    "            X_TF_val = X_TF_stacked[x_val_ind, :]\n",
    "            X_TF_test = X_TF_stacked[x_test_ind, :]\n",
    "\n",
    "            fracs = [.1, .25, .5, .75, .1]\n",
    "            acc_val = np.empty(len(fracs))\n",
    "            acc_test = np.empty(len(fracs))\n",
    "            for idx, L_DWT_frac in enumerate(fracs):\n",
    "                L_DWT = int(L_DWT_frac * max_len_coef_DWT)\n",
    "                clf = ExtraTreesClassifier(random_state=1)\n",
    "\n",
    "                clf.fit(X_TF_train[:, :L_DWT], y_train2)\n",
    "                acc_val[idx] = clf.score(X_TF_val[:, :L_DWT], y_val)\n",
    "                acc_test[idx] = clf.score(X_TF_test[:, :L_DWT], y_test)\n",
    "\n",
    "            dwt_time_end = time.time()\n",
    "\n",
    "            accuracies.loc[(dataset, i), \"DWT\"] = acc_test[np.argmax(acc_val)]\n",
    "            complexity.loc[(dataset, i), \"DWT\"] = dwt_time_end - dwt_time_start\n",
    "        # --------------\n",
    "\n",
    "        # save results\n",
    "        accuracies.to_pickle('data/accuracies_new.pkl')\n",
    "        complexity.to_pickle('data/complexity_new.pkl')\n",
    "\n"
   ]
  },
  {
   "cell_type": "code",
   "execution_count": null,
   "metadata": {
    "pycharm": {
     "name": "#%%\n"
    }
   },
   "outputs": [],
   "source": []
  }
 ],
 "metadata": {
  "colab": {
   "collapsed_sections": [
    "rWpMU50JH2M7",
    "qjVC9cgPIGlg"
   ],
   "name": "SPM TSexplainability.ipynb",
   "provenance": [],
   "toc_visible": true
  },
  "kernelspec": {
   "display_name": "Python 3",
   "language": "python",
   "name": "python3"
  },
  "language_info": {
   "codemirror_mode": {
    "name": "ipython",
    "version": 3
   },
   "file_extension": ".py",
   "mimetype": "text/x-python",
   "name": "python",
   "nbconvert_exporter": "python",
   "pygments_lexer": "ipython3",
   "version": "3.7.13"
  },
  "vscode": {
   "interpreter": {
    "hash": "334a2f1f3ba866d57b34c413a5c6e8dcc4791b6ffc162c6278a348eea74ae4b1"
   }
  },
  "widgets": {
   "application/vnd.jupyter.widget-state+json": {
    "1fbce0ce74484155928d19e86e0d8e68": {
     "model_module": "@jupyter-widgets/base",
     "model_module_version": "1.2.0",
     "model_name": "LayoutModel",
     "state": {
      "_model_module": "@jupyter-widgets/base",
      "_model_module_version": "1.2.0",
      "_model_name": "LayoutModel",
      "_view_count": null,
      "_view_module": "@jupyter-widgets/base",
      "_view_module_version": "1.2.0",
      "_view_name": "LayoutView",
      "align_content": null,
      "align_items": null,
      "align_self": null,
      "border": null,
      "bottom": null,
      "display": null,
      "flex": null,
      "flex_flow": null,
      "grid_area": null,
      "grid_auto_columns": null,
      "grid_auto_flow": null,
      "grid_auto_rows": null,
      "grid_column": null,
      "grid_gap": null,
      "grid_row": null,
      "grid_template_areas": null,
      "grid_template_columns": null,
      "grid_template_rows": null,
      "height": null,
      "justify_content": null,
      "justify_items": null,
      "left": null,
      "margin": null,
      "max_height": null,
      "max_width": null,
      "min_height": null,
      "min_width": null,
      "object_fit": null,
      "object_position": null,
      "order": null,
      "overflow": null,
      "overflow_x": null,
      "overflow_y": null,
      "padding": null,
      "right": null,
      "top": null,
      "visibility": null,
      "width": null
     }
    },
    "2bd4713048d94d3b902b84368a079b0f": {
     "model_module": "@jupyter-widgets/controls",
     "model_module_version": "1.5.0",
     "model_name": "FloatProgressModel",
     "state": {
      "_dom_classes": [],
      "_model_module": "@jupyter-widgets/controls",
      "_model_module_version": "1.5.0",
      "_model_name": "FloatProgressModel",
      "_view_count": null,
      "_view_module": "@jupyter-widgets/controls",
      "_view_module_version": "1.5.0",
      "_view_name": "ProgressView",
      "bar_style": "success",
      "description": "100%",
      "description_tooltip": null,
      "layout": "IPY_MODEL_1fbce0ce74484155928d19e86e0d8e68",
      "max": 60,
      "min": 0,
      "orientation": "horizontal",
      "style": "IPY_MODEL_c7bba8b218894aa8b2a0c276a06ac31c",
      "value": 60
     }
    },
    "4679b4191200432ba1d8ec48e42bd2ce": {
     "model_module": "@jupyter-widgets/base",
     "model_module_version": "1.2.0",
     "model_name": "LayoutModel",
     "state": {
      "_model_module": "@jupyter-widgets/base",
      "_model_module_version": "1.2.0",
      "_model_name": "LayoutModel",
      "_view_count": null,
      "_view_module": "@jupyter-widgets/base",
      "_view_module_version": "1.2.0",
      "_view_name": "LayoutView",
      "align_content": null,
      "align_items": null,
      "align_self": null,
      "border": null,
      "bottom": null,
      "display": null,
      "flex": null,
      "flex_flow": null,
      "grid_area": null,
      "grid_auto_columns": null,
      "grid_auto_flow": null,
      "grid_auto_rows": null,
      "grid_column": null,
      "grid_gap": null,
      "grid_row": null,
      "grid_template_areas": null,
      "grid_template_columns": null,
      "grid_template_rows": null,
      "height": null,
      "justify_content": null,
      "justify_items": null,
      "left": null,
      "margin": null,
      "max_height": null,
      "max_width": null,
      "min_height": null,
      "min_width": null,
      "object_fit": null,
      "object_position": null,
      "order": null,
      "overflow": null,
      "overflow_x": null,
      "overflow_y": null,
      "padding": null,
      "right": null,
      "top": null,
      "visibility": null,
      "width": null
     }
    },
    "9b3c81e73df2486fabe2ec2566b19d79": {
     "model_module": "@jupyter-widgets/controls",
     "model_module_version": "1.5.0",
     "model_name": "HTMLModel",
     "state": {
      "_dom_classes": [],
      "_model_module": "@jupyter-widgets/controls",
      "_model_module_version": "1.5.0",
      "_model_name": "HTMLModel",
      "_view_count": null,
      "_view_module": "@jupyter-widgets/controls",
      "_view_module_version": "1.5.0",
      "_view_name": "HTMLView",
      "description": "",
      "description_tooltip": null,
      "layout": "IPY_MODEL_b0cb1f7d25db4f2d89bad1cd5afc3a0f",
      "placeholder": "​",
      "style": "IPY_MODEL_fee2649187c243ad968fbc3d53f84420",
      "value": " 60/60 [01:32&lt;00:00,  1.54s/it]"
     }
    },
    "b0cb1f7d25db4f2d89bad1cd5afc3a0f": {
     "model_module": "@jupyter-widgets/base",
     "model_module_version": "1.2.0",
     "model_name": "LayoutModel",
     "state": {
      "_model_module": "@jupyter-widgets/base",
      "_model_module_version": "1.2.0",
      "_model_name": "LayoutModel",
      "_view_count": null,
      "_view_module": "@jupyter-widgets/base",
      "_view_module_version": "1.2.0",
      "_view_name": "LayoutView",
      "align_content": null,
      "align_items": null,
      "align_self": null,
      "border": null,
      "bottom": null,
      "display": null,
      "flex": null,
      "flex_flow": null,
      "grid_area": null,
      "grid_auto_columns": null,
      "grid_auto_flow": null,
      "grid_auto_rows": null,
      "grid_column": null,
      "grid_gap": null,
      "grid_row": null,
      "grid_template_areas": null,
      "grid_template_columns": null,
      "grid_template_rows": null,
      "height": null,
      "justify_content": null,
      "justify_items": null,
      "left": null,
      "margin": null,
      "max_height": null,
      "max_width": null,
      "min_height": null,
      "min_width": null,
      "object_fit": null,
      "object_position": null,
      "order": null,
      "overflow": null,
      "overflow_x": null,
      "overflow_y": null,
      "padding": null,
      "right": null,
      "top": null,
      "visibility": null,
      "width": null
     }
    },
    "c7bba8b218894aa8b2a0c276a06ac31c": {
     "model_module": "@jupyter-widgets/controls",
     "model_module_version": "1.5.0",
     "model_name": "ProgressStyleModel",
     "state": {
      "_model_module": "@jupyter-widgets/controls",
      "_model_module_version": "1.5.0",
      "_model_name": "ProgressStyleModel",
      "_view_count": null,
      "_view_module": "@jupyter-widgets/base",
      "_view_module_version": "1.2.0",
      "_view_name": "StyleView",
      "bar_color": null,
      "description_width": "initial"
     }
    },
    "de306d595a194bfb9233307a63560793": {
     "model_module": "@jupyter-widgets/controls",
     "model_module_version": "1.5.0",
     "model_name": "HBoxModel",
     "state": {
      "_dom_classes": [],
      "_model_module": "@jupyter-widgets/controls",
      "_model_module_version": "1.5.0",
      "_model_name": "HBoxModel",
      "_view_count": null,
      "_view_module": "@jupyter-widgets/controls",
      "_view_module_version": "1.5.0",
      "_view_name": "HBoxView",
      "box_style": "",
      "children": [
       "IPY_MODEL_2bd4713048d94d3b902b84368a079b0f",
       "IPY_MODEL_9b3c81e73df2486fabe2ec2566b19d79"
      ],
      "layout": "IPY_MODEL_4679b4191200432ba1d8ec48e42bd2ce"
     }
    },
    "fee2649187c243ad968fbc3d53f84420": {
     "model_module": "@jupyter-widgets/controls",
     "model_module_version": "1.5.0",
     "model_name": "DescriptionStyleModel",
     "state": {
      "_model_module": "@jupyter-widgets/controls",
      "_model_module_version": "1.5.0",
      "_model_name": "DescriptionStyleModel",
      "_view_count": null,
      "_view_module": "@jupyter-widgets/base",
      "_view_module_version": "1.2.0",
      "_view_name": "StyleView",
      "description_width": ""
     }
    }
   }
  }
 },
 "nbformat": 4,
 "nbformat_minor": 4
}